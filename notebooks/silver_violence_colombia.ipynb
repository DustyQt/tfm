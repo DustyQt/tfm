{
 "cells": [
  {
   "cell_type": "code",
   "execution_count": 0,
   "metadata": {
    "application/vnd.databricks.v1+cell": {
     "cellMetadata": {
      "byteLimit": 2048000,
      "rowLimit": 10000
     },
     "inputWidgets": {},
     "nuid": "4fb3c8a3-8a82-41e8-aedc-f78fd0008f41",
     "showTitle": false,
     "tableResultSettingsMap": {},
     "title": ""
    }
   },
   "outputs": [],
   "source": [
    "import pyspark.sql.functions as F\n",
    "import os\n",
    "\n",
    "STORAGE_ACCOUNT = os.getenv('STORAGE_ACCOUNT')\n",
    "STORAGE_ACCOUNT_KEY = os.getenv('STORAGE_ACCOUNT_KEY')\n",
    "spark.conf.set(STORAGE_ACCOUNT, STORAGE_ACCOUNT_KEY)\n"
   ]
  },
  {
   "cell_type": "code",
   "execution_count": 0,
   "metadata": {
    "application/vnd.databricks.v1+cell": {
     "cellMetadata": {
      "byteLimit": 2048000,
      "rowLimit": 10000
     },
     "inputWidgets": {},
     "nuid": "89c3cad4-a35a-467a-b9bb-23516aeb88bd",
     "showTitle": false,
     "tableResultSettingsMap": {},
     "title": ""
    }
   },
   "outputs": [],
   "source": [
    "colombian_df = spark.read\\\n",
    "                 .option(\"header\", \"true\")\\\n",
    "                 .option(\"inferSchema\", \"true\")\\\n",
    "                 .csv(\"abfss://datasets@tfmstorageacc.dfs.core.windows.net/violencia_intrafamiliar_colombia.csv\")\n",
    "\n",
    "colombian_df.display()"
   ]
  },
  {
   "cell_type": "markdown",
   "metadata": {
    "application/vnd.databricks.v1+cell": {
     "cellMetadata": {
      "byteLimit": 2048000,
      "rowLimit": 10000
     },
     "inputWidgets": {},
     "nuid": "9414e633-7808-4433-9a55-dcc8db670d15",
     "showTitle": false,
     "tableResultSettingsMap": {},
     "title": ""
    }
   },
   "source": [
    "Data is pretty clean already the task here is to aggregate the data into statistics, we only need to filter for Female victims and group perpetrators into partner/not_partner/any "
   ]
  },
  {
   "cell_type": "code",
   "execution_count": 0,
   "metadata": {
    "application/vnd.databricks.v1+cell": {
     "cellMetadata": {
      "byteLimit": 2048000,
      "rowLimit": 10000
     },
     "inputWidgets": {},
     "nuid": "dbcd5c80-80ef-491f-b34f-6122633aa36c",
     "showTitle": false,
     "tableResultSettingsMap": {},
     "title": ""
    }
   },
   "outputs": [],
   "source": [
    "colombian_df.select(\n",
    "    'Presunto Agresor',\n",
    ").distinct().display()"
   ]
  },
  {
   "cell_type": "code",
   "execution_count": 0,
   "metadata": {
    "application/vnd.databricks.v1+cell": {
     "cellMetadata": {
      "byteLimit": 2048000,
      "rowLimit": 10000
     },
     "inputWidgets": {},
     "nuid": "e417f6d2-77c8-4515-a6c2-5cb66091b2c0",
     "showTitle": false,
     "tableResultSettingsMap": {},
     "title": ""
    }
   },
   "outputs": [],
   "source": [
    "colombian_df_filtered = colombian_df.where(\n",
    "    F.col('Sexo de la victima') == 'Mujer'\n",
    ").withColumn(\n",
    "    'age_group',\n",
    "    F.when(F.col('Grupo Mayor Menor de Edad') == 'b) Mayores de Edad (>18 años)', 'adult').otherwise('child')\n",
    ").withColumn(\n",
    "    'country',\n",
    "    F.lit('Colombia'),\n",
    ").withColumn(\n",
    "    'perpetrator',\n",
    "    F.when(F.col('Presunto Agresor').isin(\n",
    "        'Amante',\n",
    "        'Compañero (a) permanente',\n",
    "        'Esposo (a)',\n",
    "        'Pareja o Expreja',\n",
    "        'Novio (a)',\n",
    "    ), 'partner').otherwise('non-partner')\n",
    ").select(\n",
    "    F.col('country'),\n",
    "    F.col('Departamento del hecho DANE').alias('department'),\n",
    "    F.col('Año del hecho').alias('year'),\n",
    "    F.col('perpetrator'),\n",
    "    F.col('age_group'),\n",
    ").cache()\n",
    "colombian_df_filtered.display()"
   ]
  },
  {
   "cell_type": "markdown",
   "metadata": {
    "application/vnd.databricks.v1+cell": {
     "cellMetadata": {
      "byteLimit": 2048000,
      "rowLimit": 10000
     },
     "inputWidgets": {},
     "nuid": "9cc6037f-78a1-4711-911f-19c9ccd8e309",
     "showTitle": false,
     "tableResultSettingsMap": {},
     "title": ""
    }
   },
   "source": [
    "now we need to aggregate the data grouping by all fields, and concat it to the any perpetrator"
   ]
  },
  {
   "cell_type": "code",
   "execution_count": 0,
   "metadata": {
    "application/vnd.databricks.v1+cell": {
     "cellMetadata": {
      "byteLimit": 2048000,
      "rowLimit": 10000
     },
     "inputWidgets": {},
     "nuid": "f22448e7-152b-4905-8805-801943d9931e",
     "showTitle": false,
     "tableResultSettingsMap": {},
     "title": ""
    }
   },
   "outputs": [],
   "source": [
    "colombian_df_perpetrator = colombian_df_filtered.groupBy('year', 'country', 'department', 'perpetrator', 'age_group').agg(\n",
    "    F.count('*').alias('total_cases')\n",
    ")\n",
    "colombian_df_perpetrator.display()\n",
    "# for the union we need to make the columns match\n",
    "colombian_df_any = colombian_df_filtered.groupBy('year', 'country', 'department', 'age_group').agg(\n",
    "    F.count('*').alias('total_cases')\n",
    ").withColumn(\n",
    "    'perpetrator', F.lit('any')\n",
    ").select(\n",
    "    F.col('year'),\n",
    "    F.col('country'),\n",
    "    F.col('department'),\n",
    "    F.col('perpetrator'),\n",
    "    F.col('age_group'),\n",
    "    F.col('total_cases')\n",
    ")\n",
    "colombian_df_any.display()"
   ]
  },
  {
   "cell_type": "code",
   "execution_count": 0,
   "metadata": {
    "application/vnd.databricks.v1+cell": {
     "cellMetadata": {
      "byteLimit": 2048000,
      "rowLimit": 10000
     },
     "inputWidgets": {},
     "nuid": "9d2223c1-4828-400e-8c5a-8c3b8fbc7401",
     "showTitle": false,
     "tableResultSettingsMap": {},
     "title": ""
    }
   },
   "outputs": [],
   "source": [
    "colombian_df_aggregated = colombian_df_any.union(colombian_df_perpetrator)\n",
    "colombian_df_aggregated.display()"
   ]
  },
  {
   "cell_type": "code",
   "execution_count": 0,
   "metadata": {
    "application/vnd.databricks.v1+cell": {
     "cellMetadata": {
      "byteLimit": 2048000,
      "rowLimit": 10000
     },
     "inputWidgets": {},
     "nuid": "238fdc2d-ece3-45f3-82ba-2b0000a46d00",
     "showTitle": false,
     "tableResultSettingsMap": {},
     "title": ""
    }
   },
   "outputs": [],
   "source": [
    "colombian_df_all = colombian_df_aggregated.groupBy('year', 'country', 'perpetrator', 'age_group').agg(\n",
    "    F.sum('total_cases').alias('total_cases')\n",
    ").withColumn(\n",
    "    'department', F.lit('all')\n",
    ").select(\n",
    "    F.col('year'),\n",
    "    F.col('country'),\n",
    "    F.col('department'),\n",
    "    F.col('perpetrator'),\n",
    "    F.col('age_group'),\n",
    "    F.col('total_cases')\n",
    ")\n",
    "colombian_df_aggregated = colombian_df_aggregated.union(colombian_df_all)\n",
    "colombian_df_all = colombian_df_aggregated.groupBy('year', 'country' ,'department', 'perpetrator').agg(\n",
    "    F.sum('total_cases').alias('total_cases')\n",
    ").withColumn(\n",
    "    'age_group', F.lit('any')\n",
    ").select(\n",
    "    F.col('year'),\n",
    "    F.col('country'),\n",
    "    F.col('department'),\n",
    "    F.col('perpetrator'),\n",
    "    F.col('age_group'),\n",
    "    F.col('total_cases')\n",
    ")\n",
    "colombian_df_aggregated.union(colombian_df_all).display()"
   ]
  }
 ],
 "metadata": {
  "application/vnd.databricks.v1+notebook": {
   "computePreferences": null,
   "dashboards": [],
   "environmentMetadata": {
    "base_environment": "",
    "client": "1"
   },
   "language": "python",
   "notebookMetadata": {
    "pythonIndentUnit": 4
   },
   "notebookName": "silver_violence_colombia",
   "widgets": {}
  },
  "language_info": {
   "name": "python"
  }
 },
 "nbformat": 4,
 "nbformat_minor": 0
}
