{
 "cells": [
  {
   "cell_type": "markdown",
   "metadata": {
    "application/vnd.databricks.v1+cell": {
     "cellMetadata": {
      "byteLimit": 2048000,
      "rowLimit": 10000
     },
     "inputWidgets": {},
     "nuid": "c49bfc8e-9e1f-4adb-973a-29dafce0f48e",
     "showTitle": false,
     "tableResultSettingsMap": {},
     "title": ""
    }
   },
   "source": [
    "The purpose of this is to take already cleanned datasets and merge the ones we can to make a more complete dataset. we will combine total cases of violence in india, colombia and whatever countries we can get and also add some additional stats with silver country dataset"
   ]
  },
  {
   "cell_type": "code",
   "execution_count": 0,
   "metadata": {
    "application/vnd.databricks.v1+cell": {
     "cellMetadata": {
      "byteLimit": 2048000,
      "rowLimit": 10000
     },
     "inputWidgets": {},
     "nuid": "8ef9aae6-bd26-4bbb-a55a-b6e4a75d6131",
     "showTitle": false,
     "tableResultSettingsMap": {},
     "title": ""
    }
   },
   "outputs": [],
   "source": [
    "import pyspark.sql.functions as F\n",
    "\n",
    "country_df = spark.table('hive_metastore.violence.silver_country')\n",
    "colombia_df = spark.table('hive_metastore.violence.silver_violence_colombia')\n",
    "india_df = spark.table('hive_metastore.violence.silver_violence_india')\n",
    "bangladesh_df = spark.table('hive_metastore.violence.silver_rape_bangladesh')\n",
    "malaysia_df = spark.table('hive_metastore.violence.silver_violence_malaysia')\n",
    "turkey_df = spark.table('hive_metastore.violence.silver_murder_turkey')"
   ]
  },
  {
   "cell_type": "code",
   "execution_count": 0,
   "metadata": {
    "application/vnd.databricks.v1+cell": {
     "cellMetadata": {
      "byteLimit": 2048000,
      "rowLimit": 10000
     },
     "inputWidgets": {},
     "nuid": "62098761-6df8-4965-9a23-dfdeca1230f3",
     "showTitle": false,
     "tableResultSettingsMap": {},
     "title": ""
    }
   },
   "outputs": [],
   "source": [
    "colombia_df.display()\n"
   ]
  },
  {
   "cell_type": "markdown",
   "metadata": {
    "application/vnd.databricks.v1+cell": {
     "cellMetadata": {
      "byteLimit": 2048000,
      "rowLimit": 10000
     },
     "inputWidgets": {},
     "nuid": "ad95c0b1-0da4-4941-9f17-918b897f6c2c",
     "showTitle": false,
     "tableResultSettingsMap": {},
     "title": ""
    }
   },
   "source": [
    "Filter and join country_df with colombia_df"
   ]
  },
  {
   "cell_type": "code",
   "execution_count": 0,
   "metadata": {
    "application/vnd.databricks.v1+cell": {
     "cellMetadata": {
      "byteLimit": 2048000,
      "rowLimit": 10000
     },
     "inputWidgets": {},
     "nuid": "090dc1aa-3b03-4221-9d48-342cdff74f91",
     "showTitle": false,
     "tableResultSettingsMap": {},
     "title": ""
    }
   },
   "outputs": [],
   "source": [
    "colombia_df_filtered = colombia_df.where(\n",
    "  (F.col('department') == 'all') &\n",
    "  (F.col('age_group') == 'any') &\n",
    "  (F.col('perpetrator') == 'any')\n",
    ").alias('colombia_df').join(\n",
    "  country_df.alias('country_df'),\n",
    "  (country_df.country_name == colombia_df.country) & (country_df.year == colombia_df.year),\n",
    ").select(\n",
    "  F.col('country_df.country_name'),\n",
    "  F.col('country_df.country_code'),\n",
    "  F.col('country_df.year'),\n",
    "  F.col('colombia_df.total_cases'),\n",
    "  F.col('country_df.female_population')\n",
    ")\n",
    "colombia_df_filtered.display()\n"
   ]
  },
  {
   "cell_type": "markdown",
   "metadata": {
    "application/vnd.databricks.v1+cell": {
     "cellMetadata": {
      "byteLimit": 2048000,
      "rowLimit": 10000
     },
     "inputWidgets": {},
     "nuid": "a9b49cda-f734-4255-a6ac-8405722394bd",
     "showTitle": false,
     "tableResultSettingsMap": {},
     "title": ""
    }
   },
   "source": [
    "now is just do the same with all dfs"
   ]
  },
  {
   "cell_type": "code",
   "execution_count": 0,
   "metadata": {
    "application/vnd.databricks.v1+cell": {
     "cellMetadata": {
      "byteLimit": 2048000,
      "rowLimit": 10000
     },
     "inputWidgets": {},
     "nuid": "7e62dc8b-2928-481f-9138-8c9b294d7b5c",
     "showTitle": false,
     "tableResultSettingsMap": {},
     "title": ""
    }
   },
   "outputs": [],
   "source": [
    "india_df.display()"
   ]
  },
  {
   "cell_type": "code",
   "execution_count": 0,
   "metadata": {
    "application/vnd.databricks.v1+cell": {
     "cellMetadata": {
      "byteLimit": 2048000,
      "rowLimit": 10000
     },
     "inputWidgets": {},
     "nuid": "b3d7304c-6963-4bb0-bee5-35db3a0574a7",
     "showTitle": false,
     "tableResultSettingsMap": {},
     "title": ""
    }
   },
   "outputs": [],
   "source": [
    "india_df_filtered = india_df.where(\n",
    "  (F.col('state') == 'all') &\n",
    "  (F.col('type_of_violence') == 'any')\n",
    ").alias('india_df').join(\n",
    "  country_df.alias('country_df'),\n",
    "  (F.lower(country_df.country_name) == F.lower(india_df.country)) & (country_df.year == india_df.year)\n",
    ").select(\n",
    "  F.col('country_df.country_name'),\n",
    "  F.col('country_df.country_code'),\n",
    "  F.col('country_df.year'), \n",
    "  F.col('india_df.total_cases'),\n",
    "  F.col('country_df.female_population')\n",
    ")\n",
    "india_df_filtered.display()"
   ]
  },
  {
   "cell_type": "code",
   "execution_count": 0,
   "metadata": {
    "application/vnd.databricks.v1+cell": {
     "cellMetadata": {
      "byteLimit": 2048000,
      "rowLimit": 10000
     },
     "inputWidgets": {},
     "nuid": "58a4c0cf-72a3-4a8f-8f12-3afb83089452",
     "showTitle": false,
     "tableResultSettingsMap": {},
     "title": ""
    }
   },
   "outputs": [],
   "source": [
    "bangladesh_df.display()"
   ]
  },
  {
   "cell_type": "code",
   "execution_count": 0,
   "metadata": {
    "application/vnd.databricks.v1+cell": {
     "cellMetadata": {
      "byteLimit": 2048000,
      "rowLimit": 10000
     },
     "inputWidgets": {},
     "nuid": "0a4a872d-5f2e-4875-a175-546514231bd8",
     "showTitle": false,
     "tableResultSettingsMap": {},
     "title": ""
    }
   },
   "outputs": [],
   "source": [
    "bangladesh_df_filtered = bangladesh_df.where(\n",
    "  (F.col('age_group') == 'any')\n",
    ").alias('bangladesh_df').join(\n",
    "  country_df.alias('country_df'),\n",
    "  (F.lower(country_df.country_name) == F.lower(bangladesh_df.country)) & (country_df.year == bangladesh_df.year)\n",
    ").select(\n",
    "  F.col('country_df.country_name'),\n",
    "  F.col('country_df.country_code'),\n",
    "  F.col('country_df.year'), \n",
    "  F.col('bangladesh_df.total_cases'),\n",
    "  F.col('country_df.female_population')\n",
    ")\n",
    "bangladesh_df_filtered.display()"
   ]
  },
  {
   "cell_type": "code",
   "execution_count": 0,
   "metadata": {
    "application/vnd.databricks.v1+cell": {
     "cellMetadata": {
      "byteLimit": 2048000,
      "rowLimit": 10000
     },
     "inputWidgets": {},
     "nuid": "8339a5c9-374b-47d5-87e7-cfd4c421e96d",
     "showTitle": false,
     "tableResultSettingsMap": {},
     "title": ""
    }
   },
   "outputs": [],
   "source": [
    "malaysia_df.display()"
   ]
  },
  {
   "cell_type": "code",
   "execution_count": 0,
   "metadata": {
    "application/vnd.databricks.v1+cell": {
     "cellMetadata": {
      "byteLimit": 2048000,
      "rowLimit": 10000
     },
     "inputWidgets": {},
     "nuid": "2b04b6fd-f40d-4543-9d72-4f707587bdd0",
     "showTitle": false,
     "tableResultSettingsMap": {},
     "title": ""
    }
   },
   "outputs": [],
   "source": [
    "malaysia_df_filtered = malaysia_df.where(\n",
    "  (F.col('type_of_violence') == 'any')\n",
    ").alias('malaysia_df').join(\n",
    "  country_df.alias('country_df'),\n",
    "  (F.lower(country_df.country_name) == F.lower(malaysia_df.country)) & (country_df.year == malaysia_df.year)\n",
    ").select(\n",
    "  F.col('country_df.country_name'),\n",
    "  F.col('country_df.country_code'),\n",
    "  F.col('country_df.year'), \n",
    "  F.col('malaysia_df.total_cases'),\n",
    "  F.col('country_df.female_population')\n",
    ")\n",
    "malaysia_df_filtered.display()"
   ]
  },
  {
   "cell_type": "code",
   "execution_count": 0,
   "metadata": {
    "application/vnd.databricks.v1+cell": {
     "cellMetadata": {
      "byteLimit": 2048000,
      "rowLimit": 10000
     },
     "inputWidgets": {},
     "nuid": "addda552-f14a-45a3-babd-f67793ebc381",
     "showTitle": false,
     "tableResultSettingsMap": {},
     "title": ""
    }
   },
   "outputs": [],
   "source": [
    "turkey_df.display()"
   ]
  },
  {
   "cell_type": "code",
   "execution_count": 0,
   "metadata": {
    "application/vnd.databricks.v1+cell": {
     "cellMetadata": {
      "byteLimit": 2048000,
      "rowLimit": 10000
     },
     "inputWidgets": {},
     "nuid": "b9403803-9201-41a5-a88c-552db2d46db7",
     "showTitle": false,
     "tableResultSettingsMap": {},
     "title": ""
    }
   },
   "outputs": [],
   "source": [
    "turkey_df_filtered = turkey_df.where(\n",
    "  (F.col('province') == 'all')\n",
    ").alias('turkey_df').join(\n",
    "  country_df.alias('country_df'),\n",
    "  (F.lower(country_df.country_name) == F.lower(turkey_df.country)) & (country_df.year == turkey_df.year)\n",
    ").select(\n",
    "  F.col('country_df.country_name'),\n",
    "  F.col('country_df.country_code'),\n",
    "  F.col('country_df.year'), \n",
    "  F.col('turkey_df.total_cases'),\n",
    "  F.col('country_df.female_population')\n",
    ")\n",
    "turkey_df_filtered.display()"
   ]
  },
  {
   "cell_type": "code",
   "execution_count": 0,
   "metadata": {
    "application/vnd.databricks.v1+cell": {
     "cellMetadata": {
      "byteLimit": 2048000,
      "rowLimit": 10000
     },
     "inputWidgets": {},
     "nuid": "38fb51dd-3910-4f89-98c0-b31af3fdc5a9",
     "showTitle": false,
     "tableResultSettingsMap": {},
     "title": ""
    }
   },
   "outputs": [],
   "source": [
    "final_df = turkey_df_filtered.union(malaysia_df_filtered).union(bangladesh_df_filtered).union(india_df_filtered).union(colombia_df_filtered)\n",
    "final_df.display()"
   ]
  }
 ],
 "metadata": {
  "application/vnd.databricks.v1+notebook": {
   "computePreferences": null,
   "dashboards": [],
   "environmentMetadata": {
    "base_environment": "",
    "environment_version": "1"
   },
   "language": "python",
   "notebookMetadata": {
    "pythonIndentUnit": 4
   },
   "notebookName": "gold_reported_cases_country",
   "widgets": {}
  },
  "language_info": {
   "name": "python"
  }
 },
 "nbformat": 4,
 "nbformat_minor": 0
}
