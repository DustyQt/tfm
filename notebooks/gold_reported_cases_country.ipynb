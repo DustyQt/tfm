{
 "cells": [
  {
   "cell_type": "markdown",
   "metadata": {
    "application/vnd.databricks.v1+cell": {
     "cellMetadata": {
      "byteLimit": 2048000,
      "rowLimit": 10000
     },
     "inputWidgets": {},
     "nuid": "c49bfc8e-9e1f-4adb-973a-29dafce0f48e",
     "showTitle": false,
     "tableResultSettingsMap": {},
     "title": ""
    }
   },
   "source": [
    "The purpose of this is to take already cleanned datasets and merge the ones we can to make a more complete dataset. we will combine total cases of violence in india, colombia and whatever countries we can get and also add some additional stats with silver country dataset"
   ]
  },
  {
   "cell_type": "code",
   "execution_count": 0,
   "metadata": {
    "application/vnd.databricks.v1+cell": {
     "cellMetadata": {
      "byteLimit": 2048000,
      "rowLimit": 10000
     },
     "inputWidgets": {},
     "nuid": "8ef9aae6-bd26-4bbb-a55a-b6e4a75d6131",
     "showTitle": false,
     "tableResultSettingsMap": {},
     "title": ""
    }
   },
   "outputs": [],
   "source": [
    "import pyspark.sql.functions as F\n",
    "\n",
    "country_df = spark.table('hive_metastore.violence.silver_country')\n",
    "colombia_df = spark.table('hive_metastore.violence.silver_violence_colombia')\n",
    "india_df = spark.table('hive_metastore.violence.silver_violence_india')\n",
    "bangladesh_df = spark.table('hive_metastore.violence.silver_rape_bangladesh')\n",
    "malaysia_df = spark.table('hive_metastore.violence.silver_violence_malaysia')\n",
    "turkey_df = spark.table('hive_metastore.violence.silver_murder_turkey')"
   ]
  },
  {
   "cell_type": "code",
   "execution_count": 0,
   "metadata": {
    "application/vnd.databricks.v1+cell": {
     "cellMetadata": {
      "byteLimit": 2048000,
      "rowLimit": 10000
     },
     "inputWidgets": {},
     "nuid": "62098761-6df8-4965-9a23-dfdeca1230f3",
     "showTitle": false,
     "tableResultSettingsMap": {},
     "title": ""
    }
   },
   "outputs": [
    {
     "output_type": "display_data",
     "data": {
      "text/html": [
       "<style scoped>\n",
       "  .table-result-container {\n",
       "    max-height: 300px;\n",
       "    overflow: auto;\n",
       "  }\n",
       "  table, th, td {\n",
       "    border: 1px solid black;\n",
       "    border-collapse: collapse;\n",
       "  }\n",
       "  th, td {\n",
       "    padding: 5px;\n",
       "  }\n",
       "  th {\n",
       "    text-align: left;\n",
       "  }\n",
       "</style><div class='table-result-container'><table class='table-result'><thead style='background-color: white'><tr><th>year</th><th>country</th><th>department</th><th>perpetrator</th><th>age_group</th><th>total_cases</th></tr></thead><tbody><tr><td>2017</td><td>Colombia</td><td>Cundinamarca</td><td>any</td><td>adult</td><td>3933</td></tr><tr><td>2022</td><td>Colombia</td><td>Caldas</td><td>any</td><td>adult</td><td>481</td></tr><tr><td>2015</td><td>Colombia</td><td>Casanare</td><td>any</td><td>adult</td><td>746</td></tr><tr><td>2017</td><td>Colombia</td><td>Cesar</td><td>any</td><td>adult</td><td>1138</td></tr><tr><td>2016</td><td>Colombia</td><td>Tolima</td><td>any</td><td>adult</td><td>1499</td></tr><tr><td>2015</td><td>Colombia</td><td>Huila</td><td>any</td><td>child</td><td>217</td></tr><tr><td>2015</td><td>Colombia</td><td>Tolima</td><td>any</td><td>child</td><td>153</td></tr><tr><td>2017</td><td>Colombia</td><td>Quindío</td><td>any</td><td>child</td><td>98</td></tr><tr><td>2015</td><td>Colombia</td><td>Nariño</td><td>any</td><td>child</td><td>107</td></tr><tr><td>2016</td><td>Colombia</td><td>Boyacá</td><td>any</td><td>adult</td><td>1896</td></tr><tr><td>2017</td><td>Colombia</td><td>Chocó</td><td>any</td><td>adult</td><td>209</td></tr><tr><td>2016</td><td>Colombia</td><td>Norte de Santander</td><td>any</td><td>adult</td><td>1511</td></tr><tr><td>2017</td><td>Colombia</td><td>Guainía</td><td>any</td><td>adult</td><td>27</td></tr><tr><td>2015</td><td>Colombia</td><td>Casanare</td><td>any</td><td>child</td><td>152</td></tr><tr><td>2017</td><td>Colombia</td><td>Guainía</td><td>any</td><td>child</td><td>6</td></tr><tr><td>2016</td><td>Colombia</td><td>Valle del Cauca</td><td>any</td><td>adult</td><td>3721</td></tr><tr><td>2016</td><td>Colombia</td><td>Cundinamarca</td><td>any</td><td>child</td><td>600</td></tr><tr><td>2015</td><td>Colombia</td><td>Meta</td><td>any</td><td>child</td><td>259</td></tr><tr><td>2016</td><td>Colombia</td><td>Huila</td><td>any</td><td>child</td><td>167</td></tr><tr><td>2015</td><td>Colombia</td><td>Antioquia</td><td>any</td><td>adult</td><td>5476</td></tr></tbody></table></div>"
      ]
     },
     "metadata": {
      "application/vnd.databricks.v1+output": {
       "addedWidgets": {},
       "aggData": [],
       "aggError": "",
       "aggOverflow": false,
       "aggSchema": [],
       "aggSeriesLimitReached": false,
       "aggType": "",
       "arguments": {},
       "columnCustomDisplayInfos": {},
       "data": [
        [
         2017,
         "Colombia",
         "Cundinamarca",
         "any",
         "adult",
         3933
        ],
        [
         2022,
         "Colombia",
         "Caldas",
         "any",
         "adult",
         481
        ],
        [
         2015,
         "Colombia",
         "Casanare",
         "any",
         "adult",
         746
        ],
        [
         2017,
         "Colombia",
         "Cesar",
         "any",
         "adult",
         1138
        ],
        [
         2016,
         "Colombia",
         "Tolima",
         "any",
         "adult",
         1499
        ],
        [
         2015,
         "Colombia",
         "Huila",
         "any",
         "child",
         217
        ],
        [
         2015,
         "Colombia",
         "Tolima",
         "any",
         "child",
         153
        ],
        [
         2017,
         "Colombia",
         "Quindío",
         "any",
         "child",
         98
        ],
        [
         2015,
         "Colombia",
         "Nariño",
         "any",
         "child",
         107
        ],
        [
         2016,
         "Colombia",
         "Boyacá",
         "any",
         "adult",
         1896
        ],
        [
         2017,
         "Colombia",
         "Chocó",
         "any",
         "adult",
         209
        ],
        [
         2016,
         "Colombia",
         "Norte de Santander",
         "any",
         "adult",
         1511
        ],
        [
         2017,
         "Colombia",
         "Guainía",
         "any",
         "adult",
         27
        ],
        [
         2015,
         "Colombia",
         "Casanare",
         "any",
         "child",
         152
        ],
        [
         2017,
         "Colombia",
         "Guainía",
         "any",
         "child",
         6
        ],
        [
         2016,
         "Colombia",
         "Valle del Cauca",
         "any",
         "adult",
         3721
        ],
        [
         2016,
         "Colombia",
         "Cundinamarca",
         "any",
         "child",
         600
        ],
        [
         2015,
         "Colombia",
         "Meta",
         "any",
         "child",
         259
        ],
        [
         2016,
         "Colombia",
         "Huila",
         "any",
         "child",
         167
        ],
        [
         2015,
         "Colombia",
         "Antioquia",
         "any",
         "adult",
         5476
        ]
       ],
       "datasetInfos": [],
       "dbfsResultPath": null,
       "isJsonSchema": true,
       "metadata": {},
       "overflow": false,
       "plotOptions": {
        "customPlotOptions": {},
        "displayType": "table",
        "pivotAggregation": null,
        "pivotColumns": null,
        "xColumns": null,
        "yColumns": null
       },
       "removedWidgets": [],
       "schema": [
        {
         "metadata": "{}",
         "name": "year",
         "type": "\"integer\""
        },
        {
         "metadata": "{}",
         "name": "country",
         "type": "\"string\""
        },
        {
         "metadata": "{}",
         "name": "department",
         "type": "\"string\""
        },
        {
         "metadata": "{}",
         "name": "perpetrator",
         "type": "\"string\""
        },
        {
         "metadata": "{}",
         "name": "age_group",
         "type": "\"string\""
        },
        {
         "metadata": "{}",
         "name": "total_cases",
         "type": "\"long\""
        }
       ],
       "type": "table"
      }
     },
     "output_type": "display_data"
    }
   ],
   "source": [
    "colombia_df.limit(20).display()\n"
   ]
  },
  {
   "cell_type": "markdown",
   "metadata": {
    "application/vnd.databricks.v1+cell": {
     "cellMetadata": {
      "byteLimit": 2048000,
      "rowLimit": 10000
     },
     "inputWidgets": {},
     "nuid": "ad95c0b1-0da4-4941-9f17-918b897f6c2c",
     "showTitle": false,
     "tableResultSettingsMap": {},
     "title": ""
    }
   },
   "source": [
    "Filter and join country_df with colombia_df"
   ]
  },
  {
   "cell_type": "code",
   "execution_count": 0,
   "metadata": {
    "application/vnd.databricks.v1+cell": {
     "cellMetadata": {
      "byteLimit": 2048000,
      "rowLimit": 10000
     },
     "inputWidgets": {},
     "nuid": "090dc1aa-3b03-4221-9d48-342cdff74f91",
     "showTitle": false,
     "tableResultSettingsMap": {},
     "title": ""
    }
   },
   "outputs": [
    {
     "output_type": "display_data",
     "data": {
      "text/html": [
       "<style scoped>\n",
       "  .table-result-container {\n",
       "    max-height: 300px;\n",
       "    overflow: auto;\n",
       "  }\n",
       "  table, th, td {\n",
       "    border: 1px solid black;\n",
       "    border-collapse: collapse;\n",
       "  }\n",
       "  th, td {\n",
       "    padding: 5px;\n",
       "  }\n",
       "  th {\n",
       "    text-align: left;\n",
       "  }\n",
       "</style><div class='table-result-container'><table class='table-result'><thead style='background-color: white'><tr><th>country_name</th><th>country_code</th><th>year</th><th>total_cases</th><th>female_population</th></tr></thead><tbody><tr><td>Colombia</td><td>COL</td><td>2023</td><td>52517</td><td>26502596</td></tr><tr><td>Colombia</td><td>COL</td><td>2022</td><td>48558</td><td>26204251</td></tr><tr><td>Colombia</td><td>COL</td><td>2021</td><td>41152</td><td>25914903</td></tr><tr><td>Colombia</td><td>COL</td><td>2020</td><td>36407</td><td>25616896</td></tr><tr><td>Colombia</td><td>COL</td><td>2019</td><td>58931</td><td>25243941</td></tr><tr><td>Colombia</td><td>COL</td><td>2018</td><td>59762</td><td>24795335</td></tr><tr><td>Colombia</td><td>COL</td><td>2017</td><td>59639</td><td>24342009</td></tr><tr><td>Colombia</td><td>COL</td><td>2016</td><td>59371</td><td>23988805</td></tr><tr><td>Colombia</td><td>COL</td><td>2015</td><td>57284</td><td>23748377</td></tr></tbody></table></div>"
      ]
     },
     "metadata": {
      "application/vnd.databricks.v1+output": {
       "addedWidgets": {},
       "aggData": [],
       "aggError": "",
       "aggOverflow": false,
       "aggSchema": [],
       "aggSeriesLimitReached": false,
       "aggType": "",
       "arguments": {},
       "columnCustomDisplayInfos": {},
       "data": [
        [
         "Colombia",
         "COL",
         "2023",
         52517,
         26502596
        ],
        [
         "Colombia",
         "COL",
         "2022",
         48558,
         26204251
        ],
        [
         "Colombia",
         "COL",
         "2021",
         41152,
         25914903
        ],
        [
         "Colombia",
         "COL",
         "2020",
         36407,
         25616896
        ],
        [
         "Colombia",
         "COL",
         "2019",
         58931,
         25243941
        ],
        [
         "Colombia",
         "COL",
         "2018",
         59762,
         24795335
        ],
        [
         "Colombia",
         "COL",
         "2017",
         59639,
         24342009
        ],
        [
         "Colombia",
         "COL",
         "2016",
         59371,
         23988805
        ],
        [
         "Colombia",
         "COL",
         "2015",
         57284,
         23748377
        ]
       ],
       "datasetInfos": [],
       "dbfsResultPath": null,
       "isJsonSchema": true,
       "metadata": {},
       "overflow": false,
       "plotOptions": {
        "customPlotOptions": {},
        "displayType": "table",
        "pivotAggregation": null,
        "pivotColumns": null,
        "xColumns": null,
        "yColumns": null
       },
       "removedWidgets": [],
       "schema": [
        {
         "metadata": "{}",
         "name": "country_name",
         "type": "\"string\""
        },
        {
         "metadata": "{}",
         "name": "country_code",
         "type": "\"string\""
        },
        {
         "metadata": "{}",
         "name": "year",
         "type": "\"string\""
        },
        {
         "metadata": "{}",
         "name": "total_cases",
         "type": "\"long\""
        },
        {
         "metadata": "{}",
         "name": "female_population",
         "type": "\"long\""
        }
       ],
       "type": "table"
      }
     },
     "output_type": "display_data"
    }
   ],
   "source": [
    "colombia_df_filtered = colombia_df.where(\n",
    "  (F.col('department') == 'all') &\n",
    "  (F.col('age_group') == 'any') &\n",
    "  (F.col('perpetrator') == 'any')\n",
    ").alias('colombia_df').join(\n",
    "  country_df.alias('country_df'),\n",
    "  (country_df.country_name == colombia_df.country) & (country_df.year == colombia_df.year),\n",
    ").select(\n",
    "  F.col('country_df.country_name'),\n",
    "  F.col('country_df.country_code'),\n",
    "  F.col('country_df.year'),\n",
    "  F.col('colombia_df.total_cases'),\n",
    "  F.col('country_df.female_population')\n",
    ")\n",
    "colombia_df_filtered.limit(20).display()\n"
   ]
  },
  {
   "cell_type": "markdown",
   "metadata": {
    "application/vnd.databricks.v1+cell": {
     "cellMetadata": {
      "byteLimit": 2048000,
      "rowLimit": 10000
     },
     "inputWidgets": {},
     "nuid": "a9b49cda-f734-4255-a6ac-8405722394bd",
     "showTitle": false,
     "tableResultSettingsMap": {},
     "title": ""
    }
   },
   "source": [
    "now is just do the same with all dfs"
   ]
  },
  {
   "cell_type": "code",
   "execution_count": 0,
   "metadata": {
    "application/vnd.databricks.v1+cell": {
     "cellMetadata": {
      "byteLimit": 2048000,
      "rowLimit": 10000
     },
     "inputWidgets": {},
     "nuid": "7e62dc8b-2928-481f-9138-8c9b294d7b5c",
     "showTitle": false,
     "tableResultSettingsMap": {},
     "title": ""
    }
   },
   "outputs": [
    {
     "output_type": "display_data",
     "data": {
      "text/html": [
       "<style scoped>\n",
       "  .table-result-container {\n",
       "    max-height: 300px;\n",
       "    overflow: auto;\n",
       "  }\n",
       "  table, th, td {\n",
       "    border: 1px solid black;\n",
       "    border-collapse: collapse;\n",
       "  }\n",
       "  th, td {\n",
       "    padding: 5px;\n",
       "  }\n",
       "  th {\n",
       "    text-align: left;\n",
       "  }\n",
       "</style><div class='table-result-container'><table class='table-result'><thead style='background-color: white'><tr><th>country</th><th>year</th><th>state</th><th>type_of_violence</th><th>total_cases</th></tr></thead><tbody><tr><td>india</td><td>2007</td><td>all</td><td>assault</td><td>37866</td></tr><tr><td>india</td><td>2009</td><td>all</td><td>kidnap_assault</td><td>24086</td></tr><tr><td>india</td><td>2013</td><td>all</td><td>rape</td><td>33707</td></tr><tr><td>india</td><td>2010</td><td>all</td><td>assault</td><td>40012</td></tr><tr><td>india</td><td>2013</td><td>all</td><td>assault_on_modesty</td><td>12589</td></tr><tr><td>india</td><td>2015</td><td>all</td><td>assault</td><td>82422</td></tr><tr><td>india</td><td>2002</td><td>all</td><td>rape</td><td>15970</td></tr><tr><td>india</td><td>2015</td><td>all</td><td>rape</td><td>34651</td></tr><tr><td>india</td><td>2007</td><td>all</td><td>dowry_deaths</td><td>7955</td></tr><tr><td>india</td><td>2019</td><td>all</td><td>domestic_violence</td><td>125298</td></tr><tr><td>india</td><td>2004</td><td>all</td><td>kidnap_assault</td><td>14697</td></tr><tr><td>india</td><td>2004</td><td>all</td><td>dowry_deaths</td><td>6900</td></tr><tr><td>india</td><td>2014</td><td>all</td><td>assault_on_modesty</td><td>21938</td></tr><tr><td>india</td><td>2006</td><td>all</td><td>assault</td><td>35899</td></tr><tr><td>india</td><td>2003</td><td>all</td><td>assault_on_modesty</td><td>12220</td></tr><tr><td>india</td><td>2020</td><td>all</td><td>kidnap_assault</td><td>62300</td></tr><tr><td>india</td><td>2012</td><td>all</td><td>dowry_deaths</td><td>8233</td></tr><tr><td>india</td><td>2010</td><td>all</td><td>assault_on_modesty</td><td>9881</td></tr><tr><td>india</td><td>2001</td><td>all</td><td>kidnap_assault</td><td>13681</td></tr><tr><td>india</td><td>2007</td><td>all</td><td>domestic_violence</td><td>74143</td></tr></tbody></table></div>"
      ]
     },
     "metadata": {
      "application/vnd.databricks.v1+output": {
       "addedWidgets": {},
       "aggData": [],
       "aggError": "",
       "aggOverflow": false,
       "aggSchema": [],
       "aggSeriesLimitReached": false,
       "aggType": "",
       "arguments": {},
       "columnCustomDisplayInfos": {},
       "data": [
        [
         "india",
         2007,
         "all",
         "assault",
         37866
        ],
        [
         "india",
         2009,
         "all",
         "kidnap_assault",
         24086
        ],
        [
         "india",
         2013,
         "all",
         "rape",
         33707
        ],
        [
         "india",
         2010,
         "all",
         "assault",
         40012
        ],
        [
         "india",
         2013,
         "all",
         "assault_on_modesty",
         12589
        ],
        [
         "india",
         2015,
         "all",
         "assault",
         82422
        ],
        [
         "india",
         2002,
         "all",
         "rape",
         15970
        ],
        [
         "india",
         2015,
         "all",
         "rape",
         34651
        ],
        [
         "india",
         2007,
         "all",
         "dowry_deaths",
         7955
        ],
        [
         "india",
         2019,
         "all",
         "domestic_violence",
         125298
        ],
        [
         "india",
         2004,
         "all",
         "kidnap_assault",
         14697
        ],
        [
         "india",
         2004,
         "all",
         "dowry_deaths",
         6900
        ],
        [
         "india",
         2014,
         "all",
         "assault_on_modesty",
         21938
        ],
        [
         "india",
         2006,
         "all",
         "assault",
         35899
        ],
        [
         "india",
         2003,
         "all",
         "assault_on_modesty",
         12220
        ],
        [
         "india",
         2020,
         "all",
         "kidnap_assault",
         62300
        ],
        [
         "india",
         2012,
         "all",
         "dowry_deaths",
         8233
        ],
        [
         "india",
         2010,
         "all",
         "assault_on_modesty",
         9881
        ],
        [
         "india",
         2001,
         "all",
         "kidnap_assault",
         13681
        ],
        [
         "india",
         2007,
         "all",
         "domestic_violence",
         74143
        ]
       ],
       "datasetInfos": [],
       "dbfsResultPath": null,
       "isJsonSchema": true,
       "metadata": {},
       "overflow": false,
       "plotOptions": {
        "customPlotOptions": {},
        "displayType": "table",
        "pivotAggregation": null,
        "pivotColumns": null,
        "xColumns": null,
        "yColumns": null
       },
       "removedWidgets": [],
       "schema": [
        {
         "metadata": "{}",
         "name": "country",
         "type": "\"string\""
        },
        {
         "metadata": "{}",
         "name": "year",
         "type": "\"integer\""
        },
        {
         "metadata": "{}",
         "name": "state",
         "type": "\"string\""
        },
        {
         "metadata": "{}",
         "name": "type_of_violence",
         "type": "\"string\""
        },
        {
         "metadata": "{}",
         "name": "total_cases",
         "type": "\"long\""
        }
       ],
       "type": "table"
      }
     },
     "output_type": "display_data"
    }
   ],
   "source": [
    "india_df.limit(20).display()"
   ]
  },
  {
   "cell_type": "code",
   "execution_count": 0,
   "metadata": {
    "application/vnd.databricks.v1+cell": {
     "cellMetadata": {
      "byteLimit": 2048000,
      "rowLimit": 10000
     },
     "inputWidgets": {},
     "nuid": "b3d7304c-6963-4bb0-bee5-35db3a0574a7",
     "showTitle": false,
     "tableResultSettingsMap": {},
     "title": ""
    }
   },
   "outputs": [
    {
     "output_type": "display_data",
     "data": {
      "text/html": [
       "<style scoped>\n",
       "  .table-result-container {\n",
       "    max-height: 300px;\n",
       "    overflow: auto;\n",
       "  }\n",
       "  table, th, td {\n",
       "    border: 1px solid black;\n",
       "    border-collapse: collapse;\n",
       "  }\n",
       "  th, td {\n",
       "    padding: 5px;\n",
       "  }\n",
       "  th {\n",
       "    text-align: left;\n",
       "  }\n",
       "</style><div class='table-result-container'><table class='table-result'><thead style='background-color: white'><tr><th>country_name</th><th>country_code</th><th>year</th><th>total_cases</th><th>female_population</th></tr></thead><tbody><tr><td>India</td><td>IND</td><td>2001</td><td>128423</td><td>520253493</td></tr><tr><td>India</td><td>IND</td><td>2012</td><td>232462</td><td>617557834</td></tr><tr><td>India</td><td>IND</td><td>2011</td><td>176094</td><td>609034769</td></tr><tr><td>India</td><td>IND</td><td>2010</td><td>200498</td><td>600383478</td></tr><tr><td>India</td><td>IND</td><td>2009</td><td>190569</td><td>591637549</td></tr><tr><td>India</td><td>IND</td><td>2008</td><td>182690</td><td>583079198</td></tr><tr><td>India</td><td>IND</td><td>2007</td><td>170135</td><td>574698451</td></tr><tr><td>India</td><td>IND</td><td>2006</td><td>149675</td><td>566062902</td></tr><tr><td>India</td><td>IND</td><td>2005</td><td>139185</td><td>557250128</td></tr><tr><td>India</td><td>IND</td><td>2004</td><td>139983</td><td>548226047</td></tr><tr><td>India</td><td>IND</td><td>2003</td><td>128096</td><td>538973038</td></tr><tr><td>India</td><td>IND</td><td>2002</td><td>128896</td><td>529727319</td></tr><tr><td>India</td><td>IND</td><td>2021</td><td>347021</td><td>684279793</td></tr><tr><td>India</td><td>IND</td><td>2020</td><td>301318</td><td>678442228</td></tr><tr><td>India</td><td>IND</td><td>2019</td><td>332532</td><td>671679248</td></tr><tr><td>India</td><td>IND</td><td>2018</td><td>312634</td><td>664608905</td></tr><tr><td>India</td><td>IND</td><td>2017</td><td>304361</td><td>657238304</td></tr><tr><td>India</td><td>IND</td><td>2016</td><td>333555</td><td>649527205</td></tr><tr><td>India</td><td>IND</td><td>2015</td><td>321428</td><td>641725761</td></tr><tr><td>India</td><td>IND</td><td>2014</td><td>331146</td><td>634011081</td></tr></tbody></table></div>"
      ]
     },
     "metadata": {
      "application/vnd.databricks.v1+output": {
       "addedWidgets": {},
       "aggData": [],
       "aggError": "",
       "aggOverflow": false,
       "aggSchema": [],
       "aggSeriesLimitReached": false,
       "aggType": "",
       "arguments": {},
       "columnCustomDisplayInfos": {},
       "data": [
        [
         "India",
         "IND",
         "2001",
         128423,
         520253493
        ],
        [
         "India",
         "IND",
         "2012",
         232462,
         617557834
        ],
        [
         "India",
         "IND",
         "2011",
         176094,
         609034769
        ],
        [
         "India",
         "IND",
         "2010",
         200498,
         600383478
        ],
        [
         "India",
         "IND",
         "2009",
         190569,
         591637549
        ],
        [
         "India",
         "IND",
         "2008",
         182690,
         583079198
        ],
        [
         "India",
         "IND",
         "2007",
         170135,
         574698451
        ],
        [
         "India",
         "IND",
         "2006",
         149675,
         566062902
        ],
        [
         "India",
         "IND",
         "2005",
         139185,
         557250128
        ],
        [
         "India",
         "IND",
         "2004",
         139983,
         548226047
        ],
        [
         "India",
         "IND",
         "2003",
         128096,
         538973038
        ],
        [
         "India",
         "IND",
         "2002",
         128896,
         529727319
        ],
        [
         "India",
         "IND",
         "2021",
         347021,
         684279793
        ],
        [
         "India",
         "IND",
         "2020",
         301318,
         678442228
        ],
        [
         "India",
         "IND",
         "2019",
         332532,
         671679248
        ],
        [
         "India",
         "IND",
         "2018",
         312634,
         664608905
        ],
        [
         "India",
         "IND",
         "2017",
         304361,
         657238304
        ],
        [
         "India",
         "IND",
         "2016",
         333555,
         649527205
        ],
        [
         "India",
         "IND",
         "2015",
         321428,
         641725761
        ],
        [
         "India",
         "IND",
         "2014",
         331146,
         634011081
        ]
       ],
       "datasetInfos": [],
       "dbfsResultPath": null,
       "isJsonSchema": true,
       "metadata": {},
       "overflow": false,
       "plotOptions": {
        "customPlotOptions": {},
        "displayType": "table",
        "pivotAggregation": null,
        "pivotColumns": null,
        "xColumns": null,
        "yColumns": null
       },
       "removedWidgets": [],
       "schema": [
        {
         "metadata": "{}",
         "name": "country_name",
         "type": "\"string\""
        },
        {
         "metadata": "{}",
         "name": "country_code",
         "type": "\"string\""
        },
        {
         "metadata": "{}",
         "name": "year",
         "type": "\"string\""
        },
        {
         "metadata": "{}",
         "name": "total_cases",
         "type": "\"long\""
        },
        {
         "metadata": "{}",
         "name": "female_population",
         "type": "\"long\""
        }
       ],
       "type": "table"
      }
     },
     "output_type": "display_data"
    }
   ],
   "source": [
    "india_df_filtered = india_df.where(\n",
    "  (F.col('state') == 'all') &\n",
    "  (F.col('type_of_violence') == 'any')\n",
    ").alias('india_df').join(\n",
    "  country_df.alias('country_df'),\n",
    "  (F.lower(country_df.country_name) == F.lower(india_df.country)) & (country_df.year == india_df.year)\n",
    ").select(\n",
    "  F.col('country_df.country_name'),\n",
    "  F.col('country_df.country_code'),\n",
    "  F.col('country_df.year'), \n",
    "  F.col('india_df.total_cases'),\n",
    "  F.col('country_df.female_population')\n",
    ")\n",
    "india_df_filtered.limit(20).display()"
   ]
  },
  {
   "cell_type": "code",
   "execution_count": 0,
   "metadata": {
    "application/vnd.databricks.v1+cell": {
     "cellMetadata": {
      "byteLimit": 2048000,
      "rowLimit": 10000
     },
     "inputWidgets": {},
     "nuid": "58a4c0cf-72a3-4a8f-8f12-3afb83089452",
     "showTitle": false,
     "tableResultSettingsMap": {},
     "title": ""
    }
   },
   "outputs": [
    {
     "output_type": "display_data",
     "data": {
      "text/html": [
       "<style scoped>\n",
       "  .table-result-container {\n",
       "    max-height: 300px;\n",
       "    overflow: auto;\n",
       "  }\n",
       "  table, th, td {\n",
       "    border: 1px solid black;\n",
       "    border-collapse: collapse;\n",
       "  }\n",
       "  th, td {\n",
       "    padding: 5px;\n",
       "  }\n",
       "  th {\n",
       "    text-align: left;\n",
       "  }\n",
       "</style><div class='table-result-container'><table class='table-result'><thead style='background-color: white'><tr><th>year</th><th>age_group</th><th>total_cases</th><th>country</th></tr></thead><tbody><tr><td>2021</td><td>any</td><td>1411</td><td>bangladesh</td></tr><tr><td>2021</td><td>child</td><td>809</td><td>bangladesh</td></tr><tr><td>2021</td><td>adult</td><td>556</td><td>bangladesh</td></tr><tr><td>2020</td><td>any</td><td>1538</td><td>bangladesh</td></tr><tr><td>2020</td><td>child</td><td>919</td><td>bangladesh</td></tr><tr><td>2020</td><td>adult</td><td>577</td><td>bangladesh</td></tr><tr><td>2019</td><td>any</td><td>1080</td><td>bangladesh</td></tr><tr><td>2019</td><td>child</td><td>737</td><td>bangladesh</td></tr><tr><td>2019</td><td>adult</td><td>330</td><td>bangladesh</td></tr><tr><td>2018</td><td>any</td><td>635</td><td>bangladesh</td></tr><tr><td>2018</td><td>child</td><td>457</td><td>bangladesh</td></tr><tr><td>2018</td><td>adult</td><td>176</td><td>bangladesh</td></tr><tr><td>2017</td><td>any</td><td>783</td><td>bangladesh</td></tr><tr><td>2017</td><td>child</td><td>553</td><td>bangladesh</td></tr><tr><td>2017</td><td>adult</td><td>225</td><td>bangladesh</td></tr><tr><td>2016</td><td>any</td><td>757</td><td>bangladesh</td></tr><tr><td>2016</td><td>child</td><td>511</td><td>bangladesh</td></tr><tr><td>2016</td><td>adult</td><td>232</td><td>bangladesh</td></tr><tr><td>2015</td><td>any</td><td>789</td><td>bangladesh</td></tr><tr><td>2015</td><td>child</td><td>479</td><td>bangladesh</td></tr></tbody></table></div>"
      ]
     },
     "metadata": {
      "application/vnd.databricks.v1+output": {
       "addedWidgets": {},
       "aggData": [],
       "aggError": "",
       "aggOverflow": false,
       "aggSchema": [],
       "aggSeriesLimitReached": false,
       "aggType": "",
       "arguments": {},
       "columnCustomDisplayInfos": {},
       "data": [
        [
         2021,
         "any",
         1411,
         "bangladesh"
        ],
        [
         2021,
         "child",
         809,
         "bangladesh"
        ],
        [
         2021,
         "adult",
         556,
         "bangladesh"
        ],
        [
         2020,
         "any",
         1538,
         "bangladesh"
        ],
        [
         2020,
         "child",
         919,
         "bangladesh"
        ],
        [
         2020,
         "adult",
         577,
         "bangladesh"
        ],
        [
         2019,
         "any",
         1080,
         "bangladesh"
        ],
        [
         2019,
         "child",
         737,
         "bangladesh"
        ],
        [
         2019,
         "adult",
         330,
         "bangladesh"
        ],
        [
         2018,
         "any",
         635,
         "bangladesh"
        ],
        [
         2018,
         "child",
         457,
         "bangladesh"
        ],
        [
         2018,
         "adult",
         176,
         "bangladesh"
        ],
        [
         2017,
         "any",
         783,
         "bangladesh"
        ],
        [
         2017,
         "child",
         553,
         "bangladesh"
        ],
        [
         2017,
         "adult",
         225,
         "bangladesh"
        ],
        [
         2016,
         "any",
         757,
         "bangladesh"
        ],
        [
         2016,
         "child",
         511,
         "bangladesh"
        ],
        [
         2016,
         "adult",
         232,
         "bangladesh"
        ],
        [
         2015,
         "any",
         789,
         "bangladesh"
        ],
        [
         2015,
         "child",
         479,
         "bangladesh"
        ]
       ],
       "datasetInfos": [],
       "dbfsResultPath": null,
       "isJsonSchema": true,
       "metadata": {},
       "overflow": false,
       "plotOptions": {
        "customPlotOptions": {},
        "displayType": "table",
        "pivotAggregation": null,
        "pivotColumns": null,
        "xColumns": null,
        "yColumns": null
       },
       "removedWidgets": [],
       "schema": [
        {
         "metadata": "{}",
         "name": "year",
         "type": "\"integer\""
        },
        {
         "metadata": "{}",
         "name": "age_group",
         "type": "\"string\""
        },
        {
         "metadata": "{}",
         "name": "total_cases",
         "type": "\"integer\""
        },
        {
         "metadata": "{}",
         "name": "country",
         "type": "\"string\""
        }
       ],
       "type": "table"
      }
     },
     "output_type": "display_data"
    }
   ],
   "source": [
    "bangladesh_df.limit(20).display()"
   ]
  },
  {
   "cell_type": "code",
   "execution_count": 0,
   "metadata": {
    "application/vnd.databricks.v1+cell": {
     "cellMetadata": {
      "byteLimit": 2048000,
      "rowLimit": 10000
     },
     "inputWidgets": {},
     "nuid": "0a4a872d-5f2e-4875-a175-546514231bd8",
     "showTitle": false,
     "tableResultSettingsMap": {},
     "title": ""
    }
   },
   "outputs": [
    {
     "output_type": "display_data",
     "data": {
      "text/html": [
       "<style scoped>\n",
       "  .table-result-container {\n",
       "    max-height: 300px;\n",
       "    overflow: auto;\n",
       "  }\n",
       "  table, th, td {\n",
       "    border: 1px solid black;\n",
       "    border-collapse: collapse;\n",
       "  }\n",
       "  th, td {\n",
       "    padding: 5px;\n",
       "  }\n",
       "  th {\n",
       "    text-align: left;\n",
       "  }\n",
       "</style><div class='table-result-container'><table class='table-result'><thead style='background-color: white'><tr><th>country_name</th><th>country_code</th><th>year</th><th>total_cases</th><th>female_population</th></tr></thead><tbody><tr><td>Bangladesh</td><td>BGD</td><td>2001</td><td>622</td><td>67278611</td></tr><tr><td>Bangladesh</td><td>BGD</td><td>2012</td><td>805</td><td>78243628</td></tr><tr><td>Bangladesh</td><td>BGD</td><td>2011</td><td>711</td><td>77354265</td></tr><tr><td>Bangladesh</td><td>BGD</td><td>2010</td><td>559</td><td>76487607</td></tr><tr><td>Bangladesh</td><td>BGD</td><td>2009</td><td>456</td><td>75629878</td></tr><tr><td>Bangladesh</td><td>BGD</td><td>2008</td><td>454</td><td>74736651</td></tr><tr><td>Bangladesh</td><td>BGD</td><td>2007</td><td>459</td><td>73805299</td></tr><tr><td>Bangladesh</td><td>BGD</td><td>2006</td><td>639</td><td>72831947</td></tr><tr><td>Bangladesh</td><td>BGD</td><td>2005</td><td>907</td><td>71813210</td></tr><tr><td>Bangladesh</td><td>BGD</td><td>2004</td><td>896</td><td>70743192</td></tr><tr><td>Bangladesh</td><td>BGD</td><td>2003</td><td>1336</td><td>69625317</td></tr><tr><td>Bangladesh</td><td>BGD</td><td>2002</td><td>1350</td><td>68468235</td></tr><tr><td>Bangladesh</td><td>BGD</td><td>2021</td><td>1411</td><td>85086513</td></tr><tr><td>Bangladesh</td><td>BGD</td><td>2020</td><td>1538</td><td>84419144</td></tr><tr><td>Bangladesh</td><td>BGD</td><td>2019</td><td>1080</td><td>83750865</td></tr><tr><td>Bangladesh</td><td>BGD</td><td>2018</td><td>635</td><td>83091995</td></tr><tr><td>Bangladesh</td><td>BGD</td><td>2017</td><td>783</td><td>82462276</td></tr><tr><td>Bangladesh</td><td>BGD</td><td>2016</td><td>757</td><td>81720325</td></tr><tr><td>Bangladesh</td><td>BGD</td><td>2015</td><td>789</td><td>80855124</td></tr><tr><td>Bangladesh</td><td>BGD</td><td>2014</td><td>666</td><td>79993271</td></tr></tbody></table></div>"
      ]
     },
     "metadata": {
      "application/vnd.databricks.v1+output": {
       "addedWidgets": {},
       "aggData": [],
       "aggError": "",
       "aggOverflow": false,
       "aggSchema": [],
       "aggSeriesLimitReached": false,
       "aggType": "",
       "arguments": {},
       "columnCustomDisplayInfos": {},
       "data": [
        [
         "Bangladesh",
         "BGD",
         "2001",
         622,
         67278611
        ],
        [
         "Bangladesh",
         "BGD",
         "2012",
         805,
         78243628
        ],
        [
         "Bangladesh",
         "BGD",
         "2011",
         711,
         77354265
        ],
        [
         "Bangladesh",
         "BGD",
         "2010",
         559,
         76487607
        ],
        [
         "Bangladesh",
         "BGD",
         "2009",
         456,
         75629878
        ],
        [
         "Bangladesh",
         "BGD",
         "2008",
         454,
         74736651
        ],
        [
         "Bangladesh",
         "BGD",
         "2007",
         459,
         73805299
        ],
        [
         "Bangladesh",
         "BGD",
         "2006",
         639,
         72831947
        ],
        [
         "Bangladesh",
         "BGD",
         "2005",
         907,
         71813210
        ],
        [
         "Bangladesh",
         "BGD",
         "2004",
         896,
         70743192
        ],
        [
         "Bangladesh",
         "BGD",
         "2003",
         1336,
         69625317
        ],
        [
         "Bangladesh",
         "BGD",
         "2002",
         1350,
         68468235
        ],
        [
         "Bangladesh",
         "BGD",
         "2021",
         1411,
         85086513
        ],
        [
         "Bangladesh",
         "BGD",
         "2020",
         1538,
         84419144
        ],
        [
         "Bangladesh",
         "BGD",
         "2019",
         1080,
         83750865
        ],
        [
         "Bangladesh",
         "BGD",
         "2018",
         635,
         83091995
        ],
        [
         "Bangladesh",
         "BGD",
         "2017",
         783,
         82462276
        ],
        [
         "Bangladesh",
         "BGD",
         "2016",
         757,
         81720325
        ],
        [
         "Bangladesh",
         "BGD",
         "2015",
         789,
         80855124
        ],
        [
         "Bangladesh",
         "BGD",
         "2014",
         666,
         79993271
        ]
       ],
       "datasetInfos": [],
       "dbfsResultPath": null,
       "isJsonSchema": true,
       "metadata": {},
       "overflow": false,
       "plotOptions": {
        "customPlotOptions": {},
        "displayType": "table",
        "pivotAggregation": null,
        "pivotColumns": null,
        "xColumns": null,
        "yColumns": null
       },
       "removedWidgets": [],
       "schema": [
        {
         "metadata": "{}",
         "name": "country_name",
         "type": "\"string\""
        },
        {
         "metadata": "{}",
         "name": "country_code",
         "type": "\"string\""
        },
        {
         "metadata": "{}",
         "name": "year",
         "type": "\"string\""
        },
        {
         "metadata": "{}",
         "name": "total_cases",
         "type": "\"integer\""
        },
        {
         "metadata": "{}",
         "name": "female_population",
         "type": "\"long\""
        }
       ],
       "type": "table"
      }
     },
     "output_type": "display_data"
    }
   ],
   "source": [
    "bangladesh_df_filtered = bangladesh_df.where(\n",
    "  (F.col('age_group') == 'any')\n",
    ").alias('bangladesh_df').join(\n",
    "  country_df.alias('country_df'),\n",
    "  (F.lower(country_df.country_name) == F.lower(bangladesh_df.country)) & (country_df.year == bangladesh_df.year)\n",
    ").select(\n",
    "  F.col('country_df.country_name'),\n",
    "  F.col('country_df.country_code'),\n",
    "  F.col('country_df.year'), \n",
    "  F.col('bangladesh_df.total_cases'),\n",
    "  F.col('country_df.female_population')\n",
    ")\n",
    "bangladesh_df_filtered.limit(20).display()"
   ]
  },
  {
   "cell_type": "code",
   "execution_count": 0,
   "metadata": {
    "application/vnd.databricks.v1+cell": {
     "cellMetadata": {
      "byteLimit": 2048000,
      "rowLimit": 10000
     },
     "inputWidgets": {},
     "nuid": "8339a5c9-374b-47d5-87e7-cfd4c421e96d",
     "showTitle": false,
     "tableResultSettingsMap": {},
     "title": ""
    }
   },
   "outputs": [
    {
     "output_type": "display_data",
     "data": {
      "text/html": [
       "<style scoped>\n",
       "  .table-result-container {\n",
       "    max-height: 300px;\n",
       "    overflow: auto;\n",
       "  }\n",
       "  table, th, td {\n",
       "    border: 1px solid black;\n",
       "    border-collapse: collapse;\n",
       "  }\n",
       "  th, td {\n",
       "    padding: 5px;\n",
       "  }\n",
       "  th {\n",
       "    text-align: left;\n",
       "  }\n",
       "</style><div class='table-result-container'><table class='table-result'><thead style='background-color: white'><tr><th>country</th><th>year</th><th>type_of_violence</th><th>total_cases</th></tr></thead><tbody><tr><td>malaysia</td><td>2021</td><td>Rape</td><td>1360</td></tr><tr><td>malaysia</td><td>2018</td><td>Sexual disoder</td><td>253</td></tr><tr><td>malaysia</td><td>2020</td><td>Incest</td><td>259</td></tr><tr><td>malaysia</td><td>2016</td><td>Domestic violence</td><td>4285</td></tr><tr><td>malaysia</td><td>2017</td><td>Distribute/ display pornographic material</td><td>35</td></tr><tr><td>malaysia</td><td>2019</td><td>Molest</td><td>1064</td></tr><tr><td>malaysia</td><td>2021</td><td>Domestic violence</td><td>5131</td></tr><tr><td>malaysia</td><td>2018</td><td>Unnatural</td><td>159</td></tr><tr><td>malaysia</td><td>2020</td><td>Rape</td><td>1378</td></tr><tr><td>malaysia</td><td>2017</td><td>Sexual disoder</td><td>226</td></tr><tr><td>malaysia</td><td>2019</td><td>Incest</td><td>300</td></tr><tr><td>malaysia</td><td>2016</td><td>Distribute/ display pornographic material</td><td>14</td></tr><tr><td>malaysia</td><td>2018</td><td>Molest</td><td>872</td></tr><tr><td>malaysia</td><td>2020</td><td>Domestic violence</td><td>3616</td></tr><tr><td>malaysia</td><td>2021</td><td>Distribute/ display pornographic material</td><td>53</td></tr><tr><td>malaysia</td><td>2017</td><td>Unnatural</td><td>203</td></tr><tr><td>malaysia</td><td>2019</td><td>Rape</td><td>1453</td></tr><tr><td>malaysia</td><td>2016</td><td>Sexual disoder</td><td>253</td></tr><tr><td>malaysia</td><td>2018</td><td>Incest</td><td>266</td></tr><tr><td>malaysia</td><td>2021</td><td>Sexual disoder</td><td>446</td></tr></tbody></table></div>"
      ]
     },
     "metadata": {
      "application/vnd.databricks.v1+output": {
       "addedWidgets": {},
       "aggData": [],
       "aggError": "",
       "aggOverflow": false,
       "aggSchema": [],
       "aggSeriesLimitReached": false,
       "aggType": "",
       "arguments": {},
       "columnCustomDisplayInfos": {},
       "data": [
        [
         "malaysia",
         2021,
         "Rape",
         1360
        ],
        [
         "malaysia",
         2018,
         "Sexual disoder",
         253
        ],
        [
         "malaysia",
         2020,
         "Incest",
         259
        ],
        [
         "malaysia",
         2016,
         "Domestic violence",
         4285
        ],
        [
         "malaysia",
         2017,
         "Distribute/ display pornographic material",
         35
        ],
        [
         "malaysia",
         2019,
         "Molest",
         1064
        ],
        [
         "malaysia",
         2021,
         "Domestic violence",
         5131
        ],
        [
         "malaysia",
         2018,
         "Unnatural",
         159
        ],
        [
         "malaysia",
         2020,
         "Rape",
         1378
        ],
        [
         "malaysia",
         2017,
         "Sexual disoder",
         226
        ],
        [
         "malaysia",
         2019,
         "Incest",
         300
        ],
        [
         "malaysia",
         2016,
         "Distribute/ display pornographic material",
         14
        ],
        [
         "malaysia",
         2018,
         "Molest",
         872
        ],
        [
         "malaysia",
         2020,
         "Domestic violence",
         3616
        ],
        [
         "malaysia",
         2021,
         "Distribute/ display pornographic material",
         53
        ],
        [
         "malaysia",
         2017,
         "Unnatural",
         203
        ],
        [
         "malaysia",
         2019,
         "Rape",
         1453
        ],
        [
         "malaysia",
         2016,
         "Sexual disoder",
         253
        ],
        [
         "malaysia",
         2018,
         "Incest",
         266
        ],
        [
         "malaysia",
         2021,
         "Sexual disoder",
         446
        ]
       ],
       "datasetInfos": [],
       "dbfsResultPath": null,
       "isJsonSchema": true,
       "metadata": {},
       "overflow": false,
       "plotOptions": {
        "customPlotOptions": {},
        "displayType": "table",
        "pivotAggregation": null,
        "pivotColumns": null,
        "xColumns": null,
        "yColumns": null
       },
       "removedWidgets": [],
       "schema": [
        {
         "metadata": "{}",
         "name": "country",
         "type": "\"string\""
        },
        {
         "metadata": "{}",
         "name": "year",
         "type": "\"long\""
        },
        {
         "metadata": "{}",
         "name": "type_of_violence",
         "type": "\"string\""
        },
        {
         "metadata": "{}",
         "name": "total_cases",
         "type": "\"long\""
        }
       ],
       "type": "table"
      }
     },
     "output_type": "display_data"
    }
   ],
   "source": [
    "malaysia_df.limit(20).display()"
   ]
  },
  {
   "cell_type": "code",
   "execution_count": 0,
   "metadata": {
    "application/vnd.databricks.v1+cell": {
     "cellMetadata": {
      "byteLimit": 2048000,
      "rowLimit": 10000
     },
     "inputWidgets": {},
     "nuid": "2b04b6fd-f40d-4543-9d72-4f707587bdd0",
     "showTitle": false,
     "tableResultSettingsMap": {},
     "title": ""
    }
   },
   "outputs": [
    {
     "output_type": "display_data",
     "data": {
      "text/html": [
       "<style scoped>\n",
       "  .table-result-container {\n",
       "    max-height: 300px;\n",
       "    overflow: auto;\n",
       "  }\n",
       "  table, th, td {\n",
       "    border: 1px solid black;\n",
       "    border-collapse: collapse;\n",
       "  }\n",
       "  th, td {\n",
       "    padding: 5px;\n",
       "  }\n",
       "  th {\n",
       "    text-align: left;\n",
       "  }\n",
       "</style><div class='table-result-container'><table class='table-result'><thead style='background-color: white'><tr><th>country_name</th><th>country_code</th><th>year</th><th>total_cases</th><th>female_population</th></tr></thead><tbody><tr><td>Malaysia</td><td>MYS</td><td>2021</td><td>8252</td><td>16273730</td></tr><tr><td>Malaysia</td><td>MYS</td><td>2020</td><td>6624</td><td>16067734</td></tr><tr><td>Malaysia</td><td>MYS</td><td>2019</td><td>7522</td><td>15854594</td></tr><tr><td>Malaysia</td><td>MYS</td><td>2018</td><td>6857</td><td>15620144</td></tr><tr><td>Malaysia</td><td>MYS</td><td>2017</td><td>7624</td><td>15374022</td></tr><tr><td>Malaysia</td><td>MYS</td><td>2016</td><td>8159</td><td>15125577</td></tr></tbody></table></div>"
      ]
     },
     "metadata": {
      "application/vnd.databricks.v1+output": {
       "addedWidgets": {},
       "aggData": [],
       "aggError": "",
       "aggOverflow": false,
       "aggSchema": [],
       "aggSeriesLimitReached": false,
       "aggType": "",
       "arguments": {},
       "columnCustomDisplayInfos": {},
       "data": [
        [
         "Malaysia",
         "MYS",
         "2021",
         8252,
         16273730
        ],
        [
         "Malaysia",
         "MYS",
         "2020",
         6624,
         16067734
        ],
        [
         "Malaysia",
         "MYS",
         "2019",
         7522,
         15854594
        ],
        [
         "Malaysia",
         "MYS",
         "2018",
         6857,
         15620144
        ],
        [
         "Malaysia",
         "MYS",
         "2017",
         7624,
         15374022
        ],
        [
         "Malaysia",
         "MYS",
         "2016",
         8159,
         15125577
        ]
       ],
       "datasetInfos": [],
       "dbfsResultPath": null,
       "isJsonSchema": true,
       "metadata": {},
       "overflow": false,
       "plotOptions": {
        "customPlotOptions": {},
        "displayType": "table",
        "pivotAggregation": null,
        "pivotColumns": null,
        "xColumns": null,
        "yColumns": null
       },
       "removedWidgets": [],
       "schema": [
        {
         "metadata": "{}",
         "name": "country_name",
         "type": "\"string\""
        },
        {
         "metadata": "{}",
         "name": "country_code",
         "type": "\"string\""
        },
        {
         "metadata": "{}",
         "name": "year",
         "type": "\"string\""
        },
        {
         "metadata": "{}",
         "name": "total_cases",
         "type": "\"long\""
        },
        {
         "metadata": "{}",
         "name": "female_population",
         "type": "\"long\""
        }
       ],
       "type": "table"
      }
     },
     "output_type": "display_data"
    }
   ],
   "source": [
    "malaysia_df_filtered = malaysia_df.where(\n",
    "  (F.col('type_of_violence') == 'any')\n",
    ").alias('malaysia_df').join(\n",
    "  country_df.alias('country_df'),\n",
    "  (F.lower(country_df.country_name) == F.lower(malaysia_df.country)) & (country_df.year == malaysia_df.year)\n",
    ").select(\n",
    "  F.col('country_df.country_name'),\n",
    "  F.col('country_df.country_code'),\n",
    "  F.col('country_df.year'), \n",
    "  F.col('malaysia_df.total_cases'),\n",
    "  F.col('country_df.female_population')\n",
    ")\n",
    "malaysia_df_filtered.limit(20).display()"
   ]
  },
  {
   "cell_type": "code",
   "execution_count": 0,
   "metadata": {
    "application/vnd.databricks.v1+cell": {
     "cellMetadata": {
      "byteLimit": 2048000,
      "rowLimit": 10000
     },
     "inputWidgets": {},
     "nuid": "addda552-f14a-45a3-babd-f67793ebc381",
     "showTitle": false,
     "tableResultSettingsMap": {},
     "title": ""
    }
   },
   "outputs": [
    {
     "output_type": "display_data",
     "data": {
      "text/html": [
       "<style scoped>\n",
       "  .table-result-container {\n",
       "    max-height: 300px;\n",
       "    overflow: auto;\n",
       "  }\n",
       "  table, th, td {\n",
       "    border: 1px solid black;\n",
       "    border-collapse: collapse;\n",
       "  }\n",
       "  th, td {\n",
       "    padding: 5px;\n",
       "  }\n",
       "  th {\n",
       "    text-align: left;\n",
       "  }\n",
       "</style><div class='table-result-container'><table class='table-result'><thead style='background-color: white'><tr><th>year</th><th>country</th><th>province</th><th>total_cases</th></tr></thead><tbody><tr><td>2020</td><td>turkiye</td><td>Intellectual</td><td>8</td></tr><tr><td>2019</td><td>turkiye</td><td>Adana</td><td>21</td></tr><tr><td>2011</td><td>turkiye</td><td>Yozgat</td><td>1</td></tr><tr><td>2018</td><td>turkiye</td><td>Kars</td><td>4</td></tr><tr><td>2020</td><td>turkiye</td><td>Kirsehir</td><td>1</td></tr><tr><td>2019</td><td>turkiye</td><td>Kahramanmaras</td><td>4</td></tr><tr><td>2019</td><td>turkiye</td><td> Konya</td><td>1</td></tr><tr><td>2019</td><td>turkiye</td><td>Trabzon</td><td>1</td></tr><tr><td>2018</td><td>turkiye</td><td>Bayburt</td><td>1</td></tr><tr><td>2020</td><td>turkiye</td><td>Adiyaman</td><td>1</td></tr><tr><td>2011</td><td>turkiye</td><td>Burdur</td><td>1</td></tr><tr><td>2018</td><td>turkiye</td><td>Kırıkkale</td><td>3</td></tr><tr><td>2019</td><td>turkiye</td><td>Eskisehir</td><td>6</td></tr><tr><td>2016</td><td>turkiye</td><td>Adana</td><td>13</td></tr><tr><td>2016</td><td>turkiye</td><td>Hakkari</td><td>3</td></tr><tr><td>2016</td><td>turkiye</td><td>Yalova</td><td>2</td></tr><tr><td>2013</td><td>turkiye</td><td>Bursa</td><td>1</td></tr><tr><td>2019</td><td>turkiye</td><td>Kırklareli</td><td>1</td></tr><tr><td>2018</td><td>turkiye</td><td>Mazıdağı</td><td>1</td></tr><tr><td>2018</td><td>turkiye</td><td>Mardin</td><td>4</td></tr></tbody></table></div>"
      ]
     },
     "metadata": {
      "application/vnd.databricks.v1+output": {
       "addedWidgets": {},
       "aggData": [],
       "aggError": "",
       "aggOverflow": false,
       "aggSchema": [],
       "aggSeriesLimitReached": false,
       "aggType": "",
       "arguments": {},
       "columnCustomDisplayInfos": {},
       "data": [
        [
         2020,
         "turkiye",
         "Intellectual",
         8
        ],
        [
         2019,
         "turkiye",
         "Adana",
         21
        ],
        [
         2011,
         "turkiye",
         "Yozgat",
         1
        ],
        [
         2018,
         "turkiye",
         "Kars",
         4
        ],
        [
         2020,
         "turkiye",
         "Kirsehir",
         1
        ],
        [
         2019,
         "turkiye",
         "Kahramanmaras",
         4
        ],
        [
         2019,
         "turkiye",
         " Konya",
         1
        ],
        [
         2019,
         "turkiye",
         "Trabzon",
         1
        ],
        [
         2018,
         "turkiye",
         "Bayburt",
         1
        ],
        [
         2020,
         "turkiye",
         "Adiyaman",
         1
        ],
        [
         2011,
         "turkiye",
         "Burdur",
         1
        ],
        [
         2018,
         "turkiye",
         "Kırıkkale",
         3
        ],
        [
         2019,
         "turkiye",
         "Eskisehir",
         6
        ],
        [
         2016,
         "turkiye",
         "Adana",
         13
        ],
        [
         2016,
         "turkiye",
         "Hakkari",
         3
        ],
        [
         2016,
         "turkiye",
         "Yalova",
         2
        ],
        [
         2013,
         "turkiye",
         "Bursa",
         1
        ],
        [
         2019,
         "turkiye",
         "Kırklareli",
         1
        ],
        [
         2018,
         "turkiye",
         "Mazıdağı",
         1
        ],
        [
         2018,
         "turkiye",
         "Mardin",
         4
        ]
       ],
       "datasetInfos": [],
       "dbfsResultPath": null,
       "isJsonSchema": true,
       "metadata": {},
       "overflow": false,
       "plotOptions": {
        "customPlotOptions": {},
        "displayType": "table",
        "pivotAggregation": null,
        "pivotColumns": null,
        "xColumns": null,
        "yColumns": null
       },
       "removedWidgets": [],
       "schema": [
        {
         "metadata": "{}",
         "name": "year",
         "type": "\"integer\""
        },
        {
         "metadata": "{}",
         "name": "country",
         "type": "\"string\""
        },
        {
         "metadata": "{}",
         "name": "province",
         "type": "\"string\""
        },
        {
         "metadata": "{}",
         "name": "total_cases",
         "type": "\"long\""
        }
       ],
       "type": "table"
      }
     },
     "output_type": "display_data"
    }
   ],
   "source": [
    "turkey_df.limit(20).display()"
   ]
  },
  {
   "cell_type": "code",
   "execution_count": 0,
   "metadata": {
    "application/vnd.databricks.v1+cell": {
     "cellMetadata": {
      "byteLimit": 2048000,
      "rowLimit": 10000
     },
     "inputWidgets": {},
     "nuid": "b9403803-9201-41a5-a88c-552db2d46db7",
     "showTitle": false,
     "tableResultSettingsMap": {},
     "title": ""
    }
   },
   "outputs": [
    {
     "output_type": "display_data",
     "data": {
      "text/html": [
       "<style scoped>\n",
       "  .table-result-container {\n",
       "    max-height: 300px;\n",
       "    overflow: auto;\n",
       "  }\n",
       "  table, th, td {\n",
       "    border: 1px solid black;\n",
       "    border-collapse: collapse;\n",
       "  }\n",
       "  th, td {\n",
       "    padding: 5px;\n",
       "  }\n",
       "  th {\n",
       "    text-align: left;\n",
       "  }\n",
       "</style><div class='table-result-container'><table class='table-result'><thead style='background-color: white'><tr><th>country_name</th><th>country_code</th><th>year</th><th>total_cases</th><th>female_population</th></tr></thead><tbody><tr><td>Turkiye</td><td>TUR</td><td>2001</td><td>1</td><td>32964158</td></tr><tr><td>Turkiye</td><td>TUR</td><td>2012</td><td>137</td><td>37459914</td></tr><tr><td>Turkiye</td><td>TUR</td><td>2011</td><td>119</td><td>36970426</td></tr><tr><td>Turkiye</td><td>TUR</td><td>2010</td><td>192</td><td>36433945</td></tr><tr><td>Turkiye</td><td>TUR</td><td>2009</td><td>122</td><td>35904517</td></tr><tr><td>Turkiye</td><td>TUR</td><td>2008</td><td>64</td><td>35431846</td></tr><tr><td>Turkiye</td><td>TUR</td><td>2021</td><td>97</td><td>42082196</td></tr><tr><td>Turkiye</td><td>TUR</td><td>2020</td><td>402</td><td>41670659</td></tr><tr><td>Turkiye</td><td>TUR</td><td>2019</td><td>427</td><td>41243483</td></tr><tr><td>Turkiye</td><td>TUR</td><td>2018</td><td>394</td><td>40641328</td></tr><tr><td>Turkiye</td><td>TUR</td><td>2017</td><td>41</td><td>40082878</td></tr><tr><td>Turkiye</td><td>TUR</td><td>2016</td><td>276</td><td>39553942</td></tr><tr><td>Turkiye</td><td>TUR</td><td>2015</td><td>291</td><td>39012881</td></tr><tr><td>Turkiye</td><td>TUR</td><td>2014</td><td>290</td><td>38484424</td></tr><tr><td>Turkiye</td><td>TUR</td><td>2013</td><td>228</td><td>37957319</td></tr></tbody></table></div>"
      ]
     },
     "metadata": {
      "application/vnd.databricks.v1+output": {
       "addedWidgets": {},
       "aggData": [],
       "aggError": "",
       "aggOverflow": false,
       "aggSchema": [],
       "aggSeriesLimitReached": false,
       "aggType": "",
       "arguments": {},
       "columnCustomDisplayInfos": {},
       "data": [
        [
         "Turkiye",
         "TUR",
         "2001",
         1,
         32964158
        ],
        [
         "Turkiye",
         "TUR",
         "2012",
         137,
         37459914
        ],
        [
         "Turkiye",
         "TUR",
         "2011",
         119,
         36970426
        ],
        [
         "Turkiye",
         "TUR",
         "2010",
         192,
         36433945
        ],
        [
         "Turkiye",
         "TUR",
         "2009",
         122,
         35904517
        ],
        [
         "Turkiye",
         "TUR",
         "2008",
         64,
         35431846
        ],
        [
         "Turkiye",
         "TUR",
         "2021",
         97,
         42082196
        ],
        [
         "Turkiye",
         "TUR",
         "2020",
         402,
         41670659
        ],
        [
         "Turkiye",
         "TUR",
         "2019",
         427,
         41243483
        ],
        [
         "Turkiye",
         "TUR",
         "2018",
         394,
         40641328
        ],
        [
         "Turkiye",
         "TUR",
         "2017",
         41,
         40082878
        ],
        [
         "Turkiye",
         "TUR",
         "2016",
         276,
         39553942
        ],
        [
         "Turkiye",
         "TUR",
         "2015",
         291,
         39012881
        ],
        [
         "Turkiye",
         "TUR",
         "2014",
         290,
         38484424
        ],
        [
         "Turkiye",
         "TUR",
         "2013",
         228,
         37957319
        ]
       ],
       "datasetInfos": [],
       "dbfsResultPath": null,
       "isJsonSchema": true,
       "metadata": {},
       "overflow": false,
       "plotOptions": {
        "customPlotOptions": {},
        "displayType": "table",
        "pivotAggregation": null,
        "pivotColumns": null,
        "xColumns": null,
        "yColumns": null
       },
       "removedWidgets": [],
       "schema": [
        {
         "metadata": "{}",
         "name": "country_name",
         "type": "\"string\""
        },
        {
         "metadata": "{}",
         "name": "country_code",
         "type": "\"string\""
        },
        {
         "metadata": "{}",
         "name": "year",
         "type": "\"string\""
        },
        {
         "metadata": "{}",
         "name": "total_cases",
         "type": "\"long\""
        },
        {
         "metadata": "{}",
         "name": "female_population",
         "type": "\"long\""
        }
       ],
       "type": "table"
      }
     },
     "output_type": "display_data"
    }
   ],
   "source": [
    "turkey_df_filtered = turkey_df.where(\n",
    "  (F.col('province') == 'all')\n",
    ").alias('turkey_df').join(\n",
    "  country_df.alias('country_df'),\n",
    "  (F.lower(country_df.country_name) == F.lower(turkey_df.country)) & (country_df.year == turkey_df.year)\n",
    ").select(\n",
    "  F.col('country_df.country_name'),\n",
    "  F.col('country_df.country_code'),\n",
    "  F.col('country_df.year'), \n",
    "  F.col('turkey_df.total_cases'),\n",
    "  F.col('country_df.female_population')\n",
    ")\n",
    "turkey_df_filtered.limit(20).display()"
   ]
  },
  {
   "cell_type": "code",
   "execution_count": 0,
   "metadata": {
    "application/vnd.databricks.v1+cell": {
     "cellMetadata": {
      "byteLimit": 2048000,
      "rowLimit": 10000
     },
     "inputWidgets": {},
     "nuid": "38fb51dd-3910-4f89-98c0-b31af3fdc5a9",
     "showTitle": false,
     "tableResultSettingsMap": {},
     "title": ""
    }
   },
   "outputs": [
    {
     "output_type": "display_data",
     "data": {
      "text/html": [
       "<style scoped>\n",
       "  .table-result-container {\n",
       "    max-height: 300px;\n",
       "    overflow: auto;\n",
       "  }\n",
       "  table, th, td {\n",
       "    border: 1px solid black;\n",
       "    border-collapse: collapse;\n",
       "  }\n",
       "  th, td {\n",
       "    padding: 5px;\n",
       "  }\n",
       "  th {\n",
       "    text-align: left;\n",
       "  }\n",
       "</style><div class='table-result-container'><table class='table-result'><thead style='background-color: white'><tr><th>country_name</th><th>country_code</th><th>year</th><th>total_cases</th><th>female_population</th></tr></thead><tbody><tr><td>Turkiye</td><td>TUR</td><td>2001</td><td>1</td><td>32964158</td></tr><tr><td>Turkiye</td><td>TUR</td><td>2012</td><td>137</td><td>37459914</td></tr><tr><td>Turkiye</td><td>TUR</td><td>2011</td><td>119</td><td>36970426</td></tr><tr><td>Turkiye</td><td>TUR</td><td>2010</td><td>192</td><td>36433945</td></tr><tr><td>Turkiye</td><td>TUR</td><td>2009</td><td>122</td><td>35904517</td></tr><tr><td>Turkiye</td><td>TUR</td><td>2008</td><td>64</td><td>35431846</td></tr><tr><td>Turkiye</td><td>TUR</td><td>2021</td><td>97</td><td>42082196</td></tr><tr><td>Turkiye</td><td>TUR</td><td>2020</td><td>402</td><td>41670659</td></tr><tr><td>Turkiye</td><td>TUR</td><td>2019</td><td>427</td><td>41243483</td></tr><tr><td>Turkiye</td><td>TUR</td><td>2018</td><td>394</td><td>40641328</td></tr><tr><td>Turkiye</td><td>TUR</td><td>2017</td><td>41</td><td>40082878</td></tr><tr><td>Turkiye</td><td>TUR</td><td>2016</td><td>276</td><td>39553942</td></tr><tr><td>Turkiye</td><td>TUR</td><td>2015</td><td>291</td><td>39012881</td></tr><tr><td>Turkiye</td><td>TUR</td><td>2014</td><td>290</td><td>38484424</td></tr><tr><td>Turkiye</td><td>TUR</td><td>2013</td><td>228</td><td>37957319</td></tr><tr><td>Malaysia</td><td>MYS</td><td>2021</td><td>8252</td><td>16273730</td></tr><tr><td>Malaysia</td><td>MYS</td><td>2020</td><td>6624</td><td>16067734</td></tr><tr><td>Malaysia</td><td>MYS</td><td>2019</td><td>7522</td><td>15854594</td></tr><tr><td>Malaysia</td><td>MYS</td><td>2018</td><td>6857</td><td>15620144</td></tr><tr><td>Malaysia</td><td>MYS</td><td>2017</td><td>7624</td><td>15374022</td></tr></tbody></table></div>"
      ]
     },
     "metadata": {
      "application/vnd.databricks.v1+output": {
       "addedWidgets": {},
       "aggData": [],
       "aggError": "",
       "aggOverflow": false,
       "aggSchema": [],
       "aggSeriesLimitReached": false,
       "aggType": "",
       "arguments": {},
       "columnCustomDisplayInfos": {},
       "data": [
        [
         "Turkiye",
         "TUR",
         "2001",
         1,
         32964158
        ],
        [
         "Turkiye",
         "TUR",
         "2012",
         137,
         37459914
        ],
        [
         "Turkiye",
         "TUR",
         "2011",
         119,
         36970426
        ],
        [
         "Turkiye",
         "TUR",
         "2010",
         192,
         36433945
        ],
        [
         "Turkiye",
         "TUR",
         "2009",
         122,
         35904517
        ],
        [
         "Turkiye",
         "TUR",
         "2008",
         64,
         35431846
        ],
        [
         "Turkiye",
         "TUR",
         "2021",
         97,
         42082196
        ],
        [
         "Turkiye",
         "TUR",
         "2020",
         402,
         41670659
        ],
        [
         "Turkiye",
         "TUR",
         "2019",
         427,
         41243483
        ],
        [
         "Turkiye",
         "TUR",
         "2018",
         394,
         40641328
        ],
        [
         "Turkiye",
         "TUR",
         "2017",
         41,
         40082878
        ],
        [
         "Turkiye",
         "TUR",
         "2016",
         276,
         39553942
        ],
        [
         "Turkiye",
         "TUR",
         "2015",
         291,
         39012881
        ],
        [
         "Turkiye",
         "TUR",
         "2014",
         290,
         38484424
        ],
        [
         "Turkiye",
         "TUR",
         "2013",
         228,
         37957319
        ],
        [
         "Malaysia",
         "MYS",
         "2021",
         8252,
         16273730
        ],
        [
         "Malaysia",
         "MYS",
         "2020",
         6624,
         16067734
        ],
        [
         "Malaysia",
         "MYS",
         "2019",
         7522,
         15854594
        ],
        [
         "Malaysia",
         "MYS",
         "2018",
         6857,
         15620144
        ],
        [
         "Malaysia",
         "MYS",
         "2017",
         7624,
         15374022
        ]
       ],
       "datasetInfos": [],
       "dbfsResultPath": null,
       "isJsonSchema": true,
       "metadata": {},
       "overflow": false,
       "plotOptions": {
        "customPlotOptions": {},
        "displayType": "table",
        "pivotAggregation": null,
        "pivotColumns": null,
        "xColumns": null,
        "yColumns": null
       },
       "removedWidgets": [],
       "schema": [
        {
         "metadata": "{}",
         "name": "country_name",
         "type": "\"string\""
        },
        {
         "metadata": "{}",
         "name": "country_code",
         "type": "\"string\""
        },
        {
         "metadata": "{}",
         "name": "year",
         "type": "\"string\""
        },
        {
         "metadata": "{}",
         "name": "total_cases",
         "type": "\"long\""
        },
        {
         "metadata": "{}",
         "name": "female_population",
         "type": "\"long\""
        }
       ],
       "type": "table"
      }
     },
     "output_type": "display_data"
    }
   ],
   "source": [
    "final_df = turkey_df_filtered.union(malaysia_df_filtered).union(bangladesh_df_filtered).union(india_df_filtered).union(colombia_df_filtered)\n",
    "final_df.limit(20).display()"
   ]
  }
 ],
 "metadata": {
  "application/vnd.databricks.v1+notebook": {
   "computePreferences": null,
   "dashboards": [],
   "environmentMetadata": {
    "base_environment": "",
    "environment_version": "1"
   },
   "language": "python",
   "notebookMetadata": {
    "pythonIndentUnit": 4
   },
   "notebookName": "gold_reported_cases_country",
   "widgets": {}
  },
  "language_info": {
   "name": "python"
  }
 },
 "nbformat": 4,
 "nbformat_minor": 0
}
