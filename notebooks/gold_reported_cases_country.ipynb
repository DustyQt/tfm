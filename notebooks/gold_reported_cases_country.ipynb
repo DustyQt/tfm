{
 "cells": [
  {
   "cell_type": "markdown",
   "metadata": {
    "application/vnd.databricks.v1+cell": {
     "cellMetadata": {
      "byteLimit": 2048000,
      "rowLimit": 10000
     },
     "inputWidgets": {},
     "nuid": "c49bfc8e-9e1f-4adb-973a-29dafce0f48e",
     "showTitle": false,
     "tableResultSettingsMap": {},
     "title": ""
    }
   },
   "source": [
    "The purpose of this is to take already cleanned datasets and merge the ones we can to make a more complete dataset. we will combine total cases of violence in india, colombia and whatever countries we can get and also add some additional stats with silver country dataset"
   ]
  },
  {
   "cell_type": "code",
   "execution_count": 0,
   "metadata": {
    "application/vnd.databricks.v1+cell": {
     "cellMetadata": {
      "byteLimit": 2048000,
      "rowLimit": 10000
     },
     "inputWidgets": {},
     "nuid": "8ef9aae6-bd26-4bbb-a55a-b6e4a75d6131",
     "showTitle": false,
     "tableResultSettingsMap": {},
     "title": ""
    }
   },
   "outputs": [],
   "source": [
    "import pyspark.sql.functions as F\n",
    "\n",
    "country_df = spark.table('hive_metastore.violence.silver_country')\n",
    "colombia_df = spark.table('hive_metastore.violence.silver_violence_colombia')\n",
    "bangladesh_df = spark.table('hive_metastore.violence.silver_rape_bangladesh')\n",
    "india_df = spark.table('hive_metastore.violence.silver_violence_india')\n",
    "malaysia_df = spark.table('hive_metastore.violence.silver_violence_malaysia')\n",
    "turkey_df = spark.table('hive_metastore.violence.silver_murder_turkey')"
   ]
  },
  {
   "cell_type": "code",
   "execution_count": 0,
   "metadata": {
    "application/vnd.databricks.v1+cell": {
     "cellMetadata": {
      "byteLimit": 2048000,
      "rowLimit": 10000
     },
     "inputWidgets": {},
     "nuid": "62098761-6df8-4965-9a23-dfdeca1230f3",
     "showTitle": false,
     "tableResultSettingsMap": {},
     "title": ""
    }
   },
   "outputs": [],
   "source": [
    "colombia_df.display()\n"
   ]
  },
  {
   "cell_type": "code",
   "execution_count": 0,
   "metadata": {
    "application/vnd.databricks.v1+cell": {
     "cellMetadata": {
      "byteLimit": 2048000,
      "rowLimit": 10000
     },
     "inputWidgets": {},
     "nuid": "090dc1aa-3b03-4221-9d48-342cdff74f91",
     "showTitle": false,
     "tableResultSettingsMap": {},
     "title": ""
    }
   },
   "outputs": [],
   "source": [
    "colombia_df_filtered = colombia_df.where(\n",
    "  (F.col('department') == 'all') &\n",
    "  (F.col('age_group') == 'any') &\n",
    "  (F.col('perpetrator') == 'any')\n",
    ").alias('colombia_df').join(\n",
    "  country_df.alias('country_df'),\n",
    "  (country_df.country_name == colombia_df.country) & (country_df.year == colombia_df.year),\n",
    ").select(\n",
    "  F.col('country_df.country_name'),\n",
    "  F.col('country_df.country_code'),\n",
    "  F.col('country_df.year'),\n",
    "  F.col('colombia_df.total_cases'),\n",
    "  F.col('country_df.female_population')\n",
    ").display()\n"
   ]
  }
 ],
 "metadata": {
  "application/vnd.databricks.v1+notebook": {
   "computePreferences": null,
   "dashboards": [],
   "environmentMetadata": {
    "base_environment": "",
    "client": "1"
   },
   "language": "python",
   "notebookMetadata": {
    "pythonIndentUnit": 4
   },
   "notebookName": "gold_reported_cases_country",
   "widgets": {}
  },
  "language_info": {
   "name": "python"
  }
 },
 "nbformat": 4,
 "nbformat_minor": 0
}
