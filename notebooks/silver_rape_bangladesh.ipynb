{
 "cells": [
  {
   "cell_type": "code",
   "execution_count": 0,
   "metadata": {
    "application/vnd.databricks.v1+cell": {
     "cellMetadata": {
      "byteLimit": 2048000,
      "rowLimit": 10000
     },
     "inputWidgets": {},
     "nuid": "4fb3c8a3-8a82-41e8-aedc-f78fd0008f41",
     "showTitle": false,
     "tableResultSettingsMap": {},
     "title": ""
    }
   },
   "outputs": [],
   "source": [
    "import pyspark.sql.functions as F\n",
    "import os\n",
    "\n",
    "STORAGE_ACCOUNT = os.getenv('STORAGE_ACCOUNT')\n",
    "STORAGE_ACCOUNT_KEY = os.getenv('STORAGE_ACCOUNT_KEY')\n",
    "spark.conf.set(STORAGE_ACCOUNT, STORAGE_ACCOUNT_KEY)\n"
   ]
  },
  {
   "cell_type": "code",
   "execution_count": 0,
   "metadata": {
    "application/vnd.databricks.v1+cell": {
     "cellMetadata": {
      "byteLimit": 2048000,
      "rowLimit": 10000
     },
     "inputWidgets": {},
     "nuid": "89c3cad4-a35a-467a-b9bb-23516aeb88bd",
     "showTitle": false,
     "tableResultSettingsMap": {},
     "title": ""
    }
   },
   "outputs": [
    {
     "output_type": "display_data",
     "data": {
      "text/html": [
       "<style scoped>\n",
       "  .table-result-container {\n",
       "    max-height: 300px;\n",
       "    overflow: auto;\n",
       "  }\n",
       "  table, th, td {\n",
       "    border: 1px solid black;\n",
       "    border-collapse: collapse;\n",
       "  }\n",
       "  th, td {\n",
       "    padding: 5px;\n",
       "  }\n",
       "  th {\n",
       "    text-align: left;\n",
       "  }\n",
       "</style><div class='table-result-container'><table class='table-result'><thead style='background-color: white'><tr><th>Years</th><th>Total_victims</th><th>children</th><th>women</th><th>Unidentified_age</th></tr></thead><tbody><tr><td>2021</td><td>1411</td><td>809</td><td>556</td><td>46</td></tr><tr><td>2020</td><td>1538</td><td>919</td><td>577</td><td>42</td></tr><tr><td>2019</td><td>1080</td><td>737</td><td>330</td><td>13</td></tr><tr><td>2018</td><td>635</td><td>457</td><td>176</td><td>2</td></tr><tr><td>2017</td><td>783</td><td>553</td><td>225</td><td>5</td></tr><tr><td>2016</td><td>757</td><td>511</td><td>232</td><td>14</td></tr><tr><td>2015</td><td>789</td><td>479</td><td>293</td><td>17</td></tr><tr><td>2014</td><td>666</td><td>393</td><td>244</td><td>29</td></tr><tr><td>2013</td><td>814</td><td>452</td><td>336</td><td>26</td></tr><tr><td>2012</td><td>805</td><td>473</td><td>299</td><td>33</td></tr><tr><td>2011</td><td>711</td><td>450</td><td>246</td><td>15</td></tr><tr><td>2010</td><td>559</td><td>311</td><td>248</td><td>0</td></tr><tr><td>2009</td><td>456</td><td>243</td><td>213</td><td>0</td></tr><tr><td>2008</td><td>454</td><td>252</td><td>202</td><td>0</td></tr><tr><td>2007</td><td>459</td><td>246</td><td>213</td><td>0</td></tr><tr><td>2006</td><td>639</td><td>227</td><td>412</td><td>0</td></tr><tr><td>2005</td><td>907</td><td>319</td><td>588</td><td>0</td></tr><tr><td>2004</td><td>896</td><td>327</td><td>569</td><td>0</td></tr><tr><td>2003</td><td>1336</td><td>494</td><td>842</td><td>0</td></tr><tr><td>2002</td><td>1350</td><td>602</td><td>748</td><td>0</td></tr><tr><td>2001</td><td>622</td><td>138</td><td>484</td><td>0</td></tr></tbody></table></div>"
      ]
     },
     "metadata": {
      "application/vnd.databricks.v1+output": {
       "addedWidgets": {},
       "aggData": [],
       "aggError": "",
       "aggOverflow": false,
       "aggSchema": [],
       "aggSeriesLimitReached": false,
       "aggType": "",
       "arguments": {},
       "columnCustomDisplayInfos": {},
       "data": [
        [
         2021,
         1411,
         809,
         556,
         46
        ],
        [
         2020,
         1538,
         919,
         577,
         42
        ],
        [
         2019,
         1080,
         737,
         330,
         13
        ],
        [
         2018,
         635,
         457,
         176,
         2
        ],
        [
         2017,
         783,
         553,
         225,
         5
        ],
        [
         2016,
         757,
         511,
         232,
         14
        ],
        [
         2015,
         789,
         479,
         293,
         17
        ],
        [
         2014,
         666,
         393,
         244,
         29
        ],
        [
         2013,
         814,
         452,
         336,
         26
        ],
        [
         2012,
         805,
         473,
         299,
         33
        ],
        [
         2011,
         711,
         450,
         246,
         15
        ],
        [
         2010,
         559,
         311,
         248,
         0
        ],
        [
         2009,
         456,
         243,
         213,
         0
        ],
        [
         2008,
         454,
         252,
         202,
         0
        ],
        [
         2007,
         459,
         246,
         213,
         0
        ],
        [
         2006,
         639,
         227,
         412,
         0
        ],
        [
         2005,
         907,
         319,
         588,
         0
        ],
        [
         2004,
         896,
         327,
         569,
         0
        ],
        [
         2003,
         1336,
         494,
         842,
         0
        ],
        [
         2002,
         1350,
         602,
         748,
         0
        ],
        [
         2001,
         622,
         138,
         484,
         0
        ]
       ],
       "datasetInfos": [],
       "dbfsResultPath": null,
       "isJsonSchema": true,
       "metadata": {},
       "overflow": false,
       "plotOptions": {
        "customPlotOptions": {},
        "displayType": "table",
        "pivotAggregation": null,
        "pivotColumns": null,
        "xColumns": null,
        "yColumns": null
       },
       "removedWidgets": [],
       "schema": [
        {
         "metadata": "{}",
         "name": "Years",
         "type": "\"integer\""
        },
        {
         "metadata": "{}",
         "name": "Total_victims",
         "type": "\"integer\""
        },
        {
         "metadata": "{}",
         "name": "children",
         "type": "\"integer\""
        },
        {
         "metadata": "{}",
         "name": "women",
         "type": "\"integer\""
        },
        {
         "metadata": "{}",
         "name": "Unidentified_age",
         "type": "\"integer\""
        }
       ],
       "type": "table"
      }
     },
     "output_type": "display_data"
    }
   ],
   "source": [
    "bangladesh_df = spark.read\\\n",
    "                 .option(\"header\", \"true\")\\\n",
    "                 .option(\"inferSchema\", \"true\")\\\n",
    "                 .csv(\"abfss://datasets@tfmstorageacc.dfs.core.windows.net/rape_total_2001_2021-bangladesh.csv\")\n",
    "\n",
    "bangladesh_df.limit(20).display()"
   ]
  },
  {
   "cell_type": "markdown",
   "metadata": {
    "application/vnd.databricks.v1+cell": {
     "cellMetadata": {
      "byteLimit": 2048000,
      "rowLimit": 10000
     },
     "inputWidgets": {},
     "nuid": "9414e633-7808-4433-9a55-dcc8db670d15",
     "showTitle": false,
     "tableResultSettingsMap": {},
     "title": ""
    }
   },
   "source": [
    "This one is pretty clean already we just need a few adjustments"
   ]
  },
  {
   "cell_type": "code",
   "execution_count": 0,
   "metadata": {
    "application/vnd.databricks.v1+cell": {
     "cellMetadata": {
      "byteLimit": 2048000,
      "rowLimit": 10000
     },
     "inputWidgets": {},
     "nuid": "dfca4b60-bd81-4d1a-addf-731920f093ab",
     "showTitle": false,
     "tableResultSettingsMap": {},
     "title": ""
    }
   },
   "outputs": [
    {
     "output_type": "display_data",
     "data": {
      "text/html": [
       "<style scoped>\n",
       "  .table-result-container {\n",
       "    max-height: 300px;\n",
       "    overflow: auto;\n",
       "  }\n",
       "  table, th, td {\n",
       "    border: 1px solid black;\n",
       "    border-collapse: collapse;\n",
       "  }\n",
       "  th, td {\n",
       "    padding: 5px;\n",
       "  }\n",
       "  th {\n",
       "    text-align: left;\n",
       "  }\n",
       "</style><div class='table-result-container'><table class='table-result'><thead style='background-color: white'><tr><th>Years</th><th>age_group</th><th>total_cases</th></tr></thead><tbody><tr><td>2021</td><td>Total_victims</td><td>1411</td></tr><tr><td>2021</td><td>children</td><td>809</td></tr><tr><td>2021</td><td>women</td><td>556</td></tr><tr><td>2020</td><td>Total_victims</td><td>1538</td></tr><tr><td>2020</td><td>children</td><td>919</td></tr><tr><td>2020</td><td>women</td><td>577</td></tr><tr><td>2019</td><td>Total_victims</td><td>1080</td></tr><tr><td>2019</td><td>children</td><td>737</td></tr><tr><td>2019</td><td>women</td><td>330</td></tr><tr><td>2018</td><td>Total_victims</td><td>635</td></tr><tr><td>2018</td><td>children</td><td>457</td></tr><tr><td>2018</td><td>women</td><td>176</td></tr><tr><td>2017</td><td>Total_victims</td><td>783</td></tr><tr><td>2017</td><td>children</td><td>553</td></tr><tr><td>2017</td><td>women</td><td>225</td></tr><tr><td>2016</td><td>Total_victims</td><td>757</td></tr><tr><td>2016</td><td>children</td><td>511</td></tr><tr><td>2016</td><td>women</td><td>232</td></tr><tr><td>2015</td><td>Total_victims</td><td>789</td></tr><tr><td>2015</td><td>children</td><td>479</td></tr><tr><td>2015</td><td>women</td><td>293</td></tr><tr><td>2014</td><td>Total_victims</td><td>666</td></tr><tr><td>2014</td><td>children</td><td>393</td></tr><tr><td>2014</td><td>women</td><td>244</td></tr><tr><td>2013</td><td>Total_victims</td><td>814</td></tr><tr><td>2013</td><td>children</td><td>452</td></tr><tr><td>2013</td><td>women</td><td>336</td></tr><tr><td>2012</td><td>Total_victims</td><td>805</td></tr><tr><td>2012</td><td>children</td><td>473</td></tr><tr><td>2012</td><td>women</td><td>299</td></tr><tr><td>2011</td><td>Total_victims</td><td>711</td></tr><tr><td>2011</td><td>children</td><td>450</td></tr><tr><td>2011</td><td>women</td><td>246</td></tr><tr><td>2010</td><td>Total_victims</td><td>559</td></tr><tr><td>2010</td><td>children</td><td>311</td></tr><tr><td>2010</td><td>women</td><td>248</td></tr><tr><td>2009</td><td>Total_victims</td><td>456</td></tr><tr><td>2009</td><td>children</td><td>243</td></tr><tr><td>2009</td><td>women</td><td>213</td></tr><tr><td>2008</td><td>Total_victims</td><td>454</td></tr><tr><td>2008</td><td>children</td><td>252</td></tr><tr><td>2008</td><td>women</td><td>202</td></tr><tr><td>2007</td><td>Total_victims</td><td>459</td></tr><tr><td>2007</td><td>children</td><td>246</td></tr><tr><td>2007</td><td>women</td><td>213</td></tr><tr><td>2006</td><td>Total_victims</td><td>639</td></tr><tr><td>2006</td><td>children</td><td>227</td></tr><tr><td>2006</td><td>women</td><td>412</td></tr><tr><td>2005</td><td>Total_victims</td><td>907</td></tr><tr><td>2005</td><td>children</td><td>319</td></tr><tr><td>2005</td><td>women</td><td>588</td></tr><tr><td>2004</td><td>Total_victims</td><td>896</td></tr><tr><td>2004</td><td>children</td><td>327</td></tr><tr><td>2004</td><td>women</td><td>569</td></tr><tr><td>2003</td><td>Total_victims</td><td>1336</td></tr><tr><td>2003</td><td>children</td><td>494</td></tr><tr><td>2003</td><td>women</td><td>842</td></tr><tr><td>2002</td><td>Total_victims</td><td>1350</td></tr><tr><td>2002</td><td>children</td><td>602</td></tr><tr><td>2002</td><td>women</td><td>748</td></tr><tr><td>2001</td><td>Total_victims</td><td>622</td></tr><tr><td>2001</td><td>children</td><td>138</td></tr><tr><td>2001</td><td>women</td><td>484</td></tr></tbody></table></div>"
      ]
     },
     "metadata": {
      "application/vnd.databricks.v1+output": {
       "addedWidgets": {},
       "aggData": [],
       "aggError": "",
       "aggOverflow": false,
       "aggSchema": [],
       "aggSeriesLimitReached": false,
       "aggType": "",
       "arguments": {},
       "columnCustomDisplayInfos": {},
       "data": [
        [
         2021,
         "Total_victims",
         1411
        ],
        [
         2021,
         "children",
         809
        ],
        [
         2021,
         "women",
         556
        ],
        [
         2020,
         "Total_victims",
         1538
        ],
        [
         2020,
         "children",
         919
        ],
        [
         2020,
         "women",
         577
        ],
        [
         2019,
         "Total_victims",
         1080
        ],
        [
         2019,
         "children",
         737
        ],
        [
         2019,
         "women",
         330
        ],
        [
         2018,
         "Total_victims",
         635
        ],
        [
         2018,
         "children",
         457
        ],
        [
         2018,
         "women",
         176
        ],
        [
         2017,
         "Total_victims",
         783
        ],
        [
         2017,
         "children",
         553
        ],
        [
         2017,
         "women",
         225
        ],
        [
         2016,
         "Total_victims",
         757
        ],
        [
         2016,
         "children",
         511
        ],
        [
         2016,
         "women",
         232
        ],
        [
         2015,
         "Total_victims",
         789
        ],
        [
         2015,
         "children",
         479
        ],
        [
         2015,
         "women",
         293
        ],
        [
         2014,
         "Total_victims",
         666
        ],
        [
         2014,
         "children",
         393
        ],
        [
         2014,
         "women",
         244
        ],
        [
         2013,
         "Total_victims",
         814
        ],
        [
         2013,
         "children",
         452
        ],
        [
         2013,
         "women",
         336
        ],
        [
         2012,
         "Total_victims",
         805
        ],
        [
         2012,
         "children",
         473
        ],
        [
         2012,
         "women",
         299
        ],
        [
         2011,
         "Total_victims",
         711
        ],
        [
         2011,
         "children",
         450
        ],
        [
         2011,
         "women",
         246
        ],
        [
         2010,
         "Total_victims",
         559
        ],
        [
         2010,
         "children",
         311
        ],
        [
         2010,
         "women",
         248
        ],
        [
         2009,
         "Total_victims",
         456
        ],
        [
         2009,
         "children",
         243
        ],
        [
         2009,
         "women",
         213
        ],
        [
         2008,
         "Total_victims",
         454
        ],
        [
         2008,
         "children",
         252
        ],
        [
         2008,
         "women",
         202
        ],
        [
         2007,
         "Total_victims",
         459
        ],
        [
         2007,
         "children",
         246
        ],
        [
         2007,
         "women",
         213
        ],
        [
         2006,
         "Total_victims",
         639
        ],
        [
         2006,
         "children",
         227
        ],
        [
         2006,
         "women",
         412
        ],
        [
         2005,
         "Total_victims",
         907
        ],
        [
         2005,
         "children",
         319
        ],
        [
         2005,
         "women",
         588
        ],
        [
         2004,
         "Total_victims",
         896
        ],
        [
         2004,
         "children",
         327
        ],
        [
         2004,
         "women",
         569
        ],
        [
         2003,
         "Total_victims",
         1336
        ],
        [
         2003,
         "children",
         494
        ],
        [
         2003,
         "women",
         842
        ],
        [
         2002,
         "Total_victims",
         1350
        ],
        [
         2002,
         "children",
         602
        ],
        [
         2002,
         "women",
         748
        ],
        [
         2001,
         "Total_victims",
         622
        ],
        [
         2001,
         "children",
         138
        ],
        [
         2001,
         "women",
         484
        ]
       ],
       "datasetInfos": [],
       "dbfsResultPath": null,
       "isJsonSchema": true,
       "metadata": {},
       "overflow": false,
       "plotOptions": {
        "customPlotOptions": {},
        "displayType": "table",
        "pivotAggregation": null,
        "pivotColumns": null,
        "xColumns": null,
        "yColumns": null
       },
       "removedWidgets": [],
       "schema": [
        {
         "metadata": "{}",
         "name": "Years",
         "type": "\"integer\""
        },
        {
         "metadata": "{}",
         "name": "age_group",
         "type": "\"string\""
        },
        {
         "metadata": "{}",
         "name": "total_cases",
         "type": "\"integer\""
        }
       ],
       "type": "table"
      }
     },
     "output_type": "display_data"
    }
   ],
   "source": [
    "bangladesh_df_melted = bangladesh_df.drop(\n",
    "    'Unidentified_age'\n",
    ").melt(\n",
    "    ids=['Years'],\n",
    "    values=['Total_victims', 'children', 'women'],\n",
    "    variableColumnName='age_group',\n",
    "    valueColumnName='total_cases',\n",
    ")\n",
    "bangladesh_df_melted.limit(20).display()"
   ]
  },
  {
   "cell_type": "markdown",
   "metadata": {
    "application/vnd.databricks.v1+cell": {
     "cellMetadata": {
      "byteLimit": 2048000,
      "rowLimit": 10000
     },
     "inputWidgets": {},
     "nuid": "5d00bc56-64bb-4e2e-a010-a7b9396ebed5",
     "showTitle": false,
     "tableResultSettingsMap": {},
     "title": ""
    }
   },
   "source": [
    "now change column names and add country information"
   ]
  },
  {
   "cell_type": "code",
   "execution_count": 0,
   "metadata": {
    "application/vnd.databricks.v1+cell": {
     "cellMetadata": {
      "byteLimit": 2048000,
      "rowLimit": 10000
     },
     "inputWidgets": {},
     "nuid": "0bc86902-8667-43bf-a31e-4eecf25755b3",
     "showTitle": false,
     "tableResultSettingsMap": {},
     "title": ""
    }
   },
   "outputs": [
    {
     "output_type": "display_data",
     "data": {
      "text/html": [
       "<style scoped>\n",
       "  .table-result-container {\n",
       "    max-height: 300px;\n",
       "    overflow: auto;\n",
       "  }\n",
       "  table, th, td {\n",
       "    border: 1px solid black;\n",
       "    border-collapse: collapse;\n",
       "  }\n",
       "  th, td {\n",
       "    padding: 5px;\n",
       "  }\n",
       "  th {\n",
       "    text-align: left;\n",
       "  }\n",
       "</style><div class='table-result-container'><table class='table-result'><thead style='background-color: white'><tr><th>year</th><th>age_group</th><th>total_cases</th><th>country</th></tr></thead><tbody><tr><td>2021</td><td>any</td><td>1411</td><td>bangladesh</td></tr><tr><td>2021</td><td>child</td><td>809</td><td>bangladesh</td></tr><tr><td>2021</td><td>adult</td><td>556</td><td>bangladesh</td></tr><tr><td>2020</td><td>any</td><td>1538</td><td>bangladesh</td></tr><tr><td>2020</td><td>child</td><td>919</td><td>bangladesh</td></tr><tr><td>2020</td><td>adult</td><td>577</td><td>bangladesh</td></tr><tr><td>2019</td><td>any</td><td>1080</td><td>bangladesh</td></tr><tr><td>2019</td><td>child</td><td>737</td><td>bangladesh</td></tr><tr><td>2019</td><td>adult</td><td>330</td><td>bangladesh</td></tr><tr><td>2018</td><td>any</td><td>635</td><td>bangladesh</td></tr><tr><td>2018</td><td>child</td><td>457</td><td>bangladesh</td></tr><tr><td>2018</td><td>adult</td><td>176</td><td>bangladesh</td></tr><tr><td>2017</td><td>any</td><td>783</td><td>bangladesh</td></tr><tr><td>2017</td><td>child</td><td>553</td><td>bangladesh</td></tr><tr><td>2017</td><td>adult</td><td>225</td><td>bangladesh</td></tr><tr><td>2016</td><td>any</td><td>757</td><td>bangladesh</td></tr><tr><td>2016</td><td>child</td><td>511</td><td>bangladesh</td></tr><tr><td>2016</td><td>adult</td><td>232</td><td>bangladesh</td></tr><tr><td>2015</td><td>any</td><td>789</td><td>bangladesh</td></tr><tr><td>2015</td><td>child</td><td>479</td><td>bangladesh</td></tr><tr><td>2015</td><td>adult</td><td>293</td><td>bangladesh</td></tr><tr><td>2014</td><td>any</td><td>666</td><td>bangladesh</td></tr><tr><td>2014</td><td>child</td><td>393</td><td>bangladesh</td></tr><tr><td>2014</td><td>adult</td><td>244</td><td>bangladesh</td></tr><tr><td>2013</td><td>any</td><td>814</td><td>bangladesh</td></tr><tr><td>2013</td><td>child</td><td>452</td><td>bangladesh</td></tr><tr><td>2013</td><td>adult</td><td>336</td><td>bangladesh</td></tr><tr><td>2012</td><td>any</td><td>805</td><td>bangladesh</td></tr><tr><td>2012</td><td>child</td><td>473</td><td>bangladesh</td></tr><tr><td>2012</td><td>adult</td><td>299</td><td>bangladesh</td></tr><tr><td>2011</td><td>any</td><td>711</td><td>bangladesh</td></tr><tr><td>2011</td><td>child</td><td>450</td><td>bangladesh</td></tr><tr><td>2011</td><td>adult</td><td>246</td><td>bangladesh</td></tr><tr><td>2010</td><td>any</td><td>559</td><td>bangladesh</td></tr><tr><td>2010</td><td>child</td><td>311</td><td>bangladesh</td></tr><tr><td>2010</td><td>adult</td><td>248</td><td>bangladesh</td></tr><tr><td>2009</td><td>any</td><td>456</td><td>bangladesh</td></tr><tr><td>2009</td><td>child</td><td>243</td><td>bangladesh</td></tr><tr><td>2009</td><td>adult</td><td>213</td><td>bangladesh</td></tr><tr><td>2008</td><td>any</td><td>454</td><td>bangladesh</td></tr><tr><td>2008</td><td>child</td><td>252</td><td>bangladesh</td></tr><tr><td>2008</td><td>adult</td><td>202</td><td>bangladesh</td></tr><tr><td>2007</td><td>any</td><td>459</td><td>bangladesh</td></tr><tr><td>2007</td><td>child</td><td>246</td><td>bangladesh</td></tr><tr><td>2007</td><td>adult</td><td>213</td><td>bangladesh</td></tr><tr><td>2006</td><td>any</td><td>639</td><td>bangladesh</td></tr><tr><td>2006</td><td>child</td><td>227</td><td>bangladesh</td></tr><tr><td>2006</td><td>adult</td><td>412</td><td>bangladesh</td></tr><tr><td>2005</td><td>any</td><td>907</td><td>bangladesh</td></tr><tr><td>2005</td><td>child</td><td>319</td><td>bangladesh</td></tr><tr><td>2005</td><td>adult</td><td>588</td><td>bangladesh</td></tr><tr><td>2004</td><td>any</td><td>896</td><td>bangladesh</td></tr><tr><td>2004</td><td>child</td><td>327</td><td>bangladesh</td></tr><tr><td>2004</td><td>adult</td><td>569</td><td>bangladesh</td></tr><tr><td>2003</td><td>any</td><td>1336</td><td>bangladesh</td></tr><tr><td>2003</td><td>child</td><td>494</td><td>bangladesh</td></tr><tr><td>2003</td><td>adult</td><td>842</td><td>bangladesh</td></tr><tr><td>2002</td><td>any</td><td>1350</td><td>bangladesh</td></tr><tr><td>2002</td><td>child</td><td>602</td><td>bangladesh</td></tr><tr><td>2002</td><td>adult</td><td>748</td><td>bangladesh</td></tr><tr><td>2001</td><td>any</td><td>622</td><td>bangladesh</td></tr><tr><td>2001</td><td>child</td><td>138</td><td>bangladesh</td></tr><tr><td>2001</td><td>adult</td><td>484</td><td>bangladesh</td></tr></tbody></table></div>"
      ]
     },
     "metadata": {
      "application/vnd.databricks.v1+output": {
       "addedWidgets": {},
       "aggData": [],
       "aggError": "",
       "aggOverflow": false,
       "aggSchema": [],
       "aggSeriesLimitReached": false,
       "aggType": "",
       "arguments": {},
       "columnCustomDisplayInfos": {},
       "data": [
        [
         2021,
         "any",
         1411,
         "bangladesh"
        ],
        [
         2021,
         "child",
         809,
         "bangladesh"
        ],
        [
         2021,
         "adult",
         556,
         "bangladesh"
        ],
        [
         2020,
         "any",
         1538,
         "bangladesh"
        ],
        [
         2020,
         "child",
         919,
         "bangladesh"
        ],
        [
         2020,
         "adult",
         577,
         "bangladesh"
        ],
        [
         2019,
         "any",
         1080,
         "bangladesh"
        ],
        [
         2019,
         "child",
         737,
         "bangladesh"
        ],
        [
         2019,
         "adult",
         330,
         "bangladesh"
        ],
        [
         2018,
         "any",
         635,
         "bangladesh"
        ],
        [
         2018,
         "child",
         457,
         "bangladesh"
        ],
        [
         2018,
         "adult",
         176,
         "bangladesh"
        ],
        [
         2017,
         "any",
         783,
         "bangladesh"
        ],
        [
         2017,
         "child",
         553,
         "bangladesh"
        ],
        [
         2017,
         "adult",
         225,
         "bangladesh"
        ],
        [
         2016,
         "any",
         757,
         "bangladesh"
        ],
        [
         2016,
         "child",
         511,
         "bangladesh"
        ],
        [
         2016,
         "adult",
         232,
         "bangladesh"
        ],
        [
         2015,
         "any",
         789,
         "bangladesh"
        ],
        [
         2015,
         "child",
         479,
         "bangladesh"
        ],
        [
         2015,
         "adult",
         293,
         "bangladesh"
        ],
        [
         2014,
         "any",
         666,
         "bangladesh"
        ],
        [
         2014,
         "child",
         393,
         "bangladesh"
        ],
        [
         2014,
         "adult",
         244,
         "bangladesh"
        ],
        [
         2013,
         "any",
         814,
         "bangladesh"
        ],
        [
         2013,
         "child",
         452,
         "bangladesh"
        ],
        [
         2013,
         "adult",
         336,
         "bangladesh"
        ],
        [
         2012,
         "any",
         805,
         "bangladesh"
        ],
        [
         2012,
         "child",
         473,
         "bangladesh"
        ],
        [
         2012,
         "adult",
         299,
         "bangladesh"
        ],
        [
         2011,
         "any",
         711,
         "bangladesh"
        ],
        [
         2011,
         "child",
         450,
         "bangladesh"
        ],
        [
         2011,
         "adult",
         246,
         "bangladesh"
        ],
        [
         2010,
         "any",
         559,
         "bangladesh"
        ],
        [
         2010,
         "child",
         311,
         "bangladesh"
        ],
        [
         2010,
         "adult",
         248,
         "bangladesh"
        ],
        [
         2009,
         "any",
         456,
         "bangladesh"
        ],
        [
         2009,
         "child",
         243,
         "bangladesh"
        ],
        [
         2009,
         "adult",
         213,
         "bangladesh"
        ],
        [
         2008,
         "any",
         454,
         "bangladesh"
        ],
        [
         2008,
         "child",
         252,
         "bangladesh"
        ],
        [
         2008,
         "adult",
         202,
         "bangladesh"
        ],
        [
         2007,
         "any",
         459,
         "bangladesh"
        ],
        [
         2007,
         "child",
         246,
         "bangladesh"
        ],
        [
         2007,
         "adult",
         213,
         "bangladesh"
        ],
        [
         2006,
         "any",
         639,
         "bangladesh"
        ],
        [
         2006,
         "child",
         227,
         "bangladesh"
        ],
        [
         2006,
         "adult",
         412,
         "bangladesh"
        ],
        [
         2005,
         "any",
         907,
         "bangladesh"
        ],
        [
         2005,
         "child",
         319,
         "bangladesh"
        ],
        [
         2005,
         "adult",
         588,
         "bangladesh"
        ],
        [
         2004,
         "any",
         896,
         "bangladesh"
        ],
        [
         2004,
         "child",
         327,
         "bangladesh"
        ],
        [
         2004,
         "adult",
         569,
         "bangladesh"
        ],
        [
         2003,
         "any",
         1336,
         "bangladesh"
        ],
        [
         2003,
         "child",
         494,
         "bangladesh"
        ],
        [
         2003,
         "adult",
         842,
         "bangladesh"
        ],
        [
         2002,
         "any",
         1350,
         "bangladesh"
        ],
        [
         2002,
         "child",
         602,
         "bangladesh"
        ],
        [
         2002,
         "adult",
         748,
         "bangladesh"
        ],
        [
         2001,
         "any",
         622,
         "bangladesh"
        ],
        [
         2001,
         "child",
         138,
         "bangladesh"
        ],
        [
         2001,
         "adult",
         484,
         "bangladesh"
        ]
       ],
       "datasetInfos": [],
       "dbfsResultPath": null,
       "isJsonSchema": true,
       "metadata": {},
       "overflow": false,
       "plotOptions": {
        "customPlotOptions": {},
        "displayType": "table",
        "pivotAggregation": null,
        "pivotColumns": null,
        "xColumns": null,
        "yColumns": null
       },
       "removedWidgets": [],
       "schema": [
        {
         "metadata": "{}",
         "name": "year",
         "type": "\"integer\""
        },
        {
         "metadata": "{}",
         "name": "age_group",
         "type": "\"string\""
        },
        {
         "metadata": "{}",
         "name": "total_cases",
         "type": "\"integer\""
        },
        {
         "metadata": "{}",
         "name": "country",
         "type": "\"string\""
        }
       ],
       "type": "table"
      }
     },
     "output_type": "display_data"
    }
   ],
   "source": [
    "age_group_dict = {\n",
    "    'children':'child',\n",
    "    'women':'adult',\n",
    "    'Total_victims':'any'\n",
    "}\n",
    "bangladesh_df_melted.replace(\n",
    "    age_group_dict,\n",
    "    subset=['age_group'],\n",
    ").withColumn(\n",
    "    'country', F.lit('bangladesh'),\n",
    ").select(\n",
    "    F.col('Years').alias('year'),\n",
    "    F.col('age_group'),\n",
    "    F.col('total_cases'),\n",
    "    F.col('country'),\n",
    ").limit(20).display()"
   ]
  }
 ],
 "metadata": {
  "application/vnd.databricks.v1+notebook": {
   "computePreferences": null,
   "dashboards": [],
   "environmentMetadata": {
    "base_environment": "",
    "environment_version": "1"
   },
   "language": "python",
   "notebookMetadata": {
    "pythonIndentUnit": 4
   },
   "notebookName": "silver_rape_bangladesh",
   "widgets": {}
  },
  "language_info": {
   "name": "python"
  }
 },
 "nbformat": 4,
 "nbformat_minor": 0
}
