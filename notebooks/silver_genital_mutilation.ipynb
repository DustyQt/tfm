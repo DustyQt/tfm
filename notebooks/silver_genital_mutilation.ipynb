{
 "cells": [
  {
   "cell_type": "code",
   "execution_count": 0,
   "metadata": {
    "application/vnd.databricks.v1+cell": {
     "cellMetadata": {
      "byteLimit": 2048000,
      "rowLimit": 10000
     },
     "inputWidgets": {},
     "nuid": "8ef9aae6-bd26-4bbb-a55a-b6e4a75d6131",
     "showTitle": false,
     "tableResultSettingsMap": {},
     "title": ""
    }
   },
   "outputs": [],
   "source": [
    "import pyspark.sql.functions as F\n",
    "\n",
    "gm_df = spark.table('hive_metastore.google_drive.xls_fgm_women_prevalence_database_mar_2024_women_fgm')\n",
    "gm_df.limit(20).display()"
   ]
  },
  {
   "cell_type": "markdown",
   "metadata": {
    "application/vnd.databricks.v1+cell": {
     "cellMetadata": {},
     "inputWidgets": {},
     "nuid": "6707e055-c04c-4e88-87e8-4f7dcf504fcd",
     "showTitle": false,
     "tableResultSettingsMap": {},
     "title": ""
    }
   },
   "source": [
    "there are very little countries with multiple records per year so we will just include the countries in any year"
   ]
  },
  {
   "cell_type": "code",
   "execution_count": 0,
   "metadata": {
    "application/vnd.databricks.v1+cell": {
     "cellMetadata": {
      "byteLimit": 2048000,
      "rowLimit": 10000
     },
     "inputWidgets": {},
     "nuid": "78fa5ca1-25ab-4249-807a-128973a0bff2",
     "showTitle": false,
     "tableResultSettingsMap": {},
     "title": ""
    }
   },
   "outputs": [],
   "source": [
    "gm_df_filtered = gm_df.withColumn(\n",
    "    'country', F.lower(F.col('country')),\n",
    ").where(\n",
    "    F.col('total_perc') != '-',\n",
    ").select(\n",
    "    F.col('country'),\n",
    "    F.col('urban_perc'),\n",
    "    F.col('rural_perc'),\n",
    "    F.col('richest_perc'),\n",
    "    F.col('poores_perc').alias('poorest_perc'),\n",
    "    F.col('total_perc'),\n",
    ")\n",
    "gm_df_filtered.limit(20).display()"
   ]
  }
 ],
 "metadata": {
  "application/vnd.databricks.v1+notebook": {
   "computePreferences": null,
   "dashboards": [],
   "environmentMetadata": {
    "base_environment": "",
    "environment_version": "1"
   },
   "language": "python",
   "notebookMetadata": {
    "pythonIndentUnit": 4
   },
   "notebookName": "silver_genital_mutilation",
   "widgets": {}
  },
  "language_info": {
   "name": "python"
  }
 },
 "nbformat": 4,
 "nbformat_minor": 0
}
