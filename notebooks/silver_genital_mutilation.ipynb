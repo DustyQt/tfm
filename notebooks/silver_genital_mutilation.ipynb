{
 "cells": [
  {
   "cell_type": "code",
   "execution_count": 0,
   "metadata": {
    "application/vnd.databricks.v1+cell": {
     "cellMetadata": {
      "byteLimit": 2048000,
      "rowLimit": 10000
     },
     "inputWidgets": {},
     "nuid": "8ef9aae6-bd26-4bbb-a55a-b6e4a75d6131",
     "showTitle": false,
     "tableResultSettingsMap": {},
     "title": ""
    }
   },
   "outputs": [
    {
     "output_type": "display_data",
     "data": {
      "text/html": [
       "<style scoped>\n",
       "  .table-result-container {\n",
       "    max-height: 300px;\n",
       "    overflow: auto;\n",
       "  }\n",
       "  table, th, td {\n",
       "    border: 1px solid black;\n",
       "    border-collapse: collapse;\n",
       "  }\n",
       "  th, td {\n",
       "    padding: 5px;\n",
       "  }\n",
       "  th {\n",
       "    text-align: left;\n",
       "  }\n",
       "</style><div class='table-result-container'><table class='table-result'><thead style='background-color: white'><tr><th>_line</th><th>_fivetran_synced</th><th>second_perc</th><th>total_perc</th><th>rural_perc</th><th>reference_year</th><th>fourth_perc</th><th>country</th><th>middle_perc</th><th>richest_perc</th><th>urban_perc</th><th>data_source</th><th>poores_perc</th></tr></thead><tbody><tr><td>91</td><td>2025-01-25T03:14:41.862Z</td><td>-</td><td>-</td><td>-</td><td>-</td><td>-</td><td>Kazakhstan</td><td>-</td><td>-</td><td>-</td><td>-</td><td>-</td></tr><tr><td>22</td><td>2025-01-25T03:14:41.803Z</td><td>-</td><td>-</td><td>-</td><td>-</td><td>-</td><td>Bosnia and Herzegovina</td><td>-</td><td>-</td><td>-</td><td>-</td><td>-</td></tr><tr><td>209</td><td>2025-01-25T03:14:42.186Z</td><td>-</td><td>-</td><td>-</td><td>-</td><td>-</td><td>Middle East and North Africa</td><td>-</td><td>-</td><td>-</td><td>-</td><td>-</td></tr><tr><td>140</td><td>2025-01-25T03:14:41.959Z</td><td>-</td><td>-</td><td>-</td><td>-</td><td>-</td><td>Peru</td><td>-</td><td>-</td><td>-</td><td>-</td><td>-</td></tr><tr><td>59</td><td>2025-01-25T03:14:41.82Z</td><td>-</td><td>-</td><td>-</td><td>-</td><td>-</td><td>Estonia</td><td>-</td><td>-</td><td>-</td><td>-</td><td>-</td></tr><tr><td>177</td><td>2025-01-25T03:14:42.032Z</td><td>-</td><td>-</td><td>-</td><td>-</td><td>-</td><td>Thailand</td><td>-</td><td>-</td><td>-</td><td>-</td><td>-</td></tr><tr><td>96</td><td>2025-01-25T03:14:41.864Z</td><td>-</td><td>-</td><td>-</td><td>-</td><td>-</td><td>Lao People's Democratic Republic</td><td>-</td><td>-</td><td>-</td><td>-</td><td>-</td></tr><tr><td>27</td><td>2025-01-25T03:14:41.804Z</td><td>-</td><td>-</td><td>-</td><td>-</td><td>-</td><td>Bulgaria</td><td>-</td><td>-</td><td>-</td><td>-</td><td>-</td></tr><tr><td>214</td><td>2025-01-25T03:14:42.19Z</td><td>26.913</td><td>27.672</td><td>29.423</td><td>2014-22</td><td>29.071</td><td>   West and Central Africa</td><td>29.465</td><td>26.171</td><td>26.643</td><td>DHSMICS and other national surveys</td><td>27.28</td></tr><tr><td>145</td><td>2025-01-25T03:14:41.974Z</td><td>-</td><td>-</td><td>-</td><td>-</td><td>-</td><td>Republic of Korea</td><td>-</td><td>-</td><td>-</td><td>-</td><td>-</td></tr><tr><td>64</td><td>2025-01-25T03:14:41.822Z</td><td>-</td><td>-</td><td>-</td><td>-</td><td>-</td><td>France</td><td>-</td><td>-</td><td>-</td><td>-</td><td>-</td></tr><tr><td>182</td><td>2025-01-25T03:14:42.033Z</td><td>-</td><td>-</td><td>-</td><td>-</td><td>-</td><td>Trinidad and Tobago</td><td>-</td><td>-</td><td>-</td><td>-</td><td>-</td></tr><tr><td>101</td><td>2025-01-25T03:14:41.916Z</td><td>-</td><td>-</td><td>-</td><td>-</td><td>-</td><td>Libya</td><td>-</td><td>-</td><td>-</td><td>-</td><td>-</td></tr><tr><td>32</td><td>2025-01-25T03:14:41.806Z</td><td>4</td><td>1.4</td><td>2.1</td><td>2004</td><td>0.9</td><td>Cameroon</td><td>1</td><td>0.7</td><td>0.9</td><td>DHS 2004</td><td>1.3</td></tr><tr><td>150</td><td>2025-01-25T03:14:41.975Z</td><td>-</td><td>-</td><td>-</td><td>-</td><td>-</td><td>Saint Kitts and Nevis</td><td>-</td><td>-</td><td>-</td><td>-</td><td>-</td></tr><tr><td>69</td><td>2025-01-25T03:14:41.824Z</td><td>2.1</td><td>2.4</td><td>3.6</td><td>2017-18</td><td>0.9</td><td>Ghana</td><td>1.7</td><td>1</td><td>1.2</td><td>MICS 2017-18</td><td>7.3</td></tr><tr><td>0</td><td>2025-01-25T03:14:41.638Z</td><td>-</td><td>-</td><td>-</td><td>-</td><td>-</td><td>Afghanistan</td><td>-</td><td>-</td><td>-</td><td>-</td><td>-</td></tr><tr><td>187</td><td>2025-01-25T03:14:42.096Z</td><td>-</td><td>-</td><td>-</td><td>-</td><td>-</td><td>Tuvalu</td><td>-</td><td>-</td><td>-</td><td>-</td><td>-</td></tr><tr><td>106</td><td>2025-01-25T03:14:41.917Z</td><td>-</td><td>-</td><td>-</td><td>-</td><td>-</td><td>Malawi</td><td>-</td><td>-</td><td>-</td><td>-</td><td>-</td></tr><tr><td>37</td><td>2025-01-25T03:14:41.809Z</td><td>-</td><td>-</td><td>-</td><td>-</td><td>-</td><td>China</td><td>-</td><td>-</td><td>-</td><td>-</td><td>-</td></tr></tbody></table></div>"
      ]
     },
     "metadata": {
      "application/vnd.databricks.v1+output": {
       "addedWidgets": {},
       "aggData": [],
       "aggError": "",
       "aggOverflow": false,
       "aggSchema": [],
       "aggSeriesLimitReached": false,
       "aggType": "",
       "arguments": {},
       "columnCustomDisplayInfos": {},
       "data": [
        [
         91,
         "2025-01-25T03:14:41.862Z",
         "-",
         "-",
         "-",
         "-",
         "-",
         "Kazakhstan",
         "-",
         "-",
         "-",
         "-",
         "-"
        ],
        [
         22,
         "2025-01-25T03:14:41.803Z",
         "-",
         "-",
         "-",
         "-",
         "-",
         "Bosnia and Herzegovina",
         "-",
         "-",
         "-",
         "-",
         "-"
        ],
        [
         209,
         "2025-01-25T03:14:42.186Z",
         "-",
         "-",
         "-",
         "-",
         "-",
         "Middle East and North Africa",
         "-",
         "-",
         "-",
         "-",
         "-"
        ],
        [
         140,
         "2025-01-25T03:14:41.959Z",
         "-",
         "-",
         "-",
         "-",
         "-",
         "Peru",
         "-",
         "-",
         "-",
         "-",
         "-"
        ],
        [
         59,
         "2025-01-25T03:14:41.82Z",
         "-",
         "-",
         "-",
         "-",
         "-",
         "Estonia",
         "-",
         "-",
         "-",
         "-",
         "-"
        ],
        [
         177,
         "2025-01-25T03:14:42.032Z",
         "-",
         "-",
         "-",
         "-",
         "-",
         "Thailand",
         "-",
         "-",
         "-",
         "-",
         "-"
        ],
        [
         96,
         "2025-01-25T03:14:41.864Z",
         "-",
         "-",
         "-",
         "-",
         "-",
         "Lao People's Democratic Republic",
         "-",
         "-",
         "-",
         "-",
         "-"
        ],
        [
         27,
         "2025-01-25T03:14:41.804Z",
         "-",
         "-",
         "-",
         "-",
         "-",
         "Bulgaria",
         "-",
         "-",
         "-",
         "-",
         "-"
        ],
        [
         214,
         "2025-01-25T03:14:42.19Z",
         "26.913",
         "27.672",
         "29.423",
         "2014-22",
         "29.071",
         "   West and Central Africa",
         "29.465",
         "26.171",
         "26.643",
         "DHSMICS and other national surveys",
         "27.28"
        ],
        [
         145,
         "2025-01-25T03:14:41.974Z",
         "-",
         "-",
         "-",
         "-",
         "-",
         "Republic of Korea",
         "-",
         "-",
         "-",
         "-",
         "-"
        ],
        [
         64,
         "2025-01-25T03:14:41.822Z",
         "-",
         "-",
         "-",
         "-",
         "-",
         "France",
         "-",
         "-",
         "-",
         "-",
         "-"
        ],
        [
         182,
         "2025-01-25T03:14:42.033Z",
         "-",
         "-",
         "-",
         "-",
         "-",
         "Trinidad and Tobago",
         "-",
         "-",
         "-",
         "-",
         "-"
        ],
        [
         101,
         "2025-01-25T03:14:41.916Z",
         "-",
         "-",
         "-",
         "-",
         "-",
         "Libya",
         "-",
         "-",
         "-",
         "-",
         "-"
        ],
        [
         32,
         "2025-01-25T03:14:41.806Z",
         "4",
         "1.4",
         "2.1",
         "2004",
         "0.9",
         "Cameroon",
         "1",
         "0.7",
         "0.9",
         "DHS 2004",
         "1.3"
        ],
        [
         150,
         "2025-01-25T03:14:41.975Z",
         "-",
         "-",
         "-",
         "-",
         "-",
         "Saint Kitts and Nevis",
         "-",
         "-",
         "-",
         "-",
         "-"
        ],
        [
         69,
         "2025-01-25T03:14:41.824Z",
         "2.1",
         "2.4",
         "3.6",
         "2017-18",
         "0.9",
         "Ghana",
         "1.7",
         "1",
         "1.2",
         "MICS 2017-18",
         "7.3"
        ],
        [
         0,
         "2025-01-25T03:14:41.638Z",
         "-",
         "-",
         "-",
         "-",
         "-",
         "Afghanistan",
         "-",
         "-",
         "-",
         "-",
         "-"
        ],
        [
         187,
         "2025-01-25T03:14:42.096Z",
         "-",
         "-",
         "-",
         "-",
         "-",
         "Tuvalu",
         "-",
         "-",
         "-",
         "-",
         "-"
        ],
        [
         106,
         "2025-01-25T03:14:41.917Z",
         "-",
         "-",
         "-",
         "-",
         "-",
         "Malawi",
         "-",
         "-",
         "-",
         "-",
         "-"
        ],
        [
         37,
         "2025-01-25T03:14:41.809Z",
         "-",
         "-",
         "-",
         "-",
         "-",
         "China",
         "-",
         "-",
         "-",
         "-",
         "-"
        ]
       ],
       "datasetInfos": [],
       "dbfsResultPath": null,
       "isJsonSchema": true,
       "metadata": {},
       "overflow": false,
       "plotOptions": {
        "customPlotOptions": {},
        "displayType": "table",
        "pivotAggregation": null,
        "pivotColumns": null,
        "xColumns": null,
        "yColumns": null
       },
       "removedWidgets": [],
       "schema": [
        {
         "metadata": "{}",
         "name": "_line",
         "type": "\"long\""
        },
        {
         "metadata": "{}",
         "name": "_fivetran_synced",
         "type": "\"timestamp\""
        },
        {
         "metadata": "{}",
         "name": "second_perc",
         "type": "\"string\""
        },
        {
         "metadata": "{}",
         "name": "total_perc",
         "type": "\"string\""
        },
        {
         "metadata": "{}",
         "name": "rural_perc",
         "type": "\"string\""
        },
        {
         "metadata": "{}",
         "name": "reference_year",
         "type": "\"string\""
        },
        {
         "metadata": "{}",
         "name": "fourth_perc",
         "type": "\"string\""
        },
        {
         "metadata": "{}",
         "name": "country",
         "type": "\"string\""
        },
        {
         "metadata": "{}",
         "name": "middle_perc",
         "type": "\"string\""
        },
        {
         "metadata": "{}",
         "name": "richest_perc",
         "type": "\"string\""
        },
        {
         "metadata": "{}",
         "name": "urban_perc",
         "type": "\"string\""
        },
        {
         "metadata": "{}",
         "name": "data_source",
         "type": "\"string\""
        },
        {
         "metadata": "{}",
         "name": "poores_perc",
         "type": "\"string\""
        }
       ],
       "type": "table"
      }
     },
     "output_type": "display_data"
    }
   ],
   "source": [
    "import pyspark.sql.functions as F\n",
    "\n",
    "gm_df = spark.table('hive_metastore.google_drive.xls_fgm_women_prevalence_database_mar_2024_women_fgm')\n",
    "gm_df.limit(20).display()"
   ]
  },
  {
   "cell_type": "markdown",
   "metadata": {
    "application/vnd.databricks.v1+cell": {
     "cellMetadata": {
      "byteLimit": 2048000,
      "rowLimit": 10000
     },
     "inputWidgets": {},
     "nuid": "6707e055-c04c-4e88-87e8-4f7dcf504fcd",
     "showTitle": false,
     "tableResultSettingsMap": {},
     "title": ""
    }
   },
   "source": [
    "there are very little countries with multiple records per year so we will just include the countries in any year"
   ]
  },
  {
   "cell_type": "code",
   "execution_count": 0,
   "metadata": {
    "application/vnd.databricks.v1+cell": {
     "cellMetadata": {
      "byteLimit": 2048000,
      "rowLimit": 10000
     },
     "inputWidgets": {},
     "nuid": "78fa5ca1-25ab-4249-807a-128973a0bff2",
     "showTitle": false,
     "tableResultSettingsMap": {},
     "title": ""
    }
   },
   "outputs": [
    {
     "output_type": "display_data",
     "data": {
      "text/html": [
       "<style scoped>\n",
       "  .table-result-container {\n",
       "    max-height: 300px;\n",
       "    overflow: auto;\n",
       "  }\n",
       "  table, th, td {\n",
       "    border: 1px solid black;\n",
       "    border-collapse: collapse;\n",
       "  }\n",
       "  th, td {\n",
       "    padding: 5px;\n",
       "  }\n",
       "  th {\n",
       "    text-align: left;\n",
       "  }\n",
       "</style><div class='table-result-container'><table class='table-result'><thead style='background-color: white'><tr><th>country</th><th>urban_perc</th><th>rural_perc</th><th>richest_perc</th><th>poorest_perc</th><th>total_perc</th></tr></thead><tbody><tr><td>   west and central africa</td><td>26.643</td><td>29.423</td><td>26.171</td><td>27.28</td><td>27.672</td></tr><tr><td>cameroon</td><td>0.9</td><td>2.1</td><td>0.7</td><td>1.3</td><td>1.4</td></tr><tr><td>ghana</td><td>1.2</td><td>3.6</td><td>1</td><td>7.3</td><td>2.4</td></tr><tr><td>guinea-bissau</td><td>42.7</td><td>58.6</td><td>37.7</td><td>41.2</td><td>52.1</td></tr><tr><td>united republic of tanzania</td><td>3.5</td><td>10.7</td><td>3.1</td><td>19.6</td><td>8.2</td></tr><tr><td>sierra leone</td><td>76.4</td><td>88.7</td><td>72.2</td><td>90.3</td><td>83</td></tr><tr><td>somalia</td><td>99</td><td>99.4</td><td>98.6</td><td>99.3</td><td>99.2</td></tr><tr><td>iraq</td><td>7</td><td>8.3</td><td>21.7</td><td>1.4</td><td>7.4</td></tr><tr><td>sub-saharan africa</td><td>30.488</td><td>37.862</td><td>31.669</td><td>36.675</td><td>34.627</td></tr><tr><td>chad</td><td>32.2</td><td>34.6</td><td>30.3</td><td>40.8</td><td>34.1</td></tr><tr><td>mali</td><td>89.2</td><td>88.4</td><td>90.4</td><td>86.5</td><td>88.6</td></tr><tr><td>egypt</td><td>77.4</td><td>92.6</td><td>69.8</td><td>94.4</td><td>87.2</td></tr><tr><td>kenya</td><td>9.7</td><td>18.4</td><td>6.6</td><td>32</td><td>14.8</td></tr><tr><td>burkina faso</td><td>50.2</td><td>58.9</td><td>46.9</td><td>59.3</td><td>56.1</td></tr><tr><td>uganda</td><td>0.2</td><td>0.4</td><td>0.1</td><td>1</td><td>0.3</td></tr><tr><td>mauritania</td><td>51.3</td><td>77.1</td><td>38.1</td><td>83.5</td><td>63.9</td></tr><tr><td>côte d'ivoire</td><td>30.8</td><td>43.8</td><td>20</td><td>50</td><td>36.7</td></tr><tr><td>niger</td><td>1.2</td><td>2.1</td><td>1</td><td>1.7</td><td>2</td></tr><tr><td>sudan</td><td>85.5</td><td>87.2</td><td>91.6</td><td>88</td><td>86.6</td></tr><tr><td>eritrea</td><td>80</td><td>85</td><td>75.2</td><td>89.4</td><td>83</td></tr></tbody></table></div>"
      ]
     },
     "metadata": {
      "application/vnd.databricks.v1+output": {
       "addedWidgets": {},
       "aggData": [],
       "aggError": "",
       "aggOverflow": false,
       "aggSchema": [],
       "aggSeriesLimitReached": false,
       "aggType": "",
       "arguments": {},
       "columnCustomDisplayInfos": {},
       "data": [
        [
         "   west and central africa",
         "26.643",
         "29.423",
         "26.171",
         "27.28",
         "27.672"
        ],
        [
         "cameroon",
         "0.9",
         "2.1",
         "0.7",
         "1.3",
         "1.4"
        ],
        [
         "ghana",
         "1.2",
         "3.6",
         "1",
         "7.3",
         "2.4"
        ],
        [
         "guinea-bissau",
         "42.7",
         "58.6",
         "37.7",
         "41.2",
         "52.1"
        ],
        [
         "united republic of tanzania",
         "3.5",
         "10.7",
         "3.1",
         "19.6",
         "8.2"
        ],
        [
         "sierra leone",
         "76.4",
         "88.7",
         "72.2",
         "90.3",
         "83"
        ],
        [
         "somalia",
         "99",
         "99.4",
         "98.6",
         "99.3",
         "99.2"
        ],
        [
         "iraq",
         "7",
         "8.3",
         "21.7",
         "1.4",
         "7.4"
        ],
        [
         "sub-saharan africa",
         "30.488",
         "37.862",
         "31.669",
         "36.675",
         "34.627"
        ],
        [
         "chad",
         "32.2",
         "34.6",
         "30.3",
         "40.8",
         "34.1"
        ],
        [
         "mali",
         "89.2",
         "88.4",
         "90.4",
         "86.5",
         "88.6"
        ],
        [
         "egypt",
         "77.4",
         "92.6",
         "69.8",
         "94.4",
         "87.2"
        ],
        [
         "kenya",
         "9.7",
         "18.4",
         "6.6",
         "32",
         "14.8"
        ],
        [
         "burkina faso",
         "50.2",
         "58.9",
         "46.9",
         "59.3",
         "56.1"
        ],
        [
         "uganda",
         "0.2",
         "0.4",
         "0.1",
         "1",
         "0.3"
        ],
        [
         "mauritania",
         "51.3",
         "77.1",
         "38.1",
         "83.5",
         "63.9"
        ],
        [
         "côte d'ivoire",
         "30.8",
         "43.8",
         "20",
         "50",
         "36.7"
        ],
        [
         "niger",
         "1.2",
         "2.1",
         "1",
         "1.7",
         "2"
        ],
        [
         "sudan",
         "85.5",
         "87.2",
         "91.6",
         "88",
         "86.6"
        ],
        [
         "eritrea",
         "80",
         "85",
         "75.2",
         "89.4",
         "83"
        ]
       ],
       "datasetInfos": [],
       "dbfsResultPath": null,
       "isJsonSchema": true,
       "metadata": {},
       "overflow": false,
       "plotOptions": {
        "customPlotOptions": {},
        "displayType": "table",
        "pivotAggregation": null,
        "pivotColumns": null,
        "xColumns": null,
        "yColumns": null
       },
       "removedWidgets": [],
       "schema": [
        {
         "metadata": "{}",
         "name": "country",
         "type": "\"string\""
        },
        {
         "metadata": "{}",
         "name": "urban_perc",
         "type": "\"string\""
        },
        {
         "metadata": "{}",
         "name": "rural_perc",
         "type": "\"string\""
        },
        {
         "metadata": "{}",
         "name": "richest_perc",
         "type": "\"string\""
        },
        {
         "metadata": "{}",
         "name": "poorest_perc",
         "type": "\"string\""
        },
        {
         "metadata": "{}",
         "name": "total_perc",
         "type": "\"string\""
        }
       ],
       "type": "table"
      }
     },
     "output_type": "display_data"
    }
   ],
   "source": [
    "gm_df_filtered = gm_df.withColumn(\n",
    "    'country', F.lower(F.col('country')),\n",
    ").where(\n",
    "    F.col('total_perc') != '-',\n",
    ").select(\n",
    "    F.col('country'),\n",
    "    F.col('urban_perc'),\n",
    "    F.col('rural_perc'),\n",
    "    F.col('richest_perc'),\n",
    "    F.col('poores_perc').alias('poorest_perc'),\n",
    "    F.col('total_perc'),\n",
    ")\n",
    "gm_df_filtered.limit(20).display()"
   ]
  }
 ],
 "metadata": {
  "application/vnd.databricks.v1+notebook": {
   "computePreferences": null,
   "dashboards": [],
   "environmentMetadata": {
    "base_environment": "",
    "environment_version": "1"
   },
   "language": "python",
   "notebookMetadata": {
    "pythonIndentUnit": 4
   },
   "notebookName": "silver_genital_mutilation",
   "widgets": {}
  },
  "language_info": {
   "name": "python"
  }
 },
 "nbformat": 4,
 "nbformat_minor": 0
}
