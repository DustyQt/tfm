{
 "cells": [
  {
   "cell_type": "code",
   "execution_count": 0,
   "metadata": {
    "application/vnd.databricks.v1+cell": {
     "cellMetadata": {
      "byteLimit": 2048000,
      "rowLimit": 10000
     },
     "inputWidgets": {},
     "nuid": "8ef9aae6-bd26-4bbb-a55a-b6e4a75d6131",
     "showTitle": false,
     "tableResultSettingsMap": {},
     "title": ""
    }
   },
   "outputs": [
    {
     "output_type": "display_data",
     "data": {
      "text/html": [
       "<style scoped>\n",
       "  .table-result-container {\n",
       "    max-height: 300px;\n",
       "    overflow: auto;\n",
       "  }\n",
       "  table, th, td {\n",
       "    border: 1px solid black;\n",
       "    border-collapse: collapse;\n",
       "  }\n",
       "  th, td {\n",
       "    padding: 5px;\n",
       "  }\n",
       "  th {\n",
       "    text-align: left;\n",
       "  }\n",
       "</style><div class='table-result-container'><table class='table-result'><thead style='background-color: white'><tr><th>_fivetran_id</th><th>dd</th><th>rape</th><th>dv</th><th>year</th><th>state</th><th>ka</th><th>aow</th><th>id</th><th>wt</th><th>aom</th><th>_fivetran_deleted</th><th>_fivetran_synced</th></tr></thead><tbody><tr><td>0717E9B95BB0D9A2</td><td>0</td><td>1</td><td>4</td><td>2017</td><td>D&N Haveli</td><td>0</td><td>3</td><td>587</td><td>0</td><td>0</td><td>false</td><td>2025-01-25T02:58:06.434Z</td></tr><tr><td>07FB535288990BDC</td><td>60</td><td>1095</td><td>1808</td><td>2003</td><td>ASSAM</td><td>1351</td><td>878</td><td>70</td><td>0</td><td>6</td><td>false</td><td>2025-01-25T02:58:06.415Z</td></tr><tr><td>0D18037FE78B9DBE</td><td>0</td><td>5</td><td>6</td><td>2014</td><td>D&N Haveli</td><td>7</td><td>2</td><td>479</td><td>0</td><td>0</td><td>false</td><td>2025-01-25T02:58:06.432Z</td></tr><tr><td>0C6732E11F444FB8</td><td>278</td><td>1109</td><td>1002</td><td>2016</td><td>Jharkhand</td><td>693</td><td>667</td><td>530</td><td>0</td><td>373</td><td>false</td><td>2025-01-25T02:58:06.433Z</td></tr><tr><td>0EF62A18F763D27B</td><td>0</td><td>75</td><td>21</td><td>2021</td><td>Manipur</td><td>42</td><td>92</td><td>715</td><td>3</td><td>24</td><td>false</td><td>2025-01-25T02:58:06.436Z</td></tr><tr><td>02E3CFDEF26FC659</td><td>0</td><td>6</td><td>15</td><td>2016</td><td>Puducherry</td><td>11</td><td>43</td><td>555</td><td>0</td><td>13</td><td>false</td><td>2025-01-25T02:58:06.433Z</td></tr><tr><td>085AB4BAF4DF8A49</td><td>1</td><td>4</td><td>2</td><td>2020</td><td>Mizoram</td><td>6</td><td>7</td><td>681</td><td>0</td><td>2</td><td>false</td><td>2025-01-25T02:58:06.435Z</td></tr><tr><td>0E3D9181C391CA79</td><td>130</td><td>442</td><td>801</td><td>2006</td><td>PUNJAB</td><td>418</td><td>314</td><td>190</td><td>2</td><td>60</td><td>false</td><td>2025-01-25T02:58:06.423Z</td></tr><tr><td>0F6812CC09E7ECBA</td><td>53</td><td>841</td><td>5991</td><td>2014</td><td>Gujarat</td><td>2187</td><td>1352</td><td>454</td><td>45</td><td>405</td><td>false</td><td>2025-01-25T02:58:06.431Z</td></tr><tr><td>0A84CD115D685614</td><td>1</td><td>26</td><td>3</td><td>2016</td><td>Nagaland</td><td>50</td><td>14</td><td>538</td><td>0</td><td>6</td><td>false</td><td>2025-01-25T02:58:06.433Z</td></tr><tr><td>0FF084E091747A56</td><td>269</td><td>488</td><td>2412</td><td>2007</td><td>HARYANA</td><td>554</td><td>417</td><td>211</td><td>0</td><td>409</td><td>false</td><td>2025-01-25T02:58:06.424Z</td></tr><tr><td>003FE32B72026FDE</td><td>58</td><td>319</td><td>1256</td><td>2016</td><td>Tamil Nadu</td><td>1043</td><td>854</td><td>543</td><td>432</td><td>115</td><td>false</td><td>2025-01-25T02:58:06.433Z</td></tr><tr><td>0B5E0130BA867DE3</td><td>16</td><td>108</td><td>236</td><td>2002</td><td>TRIPURA</td><td>48</td><td>128</td><td>58</td><td>0</td><td>0</td><td>false</td><td>2025-01-25T02:58:06.414Z</td></tr><tr><td>0718F095A0595CD9</td><td>76</td><td>1036</td><td>732</td><td>2019</td><td>Chhattisgarh</td><td>2033</td><td>1316</td><td>632</td><td>12</td><td>232</td><td>false</td><td>2025-01-25T02:58:06.434Z</td></tr><tr><td>0E7DA4DBAAC8AD0A</td><td>0</td><td>38</td><td>0</td><td>2002</td><td>MEGHALAYA</td><td>10</td><td>23</td><td>50</td><td>0</td><td>0</td><td>false</td><td>2025-01-25T02:58:06.413Z</td></tr><tr><td>0584227E37FEFB99</td><td>0</td><td>5</td><td>1</td><td>2013</td><td>D&N Haveli</td><td>11</td><td>1</td><td>443</td><td>2</td><td>1</td><td>false</td><td>2025-01-25T02:58:06.431Z</td></tr><tr><td>02C5032534748537</td><td>198</td><td>1733</td><td>12950</td><td>2021</td><td>Assam</td><td>5739</td><td>4499</td><td>702</td><td>22</td><td>184</td><td>false</td><td>2025-01-25T02:58:06.436Z</td></tr><tr><td>02E4FE22224D2BD7</td><td>303</td><td>1352</td><td>5353</td><td>2002</td><td>MAHARASHTRA</td><td>650</td><td>2686</td><td>48</td><td>0</td><td>769</td><td>false</td><td>2025-01-25T02:58:06.413Z</td></tr><tr><td>0D0595E69BE2E66B</td><td>170</td><td>1631</td><td>4398</td><td>2009</td><td>ASSAM</td><td>2092</td><td>1342</td><td>274</td><td>1</td><td>10</td><td>false</td><td>2025-01-25T02:58:06.426Z</td></tr><tr><td>02173CC52A7011D9</td><td>439</td><td>1355</td><td>8113</td><td>2008</td><td>RAJASTHAN</td><td>1863</td><td>2520</td><td>259</td><td>0</td><td>19</td><td>false</td><td>2025-01-25T02:58:06.426Z</td></tr></tbody></table></div>"
      ]
     },
     "metadata": {
      "application/vnd.databricks.v1+output": {
       "addedWidgets": {},
       "aggData": [],
       "aggError": "",
       "aggOverflow": false,
       "aggSchema": [],
       "aggSeriesLimitReached": false,
       "aggType": "",
       "arguments": {},
       "columnCustomDisplayInfos": {},
       "data": [
        [
         "0717E9B95BB0D9A2",
         0,
         1,
         4,
         2017,
         "D&N Haveli",
         0,
         3,
         587,
         "0",
         0,
         false,
         "2025-01-25T02:58:06.434Z"
        ],
        [
         "07FB535288990BDC",
         60,
         1095,
         1808,
         2003,
         "ASSAM",
         1351,
         878,
         70,
         "0",
         6,
         false,
         "2025-01-25T02:58:06.415Z"
        ],
        [
         "0D18037FE78B9DBE",
         0,
         5,
         6,
         2014,
         "D&N Haveli",
         7,
         2,
         479,
         "0",
         0,
         false,
         "2025-01-25T02:58:06.432Z"
        ],
        [
         "0C6732E11F444FB8",
         278,
         1109,
         1002,
         2016,
         "Jharkhand",
         693,
         667,
         530,
         "0",
         373,
         false,
         "2025-01-25T02:58:06.433Z"
        ],
        [
         "0EF62A18F763D27B",
         0,
         75,
         21,
         2021,
         "Manipur",
         42,
         92,
         715,
         "3",
         24,
         false,
         "2025-01-25T02:58:06.436Z"
        ],
        [
         "02E3CFDEF26FC659",
         0,
         6,
         15,
         2016,
         "Puducherry",
         11,
         43,
         555,
         "0",
         13,
         false,
         "2025-01-25T02:58:06.433Z"
        ],
        [
         "085AB4BAF4DF8A49",
         1,
         4,
         2,
         2020,
         "Mizoram",
         6,
         7,
         681,
         "0",
         2,
         false,
         "2025-01-25T02:58:06.435Z"
        ],
        [
         "0E3D9181C391CA79",
         130,
         442,
         801,
         2006,
         "PUNJAB",
         418,
         314,
         190,
         "2",
         60,
         false,
         "2025-01-25T02:58:06.423Z"
        ],
        [
         "0F6812CC09E7ECBA",
         53,
         841,
         5991,
         2014,
         "Gujarat",
         2187,
         1352,
         454,
         "45",
         405,
         false,
         "2025-01-25T02:58:06.431Z"
        ],
        [
         "0A84CD115D685614",
         1,
         26,
         3,
         2016,
         "Nagaland",
         50,
         14,
         538,
         "0",
         6,
         false,
         "2025-01-25T02:58:06.433Z"
        ],
        [
         "0FF084E091747A56",
         269,
         488,
         2412,
         2007,
         "HARYANA",
         554,
         417,
         211,
         "0",
         409,
         false,
         "2025-01-25T02:58:06.424Z"
        ],
        [
         "003FE32B72026FDE",
         58,
         319,
         1256,
         2016,
         "Tamil Nadu",
         1043,
         854,
         543,
         "432",
         115,
         false,
         "2025-01-25T02:58:06.433Z"
        ],
        [
         "0B5E0130BA867DE3",
         16,
         108,
         236,
         2002,
         "TRIPURA",
         48,
         128,
         58,
         "0",
         0,
         false,
         "2025-01-25T02:58:06.414Z"
        ],
        [
         "0718F095A0595CD9",
         76,
         1036,
         732,
         2019,
         "Chhattisgarh",
         2033,
         1316,
         632,
         "12",
         232,
         false,
         "2025-01-25T02:58:06.434Z"
        ],
        [
         "0E7DA4DBAAC8AD0A",
         0,
         38,
         0,
         2002,
         "MEGHALAYA",
         10,
         23,
         50,
         "0",
         0,
         false,
         "2025-01-25T02:58:06.413Z"
        ],
        [
         "0584227E37FEFB99",
         0,
         5,
         1,
         2013,
         "D&N Haveli",
         11,
         1,
         443,
         "2",
         1,
         false,
         "2025-01-25T02:58:06.431Z"
        ],
        [
         "02C5032534748537",
         198,
         1733,
         12950,
         2021,
         "Assam",
         5739,
         4499,
         702,
         "22",
         184,
         false,
         "2025-01-25T02:58:06.436Z"
        ],
        [
         "02E4FE22224D2BD7",
         303,
         1352,
         5353,
         2002,
         "MAHARASHTRA",
         650,
         2686,
         48,
         "0",
         769,
         false,
         "2025-01-25T02:58:06.413Z"
        ],
        [
         "0D0595E69BE2E66B",
         170,
         1631,
         4398,
         2009,
         "ASSAM",
         2092,
         1342,
         274,
         "1",
         10,
         false,
         "2025-01-25T02:58:06.426Z"
        ],
        [
         "02173CC52A7011D9",
         439,
         1355,
         8113,
         2008,
         "RAJASTHAN",
         1863,
         2520,
         259,
         "0",
         19,
         false,
         "2025-01-25T02:58:06.426Z"
        ]
       ],
       "datasetInfos": [],
       "dbfsResultPath": null,
       "isJsonSchema": true,
       "metadata": {},
       "overflow": false,
       "plotOptions": {
        "customPlotOptions": {},
        "displayType": "table",
        "pivotAggregation": null,
        "pivotColumns": null,
        "xColumns": null,
        "yColumns": null
       },
       "removedWidgets": [],
       "schema": [
        {
         "metadata": "{}",
         "name": "_fivetran_id",
         "type": "\"string\""
        },
        {
         "metadata": "{}",
         "name": "dd",
         "type": "\"integer\""
        },
        {
         "metadata": "{}",
         "name": "rape",
         "type": "\"integer\""
        },
        {
         "metadata": "{}",
         "name": "dv",
         "type": "\"integer\""
        },
        {
         "metadata": "{}",
         "name": "year",
         "type": "\"integer\""
        },
        {
         "metadata": "{}",
         "name": "state",
         "type": "\"string\""
        },
        {
         "metadata": "{}",
         "name": "ka",
         "type": "\"integer\""
        },
        {
         "metadata": "{}",
         "name": "aow",
         "type": "\"integer\""
        },
        {
         "metadata": "{}",
         "name": "id",
         "type": "\"integer\""
        },
        {
         "metadata": "{}",
         "name": "wt",
         "type": "\"string\""
        },
        {
         "metadata": "{}",
         "name": "aom",
         "type": "\"integer\""
        },
        {
         "metadata": "{}",
         "name": "_fivetran_deleted",
         "type": "\"boolean\""
        },
        {
         "metadata": "{}",
         "name": "_fivetran_synced",
         "type": "\"timestamp\""
        }
       ],
       "type": "table"
      }
     },
     "output_type": "display_data"
    }
   ],
   "source": [
    "import pyspark.sql.functions as F\n",
    "\n",
    "india_df = spark.table('hive_metastore.azure_sql_db_dbo.crimes_on_women')\n",
    "india_df.limit(20).display()"
   ]
  },
  {
   "cell_type": "markdown",
   "metadata": {
    "application/vnd.databricks.v1+cell": {
     "cellMetadata": {
      "byteLimit": 2048000,
      "rowLimit": 10000
     },
     "inputWidgets": {},
     "nuid": "6707e055-c04c-4e88-87e8-4f7dcf504fcd",
     "showTitle": false,
     "tableResultSettingsMap": {},
     "title": ""
    }
   },
   "source": [
    "column names are not clear, luckily the dataset includes a data description table\n",
    "|      |   Column Names  |   Explanation                       |\n",
    "|------|-----------------|-------------------------------------|\n",
    "|   0  |   State         |   State                             |\n",
    "|   1  |   Year          |   Year                              |\n",
    "|   2  |   Rape          |   No. of Rape cases                 |\n",
    "|   3  |   K&A           |   Kidnap And Assault                |\n",
    "|   4  |   DD            |   Dowry Deaths                      |\n",
    "|   5  |   AoW           |   Assault against women             |\n",
    "|   6  |   AoM           |   Assault against modesty of women  |\n",
    "|   7  |   DV            |   Domestic violence                 |\n",
    "|   8  |   WT            |   Women Trafficking                 |"
   ]
  },
  {
   "cell_type": "code",
   "execution_count": 0,
   "metadata": {
    "application/vnd.databricks.v1+cell": {
     "cellMetadata": {
      "byteLimit": 2048000,
      "rowLimit": 10000
     },
     "inputWidgets": {},
     "nuid": "78fa5ca1-25ab-4249-807a-128973a0bff2",
     "showTitle": false,
     "tableResultSettingsMap": {},
     "title": ""
    }
   },
   "outputs": [
    {
     "output_type": "display_data",
     "data": {
      "text/html": [
       "<style scoped>\n",
       "  .table-result-container {\n",
       "    max-height: 300px;\n",
       "    overflow: auto;\n",
       "  }\n",
       "  table, th, td {\n",
       "    border: 1px solid black;\n",
       "    border-collapse: collapse;\n",
       "  }\n",
       "  th, td {\n",
       "    padding: 5px;\n",
       "  }\n",
       "  th {\n",
       "    text-align: left;\n",
       "  }\n",
       "</style><div class='table-result-container'><table class='table-result'><thead style='background-color: white'><tr><th>country</th><th>year</th><th>state</th><th>rape</th><th>kidnap_assault</th><th>dowry_deaths</th><th>domestic_violence</th><th>assault</th><th>assault_on_modesty</th></tr></thead><tbody><tr><td>india</td><td>2017</td><td>D&N Haveli</td><td>1</td><td>0</td><td>0</td><td>4</td><td>3</td><td>0</td></tr><tr><td>india</td><td>2003</td><td>ASSAM</td><td>1095</td><td>1351</td><td>60</td><td>1808</td><td>878</td><td>6</td></tr><tr><td>india</td><td>2014</td><td>D&N Haveli</td><td>5</td><td>7</td><td>0</td><td>6</td><td>2</td><td>0</td></tr><tr><td>india</td><td>2016</td><td>Jharkhand</td><td>1109</td><td>693</td><td>278</td><td>1002</td><td>667</td><td>373</td></tr><tr><td>india</td><td>2021</td><td>Manipur</td><td>75</td><td>42</td><td>0</td><td>21</td><td>92</td><td>24</td></tr><tr><td>india</td><td>2016</td><td>Puducherry</td><td>6</td><td>11</td><td>0</td><td>15</td><td>43</td><td>13</td></tr><tr><td>india</td><td>2020</td><td>Mizoram</td><td>4</td><td>6</td><td>1</td><td>2</td><td>7</td><td>2</td></tr><tr><td>india</td><td>2006</td><td>PUNJAB</td><td>442</td><td>418</td><td>130</td><td>801</td><td>314</td><td>60</td></tr><tr><td>india</td><td>2014</td><td>Gujarat</td><td>841</td><td>2187</td><td>53</td><td>5991</td><td>1352</td><td>405</td></tr><tr><td>india</td><td>2016</td><td>Nagaland</td><td>26</td><td>50</td><td>1</td><td>3</td><td>14</td><td>6</td></tr><tr><td>india</td><td>2007</td><td>HARYANA</td><td>488</td><td>554</td><td>269</td><td>2412</td><td>417</td><td>409</td></tr><tr><td>india</td><td>2016</td><td>Tamil Nadu</td><td>319</td><td>1043</td><td>58</td><td>1256</td><td>854</td><td>115</td></tr><tr><td>india</td><td>2002</td><td>TRIPURA</td><td>108</td><td>48</td><td>16</td><td>236</td><td>128</td><td>0</td></tr><tr><td>india</td><td>2019</td><td>Chhattisgarh</td><td>1036</td><td>2033</td><td>76</td><td>732</td><td>1316</td><td>232</td></tr><tr><td>india</td><td>2002</td><td>MEGHALAYA</td><td>38</td><td>10</td><td>0</td><td>0</td><td>23</td><td>0</td></tr><tr><td>india</td><td>2013</td><td>D&N Haveli</td><td>5</td><td>11</td><td>0</td><td>1</td><td>1</td><td>1</td></tr><tr><td>india</td><td>2021</td><td>Assam</td><td>1733</td><td>5739</td><td>198</td><td>12950</td><td>4499</td><td>184</td></tr><tr><td>india</td><td>2002</td><td>MAHARASHTRA</td><td>1352</td><td>650</td><td>303</td><td>5353</td><td>2686</td><td>769</td></tr><tr><td>india</td><td>2009</td><td>ASSAM</td><td>1631</td><td>2092</td><td>170</td><td>4398</td><td>1342</td><td>10</td></tr><tr><td>india</td><td>2008</td><td>RAJASTHAN</td><td>1355</td><td>1863</td><td>439</td><td>8113</td><td>2520</td><td>19</td></tr></tbody></table></div>"
      ]
     },
     "metadata": {
      "application/vnd.databricks.v1+output": {
       "addedWidgets": {},
       "aggData": [],
       "aggError": "",
       "aggOverflow": false,
       "aggSchema": [],
       "aggSeriesLimitReached": false,
       "aggType": "",
       "arguments": {},
       "columnCustomDisplayInfos": {},
       "data": [
        [
         "india",
         2017,
         "D&N Haveli",
         1,
         0,
         0,
         4,
         3,
         0
        ],
        [
         "india",
         2003,
         "ASSAM",
         1095,
         1351,
         60,
         1808,
         878,
         6
        ],
        [
         "india",
         2014,
         "D&N Haveli",
         5,
         7,
         0,
         6,
         2,
         0
        ],
        [
         "india",
         2016,
         "Jharkhand",
         1109,
         693,
         278,
         1002,
         667,
         373
        ],
        [
         "india",
         2021,
         "Manipur",
         75,
         42,
         0,
         21,
         92,
         24
        ],
        [
         "india",
         2016,
         "Puducherry",
         6,
         11,
         0,
         15,
         43,
         13
        ],
        [
         "india",
         2020,
         "Mizoram",
         4,
         6,
         1,
         2,
         7,
         2
        ],
        [
         "india",
         2006,
         "PUNJAB",
         442,
         418,
         130,
         801,
         314,
         60
        ],
        [
         "india",
         2014,
         "Gujarat",
         841,
         2187,
         53,
         5991,
         1352,
         405
        ],
        [
         "india",
         2016,
         "Nagaland",
         26,
         50,
         1,
         3,
         14,
         6
        ],
        [
         "india",
         2007,
         "HARYANA",
         488,
         554,
         269,
         2412,
         417,
         409
        ],
        [
         "india",
         2016,
         "Tamil Nadu",
         319,
         1043,
         58,
         1256,
         854,
         115
        ],
        [
         "india",
         2002,
         "TRIPURA",
         108,
         48,
         16,
         236,
         128,
         0
        ],
        [
         "india",
         2019,
         "Chhattisgarh",
         1036,
         2033,
         76,
         732,
         1316,
         232
        ],
        [
         "india",
         2002,
         "MEGHALAYA",
         38,
         10,
         0,
         0,
         23,
         0
        ],
        [
         "india",
         2013,
         "D&N Haveli",
         5,
         11,
         0,
         1,
         1,
         1
        ],
        [
         "india",
         2021,
         "Assam",
         1733,
         5739,
         198,
         12950,
         4499,
         184
        ],
        [
         "india",
         2002,
         "MAHARASHTRA",
         1352,
         650,
         303,
         5353,
         2686,
         769
        ],
        [
         "india",
         2009,
         "ASSAM",
         1631,
         2092,
         170,
         4398,
         1342,
         10
        ],
        [
         "india",
         2008,
         "RAJASTHAN",
         1355,
         1863,
         439,
         8113,
         2520,
         19
        ]
       ],
       "datasetInfos": [],
       "dbfsResultPath": null,
       "isJsonSchema": true,
       "metadata": {},
       "overflow": false,
       "plotOptions": {
        "customPlotOptions": {},
        "displayType": "table",
        "pivotAggregation": null,
        "pivotColumns": null,
        "xColumns": null,
        "yColumns": null
       },
       "removedWidgets": [],
       "schema": [
        {
         "metadata": "{}",
         "name": "country",
         "type": "\"string\""
        },
        {
         "metadata": "{}",
         "name": "year",
         "type": "\"integer\""
        },
        {
         "metadata": "{}",
         "name": "state",
         "type": "\"string\""
        },
        {
         "metadata": "{}",
         "name": "rape",
         "type": "\"integer\""
        },
        {
         "metadata": "{}",
         "name": "kidnap_assault",
         "type": "\"integer\""
        },
        {
         "metadata": "{}",
         "name": "dowry_deaths",
         "type": "\"integer\""
        },
        {
         "metadata": "{}",
         "name": "domestic_violence",
         "type": "\"integer\""
        },
        {
         "metadata": "{}",
         "name": "assault",
         "type": "\"integer\""
        },
        {
         "metadata": "{}",
         "name": "assault_on_modesty",
         "type": "\"integer\""
        }
       ],
       "type": "table"
      }
     },
     "output_type": "display_data"
    }
   ],
   "source": [
    "india_df_renamed = india_df.where(\n",
    "    F.col('_fivetran_deleted') == False,\n",
    ").withColumn(\n",
    "    'country', F.lit('india'),\n",
    ").select(\n",
    "    F.col('country'),\n",
    "    F.col('Year').alias('year'),\n",
    "    F.col('State').alias('state'),\n",
    "    F.col('Rape').alias('rape'),\n",
    "    F.col('ka').alias('kidnap_assault'),\n",
    "    F.col('dd').alias('dowry_deaths'),\n",
    "    F.col('dv').alias('domestic_violence'),\n",
    "    F.col('aow').alias('assault'),\n",
    "    F.col('aom').alias('assault_on_modesty'),\n",
    ")\n",
    "india_df_renamed.limit(20).display()"
   ]
  },
  {
   "cell_type": "markdown",
   "metadata": {
    "application/vnd.databricks.v1+cell": {
     "cellMetadata": {
      "byteLimit": 2048000,
      "rowLimit": 10000
     },
     "inputWidgets": {},
     "nuid": "82e3d6f9-e927-4b00-b7ee-fc672b5975a4",
     "showTitle": false,
     "tableResultSettingsMap": {},
     "title": ""
    }
   },
   "source": [
    "now we melt the table"
   ]
  },
  {
   "cell_type": "code",
   "execution_count": 0,
   "metadata": {
    "application/vnd.databricks.v1+cell": {
     "cellMetadata": {
      "byteLimit": 2048000,
      "rowLimit": 10000
     },
     "inputWidgets": {},
     "nuid": "a4c0792c-9866-497e-a60e-f8223abb4553",
     "showTitle": false,
     "tableResultSettingsMap": {},
     "title": ""
    }
   },
   "outputs": [
    {
     "output_type": "display_data",
     "data": {
      "text/html": [
       "<style scoped>\n",
       "  .table-result-container {\n",
       "    max-height: 300px;\n",
       "    overflow: auto;\n",
       "  }\n",
       "  table, th, td {\n",
       "    border: 1px solid black;\n",
       "    border-collapse: collapse;\n",
       "  }\n",
       "  th, td {\n",
       "    padding: 5px;\n",
       "  }\n",
       "  th {\n",
       "    text-align: left;\n",
       "  }\n",
       "</style><div class='table-result-container'><table class='table-result'><thead style='background-color: white'><tr><th>country</th><th>year</th><th>state</th><th>type_of_violence</th><th>total_cases</th></tr></thead><tbody><tr><td>india</td><td>2017</td><td>D&N Haveli</td><td>rape</td><td>1</td></tr><tr><td>india</td><td>2017</td><td>D&N Haveli</td><td>kidnap_assault</td><td>0</td></tr><tr><td>india</td><td>2017</td><td>D&N Haveli</td><td>dowry_deaths</td><td>0</td></tr><tr><td>india</td><td>2017</td><td>D&N Haveli</td><td>domestic_violence</td><td>4</td></tr><tr><td>india</td><td>2017</td><td>D&N Haveli</td><td>assault</td><td>3</td></tr><tr><td>india</td><td>2017</td><td>D&N Haveli</td><td>assault_on_modesty</td><td>0</td></tr><tr><td>india</td><td>2003</td><td>ASSAM</td><td>rape</td><td>1095</td></tr><tr><td>india</td><td>2003</td><td>ASSAM</td><td>kidnap_assault</td><td>1351</td></tr><tr><td>india</td><td>2003</td><td>ASSAM</td><td>dowry_deaths</td><td>60</td></tr><tr><td>india</td><td>2003</td><td>ASSAM</td><td>domestic_violence</td><td>1808</td></tr><tr><td>india</td><td>2003</td><td>ASSAM</td><td>assault</td><td>878</td></tr><tr><td>india</td><td>2003</td><td>ASSAM</td><td>assault_on_modesty</td><td>6</td></tr><tr><td>india</td><td>2014</td><td>D&N Haveli</td><td>rape</td><td>5</td></tr><tr><td>india</td><td>2014</td><td>D&N Haveli</td><td>kidnap_assault</td><td>7</td></tr><tr><td>india</td><td>2014</td><td>D&N Haveli</td><td>dowry_deaths</td><td>0</td></tr><tr><td>india</td><td>2014</td><td>D&N Haveli</td><td>domestic_violence</td><td>6</td></tr><tr><td>india</td><td>2014</td><td>D&N Haveli</td><td>assault</td><td>2</td></tr><tr><td>india</td><td>2014</td><td>D&N Haveli</td><td>assault_on_modesty</td><td>0</td></tr><tr><td>india</td><td>2016</td><td>Jharkhand</td><td>rape</td><td>1109</td></tr><tr><td>india</td><td>2016</td><td>Jharkhand</td><td>kidnap_assault</td><td>693</td></tr></tbody></table></div>"
      ]
     },
     "metadata": {
      "application/vnd.databricks.v1+output": {
       "addedWidgets": {},
       "aggData": [],
       "aggError": "",
       "aggOverflow": false,
       "aggSchema": [],
       "aggSeriesLimitReached": false,
       "aggType": "",
       "arguments": {},
       "columnCustomDisplayInfos": {},
       "data": [
        [
         "india",
         2017,
         "D&N Haveli",
         "rape",
         1
        ],
        [
         "india",
         2017,
         "D&N Haveli",
         "kidnap_assault",
         0
        ],
        [
         "india",
         2017,
         "D&N Haveli",
         "dowry_deaths",
         0
        ],
        [
         "india",
         2017,
         "D&N Haveli",
         "domestic_violence",
         4
        ],
        [
         "india",
         2017,
         "D&N Haveli",
         "assault",
         3
        ],
        [
         "india",
         2017,
         "D&N Haveli",
         "assault_on_modesty",
         0
        ],
        [
         "india",
         2003,
         "ASSAM",
         "rape",
         1095
        ],
        [
         "india",
         2003,
         "ASSAM",
         "kidnap_assault",
         1351
        ],
        [
         "india",
         2003,
         "ASSAM",
         "dowry_deaths",
         60
        ],
        [
         "india",
         2003,
         "ASSAM",
         "domestic_violence",
         1808
        ],
        [
         "india",
         2003,
         "ASSAM",
         "assault",
         878
        ],
        [
         "india",
         2003,
         "ASSAM",
         "assault_on_modesty",
         6
        ],
        [
         "india",
         2014,
         "D&N Haveli",
         "rape",
         5
        ],
        [
         "india",
         2014,
         "D&N Haveli",
         "kidnap_assault",
         7
        ],
        [
         "india",
         2014,
         "D&N Haveli",
         "dowry_deaths",
         0
        ],
        [
         "india",
         2014,
         "D&N Haveli",
         "domestic_violence",
         6
        ],
        [
         "india",
         2014,
         "D&N Haveli",
         "assault",
         2
        ],
        [
         "india",
         2014,
         "D&N Haveli",
         "assault_on_modesty",
         0
        ],
        [
         "india",
         2016,
         "Jharkhand",
         "rape",
         1109
        ],
        [
         "india",
         2016,
         "Jharkhand",
         "kidnap_assault",
         693
        ]
       ],
       "datasetInfos": [],
       "dbfsResultPath": null,
       "isJsonSchema": true,
       "metadata": {},
       "overflow": false,
       "plotOptions": {
        "customPlotOptions": {},
        "displayType": "table",
        "pivotAggregation": null,
        "pivotColumns": null,
        "xColumns": null,
        "yColumns": null
       },
       "removedWidgets": [],
       "schema": [
        {
         "metadata": "{}",
         "name": "country",
         "type": "\"string\""
        },
        {
         "metadata": "{}",
         "name": "year",
         "type": "\"integer\""
        },
        {
         "metadata": "{}",
         "name": "state",
         "type": "\"string\""
        },
        {
         "metadata": "{}",
         "name": "type_of_violence",
         "type": "\"string\""
        },
        {
         "metadata": "{}",
         "name": "total_cases",
         "type": "\"integer\""
        }
       ],
       "type": "table"
      }
     },
     "output_type": "display_data"
    }
   ],
   "source": [
    "india_df_melted = india_df_renamed.melt(\n",
    "    ids=['country', 'year', 'state'],\n",
    "    values=None,\n",
    "    valueColumnName='total_cases',\n",
    "    variableColumnName='type_of_violence',\n",
    ")\n",
    "india_df_melted.limit(20).display()"
   ]
  },
  {
   "cell_type": "markdown",
   "metadata": {
    "application/vnd.databricks.v1+cell": {
     "cellMetadata": {
      "byteLimit": 2048000,
      "rowLimit": 10000
     },
     "inputWidgets": {},
     "nuid": "74abd2db-b517-4f3c-a364-f0cf99094803",
     "showTitle": false,
     "tableResultSettingsMap": {},
     "title": ""
    }
   },
   "source": [
    "sum all violence cases and yearly total"
   ]
  },
  {
   "cell_type": "code",
   "execution_count": 0,
   "metadata": {
    "application/vnd.databricks.v1+cell": {
     "cellMetadata": {
      "byteLimit": 2048000,
      "rowLimit": 10000
     },
     "inputWidgets": {},
     "nuid": "4332fb25-e363-47e7-a325-6da132e550e2",
     "showTitle": false,
     "tableResultSettingsMap": {},
     "title": ""
    }
   },
   "outputs": [
    {
     "output_type": "display_data",
     "data": {
      "text/html": [
       "<style scoped>\n",
       "  .table-result-container {\n",
       "    max-height: 300px;\n",
       "    overflow: auto;\n",
       "  }\n",
       "  table, th, td {\n",
       "    border: 1px solid black;\n",
       "    border-collapse: collapse;\n",
       "  }\n",
       "  th, td {\n",
       "    padding: 5px;\n",
       "  }\n",
       "  th {\n",
       "    text-align: left;\n",
       "  }\n",
       "</style><div class='table-result-container'><table class='table-result'><thead style='background-color: white'><tr><th>country</th><th>year</th><th>state</th><th>type_of_violence</th><th>total_cases</th></tr></thead><tbody><tr><td>india</td><td>2007</td><td>all</td><td>assault</td><td>37866</td></tr><tr><td>india</td><td>2009</td><td>all</td><td>kidnap_assault</td><td>24086</td></tr><tr><td>india</td><td>2013</td><td>all</td><td>rape</td><td>33707</td></tr><tr><td>india</td><td>2010</td><td>all</td><td>assault</td><td>40012</td></tr><tr><td>india</td><td>2013</td><td>all</td><td>assault_on_modesty</td><td>12589</td></tr><tr><td>india</td><td>2015</td><td>all</td><td>assault</td><td>82422</td></tr><tr><td>india</td><td>2002</td><td>all</td><td>rape</td><td>15970</td></tr><tr><td>india</td><td>2015</td><td>all</td><td>rape</td><td>34651</td></tr><tr><td>india</td><td>2007</td><td>all</td><td>dowry_deaths</td><td>7955</td></tr><tr><td>india</td><td>2019</td><td>all</td><td>domestic_violence</td><td>125298</td></tr><tr><td>india</td><td>2004</td><td>all</td><td>kidnap_assault</td><td>14697</td></tr><tr><td>india</td><td>2004</td><td>all</td><td>dowry_deaths</td><td>6900</td></tr><tr><td>india</td><td>2014</td><td>all</td><td>assault_on_modesty</td><td>21938</td></tr><tr><td>india</td><td>2006</td><td>all</td><td>assault</td><td>35899</td></tr><tr><td>india</td><td>2003</td><td>all</td><td>assault_on_modesty</td><td>12220</td></tr><tr><td>india</td><td>2020</td><td>all</td><td>kidnap_assault</td><td>62300</td></tr><tr><td>india</td><td>2012</td><td>all</td><td>dowry_deaths</td><td>8233</td></tr><tr><td>india</td><td>2010</td><td>all</td><td>assault_on_modesty</td><td>9881</td></tr><tr><td>india</td><td>2001</td><td>all</td><td>kidnap_assault</td><td>13681</td></tr><tr><td>india</td><td>2007</td><td>all</td><td>domestic_violence</td><td>74143</td></tr></tbody></table></div>"
      ]
     },
     "metadata": {
      "application/vnd.databricks.v1+output": {
       "addedWidgets": {},
       "aggData": [],
       "aggError": "",
       "aggOverflow": false,
       "aggSchema": [],
       "aggSeriesLimitReached": false,
       "aggType": "",
       "arguments": {},
       "columnCustomDisplayInfos": {},
       "data": [
        [
         "india",
         2007,
         "all",
         "assault",
         37866
        ],
        [
         "india",
         2009,
         "all",
         "kidnap_assault",
         24086
        ],
        [
         "india",
         2013,
         "all",
         "rape",
         33707
        ],
        [
         "india",
         2010,
         "all",
         "assault",
         40012
        ],
        [
         "india",
         2013,
         "all",
         "assault_on_modesty",
         12589
        ],
        [
         "india",
         2015,
         "all",
         "assault",
         82422
        ],
        [
         "india",
         2002,
         "all",
         "rape",
         15970
        ],
        [
         "india",
         2015,
         "all",
         "rape",
         34651
        ],
        [
         "india",
         2007,
         "all",
         "dowry_deaths",
         7955
        ],
        [
         "india",
         2019,
         "all",
         "domestic_violence",
         125298
        ],
        [
         "india",
         2004,
         "all",
         "kidnap_assault",
         14697
        ],
        [
         "india",
         2004,
         "all",
         "dowry_deaths",
         6900
        ],
        [
         "india",
         2014,
         "all",
         "assault_on_modesty",
         21938
        ],
        [
         "india",
         2006,
         "all",
         "assault",
         35899
        ],
        [
         "india",
         2003,
         "all",
         "assault_on_modesty",
         12220
        ],
        [
         "india",
         2020,
         "all",
         "kidnap_assault",
         62300
        ],
        [
         "india",
         2012,
         "all",
         "dowry_deaths",
         8233
        ],
        [
         "india",
         2010,
         "all",
         "assault_on_modesty",
         9881
        ],
        [
         "india",
         2001,
         "all",
         "kidnap_assault",
         13681
        ],
        [
         "india",
         2007,
         "all",
         "domestic_violence",
         74143
        ]
       ],
       "datasetInfos": [],
       "dbfsResultPath": null,
       "isJsonSchema": true,
       "metadata": {},
       "overflow": false,
       "plotOptions": {
        "customPlotOptions": {},
        "displayType": "table",
        "pivotAggregation": null,
        "pivotColumns": null,
        "xColumns": null,
        "yColumns": null
       },
       "removedWidgets": [],
       "schema": [
        {
         "metadata": "{}",
         "name": "country",
         "type": "\"string\""
        },
        {
         "metadata": "{}",
         "name": "year",
         "type": "\"integer\""
        },
        {
         "metadata": "{}",
         "name": "state",
         "type": "\"string\""
        },
        {
         "metadata": "{}",
         "name": "type_of_violence",
         "type": "\"string\""
        },
        {
         "metadata": "{}",
         "name": "total_cases",
         "type": "\"long\""
        }
       ],
       "type": "table"
      }
     },
     "output_type": "display_data"
    }
   ],
   "source": [
    "india_df_any_violence = india_df_melted.groupBy('year', 'country', 'state', 'type_of_violence').agg(\n",
    "    F.sum('total_cases').alias('total_cases')\n",
    ").withColumn(\n",
    "    'type_of_violence', F.lit('any')\n",
    ").select(\n",
    "    F.col('country'),\n",
    "    F.col('year'),\n",
    "    F.col('state'),\n",
    "    F.col('type_of_violence'),\n",
    "    F.col('total_cases')\n",
    ")\n",
    "india_df_any_violence = india_df_melted.union(india_df_any_violence)\n",
    "india_df_total = india_df_any_violence.groupBy('year', 'country', 'type_of_violence').agg(\n",
    "    F.sum('total_cases').alias('total_cases')\n",
    ").withColumn(\n",
    "    'state', F.lit('all')\n",
    ").select(\n",
    "    F.col('country'),\n",
    "    F.col('year'),\n",
    "    F.col('state'),\n",
    "    F.col('type_of_violence'),\n",
    "    F.col('total_cases')\n",
    ")\n",
    "india_df_total = india_df_total.union(india_df_any_violence)\n",
    "india_df_total.limit(20).display()"
   ]
  },
  {
   "cell_type": "markdown",
   "metadata": {
    "application/vnd.databricks.v1+cell": {
     "cellMetadata": {
      "byteLimit": 2048000,
      "rowLimit": 10000
     },
     "inputWidgets": {},
     "nuid": "ca4eeb94-be8a-458d-a02e-1f7ce05b825e",
     "showTitle": false,
     "tableResultSettingsMap": {},
     "title": ""
    }
   },
   "source": [
    "now we need to delete the '_' character form the year"
   ]
  }
 ],
 "metadata": {
  "application/vnd.databricks.v1+notebook": {
   "computePreferences": null,
   "dashboards": [],
   "environmentMetadata": {
    "base_environment": "",
    "environment_version": "1"
   },
   "language": "python",
   "notebookMetadata": {
    "pythonIndentUnit": 4
   },
   "notebookName": "silver_violence_india",
   "widgets": {}
  },
  "language_info": {
   "name": "python"
  }
 },
 "nbformat": 4,
 "nbformat_minor": 0
}
