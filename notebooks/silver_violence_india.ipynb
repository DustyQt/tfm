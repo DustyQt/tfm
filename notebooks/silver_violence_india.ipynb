{
 "cells": [
  {
   "cell_type": "code",
   "execution_count": 0,
   "metadata": {
    "application/vnd.databricks.v1+cell": {
     "cellMetadata": {
      "byteLimit": 2048000,
      "rowLimit": 10000
     },
     "inputWidgets": {},
     "nuid": "8ef9aae6-bd26-4bbb-a55a-b6e4a75d6131",
     "showTitle": false,
     "tableResultSettingsMap": {},
     "title": ""
    }
   },
   "outputs": [],
   "source": [
    "import pyspark.sql.functions as F\n",
    "\n",
    "india_df = spark.table('hive_metastore.azure_sql_db_dbo.crimes_on_women')\n",
    "india_df.display()"
   ]
  },
  {
   "cell_type": "markdown",
   "metadata": {
    "application/vnd.databricks.v1+cell": {
     "cellMetadata": {
      "byteLimit": 2048000,
      "rowLimit": 10000
     },
     "inputWidgets": {},
     "nuid": "6707e055-c04c-4e88-87e8-4f7dcf504fcd",
     "showTitle": false,
     "tableResultSettingsMap": {},
     "title": ""
    }
   },
   "source": [
    "column names are not clear, luckily the dataset includes a data description table\n",
    "|      |   Column Names  |   Explanation                       |\n",
    "|------|-----------------|-------------------------------------|\n",
    "|   0  |   State         |   State                             |\n",
    "|   1  |   Year          |   Year                              |\n",
    "|   2  |   Rape          |   No. of Rape cases                 |\n",
    "|   3  |   K&A           |   Kidnap And Assault                |\n",
    "|   4  |   DD            |   Dowry Deaths                      |\n",
    "|   5  |   AoW           |   Assault against women             |\n",
    "|   6  |   AoM           |   Assault against modesty of women  |\n",
    "|   7  |   DV            |   Domestic violence                 |\n",
    "|   8  |   WT            |   Women Trafficking                 |"
   ]
  },
  {
   "cell_type": "code",
   "execution_count": 0,
   "metadata": {
    "application/vnd.databricks.v1+cell": {
     "cellMetadata": {
      "byteLimit": 2048000,
      "rowLimit": 10000
     },
     "inputWidgets": {},
     "nuid": "78fa5ca1-25ab-4249-807a-128973a0bff2",
     "showTitle": false,
     "tableResultSettingsMap": {},
     "title": ""
    }
   },
   "outputs": [],
   "source": [
    "india_df_renamed = india_df.where(\n",
    "    F.col('_fivetran_deleted') == False,\n",
    ").withColumn(\n",
    "    'country', F.lit('india'),\n",
    ").select(\n",
    "    F.col('country'),\n",
    "    F.col('Year').alias('year'),\n",
    "    F.col('State').alias('state'),\n",
    "    F.col('Rape').alias('rape'),\n",
    "    F.col('ka').alias('kidnap_assault'),\n",
    "    F.col('dd').alias('dowry_deaths'),\n",
    "    F.col('dv').alias('domestic_violence'),\n",
    "    F.col('aow').alias('assault'),\n",
    "    F.col('aom').alias('assault_on_modesty'),\n",
    ")\n",
    "india_df_renamed.display()"
   ]
  },
  {
   "cell_type": "markdown",
   "metadata": {
    "application/vnd.databricks.v1+cell": {
     "cellMetadata": {
      "byteLimit": 2048000,
      "rowLimit": 10000
     },
     "inputWidgets": {},
     "nuid": "82e3d6f9-e927-4b00-b7ee-fc672b5975a4",
     "showTitle": false,
     "tableResultSettingsMap": {},
     "title": ""
    }
   },
   "source": [
    "now we melt the table"
   ]
  },
  {
   "cell_type": "code",
   "execution_count": 0,
   "metadata": {
    "application/vnd.databricks.v1+cell": {
     "cellMetadata": {
      "byteLimit": 2048000,
      "rowLimit": 10000
     },
     "inputWidgets": {},
     "nuid": "a4c0792c-9866-497e-a60e-f8223abb4553",
     "showTitle": false,
     "tableResultSettingsMap": {},
     "title": ""
    }
   },
   "outputs": [],
   "source": [
    "india_df_melted = india_df_renamed.melt(\n",
    "    ids=['country', 'year', 'state'],\n",
    "    values=None,\n",
    "    valueColumnName='total_cases',\n",
    "    variableColumnName='type_of_violence',\n",
    ")\n",
    "india_df_melted.display()"
   ]
  },
  {
   "cell_type": "markdown",
   "metadata": {
    "application/vnd.databricks.v1+cell": {
     "cellMetadata": {
      "byteLimit": 2048000,
      "rowLimit": 10000
     },
     "inputWidgets": {},
     "nuid": "74abd2db-b517-4f3c-a364-f0cf99094803",
     "showTitle": false,
     "tableResultSettingsMap": {},
     "title": ""
    }
   },
   "source": [
    "sum all violence cases and yearly total"
   ]
  },
  {
   "cell_type": "code",
   "execution_count": 0,
   "metadata": {
    "application/vnd.databricks.v1+cell": {
     "cellMetadata": {
      "byteLimit": 2048000,
      "rowLimit": 10000
     },
     "inputWidgets": {},
     "nuid": "4332fb25-e363-47e7-a325-6da132e550e2",
     "showTitle": false,
     "tableResultSettingsMap": {},
     "title": ""
    }
   },
   "outputs": [],
   "source": [
    "india_df_any_violence = india_df_melted.groupBy('year', 'country', 'state', 'type_of_violence').agg(\n",
    "    F.sum('total_cases').alias('total_cases')\n",
    ").withColumn(\n",
    "    'type_of_violence', F.lit('any')\n",
    ").select(\n",
    "    F.col('year'),\n",
    "    F.col('country'),\n",
    "    F.col('state'),\n",
    "    F.col('type_of_violence'),\n",
    "    F.col('total_cases')\n",
    ")\n",
    "india_df_any_violence = india_df_melted.union(india_df_any_violence)\n",
    "india_df_total = india_df_any_violence.groupBy('year', 'country', 'type_of_violence').agg(\n",
    "    F.sum('total_cases').alias('total_cases')\n",
    ").withColumn(\n",
    "    'state', F.lit('all')\n",
    ").select(\n",
    "    F.col('year'),\n",
    "    F.col('country'),\n",
    "    F.col('state'),\n",
    "    F.col('type_of_violence'),\n",
    "    F.col('total_cases')\n",
    ")\n",
    "india_df_total = india_df_total.union(india_df_any_violence)\n",
    "india_df_total.display()"
   ]
  },
  {
   "cell_type": "markdown",
   "metadata": {
    "application/vnd.databricks.v1+cell": {
     "cellMetadata": {
      "byteLimit": 2048000,
      "rowLimit": 10000
     },
     "inputWidgets": {},
     "nuid": "ca4eeb94-be8a-458d-a02e-1f7ce05b825e",
     "showTitle": false,
     "tableResultSettingsMap": {},
     "title": ""
    }
   },
   "source": [
    "now we need to delete the '_' character form the year"
   ]
  }
 ],
 "metadata": {
  "application/vnd.databricks.v1+notebook": {
   "computePreferences": null,
   "dashboards": [],
   "environmentMetadata": {
    "base_environment": "",
    "client": "1"
   },
   "language": "python",
   "notebookMetadata": {
    "pythonIndentUnit": 4
   },
   "notebookName": "silver_violence_india",
   "widgets": {}
  },
  "language_info": {
   "name": "python"
  }
 },
 "nbformat": 4,
 "nbformat_minor": 0
}
