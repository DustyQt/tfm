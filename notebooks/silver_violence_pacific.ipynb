{
 "cells": [
  {
   "cell_type": "code",
   "execution_count": 0,
   "metadata": {
    "application/vnd.databricks.v1+cell": {
     "cellMetadata": {
      "byteLimit": 2048000,
      "rowLimit": 10000
     },
     "inputWidgets": {},
     "nuid": "4fb3c8a3-8a82-41e8-aedc-f78fd0008f41",
     "showTitle": false,
     "tableResultSettingsMap": {},
     "title": ""
    }
   },
   "outputs": [],
   "source": [
    "import pyspark.sql.functions as F\n",
    "import os\n",
    "\n",
    "STORAGE_ACCOUNT = os.getenv('STORAGE_ACCOUNT')\n",
    "STORAGE_ACCOUNT_KEY = os.getenv('STORAGE_ACCOUNT_KEY')\n",
    "spark.conf.set(STORAGE_ACCOUNT, STORAGE_ACCOUNT_KEY)\n"
   ]
  },
  {
   "cell_type": "code",
   "execution_count": 0,
   "metadata": {
    "application/vnd.databricks.v1+cell": {
     "cellMetadata": {
      "byteLimit": 2048000,
      "rowLimit": 10000
     },
     "inputWidgets": {},
     "nuid": "89c3cad4-a35a-467a-b9bb-23516aeb88bd",
     "showTitle": false,
     "tableResultSettingsMap": {},
     "title": ""
    }
   },
   "outputs": [],
   "source": [
    "pacific_df = spark.read\\\n",
    "                 .option(\"header\", \"true\")\\\n",
    "                 .option(\"inferSchema\", \"true\")\\\n",
    "                 .csv(\"abfss://datasets@tfmstorageacc.dfs.core.windows.net/violence_against_women_pacific.csv\")\n",
    "\n",
    "pacific_df.display()"
   ]
  },
  {
   "cell_type": "markdown",
   "metadata": {
    "application/vnd.databricks.v1+cell": {
     "cellMetadata": {},
     "inputWidgets": {},
     "nuid": "9414e633-7808-4433-9a55-dcc8db670d15",
     "showTitle": false,
     "tableResultSettingsMap": {},
     "title": ""
    }
   },
   "source": [
    "There are a lot of columns and statistics, the first thing we need to do is select the statistics we are interested on, so lets see which are avaliable"
   ]
  },
  {
   "cell_type": "code",
   "execution_count": 0,
   "metadata": {
    "application/vnd.databricks.v1+cell": {
     "cellMetadata": {
      "byteLimit": 2048000,
      "rowLimit": 10000
     },
     "inputWidgets": {},
     "nuid": "e417f6d2-77c8-4515-a6c2-5cb66091b2c0",
     "showTitle": false,
     "tableResultSettingsMap": {},
     "title": ""
    }
   },
   "outputs": [],
   "source": [
    "pacific_df.select(\n",
    "    F.col('TOPIC10'),\n",
    "    F.col('Topic11'),\n",
    ").distinct().display()"
   ]
  },
  {
   "cell_type": "markdown",
   "metadata": {
    "application/vnd.databricks.v1+cell": {
     "cellMetadata": {},
     "inputWidgets": {},
     "nuid": "513638c0-0f7d-473f-97ab-e6fad079ed88",
     "showTitle": false,
     "tableResultSettingsMap": {},
     "title": ""
    }
   },
   "source": [
    "The topics we are interested in are \n",
    "- VAW_TOPIC_001: Types of violence against women by partner\n",
    "- VAW_TOPIC_007: Types of violence against women by others (non-partners)\n",
    "- VAW_TOPIC_010: Child sexual abuse prevalence by type of perpetrator\n",
    "We don't want null values."
   ]
  },
  {
   "cell_type": "code",
   "execution_count": 0,
   "metadata": {
    "application/vnd.databricks.v1+cell": {
     "cellMetadata": {
      "byteLimit": 2048000,
      "rowLimit": 10000
     },
     "inputWidgets": {},
     "nuid": "f22448e7-152b-4905-8805-801943d9931e",
     "showTitle": false,
     "tableResultSettingsMap": {},
     "title": ""
    }
   },
   "outputs": [],
   "source": [
    "pacific_df = pacific_df.where(\n",
    "    F.col('TOPIC10').isin('VAW_TOPIC_001', 'VAW_TOPIC_007', 'VAW_TOPIC_010') &\n",
    "    F.col('OBS_VALUE').isNotNull()\n",
    ").select(\n",
    "    F.col('TIME_PERIOD').alias('year'),\n",
    "    F.col('Pacific Island Countries and territories').alias('country'),\n",
    "    F.col('Type of violence').alias('violence_type'),\n",
    "    F.col('OBS_VALUE').alias('value_perc'),\n",
    "    F.col('Perpetrator23').alias('perpetrator'),\n",
    ").orderBy(\n",
    "    F.col('year').desc(),\n",
    "    F.col('country'),\n",
    ")\n",
    "pacific_df.display()"
   ]
  },
  {
   "cell_type": "markdown",
   "metadata": {
    "application/vnd.databricks.v1+cell": {
     "cellMetadata": {},
     "inputWidgets": {},
     "nuid": "846946d2-6209-4ed2-9893-e3ee2da3442a",
     "showTitle": false,
     "tableResultSettingsMap": {},
     "title": ""
    }
   },
   "source": [
    "There are some repeated fields with just the value differing, that is due to some fields outside the selection that make it so. In order to delete those we will get the higher percentage as that is the best we can do to reduce the number of cases lost. "
   ]
  },
  {
   "cell_type": "code",
   "execution_count": 0,
   "metadata": {
    "application/vnd.databricks.v1+cell": {
     "cellMetadata": {
      "byteLimit": 2048000,
      "rowLimit": 10000
     },
     "inputWidgets": {},
     "nuid": "9d2223c1-4828-400e-8c5a-8c3b8fbc7401",
     "showTitle": false,
     "tableResultSettingsMap": {},
     "title": ""
    }
   },
   "outputs": [],
   "source": [
    "pacific_df = pacific_df.groupBy('year', 'country', 'violence_type', 'perpetrator').agg(\n",
    "    F.max(F.col('value_perc')).alias('value_perc')\n",
    ")\n",
    "pacific_df.display()"
   ]
  }
 ],
 "metadata": {
  "application/vnd.databricks.v1+notebook": {
   "computePreferences": null,
   "dashboards": [],
   "environmentMetadata": {
    "base_environment": "",
    "environment_version": "1"
   },
   "language": "python",
   "notebookMetadata": {
    "pythonIndentUnit": 4
   },
   "notebookName": "silver_violence_pacific",
   "widgets": {}
  },
  "language_info": {
   "name": "python"
  }
 },
 "nbformat": 4,
 "nbformat_minor": 0
}
