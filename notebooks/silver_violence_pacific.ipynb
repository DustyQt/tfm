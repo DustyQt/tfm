{
 "cells": [
  {
   "cell_type": "code",
   "execution_count": 0,
   "metadata": {
    "application/vnd.databricks.v1+cell": {
     "cellMetadata": {
      "byteLimit": 2048000,
      "rowLimit": 10000
     },
     "inputWidgets": {},
     "nuid": "4fb3c8a3-8a82-41e8-aedc-f78fd0008f41",
     "showTitle": false,
     "tableResultSettingsMap": {},
     "title": ""
    }
   },
   "outputs": [],
   "source": [
    "import pyspark.sql.functions as F\n",
    "import os\n",
    "\n",
    "STORAGE_ACCOUNT = os.getenv('STORAGE_ACCOUNT')\n",
    "STORAGE_ACCOUNT_KEY = os.getenv('STORAGE_ACCOUNT_KEY')\n",
    "spark.conf.set(STORAGE_ACCOUNT, STORAGE_ACCOUNT_KEY)\n"
   ]
  },
  {
   "cell_type": "code",
   "execution_count": 0,
   "metadata": {
    "application/vnd.databricks.v1+cell": {
     "cellMetadata": {
      "byteLimit": 2048000,
      "rowLimit": 10000
     },
     "inputWidgets": {},
     "nuid": "89c3cad4-a35a-467a-b9bb-23516aeb88bd",
     "showTitle": false,
     "tableResultSettingsMap": {},
     "title": ""
    }
   },
   "outputs": [
    {
     "output_type": "display_data",
     "data": {
      "text/html": [
       "<style scoped>\n",
       "  .table-result-container {\n",
       "    max-height: 300px;\n",
       "    overflow: auto;\n",
       "  }\n",
       "  table, th, td {\n",
       "    border: 1px solid black;\n",
       "    border-collapse: collapse;\n",
       "  }\n",
       "  th, td {\n",
       "    padding: 5px;\n",
       "  }\n",
       "  th {\n",
       "    text-align: left;\n",
       "  }\n",
       "</style><div class='table-result-container'><table class='table-result'><thead style='background-color: white'><tr><th>STRUCTURE</th><th>STRUCTURE_ID</th><th>STRUCTURE_NAME</th><th>ACTION</th><th>FREQ</th><th>Frequency</th><th>TIME_PERIOD</th><th>Time</th><th>GEO_PICT</th><th>Pacific Island Countries and territories</th><th>TOPIC10</th><th>Topic11</th><th>INDICATOR12</th><th>Indicator13</th><th>SEX14</th><th>Sex15</th><th>AGE16</th><th>Age17</th><th>CONDITION</th><th>Women’s condition</th><th>VIOLENCE_TYPE</th><th>Type of violence</th><th>PERPETRATOR22</th><th>Perpetrator23</th><th>ACTUALITY24</th><th>Actuality25</th><th>LIFEPER</th><th>Period of life</th><th>OUTCOME28</th><th>Outcome29</th><th>RESPONSE30</th><th>Response31</th><th>HELP_REASON</th><th>Reason for searching help</th><th>HELP_PROVIDER</th><th>Help provider</th><th>OBS_VALUE</th><th>Observation value</th><th>UNIT_MEASURE</th><th>Unit of measure</th><th>UNIT_MULT</th><th>Unit multiplier</th><th>OBS_STATUS</th><th>Observation Status</th><th>DATA_SOURCE</th><th>Data source</th><th>OBS_COMMENT</th><th>Comment</th></tr></thead><tbody><tr><td>DATAFLOW</td><td>SPC:DF_VAW(1.0)</td><td>Violence against women</td><td>I</td><td>A</td><td>Annual</td><td>2006</td><td>null</td><td>WS</td><td>Samoa</td><td>VAW_TOPIC_005</td><td>Acts of emotional  violence by partners</td><td>NUMPERRF</td><td>Number of persons in relative frequency</td><td>F</td><td>Female</td><td>Y15T64</td><td>15-64</td><td>EVPART</td><td>Ever-partnered</td><td>EMO_SCA</td><td>Scared or intimidated</td><td>PARTNER</td><td>Partner</td><td>ALOLIFE</td><td>At least once in their lifetime</td><td>_T</td><td>Any</td><td>_T</td><td>Any</td><td>_T</td><td>Any</td><td>_T</td><td>Any</td><td>_T</td><td>Any</td><td>9.9</td><td>null</td><td>PERCENT</td><td>percent</td><td>null</td><td>null</td><td>null</td><td>null</td><td>null</td><td>null</td><td>Women 15-49.</td><td>null</td></tr><tr><td>DATAFLOW</td><td>SPC:DF_VAW(1.0)</td><td>Violence against women</td><td>I</td><td>A</td><td>Annual</td><td>2006</td><td>null</td><td>WS</td><td>Samoa</td><td>VAW_TOPIC_012</td><td>Impact of partner violence on women's health and wellbeing</td><td>NUMPERRF</td><td>Number of persons in relative frequency</td><td>F</td><td>Female</td><td>Y15T64</td><td>15-64</td><td>_T</td><td>Any</td><td>_T</td><td>Any</td><td>PARTNER</td><td>Partner</td><td>_T</td><td>Any</td><td>_T</td><td>Any</td><td>SUICIDEATT</td><td>Ever attempting suicide</td><td>_T</td><td>Any</td><td>_T</td><td>Any</td><td>_T</td><td>Any</td><td>5.3</td><td>null</td><td>PERCENT</td><td>percent</td><td>null</td><td>null</td><td>null</td><td>null</td><td>null</td><td>null</td><td>Women 15-49.</td><td>null</td></tr><tr><td>DATAFLOW</td><td>SPC:DF_VAW(1.0)</td><td>Violence against women</td><td>I</td><td>A</td><td>Annual</td><td>2006</td><td>null</td><td>WS</td><td>Samoa</td><td>VAW_TOPIC_017</td><td>Seeking and receiving help</td><td>NUMPERRF</td><td>Number of persons in relative frequency</td><td>F</td><td>Female</td><td>Y15T64</td><td>15-64</td><td>_T</td><td>Any</td><td>_T</td><td>Any</td><td>_T</td><td>Any</td><td>_T</td><td>Any</td><td>_T</td><td>Any</td><td>_T</td><td>Any</td><td>_T</td><td>Any</td><td>_T</td><td>Any</td><td>FRIENDS</td><td>Friends</td><td>9.2</td><td>null</td><td>PERCENT</td><td>percent</td><td>null</td><td>null</td><td>null</td><td>null</td><td>null</td><td>null</td><td>Women 15-49.</td><td>null</td></tr><tr><td>DATAFLOW</td><td>SPC:DF_VAW(1.0)</td><td>Violence against women</td><td>I</td><td>A</td><td>Annual</td><td>2007</td><td>null</td><td>TV</td><td>Tuvalu</td><td>VAW_TOPIC_006</td><td>Acts of controlling behaviours by partners</td><td>NUMPERRF</td><td>Number of persons in relative frequency</td><td>F</td><td>Female</td><td>Y15T64</td><td>15-64</td><td>EVPART</td><td>Ever-partnered</td><td>CONT_UNFAITH</td><td>Partner often suspicious she is unfaithful</td><td>PARTNER</td><td>Partner</td><td>ALO12M</td><td>At least once in the past 12 months</td><td>_T</td><td>Any</td><td>_T</td><td>Any</td><td>_T</td><td>Any</td><td>_T</td><td>Any</td><td>_T</td><td>Any</td><td>null</td><td>null</td><td>PERCENT</td><td>percent</td><td>null</td><td>null</td><td>O</td><td>Missing value</td><td>null</td><td>null</td><td>Ever married women 15-49.</td><td>null</td></tr><tr><td>DATAFLOW</td><td>SPC:DF_VAW(1.0)</td><td>Violence against women</td><td>I</td><td>A</td><td>Annual</td><td>2007</td><td>null</td><td>TV</td><td>Tuvalu</td><td>VAW_TOPIC_007</td><td>Types of violence against women by others (non-partners)</td><td>NUMPERRF</td><td>Number of persons in relative frequency</td><td>F</td><td>Female</td><td>Y15T64</td><td>15-64</td><td>_T</td><td>Any</td><td>SEX</td><td>Sexual violence</td><td>NONPART</td><td>Non-partner</td><td>ALOLIFE</td><td>At least once in their lifetime</td><td>SINCE15</td><td>Since the age of 15</td><td>_T</td><td>Any</td><td>_T</td><td>Any</td><td>_T</td><td>Any</td><td>_T</td><td>Any</td><td>null</td><td>null</td><td>PERCENT</td><td>percent</td><td>null</td><td>null</td><td>O</td><td>Missing value</td><td>null</td><td>null</td><td>Ever married women 15-49.</td><td>null</td></tr><tr><td>DATAFLOW</td><td>SPC:DF_VAW(1.0)</td><td>Violence against women</td><td>I</td><td>A</td><td>Annual</td><td>2007</td><td>null</td><td>TV</td><td>Tuvalu</td><td>VAW_TOPIC_013</td><td>Impact of partner violence on women's reproductive health</td><td>NUMPERRF</td><td>Number of persons in relative frequency</td><td>F</td><td>Female</td><td>Y15T64</td><td>15-64</td><td>EVPREG</td><td>Ever pregnant</td><td>_T</td><td>Any</td><td>PARTNER</td><td>Partner</td><td>_T</td><td>Any</td><td>_T</td><td>Any</td><td>STILB</td><td>Ever had stillbirths</td><td>_T</td><td>Any</td><td>_T</td><td>Any</td><td>_T</td><td>Any</td><td>null</td><td>null</td><td>PERCENT</td><td>percent</td><td>null</td><td>null</td><td>O</td><td>Missing value</td><td>null</td><td>null</td><td>Ever married women 15-49.</td><td>null</td></tr><tr><td>DATAFLOW</td><td>SPC:DF_VAW(1.0)</td><td>Violence against women</td><td>I</td><td>A</td><td>Annual</td><td>2007</td><td>null</td><td>TV</td><td>Tuvalu</td><td>VAW_TOPIC_015</td><td>Impact of partner violence on the wellbeing of children</td><td>NUMPERRF</td><td>Number of persons in relative frequency</td><td>F</td><td>Female</td><td>Y15T64</td><td>15-64</td><td>CHI614</td><td>With children 6-14 years old</td><td>_T</td><td>Any</td><td>_T</td><td>Any</td><td>_T</td><td>Any</td><td>_T</td><td>Any</td><td>AL1CHILDQUIET</td><td>At least one of her children being quiet/withdrawn</td><td>_T</td><td>Any</td><td>_T</td><td>Any</td><td>_T</td><td>Any</td><td>null</td><td>null</td><td>PERCENT</td><td>percent</td><td>null</td><td>null</td><td>O</td><td>Missing value</td><td>null</td><td>null</td><td>Ever married women 15-49.</td><td>null</td></tr><tr><td>DATAFLOW</td><td>SPC:DF_VAW(1.0)</td><td>Violence against women</td><td>I</td><td>A</td><td>Annual</td><td>2007</td><td>null</td><td>TV</td><td>Tuvalu</td><td>VAW_TOPIC_018</td><td>Reasons for seeking help</td><td>NUMPERRF</td><td>Number of persons in relative frequency</td><td>F</td><td>Female</td><td>Y15T64</td><td>15-64</td><td>_T</td><td>Any</td><td>_T</td><td>Any</td><td>PARTNER</td><td>Partner</td><td>_T</td><td>Any</td><td>_T</td><td>Any</td><td>_T</td><td>Any</td><td>_T</td><td>Any</td><td>THRKILL</td><td>Threatened or tried to kill her</td><td>_T</td><td>Any</td><td>null</td><td>null</td><td>PERCENT</td><td>percent</td><td>null</td><td>null</td><td>O</td><td>Missing value</td><td>null</td><td>null</td><td>Ever married women 15-49.</td><td>null</td></tr><tr><td>DATAFLOW</td><td>SPC:DF_VAW(1.0)</td><td>Violence against women</td><td>I</td><td>A</td><td>Annual</td><td>2007</td><td>null</td><td>MH</td><td>Marshall Islands</td><td>VAW_TOPIC_003</td><td>Act of physical violence by partners</td><td>NUMPERRF</td><td>Number of persons in relative frequency</td><td>F</td><td>Female</td><td>Y15T64</td><td>15-64</td><td>EVPART</td><td>Ever-partnered</td><td>PHYS_CHOK</td><td>Choked or burnt on purpose</td><td>PARTNER</td><td>Partner</td><td>ALOLIFE</td><td>At least once in their lifetime</td><td>_T</td><td>Any</td><td>_T</td><td>Any</td><td>_T</td><td>Any</td><td>_T</td><td>Any</td><td>_T</td><td>Any</td><td>2.6</td><td>null</td><td>PERCENT</td><td>percent</td><td>null</td><td>null</td><td>null</td><td>null</td><td>null</td><td>null</td><td>null</td><td>null</td></tr><tr><td>DATAFLOW</td><td>SPC:DF_VAW(1.0)</td><td>Violence against women</td><td>I</td><td>A</td><td>Annual</td><td>2012</td><td>null</td><td>MH</td><td>Marshall Islands</td><td>VAW_TOPIC_003</td><td>Act of physical violence by partners</td><td>NUMPERRF</td><td>Number of persons in relative frequency</td><td>F</td><td>Female</td><td>Y15T64</td><td>15-64</td><td>EVPART</td><td>Ever-partnered</td><td>PHYS_CHOK</td><td>Choked or burnt on purpose</td><td>PARTNER</td><td>Partner</td><td>ALOLIFE</td><td>At least once in their lifetime</td><td>_T</td><td>Any</td><td>_T</td><td>Any</td><td>_T</td><td>Any</td><td>_T</td><td>Any</td><td>_T</td><td>Any</td><td>8.7</td><td>null</td><td>PERCENT</td><td>percent</td><td>null</td><td>null</td><td>null</td><td>null</td><td>null</td><td>null</td><td>null</td><td>null</td></tr><tr><td>DATAFLOW</td><td>SPC:DF_VAW(1.0)</td><td>Violence against women</td><td>I</td><td>A</td><td>Annual</td><td>2007</td><td>null</td><td>MH</td><td>Marshall Islands</td><td>VAW_TOPIC_005</td><td>Acts of emotional  violence by partners</td><td>NUMPERRF</td><td>Number of persons in relative frequency</td><td>F</td><td>Female</td><td>Y15T64</td><td>15-64</td><td>EVPART</td><td>Ever-partnered</td><td>EMO_SCA</td><td>Scared or intimidated</td><td>PARTNER</td><td>Partner</td><td>ALOLIFE</td><td>At least once in their lifetime</td><td>_T</td><td>Any</td><td>_T</td><td>Any</td><td>_T</td><td>Any</td><td>_T</td><td>Any</td><td>_T</td><td>Any</td><td>8.6</td><td>null</td><td>PERCENT</td><td>percent</td><td>null</td><td>null</td><td>null</td><td>null</td><td>null</td><td>null</td><td>null</td><td>null</td></tr><tr><td>DATAFLOW</td><td>SPC:DF_VAW(1.0)</td><td>Violence against women</td><td>I</td><td>A</td><td>Annual</td><td>2012</td><td>null</td><td>MH</td><td>Marshall Islands</td><td>VAW_TOPIC_005</td><td>Acts of emotional  violence by partners</td><td>NUMPERRF</td><td>Number of persons in relative frequency</td><td>F</td><td>Female</td><td>Y15T64</td><td>15-64</td><td>EVPART</td><td>Ever-partnered</td><td>EMO_SCA</td><td>Scared or intimidated</td><td>PARTNER</td><td>Partner</td><td>ALOLIFE</td><td>At least once in their lifetime</td><td>_T</td><td>Any</td><td>_T</td><td>Any</td><td>_T</td><td>Any</td><td>_T</td><td>Any</td><td>_T</td><td>Any</td><td>32.5</td><td>null</td><td>PERCENT</td><td>percent</td><td>null</td><td>null</td><td>null</td><td>null</td><td>null</td><td>null</td><td>null</td><td>null</td></tr><tr><td>DATAFLOW</td><td>SPC:DF_VAW(1.0)</td><td>Violence against women</td><td>I</td><td>A</td><td>Annual</td><td>2007</td><td>null</td><td>MH</td><td>Marshall Islands</td><td>VAW_TOPIC_010</td><td>Child sexual abuse prevalence by type of perpetrator</td><td>NUMPERRF</td><td>Number of persons in relative frequency</td><td>F</td><td>Female</td><td>Y15T64</td><td>15-64</td><td>_T</td><td>Any</td><td>SEX_CHILD</td><td>Child sexual abuse</td><td>_T</td><td>Any</td><td>_T</td><td>Any</td><td>BEFORE15</td><td>Before age of 15</td><td>_T</td><td>Any</td><td>_T</td><td>Any</td><td>_T</td><td>Any</td><td>_T</td><td>Any</td><td>null</td><td>null</td><td>PERCENT</td><td>percent</td><td>null</td><td>null</td><td>O</td><td>Missing value</td><td>null</td><td>null</td><td>null</td><td>null</td></tr><tr><td>DATAFLOW</td><td>SPC:DF_VAW(1.0)</td><td>Violence against women</td><td>I</td><td>A</td><td>Annual</td><td>2012</td><td>null</td><td>MH</td><td>Marshall Islands</td><td>VAW_TOPIC_010</td><td>Child sexual abuse prevalence by type of perpetrator</td><td>NUMPERRF</td><td>Number of persons in relative frequency</td><td>F</td><td>Female</td><td>Y15T64</td><td>15-64</td><td>_T</td><td>Any</td><td>SEX_CHILD</td><td>Child sexual abuse</td><td>_T</td><td>Any</td><td>_T</td><td>Any</td><td>BEFORE15</td><td>Before age of 15</td><td>_T</td><td>Any</td><td>_T</td><td>Any</td><td>_T</td><td>Any</td><td>_T</td><td>Any</td><td>10.8</td><td>null</td><td>PERCENT</td><td>percent</td><td>null</td><td>null</td><td>null</td><td>null</td><td>null</td><td>null</td><td>null</td><td>null</td></tr><tr><td>DATAFLOW</td><td>SPC:DF_VAW(1.0)</td><td>Violence against women</td><td>I</td><td>A</td><td>Annual</td><td>2007</td><td>null</td><td>MH</td><td>Marshall Islands</td><td>VAW_TOPIC_012</td><td>Impact of partner violence on women's health and wellbeing</td><td>NUMPERRF</td><td>Number of persons in relative frequency</td><td>F</td><td>Female</td><td>Y15T64</td><td>15-64</td><td>_T</td><td>Any</td><td>_T</td><td>Any</td><td>PARTNER</td><td>Partner</td><td>_T</td><td>Any</td><td>_T</td><td>Any</td><td>SUICIDETHI</td><td>Thinking about suicide</td><td>_T</td><td>Any</td><td>_T</td><td>Any</td><td>_T</td><td>Any</td><td>null</td><td>null</td><td>PERCENT</td><td>percent</td><td>null</td><td>null</td><td>O</td><td>Missing value</td><td>null</td><td>null</td><td>null</td><td>null</td></tr><tr><td>DATAFLOW</td><td>SPC:DF_VAW(1.0)</td><td>Violence against women</td><td>I</td><td>A</td><td>Annual</td><td>2012</td><td>null</td><td>MH</td><td>Marshall Islands</td><td>VAW_TOPIC_012</td><td>Impact of partner violence on women's health and wellbeing</td><td>NUMPERRF</td><td>Number of persons in relative frequency</td><td>F</td><td>Female</td><td>Y15T64</td><td>15-64</td><td>_T</td><td>Any</td><td>_T</td><td>Any</td><td>PARTNER</td><td>Partner</td><td>_T</td><td>Any</td><td>_T</td><td>Any</td><td>SUICIDETHI</td><td>Thinking about suicide</td><td>_T</td><td>Any</td><td>_T</td><td>Any</td><td>_T</td><td>Any</td><td>8.5</td><td>null</td><td>PERCENT</td><td>percent</td><td>null</td><td>null</td><td>null</td><td>null</td><td>null</td><td>null</td><td>null</td><td>null</td></tr><tr><td>DATAFLOW</td><td>SPC:DF_VAW(1.0)</td><td>Violence against women</td><td>I</td><td>A</td><td>Annual</td><td>2009</td><td>null</td><td>TO</td><td>Tonga</td><td>VAW_TOPIC_001</td><td>Types of violence against women by partner</td><td>NUMPERRF</td><td>Number of persons in relative frequency</td><td>F</td><td>Female</td><td>Y15T64</td><td>15-64</td><td>EVPART</td><td>Ever-partnered</td><td>EMO</td><td>Emotional violence</td><td>PARTNER</td><td>Partner</td><td>ALOLIFE</td><td>At least once in their lifetime</td><td>_T</td><td>Any</td><td>_T</td><td>Any</td><td>_T</td><td>Any</td><td>_T</td><td>Any</td><td>_T</td><td>Any</td><td>24.0</td><td>null</td><td>PERCENT</td><td>percent</td><td>null</td><td>null</td><td>null</td><td>null</td><td>null</td><td>null</td><td>null</td><td>null</td></tr><tr><td>DATAFLOW</td><td>SPC:DF_VAW(1.0)</td><td>Violence against women</td><td>I</td><td>A</td><td>Annual</td><td>2019</td><td>null</td><td>TO</td><td>Tonga</td><td>VAW_TOPIC_001</td><td>Types of violence against women by partner</td><td>NUMPERRF</td><td>Number of persons in relative frequency</td><td>F</td><td>Female</td><td>Y15T64</td><td>15-64</td><td>EVPART</td><td>Ever-partnered</td><td>EMO</td><td>Emotional violence</td><td>PARTNER</td><td>Partner</td><td>ALOLIFE</td><td>At least once in their lifetime</td><td>_T</td><td>Any</td><td>_T</td><td>Any</td><td>_T</td><td>Any</td><td>_T</td><td>Any</td><td>_T</td><td>Any</td><td>17.8</td><td>null</td><td>PERCENT</td><td>percent</td><td>null</td><td>null</td><td>null</td><td>null</td><td>null</td><td>null</td><td>Women 15-49.</td><td>null</td></tr><tr><td>DATAFLOW</td><td>SPC:DF_VAW(1.0)</td><td>Violence against women</td><td>I</td><td>A</td><td>Annual</td><td>2009</td><td>null</td><td>TO</td><td>Tonga</td><td>VAW_TOPIC_003</td><td>Act of physical violence by partners</td><td>NUMPERRF</td><td>Number of persons in relative frequency</td><td>F</td><td>Female</td><td>Y15T64</td><td>15-64</td><td>EVPART</td><td>Ever-partnered</td><td>PHYS_WEAP</td><td>Threatened with or had a gun, knife or weapon used on them</td><td>PARTNER</td><td>Partner</td><td>ALO12M</td><td>At least once in the past 12 months</td><td>_T</td><td>Any</td><td>_T</td><td>Any</td><td>_T</td><td>Any</td><td>_T</td><td>Any</td><td>_T</td><td>Any</td><td>2.6</td><td>null</td><td>PERCENT</td><td>percent</td><td>null</td><td>null</td><td>null</td><td>null</td><td>null</td><td>null</td><td>null</td><td>null</td></tr><tr><td>DATAFLOW</td><td>SPC:DF_VAW(1.0)</td><td>Violence against women</td><td>I</td><td>A</td><td>Annual</td><td>2019</td><td>null</td><td>TO</td><td>Tonga</td><td>VAW_TOPIC_003</td><td>Act of physical violence by partners</td><td>NUMPERRF</td><td>Number of persons in relative frequency</td><td>F</td><td>Female</td><td>Y15T64</td><td>15-64</td><td>EVPART</td><td>Ever-partnered</td><td>PHYS_WEAP</td><td>Threatened with or had a gun, knife or weapon used on them</td><td>PARTNER</td><td>Partner</td><td>ALO12M</td><td>At least once in the past 12 months</td><td>_T</td><td>Any</td><td>_T</td><td>Any</td><td>_T</td><td>Any</td><td>_T</td><td>Any</td><td>_T</td><td>Any</td><td>1.1</td><td>null</td><td>PERCENT</td><td>percent</td><td>null</td><td>null</td><td>null</td><td>null</td><td>null</td><td>null</td><td>Women 15-49.</td><td>null</td></tr></tbody></table></div>"
      ]
     },
     "metadata": {
      "application/vnd.databricks.v1+output": {
       "addedWidgets": {},
       "aggData": [],
       "aggError": "",
       "aggOverflow": false,
       "aggSchema": [],
       "aggSeriesLimitReached": false,
       "aggType": "",
       "arguments": {},
       "columnCustomDisplayInfos": {},
       "data": [
        [
         "DATAFLOW",
         "SPC:DF_VAW(1.0)",
         "Violence against women",
         "I",
         "A",
         "Annual",
         2006,
         null,
         "WS",
         "Samoa",
         "VAW_TOPIC_005",
         "Acts of emotional  violence by partners",
         "NUMPERRF",
         "Number of persons in relative frequency",
         "F",
         "Female",
         "Y15T64",
         "15-64",
         "EVPART",
         "Ever-partnered",
         "EMO_SCA",
         "Scared or intimidated",
         "PARTNER",
         "Partner",
         "ALOLIFE",
         "At least once in their lifetime",
         "_T",
         "Any",
         "_T",
         "Any",
         "_T",
         "Any",
         "_T",
         "Any",
         "_T",
         "Any",
         9.9,
         null,
         "PERCENT",
         "percent",
         null,
         null,
         null,
         null,
         null,
         null,
         "Women 15-49.",
         null
        ],
        [
         "DATAFLOW",
         "SPC:DF_VAW(1.0)",
         "Violence against women",
         "I",
         "A",
         "Annual",
         2006,
         null,
         "WS",
         "Samoa",
         "VAW_TOPIC_012",
         "Impact of partner violence on women's health and wellbeing",
         "NUMPERRF",
         "Number of persons in relative frequency",
         "F",
         "Female",
         "Y15T64",
         "15-64",
         "_T",
         "Any",
         "_T",
         "Any",
         "PARTNER",
         "Partner",
         "_T",
         "Any",
         "_T",
         "Any",
         "SUICIDEATT",
         "Ever attempting suicide",
         "_T",
         "Any",
         "_T",
         "Any",
         "_T",
         "Any",
         5.3,
         null,
         "PERCENT",
         "percent",
         null,
         null,
         null,
         null,
         null,
         null,
         "Women 15-49.",
         null
        ],
        [
         "DATAFLOW",
         "SPC:DF_VAW(1.0)",
         "Violence against women",
         "I",
         "A",
         "Annual",
         2006,
         null,
         "WS",
         "Samoa",
         "VAW_TOPIC_017",
         "Seeking and receiving help",
         "NUMPERRF",
         "Number of persons in relative frequency",
         "F",
         "Female",
         "Y15T64",
         "15-64",
         "_T",
         "Any",
         "_T",
         "Any",
         "_T",
         "Any",
         "_T",
         "Any",
         "_T",
         "Any",
         "_T",
         "Any",
         "_T",
         "Any",
         "_T",
         "Any",
         "FRIENDS",
         "Friends",
         9.2,
         null,
         "PERCENT",
         "percent",
         null,
         null,
         null,
         null,
         null,
         null,
         "Women 15-49.",
         null
        ],
        [
         "DATAFLOW",
         "SPC:DF_VAW(1.0)",
         "Violence against women",
         "I",
         "A",
         "Annual",
         2007,
         null,
         "TV",
         "Tuvalu",
         "VAW_TOPIC_006",
         "Acts of controlling behaviours by partners",
         "NUMPERRF",
         "Number of persons in relative frequency",
         "F",
         "Female",
         "Y15T64",
         "15-64",
         "EVPART",
         "Ever-partnered",
         "CONT_UNFAITH",
         "Partner often suspicious she is unfaithful",
         "PARTNER",
         "Partner",
         "ALO12M",
         "At least once in the past 12 months",
         "_T",
         "Any",
         "_T",
         "Any",
         "_T",
         "Any",
         "_T",
         "Any",
         "_T",
         "Any",
         null,
         null,
         "PERCENT",
         "percent",
         null,
         null,
         "O",
         "Missing value",
         null,
         null,
         "Ever married women 15-49.",
         null
        ],
        [
         "DATAFLOW",
         "SPC:DF_VAW(1.0)",
         "Violence against women",
         "I",
         "A",
         "Annual",
         2007,
         null,
         "TV",
         "Tuvalu",
         "VAW_TOPIC_007",
         "Types of violence against women by others (non-partners)",
         "NUMPERRF",
         "Number of persons in relative frequency",
         "F",
         "Female",
         "Y15T64",
         "15-64",
         "_T",
         "Any",
         "SEX",
         "Sexual violence",
         "NONPART",
         "Non-partner",
         "ALOLIFE",
         "At least once in their lifetime",
         "SINCE15",
         "Since the age of 15",
         "_T",
         "Any",
         "_T",
         "Any",
         "_T",
         "Any",
         "_T",
         "Any",
         null,
         null,
         "PERCENT",
         "percent",
         null,
         null,
         "O",
         "Missing value",
         null,
         null,
         "Ever married women 15-49.",
         null
        ],
        [
         "DATAFLOW",
         "SPC:DF_VAW(1.0)",
         "Violence against women",
         "I",
         "A",
         "Annual",
         2007,
         null,
         "TV",
         "Tuvalu",
         "VAW_TOPIC_013",
         "Impact of partner violence on women's reproductive health",
         "NUMPERRF",
         "Number of persons in relative frequency",
         "F",
         "Female",
         "Y15T64",
         "15-64",
         "EVPREG",
         "Ever pregnant",
         "_T",
         "Any",
         "PARTNER",
         "Partner",
         "_T",
         "Any",
         "_T",
         "Any",
         "STILB",
         "Ever had stillbirths",
         "_T",
         "Any",
         "_T",
         "Any",
         "_T",
         "Any",
         null,
         null,
         "PERCENT",
         "percent",
         null,
         null,
         "O",
         "Missing value",
         null,
         null,
         "Ever married women 15-49.",
         null
        ],
        [
         "DATAFLOW",
         "SPC:DF_VAW(1.0)",
         "Violence against women",
         "I",
         "A",
         "Annual",
         2007,
         null,
         "TV",
         "Tuvalu",
         "VAW_TOPIC_015",
         "Impact of partner violence on the wellbeing of children",
         "NUMPERRF",
         "Number of persons in relative frequency",
         "F",
         "Female",
         "Y15T64",
         "15-64",
         "CHI614",
         "With children 6-14 years old",
         "_T",
         "Any",
         "_T",
         "Any",
         "_T",
         "Any",
         "_T",
         "Any",
         "AL1CHILDQUIET",
         "At least one of her children being quiet/withdrawn",
         "_T",
         "Any",
         "_T",
         "Any",
         "_T",
         "Any",
         null,
         null,
         "PERCENT",
         "percent",
         null,
         null,
         "O",
         "Missing value",
         null,
         null,
         "Ever married women 15-49.",
         null
        ],
        [
         "DATAFLOW",
         "SPC:DF_VAW(1.0)",
         "Violence against women",
         "I",
         "A",
         "Annual",
         2007,
         null,
         "TV",
         "Tuvalu",
         "VAW_TOPIC_018",
         "Reasons for seeking help",
         "NUMPERRF",
         "Number of persons in relative frequency",
         "F",
         "Female",
         "Y15T64",
         "15-64",
         "_T",
         "Any",
         "_T",
         "Any",
         "PARTNER",
         "Partner",
         "_T",
         "Any",
         "_T",
         "Any",
         "_T",
         "Any",
         "_T",
         "Any",
         "THRKILL",
         "Threatened or tried to kill her",
         "_T",
         "Any",
         null,
         null,
         "PERCENT",
         "percent",
         null,
         null,
         "O",
         "Missing value",
         null,
         null,
         "Ever married women 15-49.",
         null
        ],
        [
         "DATAFLOW",
         "SPC:DF_VAW(1.0)",
         "Violence against women",
         "I",
         "A",
         "Annual",
         2007,
         null,
         "MH",
         "Marshall Islands",
         "VAW_TOPIC_003",
         "Act of physical violence by partners",
         "NUMPERRF",
         "Number of persons in relative frequency",
         "F",
         "Female",
         "Y15T64",
         "15-64",
         "EVPART",
         "Ever-partnered",
         "PHYS_CHOK",
         "Choked or burnt on purpose",
         "PARTNER",
         "Partner",
         "ALOLIFE",
         "At least once in their lifetime",
         "_T",
         "Any",
         "_T",
         "Any",
         "_T",
         "Any",
         "_T",
         "Any",
         "_T",
         "Any",
         2.6,
         null,
         "PERCENT",
         "percent",
         null,
         null,
         null,
         null,
         null,
         null,
         null,
         null
        ],
        [
         "DATAFLOW",
         "SPC:DF_VAW(1.0)",
         "Violence against women",
         "I",
         "A",
         "Annual",
         2012,
         null,
         "MH",
         "Marshall Islands",
         "VAW_TOPIC_003",
         "Act of physical violence by partners",
         "NUMPERRF",
         "Number of persons in relative frequency",
         "F",
         "Female",
         "Y15T64",
         "15-64",
         "EVPART",
         "Ever-partnered",
         "PHYS_CHOK",
         "Choked or burnt on purpose",
         "PARTNER",
         "Partner",
         "ALOLIFE",
         "At least once in their lifetime",
         "_T",
         "Any",
         "_T",
         "Any",
         "_T",
         "Any",
         "_T",
         "Any",
         "_T",
         "Any",
         8.7,
         null,
         "PERCENT",
         "percent",
         null,
         null,
         null,
         null,
         null,
         null,
         null,
         null
        ],
        [
         "DATAFLOW",
         "SPC:DF_VAW(1.0)",
         "Violence against women",
         "I",
         "A",
         "Annual",
         2007,
         null,
         "MH",
         "Marshall Islands",
         "VAW_TOPIC_005",
         "Acts of emotional  violence by partners",
         "NUMPERRF",
         "Number of persons in relative frequency",
         "F",
         "Female",
         "Y15T64",
         "15-64",
         "EVPART",
         "Ever-partnered",
         "EMO_SCA",
         "Scared or intimidated",
         "PARTNER",
         "Partner",
         "ALOLIFE",
         "At least once in their lifetime",
         "_T",
         "Any",
         "_T",
         "Any",
         "_T",
         "Any",
         "_T",
         "Any",
         "_T",
         "Any",
         8.6,
         null,
         "PERCENT",
         "percent",
         null,
         null,
         null,
         null,
         null,
         null,
         null,
         null
        ],
        [
         "DATAFLOW",
         "SPC:DF_VAW(1.0)",
         "Violence against women",
         "I",
         "A",
         "Annual",
         2012,
         null,
         "MH",
         "Marshall Islands",
         "VAW_TOPIC_005",
         "Acts of emotional  violence by partners",
         "NUMPERRF",
         "Number of persons in relative frequency",
         "F",
         "Female",
         "Y15T64",
         "15-64",
         "EVPART",
         "Ever-partnered",
         "EMO_SCA",
         "Scared or intimidated",
         "PARTNER",
         "Partner",
         "ALOLIFE",
         "At least once in their lifetime",
         "_T",
         "Any",
         "_T",
         "Any",
         "_T",
         "Any",
         "_T",
         "Any",
         "_T",
         "Any",
         32.5,
         null,
         "PERCENT",
         "percent",
         null,
         null,
         null,
         null,
         null,
         null,
         null,
         null
        ],
        [
         "DATAFLOW",
         "SPC:DF_VAW(1.0)",
         "Violence against women",
         "I",
         "A",
         "Annual",
         2007,
         null,
         "MH",
         "Marshall Islands",
         "VAW_TOPIC_010",
         "Child sexual abuse prevalence by type of perpetrator",
         "NUMPERRF",
         "Number of persons in relative frequency",
         "F",
         "Female",
         "Y15T64",
         "15-64",
         "_T",
         "Any",
         "SEX_CHILD",
         "Child sexual abuse",
         "_T",
         "Any",
         "_T",
         "Any",
         "BEFORE15",
         "Before age of 15",
         "_T",
         "Any",
         "_T",
         "Any",
         "_T",
         "Any",
         "_T",
         "Any",
         null,
         null,
         "PERCENT",
         "percent",
         null,
         null,
         "O",
         "Missing value",
         null,
         null,
         null,
         null
        ],
        [
         "DATAFLOW",
         "SPC:DF_VAW(1.0)",
         "Violence against women",
         "I",
         "A",
         "Annual",
         2012,
         null,
         "MH",
         "Marshall Islands",
         "VAW_TOPIC_010",
         "Child sexual abuse prevalence by type of perpetrator",
         "NUMPERRF",
         "Number of persons in relative frequency",
         "F",
         "Female",
         "Y15T64",
         "15-64",
         "_T",
         "Any",
         "SEX_CHILD",
         "Child sexual abuse",
         "_T",
         "Any",
         "_T",
         "Any",
         "BEFORE15",
         "Before age of 15",
         "_T",
         "Any",
         "_T",
         "Any",
         "_T",
         "Any",
         "_T",
         "Any",
         10.8,
         null,
         "PERCENT",
         "percent",
         null,
         null,
         null,
         null,
         null,
         null,
         null,
         null
        ],
        [
         "DATAFLOW",
         "SPC:DF_VAW(1.0)",
         "Violence against women",
         "I",
         "A",
         "Annual",
         2007,
         null,
         "MH",
         "Marshall Islands",
         "VAW_TOPIC_012",
         "Impact of partner violence on women's health and wellbeing",
         "NUMPERRF",
         "Number of persons in relative frequency",
         "F",
         "Female",
         "Y15T64",
         "15-64",
         "_T",
         "Any",
         "_T",
         "Any",
         "PARTNER",
         "Partner",
         "_T",
         "Any",
         "_T",
         "Any",
         "SUICIDETHI",
         "Thinking about suicide",
         "_T",
         "Any",
         "_T",
         "Any",
         "_T",
         "Any",
         null,
         null,
         "PERCENT",
         "percent",
         null,
         null,
         "O",
         "Missing value",
         null,
         null,
         null,
         null
        ],
        [
         "DATAFLOW",
         "SPC:DF_VAW(1.0)",
         "Violence against women",
         "I",
         "A",
         "Annual",
         2012,
         null,
         "MH",
         "Marshall Islands",
         "VAW_TOPIC_012",
         "Impact of partner violence on women's health and wellbeing",
         "NUMPERRF",
         "Number of persons in relative frequency",
         "F",
         "Female",
         "Y15T64",
         "15-64",
         "_T",
         "Any",
         "_T",
         "Any",
         "PARTNER",
         "Partner",
         "_T",
         "Any",
         "_T",
         "Any",
         "SUICIDETHI",
         "Thinking about suicide",
         "_T",
         "Any",
         "_T",
         "Any",
         "_T",
         "Any",
         8.5,
         null,
         "PERCENT",
         "percent",
         null,
         null,
         null,
         null,
         null,
         null,
         null,
         null
        ],
        [
         "DATAFLOW",
         "SPC:DF_VAW(1.0)",
         "Violence against women",
         "I",
         "A",
         "Annual",
         2009,
         null,
         "TO",
         "Tonga",
         "VAW_TOPIC_001",
         "Types of violence against women by partner",
         "NUMPERRF",
         "Number of persons in relative frequency",
         "F",
         "Female",
         "Y15T64",
         "15-64",
         "EVPART",
         "Ever-partnered",
         "EMO",
         "Emotional violence",
         "PARTNER",
         "Partner",
         "ALOLIFE",
         "At least once in their lifetime",
         "_T",
         "Any",
         "_T",
         "Any",
         "_T",
         "Any",
         "_T",
         "Any",
         "_T",
         "Any",
         24.0,
         null,
         "PERCENT",
         "percent",
         null,
         null,
         null,
         null,
         null,
         null,
         null,
         null
        ],
        [
         "DATAFLOW",
         "SPC:DF_VAW(1.0)",
         "Violence against women",
         "I",
         "A",
         "Annual",
         2019,
         null,
         "TO",
         "Tonga",
         "VAW_TOPIC_001",
         "Types of violence against women by partner",
         "NUMPERRF",
         "Number of persons in relative frequency",
         "F",
         "Female",
         "Y15T64",
         "15-64",
         "EVPART",
         "Ever-partnered",
         "EMO",
         "Emotional violence",
         "PARTNER",
         "Partner",
         "ALOLIFE",
         "At least once in their lifetime",
         "_T",
         "Any",
         "_T",
         "Any",
         "_T",
         "Any",
         "_T",
         "Any",
         "_T",
         "Any",
         17.8,
         null,
         "PERCENT",
         "percent",
         null,
         null,
         null,
         null,
         null,
         null,
         "Women 15-49.",
         null
        ],
        [
         "DATAFLOW",
         "SPC:DF_VAW(1.0)",
         "Violence against women",
         "I",
         "A",
         "Annual",
         2009,
         null,
         "TO",
         "Tonga",
         "VAW_TOPIC_003",
         "Act of physical violence by partners",
         "NUMPERRF",
         "Number of persons in relative frequency",
         "F",
         "Female",
         "Y15T64",
         "15-64",
         "EVPART",
         "Ever-partnered",
         "PHYS_WEAP",
         "Threatened with or had a gun, knife or weapon used on them",
         "PARTNER",
         "Partner",
         "ALO12M",
         "At least once in the past 12 months",
         "_T",
         "Any",
         "_T",
         "Any",
         "_T",
         "Any",
         "_T",
         "Any",
         "_T",
         "Any",
         2.6,
         null,
         "PERCENT",
         "percent",
         null,
         null,
         null,
         null,
         null,
         null,
         null,
         null
        ],
        [
         "DATAFLOW",
         "SPC:DF_VAW(1.0)",
         "Violence against women",
         "I",
         "A",
         "Annual",
         2019,
         null,
         "TO",
         "Tonga",
         "VAW_TOPIC_003",
         "Act of physical violence by partners",
         "NUMPERRF",
         "Number of persons in relative frequency",
         "F",
         "Female",
         "Y15T64",
         "15-64",
         "EVPART",
         "Ever-partnered",
         "PHYS_WEAP",
         "Threatened with or had a gun, knife or weapon used on them",
         "PARTNER",
         "Partner",
         "ALO12M",
         "At least once in the past 12 months",
         "_T",
         "Any",
         "_T",
         "Any",
         "_T",
         "Any",
         "_T",
         "Any",
         "_T",
         "Any",
         1.1,
         null,
         "PERCENT",
         "percent",
         null,
         null,
         null,
         null,
         null,
         null,
         "Women 15-49.",
         null
        ]
       ],
       "datasetInfos": [],
       "dbfsResultPath": null,
       "isJsonSchema": true,
       "metadata": {},
       "overflow": false,
       "plotOptions": {
        "customPlotOptions": {},
        "displayType": "table",
        "pivotAggregation": null,
        "pivotColumns": null,
        "xColumns": null,
        "yColumns": null
       },
       "removedWidgets": [],
       "schema": [
        {
         "metadata": "{}",
         "name": "STRUCTURE",
         "type": "\"string\""
        },
        {
         "metadata": "{}",
         "name": "STRUCTURE_ID",
         "type": "\"string\""
        },
        {
         "metadata": "{}",
         "name": "STRUCTURE_NAME",
         "type": "\"string\""
        },
        {
         "metadata": "{}",
         "name": "ACTION",
         "type": "\"string\""
        },
        {
         "metadata": "{}",
         "name": "FREQ",
         "type": "\"string\""
        },
        {
         "metadata": "{}",
         "name": "Frequency",
         "type": "\"string\""
        },
        {
         "metadata": "{}",
         "name": "TIME_PERIOD",
         "type": "\"integer\""
        },
        {
         "metadata": "{}",
         "name": "Time",
         "type": "\"string\""
        },
        {
         "metadata": "{}",
         "name": "GEO_PICT",
         "type": "\"string\""
        },
        {
         "metadata": "{}",
         "name": "Pacific Island Countries and territories",
         "type": "\"string\""
        },
        {
         "metadata": "{}",
         "name": "TOPIC10",
         "type": "\"string\""
        },
        {
         "metadata": "{}",
         "name": "Topic11",
         "type": "\"string\""
        },
        {
         "metadata": "{}",
         "name": "INDICATOR12",
         "type": "\"string\""
        },
        {
         "metadata": "{}",
         "name": "Indicator13",
         "type": "\"string\""
        },
        {
         "metadata": "{}",
         "name": "SEX14",
         "type": "\"string\""
        },
        {
         "metadata": "{}",
         "name": "Sex15",
         "type": "\"string\""
        },
        {
         "metadata": "{}",
         "name": "AGE16",
         "type": "\"string\""
        },
        {
         "metadata": "{}",
         "name": "Age17",
         "type": "\"string\""
        },
        {
         "metadata": "{}",
         "name": "CONDITION",
         "type": "\"string\""
        },
        {
         "metadata": "{}",
         "name": "Women’s condition",
         "type": "\"string\""
        },
        {
         "metadata": "{}",
         "name": "VIOLENCE_TYPE",
         "type": "\"string\""
        },
        {
         "metadata": "{}",
         "name": "Type of violence",
         "type": "\"string\""
        },
        {
         "metadata": "{}",
         "name": "PERPETRATOR22",
         "type": "\"string\""
        },
        {
         "metadata": "{}",
         "name": "Perpetrator23",
         "type": "\"string\""
        },
        {
         "metadata": "{}",
         "name": "ACTUALITY24",
         "type": "\"string\""
        },
        {
         "metadata": "{}",
         "name": "Actuality25",
         "type": "\"string\""
        },
        {
         "metadata": "{}",
         "name": "LIFEPER",
         "type": "\"string\""
        },
        {
         "metadata": "{}",
         "name": "Period of life",
         "type": "\"string\""
        },
        {
         "metadata": "{}",
         "name": "OUTCOME28",
         "type": "\"string\""
        },
        {
         "metadata": "{}",
         "name": "Outcome29",
         "type": "\"string\""
        },
        {
         "metadata": "{}",
         "name": "RESPONSE30",
         "type": "\"string\""
        },
        {
         "metadata": "{}",
         "name": "Response31",
         "type": "\"string\""
        },
        {
         "metadata": "{}",
         "name": "HELP_REASON",
         "type": "\"string\""
        },
        {
         "metadata": "{}",
         "name": "Reason for searching help",
         "type": "\"string\""
        },
        {
         "metadata": "{}",
         "name": "HELP_PROVIDER",
         "type": "\"string\""
        },
        {
         "metadata": "{}",
         "name": "Help provider",
         "type": "\"string\""
        },
        {
         "metadata": "{}",
         "name": "OBS_VALUE",
         "type": "\"double\""
        },
        {
         "metadata": "{}",
         "name": "Observation value",
         "type": "\"string\""
        },
        {
         "metadata": "{}",
         "name": "UNIT_MEASURE",
         "type": "\"string\""
        },
        {
         "metadata": "{}",
         "name": "Unit of measure",
         "type": "\"string\""
        },
        {
         "metadata": "{}",
         "name": "UNIT_MULT",
         "type": "\"string\""
        },
        {
         "metadata": "{}",
         "name": "Unit multiplier",
         "type": "\"string\""
        },
        {
         "metadata": "{}",
         "name": "OBS_STATUS",
         "type": "\"string\""
        },
        {
         "metadata": "{}",
         "name": "Observation Status",
         "type": "\"string\""
        },
        {
         "metadata": "{}",
         "name": "DATA_SOURCE",
         "type": "\"string\""
        },
        {
         "metadata": "{}",
         "name": "Data source",
         "type": "\"string\""
        },
        {
         "metadata": "{}",
         "name": "OBS_COMMENT",
         "type": "\"string\""
        },
        {
         "metadata": "{}",
         "name": "Comment",
         "type": "\"string\""
        }
       ],
       "type": "table"
      }
     },
     "output_type": "display_data"
    }
   ],
   "source": [
    "pacific_df = spark.read\\\n",
    "                 .option(\"header\", \"true\")\\\n",
    "                 .option(\"inferSchema\", \"true\")\\\n",
    "                 .csv(\"abfss://datasets@tfmstorageacc.dfs.core.windows.net/violence_against_women_pacific.csv\")\n",
    "\n",
    "pacific_df.limit(20).display()"
   ]
  },
  {
   "cell_type": "markdown",
   "metadata": {
    "application/vnd.databricks.v1+cell": {
     "cellMetadata": {
      "byteLimit": 2048000,
      "rowLimit": 10000
     },
     "inputWidgets": {},
     "nuid": "9414e633-7808-4433-9a55-dcc8db670d15",
     "showTitle": false,
     "tableResultSettingsMap": {},
     "title": ""
    }
   },
   "source": [
    "There are a lot of columns and statistics, the first thing we need to do is select the statistics we are interested on, so lets see which are avaliable"
   ]
  },
  {
   "cell_type": "code",
   "execution_count": 0,
   "metadata": {
    "application/vnd.databricks.v1+cell": {
     "cellMetadata": {
      "byteLimit": 2048000,
      "rowLimit": 10000
     },
     "inputWidgets": {},
     "nuid": "e417f6d2-77c8-4515-a6c2-5cb66091b2c0",
     "showTitle": false,
     "tableResultSettingsMap": {},
     "title": ""
    }
   },
   "outputs": [
    {
     "output_type": "display_data",
     "data": {
      "text/html": [
       "<style scoped>\n",
       "  .table-result-container {\n",
       "    max-height: 300px;\n",
       "    overflow: auto;\n",
       "  }\n",
       "  table, th, td {\n",
       "    border: 1px solid black;\n",
       "    border-collapse: collapse;\n",
       "  }\n",
       "  th, td {\n",
       "    padding: 5px;\n",
       "  }\n",
       "  th {\n",
       "    text-align: left;\n",
       "  }\n",
       "</style><div class='table-result-container'><table class='table-result'><thead style='background-color: white'><tr><th>TOPIC10</th><th>Topic11</th></tr></thead><tbody><tr><td>VAW_TOPIC_012</td><td>Impact of partner violence on women's health and wellbeing</td></tr><tr><td>VAW_TOPIC_006</td><td>Acts of controlling behaviours by partners</td></tr><tr><td>VAW_TOPIC_014</td><td>Impact of partner violence on women's work who work for money</td></tr><tr><td>VAW_TOPIC_001</td><td>Types of violence against women by partner</td></tr><tr><td>VAW_TOPIC_008</td><td>Non-Partner Physical violence by type of perpetrator</td></tr><tr><td>VAW_TOPIC_016</td><td>Responses to partner violence - women told others about violence or leave home</td></tr><tr><td>VAW_TOPIC_011</td><td>Injuries from physical or sexual partner violence</td></tr><tr><td>VAW_TOPIC_002</td><td>Partner Physical violence by severity</td></tr><tr><td>VAW_TOPIC_005</td><td>Acts of emotional  violence by partners</td></tr><tr><td>VAW_TOPIC_007</td><td>Types of violence against women by others (non-partners)</td></tr><tr><td>VAW_TOPIC_004</td><td>Acts of sexual violence by partners</td></tr><tr><td>VAW_TOPIC_013</td><td>Impact of partner violence on women's reproductive health</td></tr><tr><td>VAW_TOPIC_018</td><td>Reasons for seeking help</td></tr><tr><td>VAW_TOPIC_015</td><td>Impact of partner violence on the wellbeing of children</td></tr><tr><td>VAW_TOPIC_010</td><td>Child sexual abuse prevalence by type of perpetrator</td></tr><tr><td>VAW_TOPIC_017</td><td>Seeking and receiving help</td></tr><tr><td>VAW_TOPIC_003</td><td>Act of physical violence by partners</td></tr><tr><td>VAW_TOPIC_009</td><td>Non-Partner Sexual violence by type of perpetrator</td></tr></tbody></table></div>"
      ]
     },
     "metadata": {
      "application/vnd.databricks.v1+output": {
       "addedWidgets": {},
       "aggData": [],
       "aggError": "",
       "aggOverflow": false,
       "aggSchema": [],
       "aggSeriesLimitReached": false,
       "aggType": "",
       "arguments": {},
       "columnCustomDisplayInfos": {},
       "data": [
        [
         "VAW_TOPIC_012",
         "Impact of partner violence on women's health and wellbeing"
        ],
        [
         "VAW_TOPIC_006",
         "Acts of controlling behaviours by partners"
        ],
        [
         "VAW_TOPIC_014",
         "Impact of partner violence on women's work who work for money"
        ],
        [
         "VAW_TOPIC_001",
         "Types of violence against women by partner"
        ],
        [
         "VAW_TOPIC_008",
         "Non-Partner Physical violence by type of perpetrator"
        ],
        [
         "VAW_TOPIC_016",
         "Responses to partner violence - women told others about violence or leave home"
        ],
        [
         "VAW_TOPIC_011",
         "Injuries from physical or sexual partner violence"
        ],
        [
         "VAW_TOPIC_002",
         "Partner Physical violence by severity"
        ],
        [
         "VAW_TOPIC_005",
         "Acts of emotional  violence by partners"
        ],
        [
         "VAW_TOPIC_007",
         "Types of violence against women by others (non-partners)"
        ],
        [
         "VAW_TOPIC_004",
         "Acts of sexual violence by partners"
        ],
        [
         "VAW_TOPIC_013",
         "Impact of partner violence on women's reproductive health"
        ],
        [
         "VAW_TOPIC_018",
         "Reasons for seeking help"
        ],
        [
         "VAW_TOPIC_015",
         "Impact of partner violence on the wellbeing of children"
        ],
        [
         "VAW_TOPIC_010",
         "Child sexual abuse prevalence by type of perpetrator"
        ],
        [
         "VAW_TOPIC_017",
         "Seeking and receiving help"
        ],
        [
         "VAW_TOPIC_003",
         "Act of physical violence by partners"
        ],
        [
         "VAW_TOPIC_009",
         "Non-Partner Sexual violence by type of perpetrator"
        ]
       ],
       "datasetInfos": [],
       "dbfsResultPath": null,
       "isJsonSchema": true,
       "metadata": {},
       "overflow": false,
       "plotOptions": {
        "customPlotOptions": {},
        "displayType": "table",
        "pivotAggregation": null,
        "pivotColumns": null,
        "xColumns": null,
        "yColumns": null
       },
       "removedWidgets": [],
       "schema": [
        {
         "metadata": "{}",
         "name": "TOPIC10",
         "type": "\"string\""
        },
        {
         "metadata": "{}",
         "name": "Topic11",
         "type": "\"string\""
        }
       ],
       "type": "table"
      }
     },
     "output_type": "display_data"
    }
   ],
   "source": [
    "pacific_df.select(\n",
    "    F.col('TOPIC10'),\n",
    "    F.col('Topic11'),\n",
    ").distinct().limit(20).display()"
   ]
  },
  {
   "cell_type": "markdown",
   "metadata": {
    "application/vnd.databricks.v1+cell": {
     "cellMetadata": {
      "byteLimit": 2048000,
      "rowLimit": 10000
     },
     "inputWidgets": {},
     "nuid": "513638c0-0f7d-473f-97ab-e6fad079ed88",
     "showTitle": false,
     "tableResultSettingsMap": {},
     "title": ""
    }
   },
   "source": [
    "The topics we are interested in are \n",
    "- VAW_TOPIC_001: Types of violence against women by partner\n",
    "- VAW_TOPIC_007: Types of violence against women by others (non-partners)\n",
    "- VAW_TOPIC_010: Child sexual abuse prevalence by type of perpetrator\n",
    "We don't want null values."
   ]
  },
  {
   "cell_type": "code",
   "execution_count": 0,
   "metadata": {
    "application/vnd.databricks.v1+cell": {
     "cellMetadata": {
      "byteLimit": 2048000,
      "rowLimit": 10000
     },
     "inputWidgets": {},
     "nuid": "f22448e7-152b-4905-8805-801943d9931e",
     "showTitle": false,
     "tableResultSettingsMap": {},
     "title": ""
    }
   },
   "outputs": [
    {
     "output_type": "display_data",
     "data": {
      "text/html": [
       "<style scoped>\n",
       "  .table-result-container {\n",
       "    max-height: 300px;\n",
       "    overflow: auto;\n",
       "  }\n",
       "  table, th, td {\n",
       "    border: 1px solid black;\n",
       "    border-collapse: collapse;\n",
       "  }\n",
       "  th, td {\n",
       "    padding: 5px;\n",
       "  }\n",
       "  th {\n",
       "    text-align: left;\n",
       "  }\n",
       "</style><div class='table-result-container'><table class='table-result'><thead style='background-color: white'><tr><th>year</th><th>country</th><th>violence_type</th><th>value_perc</th><th>perpetrator</th></tr></thead><tbody><tr><td>2019</td><td>Kiribati</td><td>Sexual violence</td><td>23.7</td><td>Partner</td></tr><tr><td>2019</td><td>Kiribati</td><td>Emotional violence</td><td>38.5</td><td>Partner</td></tr><tr><td>2019</td><td>Kiribati</td><td>Physical and/or sexual violence</td><td>54.0</td><td>Partner</td></tr><tr><td>2019</td><td>Kiribati</td><td>Physical violence</td><td>39.3</td><td>Partner</td></tr><tr><td>2019</td><td>Kiribati</td><td>Physical violence</td><td>7.8</td><td>Non-partner</td></tr><tr><td>2019</td><td>Kiribati</td><td>Sexual violence</td><td>5.1</td><td>Non-partner</td></tr><tr><td>2019</td><td>Kiribati</td><td>Sexual violence</td><td>10.3</td><td>Non-partner</td></tr><tr><td>2019</td><td>Kiribati</td><td>Any</td><td>13.5</td><td>Any</td></tr><tr><td>2019</td><td>Kiribati</td><td>Physical violence</td><td>18.9</td><td>Non-partner</td></tr><tr><td>2019</td><td>Kiribati</td><td>Sexual violence</td><td>21.4</td><td>Partner</td></tr><tr><td>2019</td><td>Kiribati</td><td>Physical and/or sexual violence</td><td>43.3</td><td>Partner</td></tr><tr><td>2019</td><td>Kiribati</td><td>Emotional violence</td><td>45.8</td><td>Partner</td></tr><tr><td>2019</td><td>Kiribati</td><td>Physical violence</td><td>24.1</td><td>Non-partner</td></tr><tr><td>2019</td><td>Kiribati</td><td>Sexual violence</td><td>2.6</td><td>Non-partner</td></tr><tr><td>2019</td><td>Kiribati</td><td>Physical violence</td><td>50.9</td><td>Partner</td></tr><tr><td>2019</td><td>Kiribati</td><td>Physical and/or sexual violence</td><td>29.2</td><td>Non-partner</td></tr><tr><td>2019</td><td>Tonga</td><td>Emotional violence</td><td>17.8</td><td>Partner</td></tr><tr><td>2019</td><td>Tonga</td><td>Sexual violence</td><td>3.2</td><td>Non-partner</td></tr><tr><td>2019</td><td>Tonga</td><td>Sexual violence</td><td>2.5</td><td>Partner</td></tr><tr><td>2019</td><td>Tonga</td><td>Physical violence</td><td>19.1</td><td>Partner</td></tr></tbody></table></div>"
      ]
     },
     "metadata": {
      "application/vnd.databricks.v1+output": {
       "addedWidgets": {},
       "aggData": [],
       "aggError": "",
       "aggOverflow": false,
       "aggSchema": [],
       "aggSeriesLimitReached": false,
       "aggType": "",
       "arguments": {},
       "columnCustomDisplayInfos": {},
       "data": [
        [
         2019,
         "Kiribati",
         "Sexual violence",
         23.7,
         "Partner"
        ],
        [
         2019,
         "Kiribati",
         "Emotional violence",
         38.5,
         "Partner"
        ],
        [
         2019,
         "Kiribati",
         "Physical and/or sexual violence",
         54.0,
         "Partner"
        ],
        [
         2019,
         "Kiribati",
         "Physical violence",
         39.3,
         "Partner"
        ],
        [
         2019,
         "Kiribati",
         "Physical violence",
         7.8,
         "Non-partner"
        ],
        [
         2019,
         "Kiribati",
         "Sexual violence",
         5.1,
         "Non-partner"
        ],
        [
         2019,
         "Kiribati",
         "Sexual violence",
         10.3,
         "Non-partner"
        ],
        [
         2019,
         "Kiribati",
         "Any",
         13.5,
         "Any"
        ],
        [
         2019,
         "Kiribati",
         "Physical violence",
         18.9,
         "Non-partner"
        ],
        [
         2019,
         "Kiribati",
         "Sexual violence",
         21.4,
         "Partner"
        ],
        [
         2019,
         "Kiribati",
         "Physical and/or sexual violence",
         43.3,
         "Partner"
        ],
        [
         2019,
         "Kiribati",
         "Emotional violence",
         45.8,
         "Partner"
        ],
        [
         2019,
         "Kiribati",
         "Physical violence",
         24.1,
         "Non-partner"
        ],
        [
         2019,
         "Kiribati",
         "Sexual violence",
         2.6,
         "Non-partner"
        ],
        [
         2019,
         "Kiribati",
         "Physical violence",
         50.9,
         "Partner"
        ],
        [
         2019,
         "Kiribati",
         "Physical and/or sexual violence",
         29.2,
         "Non-partner"
        ],
        [
         2019,
         "Tonga",
         "Emotional violence",
         17.8,
         "Partner"
        ],
        [
         2019,
         "Tonga",
         "Sexual violence",
         3.2,
         "Non-partner"
        ],
        [
         2019,
         "Tonga",
         "Sexual violence",
         2.5,
         "Partner"
        ],
        [
         2019,
         "Tonga",
         "Physical violence",
         19.1,
         "Partner"
        ]
       ],
       "datasetInfos": [],
       "dbfsResultPath": null,
       "isJsonSchema": true,
       "metadata": {},
       "overflow": false,
       "plotOptions": {
        "customPlotOptions": {},
        "displayType": "table",
        "pivotAggregation": null,
        "pivotColumns": null,
        "xColumns": null,
        "yColumns": null
       },
       "removedWidgets": [],
       "schema": [
        {
         "metadata": "{}",
         "name": "year",
         "type": "\"integer\""
        },
        {
         "metadata": "{}",
         "name": "country",
         "type": "\"string\""
        },
        {
         "metadata": "{}",
         "name": "violence_type",
         "type": "\"string\""
        },
        {
         "metadata": "{}",
         "name": "value_perc",
         "type": "\"double\""
        },
        {
         "metadata": "{}",
         "name": "perpetrator",
         "type": "\"string\""
        }
       ],
       "type": "table"
      }
     },
     "output_type": "display_data"
    }
   ],
   "source": [
    "pacific_df = pacific_df.where(\n",
    "    F.col('TOPIC10').isin('VAW_TOPIC_001', 'VAW_TOPIC_007', 'VAW_TOPIC_010') &\n",
    "    F.col('OBS_VALUE').isNotNull()\n",
    ").select(\n",
    "    F.col('TIME_PERIOD').alias('year'),\n",
    "    F.col('Pacific Island Countries and territories').alias('country'),\n",
    "    F.col('Type of violence').alias('violence_type'),\n",
    "    F.col('OBS_VALUE').alias('value_perc'),\n",
    "    F.col('Perpetrator23').alias('perpetrator'),\n",
    ").orderBy(\n",
    "    F.col('year').desc(),\n",
    "    F.col('country'),\n",
    ")\n",
    "pacific_df.limit(20).display()"
   ]
  },
  {
   "cell_type": "markdown",
   "metadata": {
    "application/vnd.databricks.v1+cell": {
     "cellMetadata": {
      "byteLimit": 2048000,
      "rowLimit": 10000
     },
     "inputWidgets": {},
     "nuid": "846946d2-6209-4ed2-9893-e3ee2da3442a",
     "showTitle": false,
     "tableResultSettingsMap": {},
     "title": ""
    }
   },
   "source": [
    "There are some repeated fields with just the value differing, that is due to some fields outside the selection that make it so. In order to delete those we will get the higher percentage as that is the best we can do to reduce the number of cases lost. "
   ]
  },
  {
   "cell_type": "code",
   "execution_count": 0,
   "metadata": {
    "application/vnd.databricks.v1+cell": {
     "cellMetadata": {
      "byteLimit": 2048000,
      "rowLimit": 10000
     },
     "inputWidgets": {},
     "nuid": "9d2223c1-4828-400e-8c5a-8c3b8fbc7401",
     "showTitle": false,
     "tableResultSettingsMap": {},
     "title": ""
    }
   },
   "outputs": [
    {
     "output_type": "display_data",
     "data": {
      "text/html": [
       "<style scoped>\n",
       "  .table-result-container {\n",
       "    max-height: 300px;\n",
       "    overflow: auto;\n",
       "  }\n",
       "  table, th, td {\n",
       "    border: 1px solid black;\n",
       "    border-collapse: collapse;\n",
       "  }\n",
       "  th, td {\n",
       "    padding: 5px;\n",
       "  }\n",
       "  th {\n",
       "    text-align: left;\n",
       "  }\n",
       "</style><div class='table-result-container'><table class='table-result'><thead style='background-color: white'><tr><th>year</th><th>country</th><th>violence_type</th><th>perpetrator</th><th>value_perc</th></tr></thead><tbody><tr><td>2013</td><td>Cook Islands</td><td>Physical violence</td><td>Partner</td><td>30.2</td></tr><tr><td>2009</td><td>Tonga</td><td>Physical violence</td><td>Non-partner</td><td>67.8</td></tr><tr><td>2011</td><td>Fiji</td><td>Child sexual abuse</td><td>Any</td><td>15.6</td></tr><tr><td>2011</td><td>Fiji</td><td>At least one act of economic abusive</td><td>Partner</td><td>28.3</td></tr><tr><td>2019</td><td>Kiribati</td><td>Physical violence</td><td>Partner</td><td>50.9</td></tr><tr><td>2014</td><td>Micronesia (Federated States of)</td><td>Child sexual abuse</td><td>Any</td><td>14.2</td></tr><tr><td>2012</td><td>Marshall Islands</td><td>Sexual violence</td><td>Non-partner</td><td>13.0</td></tr><tr><td>2019</td><td>Tonga</td><td>Physical and/or sexual violence</td><td>Partner</td><td>19.1</td></tr><tr><td>2013</td><td>Cook Islands</td><td>Physical violence</td><td>Non-partner</td><td>38.6</td></tr><tr><td>2013</td><td>Nauru</td><td>Physical violence</td><td>Partner</td><td>46.6</td></tr><tr><td>2011</td><td>Fiji</td><td>Sexual violence</td><td>Partner</td><td>33.9</td></tr><tr><td>2019</td><td>Kiribati</td><td>Physical and/or sexual violence</td><td>Partner</td><td>54.0</td></tr><tr><td>2009</td><td>Tonga</td><td>Emotional violence</td><td>Partner</td><td>24.0</td></tr><tr><td>2011</td><td>Fiji</td><td>Sexual violence</td><td>Non-partner</td><td>8.5</td></tr><tr><td>2014</td><td>Micronesia (Federated States of)</td><td>Physical violence</td><td>Non-partner</td><td>9.6</td></tr><tr><td>2019</td><td>Kiribati</td><td>Physical and/or sexual violence</td><td>Non-partner</td><td>29.2</td></tr><tr><td>2014</td><td>Micronesia (Federated States of)</td><td>Sexual violence</td><td>Partner</td><td>18.1</td></tr><tr><td>2010</td><td>Kiribati</td><td>Child sexual abuse</td><td>Any</td><td>36.9</td></tr><tr><td>2018</td><td>Papua New Guinea</td><td>Sexual violence</td><td>Partner</td><td>29.2</td></tr><tr><td>2011</td><td>Fiji</td><td>Child sexual abuse</td><td>Male family member(s)</td><td>52.6</td></tr></tbody></table></div>"
      ]
     },
     "metadata": {
      "application/vnd.databricks.v1+output": {
       "addedWidgets": {},
       "aggData": [],
       "aggError": "",
       "aggOverflow": false,
       "aggSchema": [],
       "aggSeriesLimitReached": false,
       "aggType": "",
       "arguments": {},
       "columnCustomDisplayInfos": {},
       "data": [
        [
         2013,
         "Cook Islands",
         "Physical violence",
         "Partner",
         30.2
        ],
        [
         2009,
         "Tonga",
         "Physical violence",
         "Non-partner",
         67.8
        ],
        [
         2011,
         "Fiji",
         "Child sexual abuse",
         "Any",
         15.6
        ],
        [
         2011,
         "Fiji",
         "At least one act of economic abusive",
         "Partner",
         28.3
        ],
        [
         2019,
         "Kiribati",
         "Physical violence",
         "Partner",
         50.9
        ],
        [
         2014,
         "Micronesia (Federated States of)",
         "Child sexual abuse",
         "Any",
         14.2
        ],
        [
         2012,
         "Marshall Islands",
         "Sexual violence",
         "Non-partner",
         13.0
        ],
        [
         2019,
         "Tonga",
         "Physical and/or sexual violence",
         "Partner",
         19.1
        ],
        [
         2013,
         "Cook Islands",
         "Physical violence",
         "Non-partner",
         38.6
        ],
        [
         2013,
         "Nauru",
         "Physical violence",
         "Partner",
         46.6
        ],
        [
         2011,
         "Fiji",
         "Sexual violence",
         "Partner",
         33.9
        ],
        [
         2019,
         "Kiribati",
         "Physical and/or sexual violence",
         "Partner",
         54.0
        ],
        [
         2009,
         "Tonga",
         "Emotional violence",
         "Partner",
         24.0
        ],
        [
         2011,
         "Fiji",
         "Sexual violence",
         "Non-partner",
         8.5
        ],
        [
         2014,
         "Micronesia (Federated States of)",
         "Physical violence",
         "Non-partner",
         9.6
        ],
        [
         2019,
         "Kiribati",
         "Physical and/or sexual violence",
         "Non-partner",
         29.2
        ],
        [
         2014,
         "Micronesia (Federated States of)",
         "Sexual violence",
         "Partner",
         18.1
        ],
        [
         2010,
         "Kiribati",
         "Child sexual abuse",
         "Any",
         36.9
        ],
        [
         2018,
         "Papua New Guinea",
         "Sexual violence",
         "Partner",
         29.2
        ],
        [
         2011,
         "Fiji",
         "Child sexual abuse",
         "Male family member(s)",
         52.6
        ]
       ],
       "datasetInfos": [],
       "dbfsResultPath": null,
       "isJsonSchema": true,
       "metadata": {},
       "overflow": false,
       "plotOptions": {
        "customPlotOptions": {},
        "displayType": "table",
        "pivotAggregation": null,
        "pivotColumns": null,
        "xColumns": null,
        "yColumns": null
       },
       "removedWidgets": [],
       "schema": [
        {
         "metadata": "{}",
         "name": "year",
         "type": "\"integer\""
        },
        {
         "metadata": "{}",
         "name": "country",
         "type": "\"string\""
        },
        {
         "metadata": "{}",
         "name": "violence_type",
         "type": "\"string\""
        },
        {
         "metadata": "{}",
         "name": "perpetrator",
         "type": "\"string\""
        },
        {
         "metadata": "{}",
         "name": "value_perc",
         "type": "\"double\""
        }
       ],
       "type": "table"
      }
     },
     "output_type": "display_data"
    }
   ],
   "source": [
    "pacific_df = pacific_df.groupBy('year', 'country', 'violence_type', 'perpetrator').agg(\n",
    "    F.max(F.col('value_perc')).alias('value_perc')\n",
    ")\n",
    "pacific_df.limit(20).display()"
   ]
  }
 ],
 "metadata": {
  "application/vnd.databricks.v1+notebook": {
   "computePreferences": null,
   "dashboards": [],
   "environmentMetadata": {
    "base_environment": "",
    "environment_version": "1"
   },
   "language": "python",
   "notebookMetadata": {
    "pythonIndentUnit": 4
   },
   "notebookName": "silver_violence_pacific",
   "widgets": {}
  },
  "language_info": {
   "name": "python"
  }
 },
 "nbformat": 4,
 "nbformat_minor": 0
}
