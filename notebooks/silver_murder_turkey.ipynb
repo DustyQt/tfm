{
 "cells": [
  {
   "cell_type": "code",
   "execution_count": 0,
   "metadata": {
    "application/vnd.databricks.v1+cell": {
     "cellMetadata": {
      "byteLimit": 2048000,
      "rowLimit": 10000
     },
     "inputWidgets": {},
     "nuid": "4fb3c8a3-8a82-41e8-aedc-f78fd0008f41",
     "showTitle": false,
     "tableResultSettingsMap": {},
     "title": ""
    }
   },
   "outputs": [],
   "source": [
    "import pyspark.sql.functions as F\n",
    "import os\n",
    "\n",
    "STORAGE_ACCOUNT = os.getenv('STORAGE_ACCOUNT')\n",
    "STORAGE_ACCOUNT_KEY = os.getenv('STORAGE_ACCOUNT_KEY')\n",
    "spark.conf.set(STORAGE_ACCOUNT, STORAGE_ACCOUNT_KEY)\n"
   ]
  },
  {
   "cell_type": "code",
   "execution_count": 0,
   "metadata": {
    "application/vnd.databricks.v1+cell": {
     "cellMetadata": {
      "byteLimit": 2048000,
      "rowLimit": 10000
     },
     "inputWidgets": {},
     "nuid": "89c3cad4-a35a-467a-b9bb-23516aeb88bd",
     "showTitle": false,
     "tableResultSettingsMap": {},
     "title": ""
    }
   },
   "outputs": [
    {
     "output_type": "display_data",
     "data": {
      "text/html": [
       "<style scoped>\n",
       "  .table-result-container {\n",
       "    max-height: 300px;\n",
       "    overflow: auto;\n",
       "  }\n",
       "  table, th, td {\n",
       "    border: 1px solid black;\n",
       "    border-collapse: collapse;\n",
       "  }\n",
       "  th, td {\n",
       "    padding: 5px;\n",
       "  }\n",
       "  th {\n",
       "    text-align: left;\n",
       "  }\n",
       "</style><div class='table-result-container'><table class='table-result'><thead style='background-color: white'><tr><th>_c0</th><th>Name</th><th>Date</th><th>Murder Motive</th><th>Murderer Name</th><th>Protection Request</th><th>Way Of Killing</th><th>News Source 1</th><th>News Source 2</th><th>Age of Victim</th><th>Province</th><th>Perpetrator Status</th><th>Notes</th></tr></thead><tbody><tr><td>null</td><td> Tuğçe Baran</td><td>29/09/2019</td><td>  Not Determined</td><td>  Boyfriend</td><td>  No</td><td>  Firearm</td><td>http://www.milliyet.com.tr/gundem/evinde-basindan-vurulan-tugce-hayatini-kaybetti-6042935</td><td>NA</td><td>of age</td><td>Izmir</td><td>Prisoner</td><td>suspicious Death</td></tr><tr><td>null</td><td> Ebru Erdem</td><td>20/03/2019</td><td>  Not Determined</td><td>  Not Determined</td><td>  Not Determined</td><td>  Falling from high</td><td>http://www.milliyet.com.tr/istanbul-da-rezidansta-dehset-kan-gundem-galeri-2845198/</td><td>NA</td><td>of age</td><td>İstanbul</td><td>Investigation Continues</td><td>suspicious Death</td></tr><tr><td>null</td><td> Songül Önemli </td><td>26/10/2019</td><td>  Not Determined</td><td>  Not Determined</td><td>  No</td><td>  Firearm</td><td>http://www.milliyet.com.tr/galeri/sir-dolu-olum-iki-genc-kadin-boyle-bulundu-6065264</td><td>NA</td><td>of age</td><td>Adiyaman</td><td>Not Determined</td><td>suspicious Death</td></tr><tr><td>null</td><td> Cansu Güven</td><td>26/10/2019</td><td>  Not Determined</td><td>  Not Determined</td><td>  No</td><td>  Firearm</td><td>http://www.milliyet.com.tr/galeri/sir-dolu-olum-iki-genc-kadin-boyle-bulundu-6065264</td><td>NA</td><td>of age</td><td>Adiyaman</td><td>Not Determined</td><td>suspicious Death</td></tr><tr><td>null</td><td> Maiko Dzidziguri </td><td>23.02.2018</td><td>  Unspecified</td><td>  Unknown</td><td>  No</td><td>  drowning</td><td>http://www.milliyet.com.tr/gurcu-kadinin-esrarengiz-olumu--gundem-2615313/</td><td>NA</td><td>of age</td><td>İstanbul</td><td>Unknown</td><td>suspicious Death</td></tr><tr><td>null</td><td> Alara Karademir</td><td>29/03/2018</td><td>  Discussion</td><td>  Someone familiar</td><td>  No</td><td>  Darpa</td><td>http://m.ilerihaber.org/icerik/yogun-bakimdaki-alara-karademir-hayatini-kaybetti-83550.html</td><td>NA</td><td>of age</td><td>Ankara</td><td>Investigation Continues</td><td>suspicious Death</td></tr><tr><td>null</td><td> Ganime Varsak</td><td>17/02/2018</td><td>  Unknown</td><td>  Unknown</td><td>  No</td><td>  burned</td><td>http://www.milliyet.com.tr/yanmis-cesedi-bulunan-kadinin-gundem-2611889/</td><td>NA</td><td>of age</td><td>Kırıkkale</td><td>Investigation</td><td>suspicious Death</td></tr><tr><td>null</td><td> Melahat Mersin</td><td>16/06/2018</td><td>  Comprise from not detected</td><td>  Somebody knows</td><td>  No</td><td>  Not Determined</td><td>https://www.yeniasir.com.tr/yasam/2018/06/17/insallah-annem-degildir</td><td>NA</td><td>of age</td><td>Izmir</td><td>Prisoner</td><td>suspicious Death</td></tr><tr><td>null</td><td> Bahar Akdemir</td><td>21/12/2019</td><td>  Not Determined</td><td>  Not Determined</td><td>  No</td><td>  Not Determined</td><td>https://www.cnnturk.com/turkiye/evinin-onunde-genc-kizin-cesedi-bulundu</td><td>NA</td><td>Not Rashid</td><td>Diyarbakir</td><td>Investigation Continues</td><td>suspicious Death</td></tr><tr><td>null</td><td> Derya Tavşan</td><td>10/12/2019</td><td>  Not Determined</td><td>  Not Determined</td><td>  No</td><td>  Not Determined</td><td>http://www.hurriyet.com.tr/gundem/otel-odasinda-supheli-olum-41394166</td><td>NA</td><td>of age</td><td>Adana</td><td>Not Determined</td><td>suspicious Death</td></tr><tr><td>null</td><td> Gülperi Onur</td><td>31/10/2019</td><td>  Not Determined</td><td>  Boyfriend</td><td>  No</td><td>  Falling from high</td><td>https://www.sozcu.com.tr/2019/gundem/balkondan-duserek-olen-kadinin-sevgilisi-tutuklandi-5431437/</td><td>NA</td><td>of age</td><td>Antalya</td><td>Prisoner</td><td>suspicious Death</td></tr><tr><td>null</td><td> Adile Güler</td><td>02/10/2019</td><td>  Not Determined</td><td>  Not Determined</td><td>  No</td><td>  Falling from high</td><td>http://www.milliyet.com.tr/gundem/konyada-supheli-olum-genc-kadin-3-kattan-dusup-oldu-6044972</td><td>NA</td><td>of age</td><td>Konya</td><td>Not Determined</td><td>suspicious Death</td></tr><tr><td>null</td><td> Alexandra Köppel</td><td>15/10/2019</td><td>  Not Determined</td><td>  Not Determined</td><td>  No</td><td>  Suffocation</td><td>https://www.sozcu.com.tr/2019/gundem/isvecli-kadinin-istanbulda-sir-olumu-kimligi-belli-oldu-5390892/</td><td>NA</td><td>of age</td><td>İstanbul</td><td>Detection of</td><td>suspicious Death</td></tr><tr><td>null</td><td> Hatice Köse</td><td>23/09/2019</td><td>  Not Determined</td><td>  Not Determined</td><td>  No</td><td>  Not Determined</td><td>http://www.bursahayat.com.tr/haber/bursa-da-kiyiya-vuran-kadin-cesedinin-kimligi-aciklandi-232489.html</td><td>NA</td><td>of age</td><td>Bursa</td><td>Investigation Continues</td><td>suspicious Death</td></tr><tr><td>null</td><td> Birgül K.</td><td>24/09/2019</td><td>  Not Determined</td><td>  Not Determined</td><td>  No</td><td>  Firearm</td><td>https://www.haberturk.com/ardahan-haberleri/71336413-genc-kadin-ahirda-olu-bulundu-esi-gozaltinda</td><td>NA</td><td>of age</td><td>Ardahan</td><td>Investigation Continues</td><td>suspicious Death</td></tr><tr><td>null</td><td> Şafak Bozkurt</td><td>05/11/2019</td><td>  Not Determined</td><td>  Not Determined</td><td>  No</td><td>  Medicine</td><td>http://www.diyarbakirsoz.com/gundem/2-351upheli-olum-200877</td><td>NA</td><td>of age</td><td>Ergani</td><td>Not Determined</td><td>suspicious Death</td></tr><tr><td>null</td><td> Suriye Soydaş</td><td>06/11/2019</td><td>  Not Determined</td><td>  Not Determined</td><td>  No</td><td>  Not Determined</td><td>http://www.milliyet.com.tr/gundem/yuruyus-yapanlar-fark-etti-suyun-uzerinde-hareketsiz-yatan-6073547</td><td>NA</td><td>of age</td><td>Lapsike</td><td>Not Determined</td><td>suspicious Death</td></tr><tr><td>null</td><td> Melisa K.</td><td>06/11/2019</td><td>  Not Determined</td><td>  Not Determined</td><td>  No</td><td>  Firearm</td><td>https://gazetekarinca.com/2019/11/bilecikte-supheli-kadin-olumu-universite-ogrencisi-yasamina-son-verdi/</td><td>NA</td><td>of age</td><td>Bilecik</td><td>Not Determined</td><td>suspicious Death</td></tr><tr><td>null</td><td> Derya H.</td><td>04/06/2019</td><td>  Not Determined</td><td>  Not Determined</td><td>  No</td><td>  Not Determined</td><td>https://www.iha.com.tr/haber-gaziantepte-kadin-cesedi-bulundu-783459/</td><td>NA</td><td>of age</td><td>Gaziantep</td><td>Investigation Continues</td><td>suspicious Death</td></tr><tr><td>null</td><td> N.S.</td><td>16/06/2019</td><td>  Not Determined</td><td>  Not Determined</td><td>  No</td><td>  Firearm</td><td>https://www.haberler.com/sakarya-da-kazara-vuruldugu-iddia-edilen-kadin-12150755-haberi/</td><td>NA</td><td>of age</td><td>Sakarya</td><td>Investigation Continues</td><td>suspicious Death</td></tr></tbody></table></div>"
      ]
     },
     "metadata": {
      "application/vnd.databricks.v1+output": {
       "addedWidgets": {},
       "aggData": [],
       "aggError": "",
       "aggOverflow": false,
       "aggSchema": [],
       "aggSeriesLimitReached": false,
       "aggType": "",
       "arguments": {},
       "columnCustomDisplayInfos": {},
       "data": [
        [
         null,
         " Tuğçe Baran",
         "29/09/2019",
         "  Not Determined",
         "  Boyfriend",
         "  No",
         "  Firearm",
         "http://www.milliyet.com.tr/gundem/evinde-basindan-vurulan-tugce-hayatini-kaybetti-6042935",
         "NA",
         "of age",
         "Izmir",
         "Prisoner",
         "suspicious Death"
        ],
        [
         null,
         " Ebru Erdem",
         "20/03/2019",
         "  Not Determined",
         "  Not Determined",
         "  Not Determined",
         "  Falling from high",
         "http://www.milliyet.com.tr/istanbul-da-rezidansta-dehset-kan-gundem-galeri-2845198/",
         "NA",
         "of age",
         "İstanbul",
         "Investigation Continues",
         "suspicious Death"
        ],
        [
         null,
         " Songül Önemli ",
         "26/10/2019",
         "  Not Determined",
         "  Not Determined",
         "  No",
         "  Firearm",
         "http://www.milliyet.com.tr/galeri/sir-dolu-olum-iki-genc-kadin-boyle-bulundu-6065264",
         "NA",
         "of age",
         "Adiyaman",
         "Not Determined",
         "suspicious Death"
        ],
        [
         null,
         " Cansu Güven",
         "26/10/2019",
         "  Not Determined",
         "  Not Determined",
         "  No",
         "  Firearm",
         "http://www.milliyet.com.tr/galeri/sir-dolu-olum-iki-genc-kadin-boyle-bulundu-6065264",
         "NA",
         "of age",
         "Adiyaman",
         "Not Determined",
         "suspicious Death"
        ],
        [
         null,
         " Maiko Dzidziguri ",
         "23.02.2018",
         "  Unspecified",
         "  Unknown",
         "  No",
         "  drowning",
         "http://www.milliyet.com.tr/gurcu-kadinin-esrarengiz-olumu--gundem-2615313/",
         "NA",
         "of age",
         "İstanbul",
         "Unknown",
         "suspicious Death"
        ],
        [
         null,
         " Alara Karademir",
         "29/03/2018",
         "  Discussion",
         "  Someone familiar",
         "  No",
         "  Darpa",
         "http://m.ilerihaber.org/icerik/yogun-bakimdaki-alara-karademir-hayatini-kaybetti-83550.html",
         "NA",
         "of age",
         "Ankara",
         "Investigation Continues",
         "suspicious Death"
        ],
        [
         null,
         " Ganime Varsak",
         "17/02/2018",
         "  Unknown",
         "  Unknown",
         "  No",
         "  burned",
         "http://www.milliyet.com.tr/yanmis-cesedi-bulunan-kadinin-gundem-2611889/",
         "NA",
         "of age",
         "Kırıkkale",
         "Investigation",
         "suspicious Death"
        ],
        [
         null,
         " Melahat Mersin",
         "16/06/2018",
         "  Comprise from not detected",
         "  Somebody knows",
         "  No",
         "  Not Determined",
         "https://www.yeniasir.com.tr/yasam/2018/06/17/insallah-annem-degildir",
         "NA",
         "of age",
         "Izmir",
         "Prisoner",
         "suspicious Death"
        ],
        [
         null,
         " Bahar Akdemir",
         "21/12/2019",
         "  Not Determined",
         "  Not Determined",
         "  No",
         "  Not Determined",
         "https://www.cnnturk.com/turkiye/evinin-onunde-genc-kizin-cesedi-bulundu",
         "NA",
         "Not Rashid",
         "Diyarbakir",
         "Investigation Continues",
         "suspicious Death"
        ],
        [
         null,
         " Derya Tavşan",
         "10/12/2019",
         "  Not Determined",
         "  Not Determined",
         "  No",
         "  Not Determined",
         "http://www.hurriyet.com.tr/gundem/otel-odasinda-supheli-olum-41394166",
         "NA",
         "of age",
         "Adana",
         "Not Determined",
         "suspicious Death"
        ],
        [
         null,
         " Gülperi Onur",
         "31/10/2019",
         "  Not Determined",
         "  Boyfriend",
         "  No",
         "  Falling from high",
         "https://www.sozcu.com.tr/2019/gundem/balkondan-duserek-olen-kadinin-sevgilisi-tutuklandi-5431437/",
         "NA",
         "of age",
         "Antalya",
         "Prisoner",
         "suspicious Death"
        ],
        [
         null,
         " Adile Güler",
         "02/10/2019",
         "  Not Determined",
         "  Not Determined",
         "  No",
         "  Falling from high",
         "http://www.milliyet.com.tr/gundem/konyada-supheli-olum-genc-kadin-3-kattan-dusup-oldu-6044972",
         "NA",
         "of age",
         "Konya",
         "Not Determined",
         "suspicious Death"
        ],
        [
         null,
         " Alexandra Köppel",
         "15/10/2019",
         "  Not Determined",
         "  Not Determined",
         "  No",
         "  Suffocation",
         "https://www.sozcu.com.tr/2019/gundem/isvecli-kadinin-istanbulda-sir-olumu-kimligi-belli-oldu-5390892/",
         "NA",
         "of age",
         "İstanbul",
         "Detection of",
         "suspicious Death"
        ],
        [
         null,
         " Hatice Köse",
         "23/09/2019",
         "  Not Determined",
         "  Not Determined",
         "  No",
         "  Not Determined",
         "http://www.bursahayat.com.tr/haber/bursa-da-kiyiya-vuran-kadin-cesedinin-kimligi-aciklandi-232489.html",
         "NA",
         "of age",
         "Bursa",
         "Investigation Continues",
         "suspicious Death"
        ],
        [
         null,
         " Birgül K.",
         "24/09/2019",
         "  Not Determined",
         "  Not Determined",
         "  No",
         "  Firearm",
         "https://www.haberturk.com/ardahan-haberleri/71336413-genc-kadin-ahirda-olu-bulundu-esi-gozaltinda",
         "NA",
         "of age",
         "Ardahan",
         "Investigation Continues",
         "suspicious Death"
        ],
        [
         null,
         " Şafak Bozkurt",
         "05/11/2019",
         "  Not Determined",
         "  Not Determined",
         "  No",
         "  Medicine",
         "http://www.diyarbakirsoz.com/gundem/2-351upheli-olum-200877",
         "NA",
         "of age",
         "Ergani",
         "Not Determined",
         "suspicious Death"
        ],
        [
         null,
         " Suriye Soydaş",
         "06/11/2019",
         "  Not Determined",
         "  Not Determined",
         "  No",
         "  Not Determined",
         "http://www.milliyet.com.tr/gundem/yuruyus-yapanlar-fark-etti-suyun-uzerinde-hareketsiz-yatan-6073547",
         "NA",
         "of age",
         "Lapsike",
         "Not Determined",
         "suspicious Death"
        ],
        [
         null,
         " Melisa K.",
         "06/11/2019",
         "  Not Determined",
         "  Not Determined",
         "  No",
         "  Firearm",
         "https://gazetekarinca.com/2019/11/bilecikte-supheli-kadin-olumu-universite-ogrencisi-yasamina-son-verdi/",
         "NA",
         "of age",
         "Bilecik",
         "Not Determined",
         "suspicious Death"
        ],
        [
         null,
         " Derya H.",
         "04/06/2019",
         "  Not Determined",
         "  Not Determined",
         "  No",
         "  Not Determined",
         "https://www.iha.com.tr/haber-gaziantepte-kadin-cesedi-bulundu-783459/",
         "NA",
         "of age",
         "Gaziantep",
         "Investigation Continues",
         "suspicious Death"
        ],
        [
         null,
         " N.S.",
         "16/06/2019",
         "  Not Determined",
         "  Not Determined",
         "  No",
         "  Firearm",
         "https://www.haberler.com/sakarya-da-kazara-vuruldugu-iddia-edilen-kadin-12150755-haberi/",
         "NA",
         "of age",
         "Sakarya",
         "Investigation Continues",
         "suspicious Death"
        ]
       ],
       "datasetInfos": [],
       "dbfsResultPath": null,
       "isJsonSchema": true,
       "metadata": {},
       "overflow": false,
       "plotOptions": {
        "customPlotOptions": {},
        "displayType": "table",
        "pivotAggregation": null,
        "pivotColumns": null,
        "xColumns": null,
        "yColumns": null
       },
       "removedWidgets": [],
       "schema": [
        {
         "metadata": "{}",
         "name": "_c0",
         "type": "\"string\""
        },
        {
         "metadata": "{}",
         "name": "Name",
         "type": "\"string\""
        },
        {
         "metadata": "{}",
         "name": "Date",
         "type": "\"string\""
        },
        {
         "metadata": "{}",
         "name": "Murder Motive",
         "type": "\"string\""
        },
        {
         "metadata": "{}",
         "name": "Murderer Name",
         "type": "\"string\""
        },
        {
         "metadata": "{}",
         "name": "Protection Request",
         "type": "\"string\""
        },
        {
         "metadata": "{}",
         "name": "Way Of Killing",
         "type": "\"string\""
        },
        {
         "metadata": "{}",
         "name": "News Source 1",
         "type": "\"string\""
        },
        {
         "metadata": "{}",
         "name": "News Source 2",
         "type": "\"string\""
        },
        {
         "metadata": "{}",
         "name": "Age of Victim",
         "type": "\"string\""
        },
        {
         "metadata": "{}",
         "name": "Province",
         "type": "\"string\""
        },
        {
         "metadata": "{}",
         "name": "Perpetrator Status",
         "type": "\"string\""
        },
        {
         "metadata": "{}",
         "name": "Notes",
         "type": "\"string\""
        }
       ],
       "type": "table"
      }
     },
     "output_type": "display_data"
    }
   ],
   "source": [
    "turkey_df = spark.read\\\n",
    "                 .option(\"header\", \"true\")\\\n",
    "                 .option(\"inferSchema\", \"true\")\\\n",
    "                 .csv(\"abfss://datasets@tfmstorageacc.dfs.core.windows.net/violence_against _women_turkey.csv\")\n",
    "\n",
    "turkey_df.limit(20).display()"
   ]
  },
  {
   "cell_type": "markdown",
   "metadata": {
    "application/vnd.databricks.v1+cell": {
     "cellMetadata": {
      "byteLimit": 2048000,
      "rowLimit": 10000
     },
     "inputWidgets": {},
     "nuid": "e44dd5ca-7bfd-47b2-8b2c-ad31a8c91cb5",
     "showTitle": false,
     "tableResultSettingsMap": {},
     "title": ""
    }
   },
   "source": [
    "For this dataset we need to get the year from the date column and group perpetrators and age group\n"
   ]
  },
  {
   "cell_type": "code",
   "execution_count": 0,
   "metadata": {
    "application/vnd.databricks.v1+cell": {
     "cellMetadata": {
      "byteLimit": 2048000,
      "rowLimit": 10000
     },
     "inputWidgets": {},
     "nuid": "5bebf1ca-d9e8-4f51-8abe-12f1d9767c60",
     "showTitle": false,
     "tableResultSettingsMap": {},
     "title": ""
    }
   },
   "outputs": [
    {
     "output_type": "display_data",
     "data": {
      "text/html": [
       "<style scoped>\n",
       "  .table-result-container {\n",
       "    max-height: 300px;\n",
       "    overflow: auto;\n",
       "  }\n",
       "  table, th, td {\n",
       "    border: 1px solid black;\n",
       "    border-collapse: collapse;\n",
       "  }\n",
       "  th, td {\n",
       "    padding: 5px;\n",
       "  }\n",
       "  th {\n",
       "    text-align: left;\n",
       "  }\n",
       "</style><div class='table-result-container'><table class='table-result'><thead style='background-color: white'><tr><th>Date</th><th>year</th></tr></thead><tbody><tr><td>29/09/2019</td><td>2019</td></tr><tr><td>20/03/2019</td><td>2019</td></tr><tr><td>26/10/2019</td><td>2019</td></tr><tr><td>26/10/2019</td><td>2019</td></tr><tr><td>23.02.2018</td><td>null</td></tr><tr><td>29/03/2018</td><td>2018</td></tr><tr><td>17/02/2018</td><td>2018</td></tr><tr><td>16/06/2018</td><td>2018</td></tr><tr><td>21/12/2019</td><td>2019</td></tr><tr><td>10/12/2019</td><td>2019</td></tr><tr><td>31/10/2019</td><td>2019</td></tr><tr><td>02/10/2019</td><td>2019</td></tr><tr><td>15/10/2019</td><td>2019</td></tr><tr><td>23/09/2019</td><td>2019</td></tr><tr><td>24/09/2019</td><td>2019</td></tr><tr><td>05/11/2019</td><td>2019</td></tr><tr><td>06/11/2019</td><td>2019</td></tr><tr><td>06/11/2019</td><td>2019</td></tr><tr><td>04/06/2019</td><td>2019</td></tr><tr><td>16/06/2019</td><td>2019</td></tr></tbody></table></div>"
      ]
     },
     "metadata": {
      "application/vnd.databricks.v1+output": {
       "addedWidgets": {},
       "aggData": [],
       "aggError": "",
       "aggOverflow": false,
       "aggSchema": [],
       "aggSeriesLimitReached": false,
       "aggType": "",
       "arguments": {},
       "columnCustomDisplayInfos": {},
       "data": [
        [
         "29/09/2019",
         2019
        ],
        [
         "20/03/2019",
         2019
        ],
        [
         "26/10/2019",
         2019
        ],
        [
         "26/10/2019",
         2019
        ],
        [
         "23.02.2018",
         null
        ],
        [
         "29/03/2018",
         2018
        ],
        [
         "17/02/2018",
         2018
        ],
        [
         "16/06/2018",
         2018
        ],
        [
         "21/12/2019",
         2019
        ],
        [
         "10/12/2019",
         2019
        ],
        [
         "31/10/2019",
         2019
        ],
        [
         "02/10/2019",
         2019
        ],
        [
         "15/10/2019",
         2019
        ],
        [
         "23/09/2019",
         2019
        ],
        [
         "24/09/2019",
         2019
        ],
        [
         "05/11/2019",
         2019
        ],
        [
         "06/11/2019",
         2019
        ],
        [
         "06/11/2019",
         2019
        ],
        [
         "04/06/2019",
         2019
        ],
        [
         "16/06/2019",
         2019
        ]
       ],
       "datasetInfos": [],
       "dbfsResultPath": null,
       "isJsonSchema": true,
       "metadata": {},
       "overflow": false,
       "plotOptions": {
        "customPlotOptions": {},
        "displayType": "table",
        "pivotAggregation": null,
        "pivotColumns": null,
        "xColumns": null,
        "yColumns": null
       },
       "removedWidgets": [],
       "schema": [
        {
         "metadata": "{}",
         "name": "Date",
         "type": "\"string\""
        },
        {
         "metadata": "{}",
         "name": "year",
         "type": "\"integer\""
        }
       ],
       "type": "table"
      }
     },
     "output_type": "display_data"
    }
   ],
   "source": [
    "turkey_df = turkey_df.withColumn(\n",
    "    'year',\n",
    "    F.year(F.to_date(F.col('Date'), 'dd/MM/yyyy')),\n",
    ")\n",
    "turkey_df.select(\n",
    "    'Date',\n",
    "    'year',\n",
    ").limit(20).display()"
   ]
  },
  {
   "cell_type": "markdown",
   "metadata": {
    "application/vnd.databricks.v1+cell": {
     "cellMetadata": {
      "byteLimit": 2048000,
      "rowLimit": 10000
     },
     "inputWidgets": {},
     "nuid": "9f81e31b-7074-434e-94f5-82692383c74c",
     "showTitle": false,
     "tableResultSettingsMap": {},
     "title": ""
    }
   },
   "source": [
    "there are some wrong formatted dates in the dataset. Since errors and typings are so varied its too difficult to clean them up.\n",
    "We will drop them"
   ]
  },
  {
   "cell_type": "code",
   "execution_count": 0,
   "metadata": {
    "application/vnd.databricks.v1+cell": {
     "cellMetadata": {
      "byteLimit": 2048000,
      "rowLimit": 10000
     },
     "inputWidgets": {},
     "nuid": "b2837bb7-a1aa-4dfa-8a6f-ffbb1692bcfe",
     "showTitle": false,
     "tableResultSettingsMap": {},
     "title": ""
    }
   },
   "outputs": [],
   "source": [
    "turkey_df = turkey_df.where(\n",
    "    F.col('year').isNotNull(),\n",
    ")"
   ]
  },
  {
   "cell_type": "markdown",
   "metadata": {
    "application/vnd.databricks.v1+cell": {
     "cellMetadata": {
      "byteLimit": 2048000,
      "rowLimit": 10000
     },
     "inputWidgets": {},
     "nuid": "9e49fc33-05e2-4147-88c0-59055306cbcc",
     "showTitle": false,
     "tableResultSettingsMap": {},
     "title": ""
    }
   },
   "source": [
    "now group age groups"
   ]
  },
  {
   "cell_type": "code",
   "execution_count": 0,
   "metadata": {
    "application/vnd.databricks.v1+cell": {
     "cellMetadata": {
      "byteLimit": 2048000,
      "rowLimit": 10000
     },
     "inputWidgets": {},
     "nuid": "962a325b-6ff2-4c08-9bdc-a015e1849aeb",
     "showTitle": false,
     "tableResultSettingsMap": {},
     "title": ""
    }
   },
   "outputs": [
    {
     "output_type": "display_data",
     "data": {
      "text/html": [
       "<style scoped>\n",
       "  .table-result-container {\n",
       "    max-height: 300px;\n",
       "    overflow: auto;\n",
       "  }\n",
       "  table, th, td {\n",
       "    border: 1px solid black;\n",
       "    border-collapse: collapse;\n",
       "  }\n",
       "  th, td {\n",
       "    padding: 5px;\n",
       "  }\n",
       "  th {\n",
       "    text-align: left;\n",
       "  }\n",
       "</style><div class='table-result-container'><table class='table-result'><thead style='background-color: white'><tr><th>Age of Victim</th></tr></thead><tbody><tr><td>15</td></tr><tr><td>29</td></tr><tr><td>34</td></tr><tr><td>8</td></tr><tr><td>52</td></tr><tr><td>NA</td></tr><tr><td>null</td></tr><tr><td>of age</td></tr><tr><td>31</td></tr><tr><td>18</td></tr><tr><td>Not Rashid</td></tr><tr><td>Unknown</td></tr><tr><td>38</td></tr><tr><td>24</td></tr><tr><td>32</td></tr><tr><td>20</td></tr><tr><td>36</td></tr><tr><td>39</td></tr><tr><td>14</td></tr><tr><td>45</td></tr></tbody></table></div>"
      ]
     },
     "metadata": {
      "application/vnd.databricks.v1+output": {
       "addedWidgets": {},
       "aggData": [],
       "aggError": "",
       "aggOverflow": false,
       "aggSchema": [],
       "aggSeriesLimitReached": false,
       "aggType": "",
       "arguments": {},
       "columnCustomDisplayInfos": {},
       "data": [
        [
         "15"
        ],
        [
         "29"
        ],
        [
         "34"
        ],
        [
         "8"
        ],
        [
         "52"
        ],
        [
         "NA"
        ],
        [
         null
        ],
        [
         "of age"
        ],
        [
         "31"
        ],
        [
         "18"
        ],
        [
         "Not Rashid"
        ],
        [
         "Unknown"
        ],
        [
         "38"
        ],
        [
         "24"
        ],
        [
         "32"
        ],
        [
         "20"
        ],
        [
         "36"
        ],
        [
         "39"
        ],
        [
         "14"
        ],
        [
         "45"
        ]
       ],
       "datasetInfos": [],
       "dbfsResultPath": null,
       "isJsonSchema": true,
       "metadata": {},
       "overflow": false,
       "plotOptions": {
        "customPlotOptions": {},
        "displayType": "table",
        "pivotAggregation": null,
        "pivotColumns": null,
        "xColumns": null,
        "yColumns": null
       },
       "removedWidgets": [],
       "schema": [
        {
         "metadata": "{}",
         "name": "Age of Victim",
         "type": "\"string\""
        }
       ],
       "type": "table"
      }
     },
     "output_type": "display_data"
    }
   ],
   "source": [
    "turkey_df.select(\n",
    "    'Age of Victim'\n",
    ").distinct().limit(20).display()"
   ]
  },
  {
   "cell_type": "code",
   "execution_count": 0,
   "metadata": {
    "application/vnd.databricks.v1+cell": {
     "cellMetadata": {
      "byteLimit": 2048000,
      "rowLimit": 10000
     },
     "inputWidgets": {},
     "nuid": "3f6b7b3f-9aed-4168-bb76-971580a1fd80",
     "showTitle": false,
     "tableResultSettingsMap": {},
     "title": ""
    }
   },
   "outputs": [
    {
     "output_type": "display_data",
     "data": {
      "text/html": [
       "<style scoped>\n",
       "  .table-result-container {\n",
       "    max-height: 300px;\n",
       "    overflow: auto;\n",
       "  }\n",
       "  table, th, td {\n",
       "    border: 1px solid black;\n",
       "    border-collapse: collapse;\n",
       "  }\n",
       "  th, td {\n",
       "    padding: 5px;\n",
       "  }\n",
       "  th {\n",
       "    text-align: left;\n",
       "  }\n",
       "</style><div class='table-result-container'><table class='table-result'><thead style='background-color: white'><tr><th>age_group</th></tr></thead><tbody><tr><td>NA</td></tr><tr><td>null</td></tr><tr><td>of age</td></tr><tr><td>Not Rashid</td></tr><tr><td>Unknown</td></tr><tr><td>adult</td></tr><tr><td>child</td></tr></tbody></table></div>"
      ]
     },
     "metadata": {
      "application/vnd.databricks.v1+output": {
       "addedWidgets": {},
       "aggData": [],
       "aggError": "",
       "aggOverflow": false,
       "aggSchema": [],
       "aggSeriesLimitReached": false,
       "aggType": "",
       "arguments": {},
       "columnCustomDisplayInfos": {},
       "data": [
        [
         "NA"
        ],
        [
         null
        ],
        [
         "of age"
        ],
        [
         "Not Rashid"
        ],
        [
         "Unknown"
        ],
        [
         "adult"
        ],
        [
         "child"
        ]
       ],
       "datasetInfos": [],
       "dbfsResultPath": null,
       "isJsonSchema": true,
       "metadata": {},
       "overflow": false,
       "plotOptions": {
        "customPlotOptions": {},
        "displayType": "table",
        "pivotAggregation": null,
        "pivotColumns": null,
        "xColumns": null,
        "yColumns": null
       },
       "removedWidgets": [],
       "schema": [
        {
         "metadata": "{}",
         "name": "age_group",
         "type": "\"string\""
        }
       ],
       "type": "table"
      }
     },
     "output_type": "display_data"
    }
   ],
   "source": [
    "turkey_df_grouped_age = turkey_df.withColumn(\n",
    "    'age_group',\n",
    "    F.when(\n",
    "        F.col(\"Age of Victim\").cast(\"int\").isNull(),\n",
    "        F.col(\"Age of Victim\"),\n",
    "    ).otherwise(\n",
    "        F.when(\n",
    "            F.col(\"Age of Victim\").cast(\"int\") < 18,\n",
    "            'child'\n",
    "        ).otherwise(\n",
    "            'adult'\n",
    "        )\n",
    "    )\n",
    ")\n",
    "turkey_df_grouped_age.select('age_group').distinct().limit(20).display()"
   ]
  },
  {
   "cell_type": "code",
   "execution_count": 0,
   "metadata": {
    "application/vnd.databricks.v1+cell": {
     "cellMetadata": {
      "byteLimit": 2048000,
      "rowLimit": 10000
     },
     "inputWidgets": {},
     "nuid": "05ab5fc8-8833-4dd7-b87f-033fc5b2b69e",
     "showTitle": false,
     "tableResultSettingsMap": {},
     "title": ""
    }
   },
   "outputs": [
    {
     "output_type": "display_data",
     "data": {
      "text/html": [
       "<style scoped>\n",
       "  .table-result-container {\n",
       "    max-height: 300px;\n",
       "    overflow: auto;\n",
       "  }\n",
       "  table, th, td {\n",
       "    border: 1px solid black;\n",
       "    border-collapse: collapse;\n",
       "  }\n",
       "  th, td {\n",
       "    padding: 5px;\n",
       "  }\n",
       "  th {\n",
       "    text-align: left;\n",
       "  }\n",
       "</style><div class='table-result-container'><table class='table-result'><thead style='background-color: white'><tr><th>age_group</th></tr></thead><tbody><tr><td>adult</td></tr><tr><td>child</td></tr></tbody></table></div>"
      ]
     },
     "metadata": {
      "application/vnd.databricks.v1+output": {
       "addedWidgets": {},
       "aggData": [],
       "aggError": "",
       "aggOverflow": false,
       "aggSchema": [],
       "aggSeriesLimitReached": false,
       "aggType": "",
       "arguments": {},
       "columnCustomDisplayInfos": {},
       "data": [
        [
         "adult"
        ],
        [
         "child"
        ]
       ],
       "datasetInfos": [],
       "dbfsResultPath": null,
       "isJsonSchema": true,
       "metadata": {},
       "overflow": false,
       "plotOptions": {
        "customPlotOptions": {},
        "displayType": "table",
        "pivotAggregation": null,
        "pivotColumns": null,
        "xColumns": null,
        "yColumns": null
       },
       "removedWidgets": [],
       "schema": [
        {
         "metadata": "{}",
         "name": "age_group",
         "type": "\"string\""
        }
       ],
       "type": "table"
      }
     },
     "output_type": "display_data"
    }
   ],
   "source": [
    "turkey_df_grouped_age = turkey_df_grouped_age.where(\n",
    "    F.col('age_group').isin(['child', 'adult', 'of age', 'Not Rashid'])\n",
    ").withColumn(\n",
    "    'age_group',\n",
    "    F.when(\n",
    "        F.col(\"age_group\") == 'of age',\n",
    "        'adult',\n",
    "    ).otherwise(\n",
    "        F.when(\n",
    "            F.col(\"age_group\") == 'Not Rashid',\n",
    "            'child',\n",
    "        ).otherwise(F.col('age_group'))\n",
    "    )\n",
    ")\n",
    "turkey_df_grouped_age.select('age_group').distinct().limit(20).display()"
   ]
  },
  {
   "cell_type": "code",
   "execution_count": 0,
   "metadata": {
    "application/vnd.databricks.v1+cell": {
     "cellMetadata": {
      "byteLimit": 2048000,
      "rowLimit": 10000
     },
     "inputWidgets": {},
     "nuid": "27e49853-298a-4116-ab3a-e9de97268c11",
     "showTitle": false,
     "tableResultSettingsMap": {},
     "title": ""
    }
   },
   "outputs": [
    {
     "output_type": "execute_result",
     "data": {
      "text/plain": [
       "308"
      ]
     },
     "execution_count": 8,
     "metadata": {},
     "output_type": "execute_result"
    }
   ],
   "source": [
    "turkey_df_grouped_age.count()"
   ]
  },
  {
   "cell_type": "markdown",
   "metadata": {
    "application/vnd.databricks.v1+cell": {
     "cellMetadata": {
      "byteLimit": 2048000,
      "rowLimit": 10000
     },
     "inputWidgets": {},
     "nuid": "c520a87b-7929-46c8-bf72-b17743ff167d",
     "showTitle": false,
     "tableResultSettingsMap": {},
     "title": ""
    }
   },
   "source": [
    "There is too little data now, so we will bin the age groups into just 'Any'. Now group perpetrators"
   ]
  },
  {
   "cell_type": "code",
   "execution_count": 0,
   "metadata": {
    "application/vnd.databricks.v1+cell": {
     "cellMetadata": {
      "byteLimit": 2048000,
      "rowLimit": 10000
     },
     "inputWidgets": {},
     "nuid": "6693f519-864b-4ec4-b751-7f5f644e6a5d",
     "showTitle": false,
     "tableResultSettingsMap": {},
     "title": ""
    }
   },
   "outputs": [
    {
     "output_type": "display_data",
     "data": {
      "text/html": [
       "<style scoped>\n",
       "  .table-result-container {\n",
       "    max-height: 300px;\n",
       "    overflow: auto;\n",
       "  }\n",
       "  table, th, td {\n",
       "    border: 1px solid black;\n",
       "    border-collapse: collapse;\n",
       "  }\n",
       "  th, td {\n",
       "    padding: 5px;\n",
       "  }\n",
       "  th {\n",
       "    text-align: left;\n",
       "  }\n",
       "</style><div class='table-result-container'><table class='table-result'><thead style='background-color: white'><tr><th>year</th><th>country</th><th>province</th><th>total_cases</th></tr></thead><tbody><tr><td>2020</td><td>turkiye</td><td>Intellectual</td><td>8</td></tr><tr><td>2019</td><td>turkiye</td><td>Adana</td><td>21</td></tr><tr><td>2011</td><td>turkiye</td><td>Yozgat</td><td>1</td></tr><tr><td>2018</td><td>turkiye</td><td>Kars</td><td>4</td></tr><tr><td>2020</td><td>turkiye</td><td>Kirsehir</td><td>1</td></tr><tr><td>2019</td><td>turkiye</td><td>Kahramanmaras</td><td>4</td></tr><tr><td>2019</td><td>turkiye</td><td> Konya</td><td>1</td></tr><tr><td>2019</td><td>turkiye</td><td>Trabzon</td><td>1</td></tr><tr><td>2018</td><td>turkiye</td><td>Bayburt</td><td>1</td></tr><tr><td>2020</td><td>turkiye</td><td>Adiyaman</td><td>1</td></tr><tr><td>2011</td><td>turkiye</td><td>Burdur</td><td>1</td></tr><tr><td>2018</td><td>turkiye</td><td>Kırıkkale</td><td>3</td></tr><tr><td>2019</td><td>turkiye</td><td>Eskisehir</td><td>6</td></tr><tr><td>2016</td><td>turkiye</td><td>Adana</td><td>13</td></tr><tr><td>2016</td><td>turkiye</td><td>Hakkari</td><td>3</td></tr><tr><td>2016</td><td>turkiye</td><td>Yalova</td><td>2</td></tr><tr><td>2013</td><td>turkiye</td><td>Bursa</td><td>1</td></tr><tr><td>2019</td><td>turkiye</td><td>Kırklareli</td><td>1</td></tr><tr><td>2018</td><td>turkiye</td><td>Mazıdağı</td><td>1</td></tr><tr><td>2018</td><td>turkiye</td><td>Mardin</td><td>4</td></tr></tbody></table></div>"
      ]
     },
     "metadata": {
      "application/vnd.databricks.v1+output": {
       "addedWidgets": {},
       "aggData": [],
       "aggError": "",
       "aggOverflow": false,
       "aggSchema": [],
       "aggSeriesLimitReached": false,
       "aggType": "",
       "arguments": {},
       "columnCustomDisplayInfos": {},
       "data": [
        [
         2020,
         "turkiye",
         "Intellectual",
         8
        ],
        [
         2019,
         "turkiye",
         "Adana",
         21
        ],
        [
         2011,
         "turkiye",
         "Yozgat",
         1
        ],
        [
         2018,
         "turkiye",
         "Kars",
         4
        ],
        [
         2020,
         "turkiye",
         "Kirsehir",
         1
        ],
        [
         2019,
         "turkiye",
         "Kahramanmaras",
         4
        ],
        [
         2019,
         "turkiye",
         " Konya",
         1
        ],
        [
         2019,
         "turkiye",
         "Trabzon",
         1
        ],
        [
         2018,
         "turkiye",
         "Bayburt",
         1
        ],
        [
         2020,
         "turkiye",
         "Adiyaman",
         1
        ],
        [
         2011,
         "turkiye",
         "Burdur",
         1
        ],
        [
         2018,
         "turkiye",
         "Kırıkkale",
         3
        ],
        [
         2019,
         "turkiye",
         "Eskisehir",
         6
        ],
        [
         2016,
         "turkiye",
         "Adana",
         13
        ],
        [
         2016,
         "turkiye",
         "Hakkari",
         3
        ],
        [
         2016,
         "turkiye",
         "Yalova",
         2
        ],
        [
         2013,
         "turkiye",
         "Bursa",
         1
        ],
        [
         2019,
         "turkiye",
         "Kırklareli",
         1
        ],
        [
         2018,
         "turkiye",
         "Mazıdağı",
         1
        ],
        [
         2018,
         "turkiye",
         "Mardin",
         4
        ]
       ],
       "datasetInfos": [],
       "dbfsResultPath": null,
       "isJsonSchema": true,
       "metadata": {},
       "overflow": false,
       "plotOptions": {
        "customPlotOptions": {},
        "displayType": "table",
        "pivotAggregation": null,
        "pivotColumns": null,
        "xColumns": null,
        "yColumns": null
       },
       "removedWidgets": [],
       "schema": [
        {
         "metadata": "{}",
         "name": "year",
         "type": "\"integer\""
        },
        {
         "metadata": "{}",
         "name": "country",
         "type": "\"string\""
        },
        {
         "metadata": "{}",
         "name": "province",
         "type": "\"string\""
        },
        {
         "metadata": "{}",
         "name": "total_cases",
         "type": "\"long\""
        }
       ],
       "type": "table"
      }
     },
     "output_type": "display_data"
    }
   ],
   "source": [
    "turkey_df_aggregated = turkey_df.withColumn(\n",
    "    'country', F.lit('turkiye'), # this is the new name of the country\n",
    ").withColumn(\n",
    "    'age_group', F.lit('any'),\n",
    ").select(\n",
    "    F.col('year'),\n",
    "    F.col('country'),\n",
    "    F.col('Province').alias('province'),\n",
    ").groupBy('year', 'country', 'province').agg(\n",
    "    F.count('*').alias('total_cases'),\n",
    ")\n",
    "turkey_df_aggregated.limit(20).display()\n"
   ]
  },
  {
   "cell_type": "markdown",
   "metadata": {
    "application/vnd.databricks.v1+cell": {
     "cellMetadata": {
      "byteLimit": 2048000,
      "rowLimit": 10000
     },
     "inputWidgets": {},
     "nuid": "7bfacf61-d4b0-4851-a95c-e8dea4312d6f",
     "showTitle": false,
     "tableResultSettingsMap": {},
     "title": ""
    }
   },
   "source": [
    "and now group for all provinces"
   ]
  },
  {
   "cell_type": "code",
   "execution_count": 0,
   "metadata": {
    "application/vnd.databricks.v1+cell": {
     "cellMetadata": {
      "byteLimit": 2048000,
      "rowLimit": 10000
     },
     "inputWidgets": {},
     "nuid": "ef41ac6a-62de-4c53-9882-3d14f8ed233c",
     "showTitle": false,
     "tableResultSettingsMap": {},
     "title": ""
    }
   },
   "outputs": [
    {
     "output_type": "display_data",
     "data": {
      "text/html": [
       "<style scoped>\n",
       "  .table-result-container {\n",
       "    max-height: 300px;\n",
       "    overflow: auto;\n",
       "  }\n",
       "  table, th, td {\n",
       "    border: 1px solid black;\n",
       "    border-collapse: collapse;\n",
       "  }\n",
       "  th, td {\n",
       "    padding: 5px;\n",
       "  }\n",
       "  th {\n",
       "    text-align: left;\n",
       "  }\n",
       "</style><div class='table-result-container'><table class='table-result'><thead style='background-color: white'><tr><th>year</th><th>country</th><th>province</th><th>total_cases</th></tr></thead><tbody><tr><td>2020</td><td>turkiye</td><td>Intellectual</td><td>8</td></tr><tr><td>2019</td><td>turkiye</td><td>Adana</td><td>21</td></tr><tr><td>2011</td><td>turkiye</td><td>Yozgat</td><td>1</td></tr><tr><td>2018</td><td>turkiye</td><td>Kars</td><td>4</td></tr><tr><td>2020</td><td>turkiye</td><td>Kirsehir</td><td>1</td></tr><tr><td>2019</td><td>turkiye</td><td>Kahramanmaras</td><td>4</td></tr><tr><td>2019</td><td>turkiye</td><td> Konya</td><td>1</td></tr><tr><td>2019</td><td>turkiye</td><td>Trabzon</td><td>1</td></tr><tr><td>2018</td><td>turkiye</td><td>Bayburt</td><td>1</td></tr><tr><td>2020</td><td>turkiye</td><td>Adiyaman</td><td>1</td></tr><tr><td>2011</td><td>turkiye</td><td>Burdur</td><td>1</td></tr><tr><td>2018</td><td>turkiye</td><td>Kırıkkale</td><td>3</td></tr><tr><td>2019</td><td>turkiye</td><td>Eskisehir</td><td>6</td></tr><tr><td>2016</td><td>turkiye</td><td>Adana</td><td>13</td></tr><tr><td>2016</td><td>turkiye</td><td>Hakkari</td><td>3</td></tr><tr><td>2016</td><td>turkiye</td><td>Yalova</td><td>2</td></tr><tr><td>2013</td><td>turkiye</td><td>Bursa</td><td>1</td></tr><tr><td>2019</td><td>turkiye</td><td>Kırklareli</td><td>1</td></tr><tr><td>2018</td><td>turkiye</td><td>Mazıdağı</td><td>1</td></tr><tr><td>2018</td><td>turkiye</td><td>Mardin</td><td>4</td></tr></tbody></table></div>"
      ]
     },
     "metadata": {
      "application/vnd.databricks.v1+output": {
       "addedWidgets": {},
       "aggData": [],
       "aggError": "",
       "aggOverflow": false,
       "aggSchema": [],
       "aggSeriesLimitReached": false,
       "aggType": "",
       "arguments": {},
       "columnCustomDisplayInfos": {},
       "data": [
        [
         2020,
         "turkiye",
         "Intellectual",
         8
        ],
        [
         2019,
         "turkiye",
         "Adana",
         21
        ],
        [
         2011,
         "turkiye",
         "Yozgat",
         1
        ],
        [
         2018,
         "turkiye",
         "Kars",
         4
        ],
        [
         2020,
         "turkiye",
         "Kirsehir",
         1
        ],
        [
         2019,
         "turkiye",
         "Kahramanmaras",
         4
        ],
        [
         2019,
         "turkiye",
         " Konya",
         1
        ],
        [
         2019,
         "turkiye",
         "Trabzon",
         1
        ],
        [
         2018,
         "turkiye",
         "Bayburt",
         1
        ],
        [
         2020,
         "turkiye",
         "Adiyaman",
         1
        ],
        [
         2011,
         "turkiye",
         "Burdur",
         1
        ],
        [
         2018,
         "turkiye",
         "Kırıkkale",
         3
        ],
        [
         2019,
         "turkiye",
         "Eskisehir",
         6
        ],
        [
         2016,
         "turkiye",
         "Adana",
         13
        ],
        [
         2016,
         "turkiye",
         "Hakkari",
         3
        ],
        [
         2016,
         "turkiye",
         "Yalova",
         2
        ],
        [
         2013,
         "turkiye",
         "Bursa",
         1
        ],
        [
         2019,
         "turkiye",
         "Kırklareli",
         1
        ],
        [
         2018,
         "turkiye",
         "Mazıdağı",
         1
        ],
        [
         2018,
         "turkiye",
         "Mardin",
         4
        ]
       ],
       "datasetInfos": [],
       "dbfsResultPath": null,
       "isJsonSchema": true,
       "metadata": {},
       "overflow": false,
       "plotOptions": {
        "customPlotOptions": {},
        "displayType": "table",
        "pivotAggregation": null,
        "pivotColumns": null,
        "xColumns": null,
        "yColumns": null
       },
       "removedWidgets": [],
       "schema": [
        {
         "metadata": "{}",
         "name": "year",
         "type": "\"integer\""
        },
        {
         "metadata": "{}",
         "name": "country",
         "type": "\"string\""
        },
        {
         "metadata": "{}",
         "name": "province",
         "type": "\"string\""
        },
        {
         "metadata": "{}",
         "name": "total_cases",
         "type": "\"long\""
        }
       ],
       "type": "table"
      }
     },
     "output_type": "display_data"
    }
   ],
   "source": [
    "turkey_df_all = turkey_df_aggregated.withColumn(\n",
    "    'Province', F.lit('all'),\n",
    ").select(\n",
    "    F.col('year'),\n",
    "    F.col('country'),\n",
    "    F.col('Province').alias('province'),\n",
    "    F.col('total_cases'),\n",
    ").groupBy('year', 'country', 'province').agg(\n",
    "    F.sum('total_cases').alias('total_cases'),\n",
    ")\n",
    "turkey_df_aggregated.union(turkey_df_all).limit(20).display()"
   ]
  }
 ],
 "metadata": {
  "application/vnd.databricks.v1+notebook": {
   "computePreferences": null,
   "dashboards": [],
   "environmentMetadata": {
    "base_environment": "",
    "environment_version": "1"
   },
   "language": "python",
   "notebookMetadata": {
    "pythonIndentUnit": 4
   },
   "notebookName": "silver_murder_turkey",
   "widgets": {}
  },
  "language_info": {
   "name": "python"
  }
 },
 "nbformat": 4,
 "nbformat_minor": 0
}
