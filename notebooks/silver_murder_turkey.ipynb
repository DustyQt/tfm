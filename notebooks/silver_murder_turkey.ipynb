{
 "cells": [
  {
   "cell_type": "code",
   "execution_count": 0,
   "metadata": {
    "application/vnd.databricks.v1+cell": {
     "cellMetadata": {
      "byteLimit": 2048000,
      "rowLimit": 10000
     },
     "inputWidgets": {},
     "nuid": "4fb3c8a3-8a82-41e8-aedc-f78fd0008f41",
     "showTitle": false,
     "tableResultSettingsMap": {},
     "title": ""
    }
   },
   "outputs": [],
   "source": [
    "import pyspark.sql.functions as F\n",
    "import os\n",
    "\n",
    "STORAGE_ACCOUNT = os.getenv('STORAGE_ACCOUNT')\n",
    "STORAGE_ACCOUNT_KEY = os.getenv('STORAGE_ACCOUNT_KEY')\n",
    "spark.conf.set(STORAGE_ACCOUNT, STORAGE_ACCOUNT_KEY)\n"
   ]
  },
  {
   "cell_type": "code",
   "execution_count": 0,
   "metadata": {
    "application/vnd.databricks.v1+cell": {
     "cellMetadata": {
      "byteLimit": 2048000,
      "rowLimit": 10000
     },
     "inputWidgets": {},
     "nuid": "89c3cad4-a35a-467a-b9bb-23516aeb88bd",
     "showTitle": false,
     "tableResultSettingsMap": {},
     "title": ""
    }
   },
   "outputs": [],
   "source": [
    "turkey_df = spark.read\\\n",
    "                 .option(\"header\", \"true\")\\\n",
    "                 .option(\"inferSchema\", \"true\")\\\n",
    "                 .csv(\"abfss://datasets@tfmstorageacc.dfs.core.windows.net/violence_against _women_turkey.csv\")\n",
    "\n",
    "turkey_df.display()"
   ]
  },
  {
   "cell_type": "markdown",
   "metadata": {
    "application/vnd.databricks.v1+cell": {
     "cellMetadata": {},
     "inputWidgets": {},
     "nuid": "e44dd5ca-7bfd-47b2-8b2c-ad31a8c91cb5",
     "showTitle": false,
     "tableResultSettingsMap": {},
     "title": ""
    }
   },
   "source": [
    "For this dataset we need to get the year from the date column and group perpetrators and age group\n"
   ]
  },
  {
   "cell_type": "code",
   "execution_count": 0,
   "metadata": {
    "application/vnd.databricks.v1+cell": {
     "cellMetadata": {
      "byteLimit": 2048000,
      "rowLimit": 10000
     },
     "inputWidgets": {},
     "nuid": "5bebf1ca-d9e8-4f51-8abe-12f1d9767c60",
     "showTitle": false,
     "tableResultSettingsMap": {},
     "title": ""
    }
   },
   "outputs": [],
   "source": [
    "turkey_df = turkey_df.withColumn(\n",
    "    'year',\n",
    "    F.year(F.to_date(F.col('Date'), 'dd/MM/yyyy')),\n",
    ")\n",
    "turkey_df.select(\n",
    "    'Date',\n",
    "    'year',\n",
    ").display()"
   ]
  },
  {
   "cell_type": "markdown",
   "metadata": {
    "application/vnd.databricks.v1+cell": {
     "cellMetadata": {},
     "inputWidgets": {},
     "nuid": "9f81e31b-7074-434e-94f5-82692383c74c",
     "showTitle": false,
     "tableResultSettingsMap": {},
     "title": ""
    }
   },
   "source": [
    "there are some wrong formatted dates in the dataset. Since errors and typings are so varied its too difficult to clean them up.\n",
    "We will drop them"
   ]
  },
  {
   "cell_type": "code",
   "execution_count": 0,
   "metadata": {
    "application/vnd.databricks.v1+cell": {
     "cellMetadata": {
      "byteLimit": 2048000,
      "rowLimit": 10000
     },
     "inputWidgets": {},
     "nuid": "b2837bb7-a1aa-4dfa-8a6f-ffbb1692bcfe",
     "showTitle": false,
     "tableResultSettingsMap": {},
     "title": ""
    }
   },
   "outputs": [],
   "source": [
    "turkey_df = turkey_df.where(\n",
    "    F.col('year').isNotNull(),\n",
    ")"
   ]
  },
  {
   "cell_type": "markdown",
   "metadata": {
    "application/vnd.databricks.v1+cell": {
     "cellMetadata": {},
     "inputWidgets": {},
     "nuid": "9e49fc33-05e2-4147-88c0-59055306cbcc",
     "showTitle": false,
     "tableResultSettingsMap": {},
     "title": ""
    }
   },
   "source": [
    "now group age groups"
   ]
  },
  {
   "cell_type": "code",
   "execution_count": 0,
   "metadata": {
    "application/vnd.databricks.v1+cell": {
     "cellMetadata": {
      "byteLimit": 2048000,
      "rowLimit": 10000
     },
     "inputWidgets": {},
     "nuid": "962a325b-6ff2-4c08-9bdc-a015e1849aeb",
     "showTitle": false,
     "tableResultSettingsMap": {},
     "title": ""
    }
   },
   "outputs": [],
   "source": [
    "turkey_df.select(\n",
    "    'Age of Victim'\n",
    ").distinct().display()"
   ]
  },
  {
   "cell_type": "code",
   "execution_count": 0,
   "metadata": {
    "application/vnd.databricks.v1+cell": {
     "cellMetadata": {
      "byteLimit": 2048000,
      "rowLimit": 10000
     },
     "inputWidgets": {},
     "nuid": "3f6b7b3f-9aed-4168-bb76-971580a1fd80",
     "showTitle": false,
     "tableResultSettingsMap": {},
     "title": ""
    }
   },
   "outputs": [],
   "source": [
    "turkey_df_grouped_age = turkey_df.withColumn(\n",
    "    'age_group',\n",
    "    F.when(\n",
    "        F.col(\"Age of Victim\").cast(\"int\").isNull(),\n",
    "        F.col(\"Age of Victim\"),\n",
    "    ).otherwise(\n",
    "        F.when(\n",
    "            F.col(\"Age of Victim\").cast(\"int\") < 18,\n",
    "            'child'\n",
    "        ).otherwise(\n",
    "            'adult'\n",
    "        )\n",
    "    )\n",
    ")\n",
    "turkey_df_grouped_age.select('age_group').distinct().display()"
   ]
  },
  {
   "cell_type": "code",
   "execution_count": 0,
   "metadata": {
    "application/vnd.databricks.v1+cell": {
     "cellMetadata": {
      "byteLimit": 2048000,
      "rowLimit": 10000
     },
     "inputWidgets": {},
     "nuid": "05ab5fc8-8833-4dd7-b87f-033fc5b2b69e",
     "showTitle": false,
     "tableResultSettingsMap": {},
     "title": ""
    }
   },
   "outputs": [],
   "source": [
    "turkey_df_grouped_age = turkey_df_grouped_age.where(\n",
    "    F.col('age_group').isin(['child', 'adult', 'of age', 'Not Rashid'])\n",
    ").withColumn(\n",
    "    'age_group',\n",
    "    F.when(\n",
    "        F.col(\"age_group\") == 'of age',\n",
    "        'adult',\n",
    "    ).otherwise(\n",
    "        F.when(\n",
    "            F.col(\"age_group\") == 'Not Rashid',\n",
    "            'child',\n",
    "        ).otherwise(F.col('age_group'))\n",
    "    )\n",
    ")\n",
    "turkey_df_grouped_age.select('age_group').distinct().display()"
   ]
  },
  {
   "cell_type": "code",
   "execution_count": 0,
   "metadata": {
    "application/vnd.databricks.v1+cell": {
     "cellMetadata": {
      "byteLimit": 2048000,
      "rowLimit": 10000
     },
     "inputWidgets": {},
     "nuid": "27e49853-298a-4116-ab3a-e9de97268c11",
     "showTitle": false,
     "tableResultSettingsMap": {},
     "title": ""
    }
   },
   "outputs": [],
   "source": [
    "turkey_df_grouped_age.count()"
   ]
  },
  {
   "cell_type": "markdown",
   "metadata": {
    "application/vnd.databricks.v1+cell": {
     "cellMetadata": {},
     "inputWidgets": {},
     "nuid": "c520a87b-7929-46c8-bf72-b17743ff167d",
     "showTitle": false,
     "tableResultSettingsMap": {},
     "title": ""
    }
   },
   "source": [
    "There is too little data now, so we will bin the age groups into just 'Any'. Now group perpetrators"
   ]
  },
  {
   "cell_type": "code",
   "execution_count": 0,
   "metadata": {
    "application/vnd.databricks.v1+cell": {
     "cellMetadata": {
      "byteLimit": 2048000,
      "rowLimit": 10000
     },
     "inputWidgets": {},
     "nuid": "6693f519-864b-4ec4-b751-7f5f644e6a5d",
     "showTitle": false,
     "tableResultSettingsMap": {},
     "title": ""
    }
   },
   "outputs": [],
   "source": [
    "turkey_df_aggregated = turkey_df.withColumn(\n",
    "    'country', F.lit('turkiye'), # this is the new name of the country\n",
    ").withColumn(\n",
    "    'age_group', F.lit('any'),\n",
    ").select(\n",
    "    F.col('year'),\n",
    "    F.col('country'),\n",
    "    F.col('Province').alias('province'),\n",
    ").groupBy('year', 'country', 'province').agg(\n",
    "    F.count('*').alias('total_cases'),\n",
    ")\n",
    "turkey_df_aggregated.display()\n"
   ]
  },
  {
   "cell_type": "markdown",
   "metadata": {
    "application/vnd.databricks.v1+cell": {
     "cellMetadata": {},
     "inputWidgets": {},
     "nuid": "7bfacf61-d4b0-4851-a95c-e8dea4312d6f",
     "showTitle": false,
     "tableResultSettingsMap": {},
     "title": ""
    }
   },
   "source": [
    "and now group for all provinces"
   ]
  },
  {
   "cell_type": "code",
   "execution_count": 0,
   "metadata": {
    "application/vnd.databricks.v1+cell": {
     "cellMetadata": {
      "byteLimit": 2048000,
      "rowLimit": 10000
     },
     "inputWidgets": {},
     "nuid": "ef41ac6a-62de-4c53-9882-3d14f8ed233c",
     "showTitle": false,
     "tableResultSettingsMap": {},
     "title": ""
    }
   },
   "outputs": [],
   "source": [
    "turkey_df_all = turkey_df_aggregated.withColumn(\n",
    "    'Province', F.lit('all'),\n",
    ").select(\n",
    "    F.col('year'),\n",
    "    F.col('country'),\n",
    "    F.col('Province').alias('province'),\n",
    "    F.col('total_cases'),\n",
    ").groupBy('year', 'country', 'province').agg(\n",
    "    F.sum('total_cases').alias('total_cases'),\n",
    ")\n",
    "turkey_df_aggregated.union(turkey_df_all).display()"
   ]
  }
 ],
 "metadata": {
  "application/vnd.databricks.v1+notebook": {
   "computePreferences": null,
   "dashboards": [],
   "environmentMetadata": {
    "base_environment": "",
    "environment_version": "1"
   },
   "language": "python",
   "notebookMetadata": {
    "pythonIndentUnit": 4
   },
   "notebookName": "silver_murder_turkey",
   "widgets": {}
  },
  "language_info": {
   "name": "python"
  }
 },
 "nbformat": 4,
 "nbformat_minor": 0
}
