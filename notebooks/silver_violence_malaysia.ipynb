{
 "cells": [
  {
   "cell_type": "code",
   "execution_count": 0,
   "metadata": {
    "application/vnd.databricks.v1+cell": {
     "cellMetadata": {
      "byteLimit": 2048000,
      "rowLimit": 10000
     },
     "inputWidgets": {},
     "nuid": "8ef9aae6-bd26-4bbb-a55a-b6e4a75d6131",
     "showTitle": false,
     "tableResultSettingsMap": {},
     "title": ""
    }
   },
   "outputs": [
    {
     "output_type": "display_data",
     "data": {
      "text/html": [
       "<style scoped>\n",
       "  .table-result-container {\n",
       "    max-height: 300px;\n",
       "    overflow: auto;\n",
       "  }\n",
       "  table, th, td {\n",
       "    border: 1px solid black;\n",
       "    border-collapse: collapse;\n",
       "  }\n",
       "  th, td {\n",
       "    padding: 5px;\n",
       "  }\n",
       "  th {\n",
       "    text-align: left;\n",
       "  }\n",
       "</style><div class='table-result-container'><table class='table-result'><thead style='background-color: white'><tr><th>_line</th><th>_fivetran_synced</th><th>year</th><th>type_of_case</th><th>sex</th><th>number_of_violence</th></tr></thead><tbody><tr><td>22</td><td>2025-01-25T06:25:31.336Z</td><td>2021</td><td>Rape</td><td>Women</td><td>1360</td></tr><tr><td>59</td><td>2025-01-25T06:25:31.336Z</td><td>2021</td><td>Unnatural</td><td>Men</td><td>73</td></tr><tr><td>27</td><td>2025-01-25T06:25:31.336Z</td><td>2017</td><td>Incest</td><td>Men</td><td>0</td></tr><tr><td>64</td><td>2025-01-25T06:25:31.337Z</td><td>2018</td><td>Sexual disoder</td><td>Women</td><td>253</td></tr><tr><td>32</td><td>2025-01-25T06:25:31.336Z</td><td>2020</td><td>Incest</td><td>Women</td><td>259</td></tr><tr><td>69</td><td>2025-01-25T06:25:31.337Z</td><td>2020</td><td>Sexual disoder</td><td>Men</td><td>24</td></tr><tr><td>0</td><td>2025-01-25T06:25:31.335Z</td><td>2016</td><td>Domestic violence</td><td>Women</td><td>4285</td></tr><tr><td>37</td><td>2025-01-25T06:25:31.336Z</td><td>2016</td><td>Molest</td><td>Men</td><td>38</td></tr><tr><td>74</td><td>2025-01-25T06:25:31.337Z</td><td>2017</td><td>Distribute/ display pornographic material</td><td>Women</td><td>35</td></tr><tr><td>5</td><td>2025-01-25T06:25:31.335Z</td><td>2018</td><td>Domestic violence</td><td>Men</td><td>1474</td></tr><tr><td>42</td><td>2025-01-25T06:25:31.336Z</td><td>2019</td><td>Molest</td><td>Women</td><td>1064</td></tr><tr><td>79</td><td>2025-01-25T06:25:31.337Z</td><td>2019</td><td>Distribute/ display pornographic material</td><td>Men</td><td>14</td></tr><tr><td>10</td><td>2025-01-25T06:25:31.335Z</td><td>2021</td><td>Domestic violence</td><td>Women</td><td>5131</td></tr><tr><td>47</td><td>2025-01-25T06:25:31.336Z</td><td>2021</td><td>Molest</td><td>Men</td><td>22</td></tr><tr><td>15</td><td>2025-01-25T06:25:31.335Z</td><td>2017</td><td>Rape</td><td>Men</td><td>0</td></tr><tr><td>52</td><td>2025-01-25T06:25:31.336Z</td><td>2018</td><td>Unnatural</td><td>Women</td><td>159</td></tr><tr><td>20</td><td>2025-01-25T06:25:31.336Z</td><td>2020</td><td>Rape</td><td>Women</td><td>1378</td></tr><tr><td>57</td><td>2025-01-25T06:25:31.336Z</td><td>2020</td><td>Unnatural</td><td>Men</td><td>99</td></tr><tr><td>25</td><td>2025-01-25T06:25:31.336Z</td><td>2016</td><td>Incest</td><td>Men</td><td>0</td></tr><tr><td>62</td><td>2025-01-25T06:25:31.337Z</td><td>2017</td><td>Sexual disoder</td><td>Women</td><td>226</td></tr></tbody></table></div>"
      ]
     },
     "metadata": {
      "application/vnd.databricks.v1+output": {
       "addedWidgets": {},
       "aggData": [],
       "aggError": "",
       "aggOverflow": false,
       "aggSchema": [],
       "aggSeriesLimitReached": false,
       "aggType": "",
       "arguments": {},
       "columnCustomDisplayInfos": {},
       "data": [
        [
         22,
         "2025-01-25T06:25:31.336Z",
         2021,
         "Rape",
         "Women",
         1360
        ],
        [
         59,
         "2025-01-25T06:25:31.336Z",
         2021,
         "Unnatural",
         "Men",
         73
        ],
        [
         27,
         "2025-01-25T06:25:31.336Z",
         2017,
         "Incest",
         "Men",
         0
        ],
        [
         64,
         "2025-01-25T06:25:31.337Z",
         2018,
         "Sexual disoder",
         "Women",
         253
        ],
        [
         32,
         "2025-01-25T06:25:31.336Z",
         2020,
         "Incest",
         "Women",
         259
        ],
        [
         69,
         "2025-01-25T06:25:31.337Z",
         2020,
         "Sexual disoder",
         "Men",
         24
        ],
        [
         0,
         "2025-01-25T06:25:31.335Z",
         2016,
         "Domestic violence",
         "Women",
         4285
        ],
        [
         37,
         "2025-01-25T06:25:31.336Z",
         2016,
         "Molest",
         "Men",
         38
        ],
        [
         74,
         "2025-01-25T06:25:31.337Z",
         2017,
         "Distribute/ display pornographic material",
         "Women",
         35
        ],
        [
         5,
         "2025-01-25T06:25:31.335Z",
         2018,
         "Domestic violence",
         "Men",
         1474
        ],
        [
         42,
         "2025-01-25T06:25:31.336Z",
         2019,
         "Molest",
         "Women",
         1064
        ],
        [
         79,
         "2025-01-25T06:25:31.337Z",
         2019,
         "Distribute/ display pornographic material",
         "Men",
         14
        ],
        [
         10,
         "2025-01-25T06:25:31.335Z",
         2021,
         "Domestic violence",
         "Women",
         5131
        ],
        [
         47,
         "2025-01-25T06:25:31.336Z",
         2021,
         "Molest",
         "Men",
         22
        ],
        [
         15,
         "2025-01-25T06:25:31.335Z",
         2017,
         "Rape",
         "Men",
         0
        ],
        [
         52,
         "2025-01-25T06:25:31.336Z",
         2018,
         "Unnatural",
         "Women",
         159
        ],
        [
         20,
         "2025-01-25T06:25:31.336Z",
         2020,
         "Rape",
         "Women",
         1378
        ],
        [
         57,
         "2025-01-25T06:25:31.336Z",
         2020,
         "Unnatural",
         "Men",
         99
        ],
        [
         25,
         "2025-01-25T06:25:31.336Z",
         2016,
         "Incest",
         "Men",
         0
        ],
        [
         62,
         "2025-01-25T06:25:31.337Z",
         2017,
         "Sexual disoder",
         "Women",
         226
        ]
       ],
       "datasetInfos": [],
       "dbfsResultPath": null,
       "isJsonSchema": true,
       "metadata": {},
       "overflow": false,
       "plotOptions": {
        "customPlotOptions": {},
        "displayType": "table",
        "pivotAggregation": null,
        "pivotColumns": null,
        "xColumns": null,
        "yColumns": null
       },
       "removedWidgets": [],
       "schema": [
        {
         "metadata": "{}",
         "name": "_line",
         "type": "\"long\""
        },
        {
         "metadata": "{}",
         "name": "_fivetran_synced",
         "type": "\"timestamp\""
        },
        {
         "metadata": "{}",
         "name": "year",
         "type": "\"long\""
        },
        {
         "metadata": "{}",
         "name": "type_of_case",
         "type": "\"string\""
        },
        {
         "metadata": "{}",
         "name": "sex",
         "type": "\"string\""
        },
        {
         "metadata": "{}",
         "name": "number_of_violence",
         "type": "\"long\""
        }
       ],
       "type": "table"
      }
     },
     "output_type": "display_data"
    }
   ],
   "source": [
    "import pyspark.sql.functions as F\n",
    "\n",
    "malaysia_df = spark.table('hive_metastore.google_drive._2021_violence_against_women_cases_malasia')\n",
    "malaysia_df.limit(20).display()"
   ]
  },
  {
   "cell_type": "markdown",
   "metadata": {
    "application/vnd.databricks.v1+cell": {
     "cellMetadata": {
      "byteLimit": 2048000,
      "rowLimit": 10000
     },
     "inputWidgets": {},
     "nuid": "6707e055-c04c-4e88-87e8-4f7dcf504fcd",
     "showTitle": false,
     "tableResultSettingsMap": {},
     "title": ""
    }
   },
   "source": [
    "filter female victims"
   ]
  },
  {
   "cell_type": "code",
   "execution_count": 0,
   "metadata": {
    "application/vnd.databricks.v1+cell": {
     "cellMetadata": {
      "byteLimit": 2048000,
      "rowLimit": 10000
     },
     "inputWidgets": {},
     "nuid": "78fa5ca1-25ab-4249-807a-128973a0bff2",
     "showTitle": false,
     "tableResultSettingsMap": {},
     "title": ""
    }
   },
   "outputs": [
    {
     "output_type": "display_data",
     "data": {
      "text/html": [
       "<style scoped>\n",
       "  .table-result-container {\n",
       "    max-height: 300px;\n",
       "    overflow: auto;\n",
       "  }\n",
       "  table, th, td {\n",
       "    border: 1px solid black;\n",
       "    border-collapse: collapse;\n",
       "  }\n",
       "  th, td {\n",
       "    padding: 5px;\n",
       "  }\n",
       "  th {\n",
       "    text-align: left;\n",
       "  }\n",
       "</style><div class='table-result-container'><table class='table-result'><thead style='background-color: white'><tr><th>country</th><th>year</th><th>type_of_violence</th><th>total_cases</th></tr></thead><tbody><tr><td>malaysia</td><td>2021</td><td>Rape</td><td>1360</td></tr><tr><td>malaysia</td><td>2018</td><td>Sexual disoder</td><td>253</td></tr><tr><td>malaysia</td><td>2020</td><td>Incest</td><td>259</td></tr><tr><td>malaysia</td><td>2016</td><td>Domestic violence</td><td>4285</td></tr><tr><td>malaysia</td><td>2017</td><td>Distribute/ display pornographic material</td><td>35</td></tr><tr><td>malaysia</td><td>2019</td><td>Molest</td><td>1064</td></tr><tr><td>malaysia</td><td>2021</td><td>Domestic violence</td><td>5131</td></tr><tr><td>malaysia</td><td>2018</td><td>Unnatural</td><td>159</td></tr><tr><td>malaysia</td><td>2020</td><td>Rape</td><td>1378</td></tr><tr><td>malaysia</td><td>2017</td><td>Sexual disoder</td><td>226</td></tr><tr><td>malaysia</td><td>2019</td><td>Incest</td><td>300</td></tr><tr><td>malaysia</td><td>2016</td><td>Distribute/ display pornographic material</td><td>14</td></tr><tr><td>malaysia</td><td>2018</td><td>Molest</td><td>872</td></tr><tr><td>malaysia</td><td>2020</td><td>Domestic violence</td><td>3616</td></tr><tr><td>malaysia</td><td>2021</td><td>Distribute/ display pornographic material</td><td>53</td></tr><tr><td>malaysia</td><td>2017</td><td>Unnatural</td><td>203</td></tr><tr><td>malaysia</td><td>2019</td><td>Rape</td><td>1453</td></tr><tr><td>malaysia</td><td>2016</td><td>Sexual disoder</td><td>253</td></tr><tr><td>malaysia</td><td>2018</td><td>Incest</td><td>266</td></tr><tr><td>malaysia</td><td>2021</td><td>Sexual disoder</td><td>446</td></tr></tbody></table></div>"
      ]
     },
     "metadata": {
      "application/vnd.databricks.v1+output": {
       "addedWidgets": {},
       "aggData": [],
       "aggError": "",
       "aggOverflow": false,
       "aggSchema": [],
       "aggSeriesLimitReached": false,
       "aggType": "",
       "arguments": {},
       "columnCustomDisplayInfos": {},
       "data": [
        [
         "malaysia",
         2021,
         "Rape",
         1360
        ],
        [
         "malaysia",
         2018,
         "Sexual disoder",
         253
        ],
        [
         "malaysia",
         2020,
         "Incest",
         259
        ],
        [
         "malaysia",
         2016,
         "Domestic violence",
         4285
        ],
        [
         "malaysia",
         2017,
         "Distribute/ display pornographic material",
         35
        ],
        [
         "malaysia",
         2019,
         "Molest",
         1064
        ],
        [
         "malaysia",
         2021,
         "Domestic violence",
         5131
        ],
        [
         "malaysia",
         2018,
         "Unnatural",
         159
        ],
        [
         "malaysia",
         2020,
         "Rape",
         1378
        ],
        [
         "malaysia",
         2017,
         "Sexual disoder",
         226
        ],
        [
         "malaysia",
         2019,
         "Incest",
         300
        ],
        [
         "malaysia",
         2016,
         "Distribute/ display pornographic material",
         14
        ],
        [
         "malaysia",
         2018,
         "Molest",
         872
        ],
        [
         "malaysia",
         2020,
         "Domestic violence",
         3616
        ],
        [
         "malaysia",
         2021,
         "Distribute/ display pornographic material",
         53
        ],
        [
         "malaysia",
         2017,
         "Unnatural",
         203
        ],
        [
         "malaysia",
         2019,
         "Rape",
         1453
        ],
        [
         "malaysia",
         2016,
         "Sexual disoder",
         253
        ],
        [
         "malaysia",
         2018,
         "Incest",
         266
        ],
        [
         "malaysia",
         2021,
         "Sexual disoder",
         446
        ]
       ],
       "datasetInfos": [],
       "dbfsResultPath": null,
       "isJsonSchema": true,
       "metadata": {},
       "overflow": false,
       "plotOptions": {
        "customPlotOptions": {},
        "displayType": "table",
        "pivotAggregation": null,
        "pivotColumns": null,
        "xColumns": null,
        "yColumns": null
       },
       "removedWidgets": [],
       "schema": [
        {
         "metadata": "{}",
         "name": "country",
         "type": "\"string\""
        },
        {
         "metadata": "{}",
         "name": "year",
         "type": "\"long\""
        },
        {
         "metadata": "{}",
         "name": "type_of_violence",
         "type": "\"string\""
        },
        {
         "metadata": "{}",
         "name": "total_cases",
         "type": "\"long\""
        }
       ],
       "type": "table"
      }
     },
     "output_type": "display_data"
    }
   ],
   "source": [
    "malaysia_df_filtered = malaysia_df.where(\n",
    "    F.col('sex') == 'Women',\n",
    ").withColumn(\n",
    "    'country', F.lit('malaysia'),\n",
    ").select(\n",
    "    F.col('country'),\n",
    "    F.col('year'),\n",
    "    F.col('type_of_case').alias('type_of_violence'),\n",
    "    F.col('number_of_violence').alias('total_cases'),\n",
    ")\n",
    "malaysia_df_filtered.limit(20).display()"
   ]
  },
  {
   "cell_type": "markdown",
   "metadata": {
    "application/vnd.databricks.v1+cell": {
     "cellMetadata": {
      "byteLimit": 2048000,
      "rowLimit": 10000
     },
     "inputWidgets": {},
     "nuid": "3ebb0da0-d90b-4aa4-b83f-84eb516af6c7",
     "showTitle": false,
     "tableResultSettingsMap": {},
     "title": ""
    }
   },
   "source": [
    "sum all types"
   ]
  },
  {
   "cell_type": "code",
   "execution_count": 0,
   "metadata": {
    "application/vnd.databricks.v1+cell": {
     "cellMetadata": {
      "byteLimit": 2048000,
      "rowLimit": 10000
     },
     "inputWidgets": {},
     "nuid": "0c4e5bef-cbc3-4d2a-bc14-032610c5b6e1",
     "showTitle": false,
     "tableResultSettingsMap": {},
     "title": ""
    }
   },
   "outputs": [
    {
     "output_type": "display_data",
     "data": {
      "text/html": [
       "<style scoped>\n",
       "  .table-result-container {\n",
       "    max-height: 300px;\n",
       "    overflow: auto;\n",
       "  }\n",
       "  table, th, td {\n",
       "    border: 1px solid black;\n",
       "    border-collapse: collapse;\n",
       "  }\n",
       "  th, td {\n",
       "    padding: 5px;\n",
       "  }\n",
       "  th {\n",
       "    text-align: left;\n",
       "  }\n",
       "</style><div class='table-result-container'><table class='table-result'><thead style='background-color: white'><tr><th>country</th><th>year</th><th>type_of_violence</th><th>total_cases</th></tr></thead><tbody><tr><td>malaysia</td><td>2021</td><td>Rape</td><td>1360</td></tr><tr><td>malaysia</td><td>2018</td><td>Sexual disoder</td><td>253</td></tr><tr><td>malaysia</td><td>2020</td><td>Incest</td><td>259</td></tr><tr><td>malaysia</td><td>2016</td><td>Domestic violence</td><td>4285</td></tr><tr><td>malaysia</td><td>2017</td><td>Distribute/ display pornographic material</td><td>35</td></tr><tr><td>malaysia</td><td>2019</td><td>Molest</td><td>1064</td></tr><tr><td>malaysia</td><td>2021</td><td>Domestic violence</td><td>5131</td></tr><tr><td>malaysia</td><td>2018</td><td>Unnatural</td><td>159</td></tr><tr><td>malaysia</td><td>2020</td><td>Rape</td><td>1378</td></tr><tr><td>malaysia</td><td>2017</td><td>Sexual disoder</td><td>226</td></tr><tr><td>malaysia</td><td>2019</td><td>Incest</td><td>300</td></tr><tr><td>malaysia</td><td>2016</td><td>Distribute/ display pornographic material</td><td>14</td></tr><tr><td>malaysia</td><td>2018</td><td>Molest</td><td>872</td></tr><tr><td>malaysia</td><td>2020</td><td>Domestic violence</td><td>3616</td></tr><tr><td>malaysia</td><td>2021</td><td>Distribute/ display pornographic material</td><td>53</td></tr><tr><td>malaysia</td><td>2017</td><td>Unnatural</td><td>203</td></tr><tr><td>malaysia</td><td>2019</td><td>Rape</td><td>1453</td></tr><tr><td>malaysia</td><td>2016</td><td>Sexual disoder</td><td>253</td></tr><tr><td>malaysia</td><td>2018</td><td>Incest</td><td>266</td></tr><tr><td>malaysia</td><td>2021</td><td>Sexual disoder</td><td>446</td></tr></tbody></table></div>"
      ]
     },
     "metadata": {
      "application/vnd.databricks.v1+output": {
       "addedWidgets": {},
       "aggData": [],
       "aggError": "",
       "aggOverflow": false,
       "aggSchema": [],
       "aggSeriesLimitReached": false,
       "aggType": "",
       "arguments": {},
       "columnCustomDisplayInfos": {},
       "data": [
        [
         "malaysia",
         2021,
         "Rape",
         1360
        ],
        [
         "malaysia",
         2018,
         "Sexual disoder",
         253
        ],
        [
         "malaysia",
         2020,
         "Incest",
         259
        ],
        [
         "malaysia",
         2016,
         "Domestic violence",
         4285
        ],
        [
         "malaysia",
         2017,
         "Distribute/ display pornographic material",
         35
        ],
        [
         "malaysia",
         2019,
         "Molest",
         1064
        ],
        [
         "malaysia",
         2021,
         "Domestic violence",
         5131
        ],
        [
         "malaysia",
         2018,
         "Unnatural",
         159
        ],
        [
         "malaysia",
         2020,
         "Rape",
         1378
        ],
        [
         "malaysia",
         2017,
         "Sexual disoder",
         226
        ],
        [
         "malaysia",
         2019,
         "Incest",
         300
        ],
        [
         "malaysia",
         2016,
         "Distribute/ display pornographic material",
         14
        ],
        [
         "malaysia",
         2018,
         "Molest",
         872
        ],
        [
         "malaysia",
         2020,
         "Domestic violence",
         3616
        ],
        [
         "malaysia",
         2021,
         "Distribute/ display pornographic material",
         53
        ],
        [
         "malaysia",
         2017,
         "Unnatural",
         203
        ],
        [
         "malaysia",
         2019,
         "Rape",
         1453
        ],
        [
         "malaysia",
         2016,
         "Sexual disoder",
         253
        ],
        [
         "malaysia",
         2018,
         "Incest",
         266
        ],
        [
         "malaysia",
         2021,
         "Sexual disoder",
         446
        ]
       ],
       "datasetInfos": [],
       "dbfsResultPath": null,
       "isJsonSchema": true,
       "metadata": {},
       "overflow": false,
       "plotOptions": {
        "customPlotOptions": {},
        "displayType": "table",
        "pivotAggregation": null,
        "pivotColumns": null,
        "xColumns": null,
        "yColumns": null
       },
       "removedWidgets": [],
       "schema": [
        {
         "metadata": "{}",
         "name": "country",
         "type": "\"string\""
        },
        {
         "metadata": "{}",
         "name": "year",
         "type": "\"long\""
        },
        {
         "metadata": "{}",
         "name": "type_of_violence",
         "type": "\"string\""
        },
        {
         "metadata": "{}",
         "name": "total_cases",
         "type": "\"long\""
        }
       ],
       "type": "table"
      }
     },
     "output_type": "display_data"
    }
   ],
   "source": [
    "malaysa_df_any = malaysia_df_filtered.groupBy('year', 'country').agg(\n",
    "    F.sum('total_cases').alias('total_cases')\n",
    ").withColumn(\n",
    "    'type_of_violence', F.lit('any')\n",
    ").select(\n",
    "    F.col('country'),\n",
    "    F.col('year'),\n",
    "    F.col('type_of_violence'),\n",
    "    F.col('total_cases')\n",
    ")\n",
    "malaysia_df_any_violence = malaysia_df_filtered.union(malaysa_df_any)\n",
    "malaysia_df_any_violence.limit(20).display()"
   ]
  },
  {
   "cell_type": "markdown",
   "metadata": {
    "application/vnd.databricks.v1+cell": {
     "cellMetadata": {
      "byteLimit": 2048000,
      "rowLimit": 10000
     },
     "inputWidgets": {},
     "nuid": "ca4eeb94-be8a-458d-a02e-1f7ce05b825e",
     "showTitle": false,
     "tableResultSettingsMap": {},
     "title": ""
    }
   },
   "source": [
    "now we need to delete the '_' character form the year"
   ]
  }
 ],
 "metadata": {
  "application/vnd.databricks.v1+notebook": {
   "computePreferences": null,
   "dashboards": [],
   "environmentMetadata": {
    "base_environment": "",
    "environment_version": "1"
   },
   "language": "python",
   "notebookMetadata": {
    "pythonIndentUnit": 4
   },
   "notebookName": "silver_violence_malaysia",
   "widgets": {}
  },
  "language_info": {
   "name": "python"
  }
 },
 "nbformat": 4,
 "nbformat_minor": 0
}
