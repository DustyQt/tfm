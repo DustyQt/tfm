{
 "cells": [
  {
   "cell_type": "code",
   "execution_count": 0,
   "metadata": {
    "application/vnd.databricks.v1+cell": {
     "cellMetadata": {
      "byteLimit": 2048000,
      "rowLimit": 10000
     },
     "inputWidgets": {},
     "nuid": "8ef9aae6-bd26-4bbb-a55a-b6e4a75d6131",
     "showTitle": false,
     "tableResultSettingsMap": {},
     "title": ""
    }
   },
   "outputs": [
    {
     "output_type": "display_data",
     "data": {
      "text/html": [
       "<style scoped>\n",
       "  .table-result-container {\n",
       "    max-height: 300px;\n",
       "    overflow: auto;\n",
       "  }\n",
       "  table, th, td {\n",
       "    border: 1px solid black;\n",
       "    border-collapse: collapse;\n",
       "  }\n",
       "  th, td {\n",
       "    padding: 5px;\n",
       "  }\n",
       "  th {\n",
       "    text-align: left;\n",
       "  }\n",
       "</style><div class='table-result-container'><table class='table-result'><thead style='background-color: white'><tr><th>_line</th><th>_fivetran_synced</th><th>year</th><th>type_of_case</th><th>sex</th><th>number_of_violence</th></tr></thead><tbody><tr><td>22</td><td>2025-01-25T06:25:31.336Z</td><td>2021</td><td>Rape</td><td>Women</td><td>1360</td></tr><tr><td>59</td><td>2025-01-25T06:25:31.336Z</td><td>2021</td><td>Unnatural</td><td>Men</td><td>73</td></tr><tr><td>27</td><td>2025-01-25T06:25:31.336Z</td><td>2017</td><td>Incest</td><td>Men</td><td>0</td></tr><tr><td>64</td><td>2025-01-25T06:25:31.337Z</td><td>2018</td><td>Sexual disoder</td><td>Women</td><td>253</td></tr><tr><td>32</td><td>2025-01-25T06:25:31.336Z</td><td>2020</td><td>Incest</td><td>Women</td><td>259</td></tr><tr><td>69</td><td>2025-01-25T06:25:31.337Z</td><td>2020</td><td>Sexual disoder</td><td>Men</td><td>24</td></tr><tr><td>0</td><td>2025-01-25T06:25:31.335Z</td><td>2016</td><td>Domestic violence</td><td>Women</td><td>4285</td></tr><tr><td>37</td><td>2025-01-25T06:25:31.336Z</td><td>2016</td><td>Molest</td><td>Men</td><td>38</td></tr><tr><td>74</td><td>2025-01-25T06:25:31.337Z</td><td>2017</td><td>Distribute/ display pornographic material</td><td>Women</td><td>35</td></tr><tr><td>5</td><td>2025-01-25T06:25:31.335Z</td><td>2018</td><td>Domestic violence</td><td>Men</td><td>1474</td></tr><tr><td>42</td><td>2025-01-25T06:25:31.336Z</td><td>2019</td><td>Molest</td><td>Women</td><td>1064</td></tr><tr><td>79</td><td>2025-01-25T06:25:31.337Z</td><td>2019</td><td>Distribute/ display pornographic material</td><td>Men</td><td>14</td></tr><tr><td>10</td><td>2025-01-25T06:25:31.335Z</td><td>2021</td><td>Domestic violence</td><td>Women</td><td>5131</td></tr><tr><td>47</td><td>2025-01-25T06:25:31.336Z</td><td>2021</td><td>Molest</td><td>Men</td><td>22</td></tr><tr><td>15</td><td>2025-01-25T06:25:31.335Z</td><td>2017</td><td>Rape</td><td>Men</td><td>0</td></tr><tr><td>52</td><td>2025-01-25T06:25:31.336Z</td><td>2018</td><td>Unnatural</td><td>Women</td><td>159</td></tr><tr><td>20</td><td>2025-01-25T06:25:31.336Z</td><td>2020</td><td>Rape</td><td>Women</td><td>1378</td></tr><tr><td>57</td><td>2025-01-25T06:25:31.336Z</td><td>2020</td><td>Unnatural</td><td>Men</td><td>99</td></tr><tr><td>25</td><td>2025-01-25T06:25:31.336Z</td><td>2016</td><td>Incest</td><td>Men</td><td>0</td></tr><tr><td>62</td><td>2025-01-25T06:25:31.337Z</td><td>2017</td><td>Sexual disoder</td><td>Women</td><td>226</td></tr><tr><td>30</td><td>2025-01-25T06:25:31.336Z</td><td>2019</td><td>Incest</td><td>Women</td><td>300</td></tr><tr><td>67</td><td>2025-01-25T06:25:31.337Z</td><td>2019</td><td>Sexual disoder</td><td>Men</td><td>21</td></tr><tr><td>35</td><td>2025-01-25T06:25:31.336Z</td><td>2021</td><td>Incest</td><td>Men</td><td>0</td></tr><tr><td>72</td><td>2025-01-25T06:25:31.337Z</td><td>2016</td><td>Distribute/ display pornographic material</td><td>Women</td><td>14</td></tr><tr><td>3</td><td>2025-01-25T06:25:31.335Z</td><td>2017</td><td>Domestic violence</td><td>Men</td><td>1487</td></tr><tr><td>40</td><td>2025-01-25T06:25:31.336Z</td><td>2018</td><td>Molest</td><td>Women</td><td>872</td></tr><tr><td>77</td><td>2025-01-25T06:25:31.337Z</td><td>2018</td><td>Distribute/ display pornographic material</td><td>Men</td><td>0</td></tr><tr><td>8</td><td>2025-01-25T06:25:31.335Z</td><td>2020</td><td>Domestic violence</td><td>Women</td><td>3616</td></tr><tr><td>45</td><td>2025-01-25T06:25:31.336Z</td><td>2020</td><td>Molest</td><td>Men</td><td>21</td></tr><tr><td>82</td><td>2025-01-25T06:25:31.337Z</td><td>2021</td><td>Distribute/ display pornographic material</td><td>Women</td><td>53</td></tr><tr><td>13</td><td>2025-01-25T06:25:31.335Z</td><td>2016</td><td>Rape</td><td>Men</td><td>0</td></tr><tr><td>50</td><td>2025-01-25T06:25:31.336Z</td><td>2017</td><td>Unnatural</td><td>Women</td><td>203</td></tr><tr><td>18</td><td>2025-01-25T06:25:31.336Z</td><td>2019</td><td>Rape</td><td>Women</td><td>1453</td></tr><tr><td>55</td><td>2025-01-25T06:25:31.336Z</td><td>2019</td><td>Unnatural</td><td>Men</td><td>98</td></tr><tr><td>23</td><td>2025-01-25T06:25:31.336Z</td><td>2021</td><td>Rape</td><td>Men</td><td>0</td></tr><tr><td>60</td><td>2025-01-25T06:25:31.336Z</td><td>2016</td><td>Sexual disoder</td><td>Women</td><td>253</td></tr><tr><td>28</td><td>2025-01-25T06:25:31.336Z</td><td>2018</td><td>Incest</td><td>Women</td><td>266</td></tr><tr><td>65</td><td>2025-01-25T06:25:31.337Z</td><td>2018</td><td>Sexual disoder</td><td>Men</td><td>28</td></tr><tr><td>33</td><td>2025-01-25T06:25:31.336Z</td><td>2020</td><td>Incest</td><td>Men</td><td>0</td></tr><tr><td>70</td><td>2025-01-25T06:25:31.337Z</td><td>2021</td><td>Sexual disoder</td><td>Women</td><td>446</td></tr><tr><td>1</td><td>2025-01-25T06:25:31.335Z</td><td>2016</td><td>Domestic violence</td><td>Men</td><td>1511</td></tr><tr><td>38</td><td>2025-01-25T06:25:31.336Z</td><td>2017</td><td>Molest</td><td>Women</td><td>1256</td></tr><tr><td>75</td><td>2025-01-25T06:25:31.337Z</td><td>2017</td><td>Distribute/ display pornographic material</td><td>Men</td><td>7</td></tr><tr><td>6</td><td>2025-01-25T06:25:31.335Z</td><td>2019</td><td>Domestic violence</td><td>Women</td><td>4162</td></tr><tr><td>43</td><td>2025-01-25T06:25:31.336Z</td><td>2019</td><td>Molest</td><td>Men</td><td>15</td></tr><tr><td>80</td><td>2025-01-25T06:25:31.337Z</td><td>2020</td><td>Distribute/ display pornographic material</td><td>Women</td><td>46</td></tr><tr><td>11</td><td>2025-01-25T06:25:31.335Z</td><td>2021</td><td>Domestic violence</td><td>Men</td><td>2337</td></tr><tr><td>48</td><td>2025-01-25T06:25:31.336Z</td><td>2016</td><td>Unnatural</td><td>Women</td><td>168</td></tr><tr><td>16</td><td>2025-01-25T06:25:31.335Z</td><td>2018</td><td>Rape</td><td>Women</td><td>1327</td></tr><tr><td>53</td><td>2025-01-25T06:25:31.336Z</td><td>2018</td><td>Unnatural</td><td>Men</td><td>133</td></tr><tr><td>21</td><td>2025-01-25T06:25:31.336Z</td><td>2020</td><td>Rape</td><td>Men</td><td>0</td></tr><tr><td>58</td><td>2025-01-25T06:25:31.336Z</td><td>2021</td><td>Unnatural</td><td>Women</td><td>157</td></tr><tr><td>26</td><td>2025-01-25T06:25:31.336Z</td><td>2017</td><td>Incest</td><td>Women</td><td>296</td></tr><tr><td>63</td><td>2025-01-25T06:25:31.337Z</td><td>2017</td><td>Sexual disoder</td><td>Men</td><td>41</td></tr><tr><td>31</td><td>2025-01-25T06:25:31.336Z</td><td>2019</td><td>Incest</td><td>Men</td><td>0</td></tr><tr><td>68</td><td>2025-01-25T06:25:31.337Z</td><td>2020</td><td>Sexual disoder</td><td>Women</td><td>354</td></tr><tr><td>36</td><td>2025-01-25T06:25:31.336Z</td><td>2016</td><td>Molest</td><td>Women</td><td>1488</td></tr><tr><td>73</td><td>2025-01-25T06:25:31.337Z</td><td>2016</td><td>Distribute/ display pornographic material</td><td>Men</td><td>6</td></tr><tr><td>4</td><td>2025-01-25T06:25:31.335Z</td><td>2018</td><td>Domestic violence</td><td>Women</td><td>3947</td></tr><tr><td>41</td><td>2025-01-25T06:25:31.336Z</td><td>2018</td><td>Molest</td><td>Men</td><td>14</td></tr><tr><td>78</td><td>2025-01-25T06:25:31.337Z</td><td>2019</td><td>Distribute/ display pornographic material</td><td>Women</td><td>50</td></tr><tr><td>9</td><td>2025-01-25T06:25:31.335Z</td><td>2020</td><td>Domestic violence</td><td>Men</td><td>1644</td></tr><tr><td>46</td><td>2025-01-25T06:25:31.336Z</td><td>2021</td><td>Molest</td><td>Women</td><td>860</td></tr><tr><td>83</td><td>2025-01-25T06:25:31.337Z</td><td>2021</td><td>Distribute/ display pornographic material</td><td>Men</td><td>9</td></tr><tr><td>14</td><td>2025-01-25T06:25:31.335Z</td><td>2017</td><td>Rape</td><td>Women</td><td>1582</td></tr><tr><td>51</td><td>2025-01-25T06:25:31.336Z</td><td>2017</td><td>Unnatural</td><td>Men</td><td>171</td></tr><tr><td>19</td><td>2025-01-25T06:25:31.336Z</td><td>2019</td><td>Rape</td><td>Men</td><td>0</td></tr><tr><td>56</td><td>2025-01-25T06:25:31.336Z</td><td>2020</td><td>Unnatural</td><td>Women</td><td>150</td></tr><tr><td>24</td><td>2025-01-25T06:25:31.336Z</td><td>2016</td><td>Incest</td><td>Women</td><td>253</td></tr><tr><td>61</td><td>2025-01-25T06:25:31.336Z</td><td>2016</td><td>Sexual disoder</td><td>Men</td><td>85</td></tr><tr><td>29</td><td>2025-01-25T06:25:31.336Z</td><td>2018</td><td>Incest</td><td>Men</td><td>0</td></tr><tr><td>66</td><td>2025-01-25T06:25:31.337Z</td><td>2019</td><td>Sexual disoder</td><td>Women</td><td>287</td></tr><tr><td>34</td><td>2025-01-25T06:25:31.336Z</td><td>2021</td><td>Incest</td><td>Women</td><td>245</td></tr><tr><td>71</td><td>2025-01-25T06:25:31.337Z</td><td>2021</td><td>Sexual disoder</td><td>Men</td><td>60</td></tr><tr><td>2</td><td>2025-01-25T06:25:31.335Z</td><td>2017</td><td>Domestic violence</td><td>Women</td><td>4026</td></tr><tr><td>39</td><td>2025-01-25T06:25:31.336Z</td><td>2017</td><td>Molest</td><td>Men</td><td>34</td></tr><tr><td>76</td><td>2025-01-25T06:25:31.337Z</td><td>2018</td><td>Distribute/ display pornographic material</td><td>Women</td><td>33</td></tr><tr><td>7</td><td>2025-01-25T06:25:31.335Z</td><td>2019</td><td>Domestic violence</td><td>Men</td><td>1495</td></tr><tr><td>44</td><td>2025-01-25T06:25:31.336Z</td><td>2020</td><td>Molest</td><td>Women</td><td>821</td></tr><tr><td>81</td><td>2025-01-25T06:25:31.337Z</td><td>2020</td><td>Distribute/ display pornographic material</td><td>Men</td><td>28</td></tr><tr><td>12</td><td>2025-01-25T06:25:31.335Z</td><td>2016</td><td>Rape</td><td>Women</td><td>1698</td></tr><tr><td>49</td><td>2025-01-25T06:25:31.336Z</td><td>2016</td><td>Unnatural</td><td>Men</td><td>159</td></tr><tr><td>17</td><td>2025-01-25T06:25:31.336Z</td><td>2018</td><td>Rape</td><td>Men</td><td>0</td></tr><tr><td>54</td><td>2025-01-25T06:25:31.336Z</td><td>2019</td><td>Unnatural</td><td>Women</td><td>206</td></tr></tbody></table></div>"
      ]
     },
     "metadata": {
      "application/vnd.databricks.v1+output": {
       "addedWidgets": {},
       "aggData": [],
       "aggError": "",
       "aggOverflow": false,
       "aggSchema": [],
       "aggSeriesLimitReached": false,
       "aggType": "",
       "arguments": {},
       "columnCustomDisplayInfos": {},
       "data": [
        [
         22,
         "2025-01-25T06:25:31.336Z",
         2021,
         "Rape",
         "Women",
         1360
        ],
        [
         59,
         "2025-01-25T06:25:31.336Z",
         2021,
         "Unnatural",
         "Men",
         73
        ],
        [
         27,
         "2025-01-25T06:25:31.336Z",
         2017,
         "Incest",
         "Men",
         0
        ],
        [
         64,
         "2025-01-25T06:25:31.337Z",
         2018,
         "Sexual disoder",
         "Women",
         253
        ],
        [
         32,
         "2025-01-25T06:25:31.336Z",
         2020,
         "Incest",
         "Women",
         259
        ],
        [
         69,
         "2025-01-25T06:25:31.337Z",
         2020,
         "Sexual disoder",
         "Men",
         24
        ],
        [
         0,
         "2025-01-25T06:25:31.335Z",
         2016,
         "Domestic violence",
         "Women",
         4285
        ],
        [
         37,
         "2025-01-25T06:25:31.336Z",
         2016,
         "Molest",
         "Men",
         38
        ],
        [
         74,
         "2025-01-25T06:25:31.337Z",
         2017,
         "Distribute/ display pornographic material",
         "Women",
         35
        ],
        [
         5,
         "2025-01-25T06:25:31.335Z",
         2018,
         "Domestic violence",
         "Men",
         1474
        ],
        [
         42,
         "2025-01-25T06:25:31.336Z",
         2019,
         "Molest",
         "Women",
         1064
        ],
        [
         79,
         "2025-01-25T06:25:31.337Z",
         2019,
         "Distribute/ display pornographic material",
         "Men",
         14
        ],
        [
         10,
         "2025-01-25T06:25:31.335Z",
         2021,
         "Domestic violence",
         "Women",
         5131
        ],
        [
         47,
         "2025-01-25T06:25:31.336Z",
         2021,
         "Molest",
         "Men",
         22
        ],
        [
         15,
         "2025-01-25T06:25:31.335Z",
         2017,
         "Rape",
         "Men",
         0
        ],
        [
         52,
         "2025-01-25T06:25:31.336Z",
         2018,
         "Unnatural",
         "Women",
         159
        ],
        [
         20,
         "2025-01-25T06:25:31.336Z",
         2020,
         "Rape",
         "Women",
         1378
        ],
        [
         57,
         "2025-01-25T06:25:31.336Z",
         2020,
         "Unnatural",
         "Men",
         99
        ],
        [
         25,
         "2025-01-25T06:25:31.336Z",
         2016,
         "Incest",
         "Men",
         0
        ],
        [
         62,
         "2025-01-25T06:25:31.337Z",
         2017,
         "Sexual disoder",
         "Women",
         226
        ],
        [
         30,
         "2025-01-25T06:25:31.336Z",
         2019,
         "Incest",
         "Women",
         300
        ],
        [
         67,
         "2025-01-25T06:25:31.337Z",
         2019,
         "Sexual disoder",
         "Men",
         21
        ],
        [
         35,
         "2025-01-25T06:25:31.336Z",
         2021,
         "Incest",
         "Men",
         0
        ],
        [
         72,
         "2025-01-25T06:25:31.337Z",
         2016,
         "Distribute/ display pornographic material",
         "Women",
         14
        ],
        [
         3,
         "2025-01-25T06:25:31.335Z",
         2017,
         "Domestic violence",
         "Men",
         1487
        ],
        [
         40,
         "2025-01-25T06:25:31.336Z",
         2018,
         "Molest",
         "Women",
         872
        ],
        [
         77,
         "2025-01-25T06:25:31.337Z",
         2018,
         "Distribute/ display pornographic material",
         "Men",
         0
        ],
        [
         8,
         "2025-01-25T06:25:31.335Z",
         2020,
         "Domestic violence",
         "Women",
         3616
        ],
        [
         45,
         "2025-01-25T06:25:31.336Z",
         2020,
         "Molest",
         "Men",
         21
        ],
        [
         82,
         "2025-01-25T06:25:31.337Z",
         2021,
         "Distribute/ display pornographic material",
         "Women",
         53
        ],
        [
         13,
         "2025-01-25T06:25:31.335Z",
         2016,
         "Rape",
         "Men",
         0
        ],
        [
         50,
         "2025-01-25T06:25:31.336Z",
         2017,
         "Unnatural",
         "Women",
         203
        ],
        [
         18,
         "2025-01-25T06:25:31.336Z",
         2019,
         "Rape",
         "Women",
         1453
        ],
        [
         55,
         "2025-01-25T06:25:31.336Z",
         2019,
         "Unnatural",
         "Men",
         98
        ],
        [
         23,
         "2025-01-25T06:25:31.336Z",
         2021,
         "Rape",
         "Men",
         0
        ],
        [
         60,
         "2025-01-25T06:25:31.336Z",
         2016,
         "Sexual disoder",
         "Women",
         253
        ],
        [
         28,
         "2025-01-25T06:25:31.336Z",
         2018,
         "Incest",
         "Women",
         266
        ],
        [
         65,
         "2025-01-25T06:25:31.337Z",
         2018,
         "Sexual disoder",
         "Men",
         28
        ],
        [
         33,
         "2025-01-25T06:25:31.336Z",
         2020,
         "Incest",
         "Men",
         0
        ],
        [
         70,
         "2025-01-25T06:25:31.337Z",
         2021,
         "Sexual disoder",
         "Women",
         446
        ],
        [
         1,
         "2025-01-25T06:25:31.335Z",
         2016,
         "Domestic violence",
         "Men",
         1511
        ],
        [
         38,
         "2025-01-25T06:25:31.336Z",
         2017,
         "Molest",
         "Women",
         1256
        ],
        [
         75,
         "2025-01-25T06:25:31.337Z",
         2017,
         "Distribute/ display pornographic material",
         "Men",
         7
        ],
        [
         6,
         "2025-01-25T06:25:31.335Z",
         2019,
         "Domestic violence",
         "Women",
         4162
        ],
        [
         43,
         "2025-01-25T06:25:31.336Z",
         2019,
         "Molest",
         "Men",
         15
        ],
        [
         80,
         "2025-01-25T06:25:31.337Z",
         2020,
         "Distribute/ display pornographic material",
         "Women",
         46
        ],
        [
         11,
         "2025-01-25T06:25:31.335Z",
         2021,
         "Domestic violence",
         "Men",
         2337
        ],
        [
         48,
         "2025-01-25T06:25:31.336Z",
         2016,
         "Unnatural",
         "Women",
         168
        ],
        [
         16,
         "2025-01-25T06:25:31.335Z",
         2018,
         "Rape",
         "Women",
         1327
        ],
        [
         53,
         "2025-01-25T06:25:31.336Z",
         2018,
         "Unnatural",
         "Men",
         133
        ],
        [
         21,
         "2025-01-25T06:25:31.336Z",
         2020,
         "Rape",
         "Men",
         0
        ],
        [
         58,
         "2025-01-25T06:25:31.336Z",
         2021,
         "Unnatural",
         "Women",
         157
        ],
        [
         26,
         "2025-01-25T06:25:31.336Z",
         2017,
         "Incest",
         "Women",
         296
        ],
        [
         63,
         "2025-01-25T06:25:31.337Z",
         2017,
         "Sexual disoder",
         "Men",
         41
        ],
        [
         31,
         "2025-01-25T06:25:31.336Z",
         2019,
         "Incest",
         "Men",
         0
        ],
        [
         68,
         "2025-01-25T06:25:31.337Z",
         2020,
         "Sexual disoder",
         "Women",
         354
        ],
        [
         36,
         "2025-01-25T06:25:31.336Z",
         2016,
         "Molest",
         "Women",
         1488
        ],
        [
         73,
         "2025-01-25T06:25:31.337Z",
         2016,
         "Distribute/ display pornographic material",
         "Men",
         6
        ],
        [
         4,
         "2025-01-25T06:25:31.335Z",
         2018,
         "Domestic violence",
         "Women",
         3947
        ],
        [
         41,
         "2025-01-25T06:25:31.336Z",
         2018,
         "Molest",
         "Men",
         14
        ],
        [
         78,
         "2025-01-25T06:25:31.337Z",
         2019,
         "Distribute/ display pornographic material",
         "Women",
         50
        ],
        [
         9,
         "2025-01-25T06:25:31.335Z",
         2020,
         "Domestic violence",
         "Men",
         1644
        ],
        [
         46,
         "2025-01-25T06:25:31.336Z",
         2021,
         "Molest",
         "Women",
         860
        ],
        [
         83,
         "2025-01-25T06:25:31.337Z",
         2021,
         "Distribute/ display pornographic material",
         "Men",
         9
        ],
        [
         14,
         "2025-01-25T06:25:31.335Z",
         2017,
         "Rape",
         "Women",
         1582
        ],
        [
         51,
         "2025-01-25T06:25:31.336Z",
         2017,
         "Unnatural",
         "Men",
         171
        ],
        [
         19,
         "2025-01-25T06:25:31.336Z",
         2019,
         "Rape",
         "Men",
         0
        ],
        [
         56,
         "2025-01-25T06:25:31.336Z",
         2020,
         "Unnatural",
         "Women",
         150
        ],
        [
         24,
         "2025-01-25T06:25:31.336Z",
         2016,
         "Incest",
         "Women",
         253
        ],
        [
         61,
         "2025-01-25T06:25:31.336Z",
         2016,
         "Sexual disoder",
         "Men",
         85
        ],
        [
         29,
         "2025-01-25T06:25:31.336Z",
         2018,
         "Incest",
         "Men",
         0
        ],
        [
         66,
         "2025-01-25T06:25:31.337Z",
         2019,
         "Sexual disoder",
         "Women",
         287
        ],
        [
         34,
         "2025-01-25T06:25:31.336Z",
         2021,
         "Incest",
         "Women",
         245
        ],
        [
         71,
         "2025-01-25T06:25:31.337Z",
         2021,
         "Sexual disoder",
         "Men",
         60
        ],
        [
         2,
         "2025-01-25T06:25:31.335Z",
         2017,
         "Domestic violence",
         "Women",
         4026
        ],
        [
         39,
         "2025-01-25T06:25:31.336Z",
         2017,
         "Molest",
         "Men",
         34
        ],
        [
         76,
         "2025-01-25T06:25:31.337Z",
         2018,
         "Distribute/ display pornographic material",
         "Women",
         33
        ],
        [
         7,
         "2025-01-25T06:25:31.335Z",
         2019,
         "Domestic violence",
         "Men",
         1495
        ],
        [
         44,
         "2025-01-25T06:25:31.336Z",
         2020,
         "Molest",
         "Women",
         821
        ],
        [
         81,
         "2025-01-25T06:25:31.337Z",
         2020,
         "Distribute/ display pornographic material",
         "Men",
         28
        ],
        [
         12,
         "2025-01-25T06:25:31.335Z",
         2016,
         "Rape",
         "Women",
         1698
        ],
        [
         49,
         "2025-01-25T06:25:31.336Z",
         2016,
         "Unnatural",
         "Men",
         159
        ],
        [
         17,
         "2025-01-25T06:25:31.336Z",
         2018,
         "Rape",
         "Men",
         0
        ],
        [
         54,
         "2025-01-25T06:25:31.336Z",
         2019,
         "Unnatural",
         "Women",
         206
        ]
       ],
       "datasetInfos": [],
       "dbfsResultPath": null,
       "isJsonSchema": true,
       "metadata": {},
       "overflow": false,
       "plotOptions": {
        "customPlotOptions": {},
        "displayType": "table",
        "pivotAggregation": null,
        "pivotColumns": null,
        "xColumns": null,
        "yColumns": null
       },
       "removedWidgets": [],
       "schema": [
        {
         "metadata": "{}",
         "name": "_line",
         "type": "\"long\""
        },
        {
         "metadata": "{}",
         "name": "_fivetran_synced",
         "type": "\"timestamp\""
        },
        {
         "metadata": "{}",
         "name": "year",
         "type": "\"long\""
        },
        {
         "metadata": "{}",
         "name": "type_of_case",
         "type": "\"string\""
        },
        {
         "metadata": "{}",
         "name": "sex",
         "type": "\"string\""
        },
        {
         "metadata": "{}",
         "name": "number_of_violence",
         "type": "\"long\""
        }
       ],
       "type": "table"
      }
     },
     "output_type": "display_data"
    }
   ],
   "source": [
    "import pyspark.sql.functions as F\n",
    "\n",
    "malaysia_df = spark.table('hive_metastore.google_drive._2021_violence_against_women_cases_malasia')\n",
    "malaysia_df.limit(20).display()"
   ]
  },
  {
   "cell_type": "markdown",
   "metadata": {
    "application/vnd.databricks.v1+cell": {
     "cellMetadata": {
      "byteLimit": 2048000,
      "rowLimit": 10000
     },
     "inputWidgets": {},
     "nuid": "6707e055-c04c-4e88-87e8-4f7dcf504fcd",
     "showTitle": false,
     "tableResultSettingsMap": {},
     "title": ""
    }
   },
   "source": [
    "filter female victims"
   ]
  },
  {
   "cell_type": "code",
   "execution_count": 0,
   "metadata": {
    "application/vnd.databricks.v1+cell": {
     "cellMetadata": {
      "byteLimit": 2048000,
      "rowLimit": 10000
     },
     "inputWidgets": {},
     "nuid": "78fa5ca1-25ab-4249-807a-128973a0bff2",
     "showTitle": false,
     "tableResultSettingsMap": {},
     "title": ""
    }
   },
   "outputs": [
    {
     "output_type": "display_data",
     "data": {
      "text/html": [
       "<style scoped>\n",
       "  .table-result-container {\n",
       "    max-height: 300px;\n",
       "    overflow: auto;\n",
       "  }\n",
       "  table, th, td {\n",
       "    border: 1px solid black;\n",
       "    border-collapse: collapse;\n",
       "  }\n",
       "  th, td {\n",
       "    padding: 5px;\n",
       "  }\n",
       "  th {\n",
       "    text-align: left;\n",
       "  }\n",
       "</style><div class='table-result-container'><table class='table-result'><thead style='background-color: white'><tr><th>country</th><th>year</th><th>type_of_violence</th><th>total_cases</th></tr></thead><tbody><tr><td>malaysia</td><td>2021</td><td>Rape</td><td>1360</td></tr><tr><td>malaysia</td><td>2018</td><td>Sexual disoder</td><td>253</td></tr><tr><td>malaysia</td><td>2020</td><td>Incest</td><td>259</td></tr><tr><td>malaysia</td><td>2016</td><td>Domestic violence</td><td>4285</td></tr><tr><td>malaysia</td><td>2017</td><td>Distribute/ display pornographic material</td><td>35</td></tr><tr><td>malaysia</td><td>2019</td><td>Molest</td><td>1064</td></tr><tr><td>malaysia</td><td>2021</td><td>Domestic violence</td><td>5131</td></tr><tr><td>malaysia</td><td>2018</td><td>Unnatural</td><td>159</td></tr><tr><td>malaysia</td><td>2020</td><td>Rape</td><td>1378</td></tr><tr><td>malaysia</td><td>2017</td><td>Sexual disoder</td><td>226</td></tr><tr><td>malaysia</td><td>2019</td><td>Incest</td><td>300</td></tr><tr><td>malaysia</td><td>2016</td><td>Distribute/ display pornographic material</td><td>14</td></tr><tr><td>malaysia</td><td>2018</td><td>Molest</td><td>872</td></tr><tr><td>malaysia</td><td>2020</td><td>Domestic violence</td><td>3616</td></tr><tr><td>malaysia</td><td>2021</td><td>Distribute/ display pornographic material</td><td>53</td></tr><tr><td>malaysia</td><td>2017</td><td>Unnatural</td><td>203</td></tr><tr><td>malaysia</td><td>2019</td><td>Rape</td><td>1453</td></tr><tr><td>malaysia</td><td>2016</td><td>Sexual disoder</td><td>253</td></tr><tr><td>malaysia</td><td>2018</td><td>Incest</td><td>266</td></tr><tr><td>malaysia</td><td>2021</td><td>Sexual disoder</td><td>446</td></tr><tr><td>malaysia</td><td>2017</td><td>Molest</td><td>1256</td></tr><tr><td>malaysia</td><td>2019</td><td>Domestic violence</td><td>4162</td></tr><tr><td>malaysia</td><td>2020</td><td>Distribute/ display pornographic material</td><td>46</td></tr><tr><td>malaysia</td><td>2016</td><td>Unnatural</td><td>168</td></tr><tr><td>malaysia</td><td>2018</td><td>Rape</td><td>1327</td></tr><tr><td>malaysia</td><td>2021</td><td>Unnatural</td><td>157</td></tr><tr><td>malaysia</td><td>2017</td><td>Incest</td><td>296</td></tr><tr><td>malaysia</td><td>2020</td><td>Sexual disoder</td><td>354</td></tr><tr><td>malaysia</td><td>2016</td><td>Molest</td><td>1488</td></tr><tr><td>malaysia</td><td>2018</td><td>Domestic violence</td><td>3947</td></tr><tr><td>malaysia</td><td>2019</td><td>Distribute/ display pornographic material</td><td>50</td></tr><tr><td>malaysia</td><td>2021</td><td>Molest</td><td>860</td></tr><tr><td>malaysia</td><td>2017</td><td>Rape</td><td>1582</td></tr><tr><td>malaysia</td><td>2020</td><td>Unnatural</td><td>150</td></tr><tr><td>malaysia</td><td>2016</td><td>Incest</td><td>253</td></tr><tr><td>malaysia</td><td>2019</td><td>Sexual disoder</td><td>287</td></tr><tr><td>malaysia</td><td>2021</td><td>Incest</td><td>245</td></tr><tr><td>malaysia</td><td>2017</td><td>Domestic violence</td><td>4026</td></tr><tr><td>malaysia</td><td>2018</td><td>Distribute/ display pornographic material</td><td>33</td></tr><tr><td>malaysia</td><td>2020</td><td>Molest</td><td>821</td></tr><tr><td>malaysia</td><td>2016</td><td>Rape</td><td>1698</td></tr><tr><td>malaysia</td><td>2019</td><td>Unnatural</td><td>206</td></tr></tbody></table></div>"
      ]
     },
     "metadata": {
      "application/vnd.databricks.v1+output": {
       "addedWidgets": {},
       "aggData": [],
       "aggError": "",
       "aggOverflow": false,
       "aggSchema": [],
       "aggSeriesLimitReached": false,
       "aggType": "",
       "arguments": {},
       "columnCustomDisplayInfos": {},
       "data": [
        [
         "malaysia",
         2021,
         "Rape",
         1360
        ],
        [
         "malaysia",
         2018,
         "Sexual disoder",
         253
        ],
        [
         "malaysia",
         2020,
         "Incest",
         259
        ],
        [
         "malaysia",
         2016,
         "Domestic violence",
         4285
        ],
        [
         "malaysia",
         2017,
         "Distribute/ display pornographic material",
         35
        ],
        [
         "malaysia",
         2019,
         "Molest",
         1064
        ],
        [
         "malaysia",
         2021,
         "Domestic violence",
         5131
        ],
        [
         "malaysia",
         2018,
         "Unnatural",
         159
        ],
        [
         "malaysia",
         2020,
         "Rape",
         1378
        ],
        [
         "malaysia",
         2017,
         "Sexual disoder",
         226
        ],
        [
         "malaysia",
         2019,
         "Incest",
         300
        ],
        [
         "malaysia",
         2016,
         "Distribute/ display pornographic material",
         14
        ],
        [
         "malaysia",
         2018,
         "Molest",
         872
        ],
        [
         "malaysia",
         2020,
         "Domestic violence",
         3616
        ],
        [
         "malaysia",
         2021,
         "Distribute/ display pornographic material",
         53
        ],
        [
         "malaysia",
         2017,
         "Unnatural",
         203
        ],
        [
         "malaysia",
         2019,
         "Rape",
         1453
        ],
        [
         "malaysia",
         2016,
         "Sexual disoder",
         253
        ],
        [
         "malaysia",
         2018,
         "Incest",
         266
        ],
        [
         "malaysia",
         2021,
         "Sexual disoder",
         446
        ],
        [
         "malaysia",
         2017,
         "Molest",
         1256
        ],
        [
         "malaysia",
         2019,
         "Domestic violence",
         4162
        ],
        [
         "malaysia",
         2020,
         "Distribute/ display pornographic material",
         46
        ],
        [
         "malaysia",
         2016,
         "Unnatural",
         168
        ],
        [
         "malaysia",
         2018,
         "Rape",
         1327
        ],
        [
         "malaysia",
         2021,
         "Unnatural",
         157
        ],
        [
         "malaysia",
         2017,
         "Incest",
         296
        ],
        [
         "malaysia",
         2020,
         "Sexual disoder",
         354
        ],
        [
         "malaysia",
         2016,
         "Molest",
         1488
        ],
        [
         "malaysia",
         2018,
         "Domestic violence",
         3947
        ],
        [
         "malaysia",
         2019,
         "Distribute/ display pornographic material",
         50
        ],
        [
         "malaysia",
         2021,
         "Molest",
         860
        ],
        [
         "malaysia",
         2017,
         "Rape",
         1582
        ],
        [
         "malaysia",
         2020,
         "Unnatural",
         150
        ],
        [
         "malaysia",
         2016,
         "Incest",
         253
        ],
        [
         "malaysia",
         2019,
         "Sexual disoder",
         287
        ],
        [
         "malaysia",
         2021,
         "Incest",
         245
        ],
        [
         "malaysia",
         2017,
         "Domestic violence",
         4026
        ],
        [
         "malaysia",
         2018,
         "Distribute/ display pornographic material",
         33
        ],
        [
         "malaysia",
         2020,
         "Molest",
         821
        ],
        [
         "malaysia",
         2016,
         "Rape",
         1698
        ],
        [
         "malaysia",
         2019,
         "Unnatural",
         206
        ]
       ],
       "datasetInfos": [],
       "dbfsResultPath": null,
       "isJsonSchema": true,
       "metadata": {},
       "overflow": false,
       "plotOptions": {
        "customPlotOptions": {},
        "displayType": "table",
        "pivotAggregation": null,
        "pivotColumns": null,
        "xColumns": null,
        "yColumns": null
       },
       "removedWidgets": [],
       "schema": [
        {
         "metadata": "{}",
         "name": "country",
         "type": "\"string\""
        },
        {
         "metadata": "{}",
         "name": "year",
         "type": "\"long\""
        },
        {
         "metadata": "{}",
         "name": "type_of_violence",
         "type": "\"string\""
        },
        {
         "metadata": "{}",
         "name": "total_cases",
         "type": "\"long\""
        }
       ],
       "type": "table"
      }
     },
     "output_type": "display_data"
    }
   ],
   "source": [
    "malaysia_df_filtered = malaysia_df.where(\n",
    "    F.col('sex') == 'Women',\n",
    ").withColumn(\n",
    "    'country', F.lit('malaysia'),\n",
    ").select(\n",
    "    F.col('country'),\n",
    "    F.col('year'),\n",
    "    F.col('type_of_case').alias('type_of_violence'),\n",
    "    F.col('number_of_violence').alias('total_cases'),\n",
    ")\n",
    "malaysia_df_filtered.limit(20).display()"
   ]
  },
  {
   "cell_type": "markdown",
   "metadata": {
    "application/vnd.databricks.v1+cell": {
     "cellMetadata": {
      "byteLimit": 2048000,
      "rowLimit": 10000
     },
     "inputWidgets": {},
     "nuid": "3ebb0da0-d90b-4aa4-b83f-84eb516af6c7",
     "showTitle": false,
     "tableResultSettingsMap": {},
     "title": ""
    }
   },
   "source": [
    "sum all types"
   ]
  },
  {
   "cell_type": "code",
   "execution_count": 0,
   "metadata": {
    "application/vnd.databricks.v1+cell": {
     "cellMetadata": {
      "byteLimit": 2048000,
      "rowLimit": 10000
     },
     "inputWidgets": {},
     "nuid": "0c4e5bef-cbc3-4d2a-bc14-032610c5b6e1",
     "showTitle": false,
     "tableResultSettingsMap": {},
     "title": ""
    }
   },
   "outputs": [
    {
     "output_type": "display_data",
     "data": {
      "text/html": [
       "<style scoped>\n",
       "  .table-result-container {\n",
       "    max-height: 300px;\n",
       "    overflow: auto;\n",
       "  }\n",
       "  table, th, td {\n",
       "    border: 1px solid black;\n",
       "    border-collapse: collapse;\n",
       "  }\n",
       "  th, td {\n",
       "    padding: 5px;\n",
       "  }\n",
       "  th {\n",
       "    text-align: left;\n",
       "  }\n",
       "</style><div class='table-result-container'><table class='table-result'><thead style='background-color: white'><tr><th>country</th><th>year</th><th>type_of_violence</th><th>total_cases</th></tr></thead><tbody><tr><td>malaysia</td><td>2021</td><td>Rape</td><td>1360</td></tr><tr><td>malaysia</td><td>2018</td><td>Sexual disoder</td><td>253</td></tr><tr><td>malaysia</td><td>2020</td><td>Incest</td><td>259</td></tr><tr><td>malaysia</td><td>2016</td><td>Domestic violence</td><td>4285</td></tr><tr><td>malaysia</td><td>2017</td><td>Distribute/ display pornographic material</td><td>35</td></tr><tr><td>malaysia</td><td>2019</td><td>Molest</td><td>1064</td></tr><tr><td>malaysia</td><td>2021</td><td>Domestic violence</td><td>5131</td></tr><tr><td>malaysia</td><td>2018</td><td>Unnatural</td><td>159</td></tr><tr><td>malaysia</td><td>2020</td><td>Rape</td><td>1378</td></tr><tr><td>malaysia</td><td>2017</td><td>Sexual disoder</td><td>226</td></tr><tr><td>malaysia</td><td>2019</td><td>Incest</td><td>300</td></tr><tr><td>malaysia</td><td>2016</td><td>Distribute/ display pornographic material</td><td>14</td></tr><tr><td>malaysia</td><td>2018</td><td>Molest</td><td>872</td></tr><tr><td>malaysia</td><td>2020</td><td>Domestic violence</td><td>3616</td></tr><tr><td>malaysia</td><td>2021</td><td>Distribute/ display pornographic material</td><td>53</td></tr><tr><td>malaysia</td><td>2017</td><td>Unnatural</td><td>203</td></tr><tr><td>malaysia</td><td>2019</td><td>Rape</td><td>1453</td></tr><tr><td>malaysia</td><td>2016</td><td>Sexual disoder</td><td>253</td></tr><tr><td>malaysia</td><td>2018</td><td>Incest</td><td>266</td></tr><tr><td>malaysia</td><td>2021</td><td>Sexual disoder</td><td>446</td></tr><tr><td>malaysia</td><td>2017</td><td>Molest</td><td>1256</td></tr><tr><td>malaysia</td><td>2019</td><td>Domestic violence</td><td>4162</td></tr><tr><td>malaysia</td><td>2020</td><td>Distribute/ display pornographic material</td><td>46</td></tr><tr><td>malaysia</td><td>2016</td><td>Unnatural</td><td>168</td></tr><tr><td>malaysia</td><td>2018</td><td>Rape</td><td>1327</td></tr><tr><td>malaysia</td><td>2021</td><td>Unnatural</td><td>157</td></tr><tr><td>malaysia</td><td>2017</td><td>Incest</td><td>296</td></tr><tr><td>malaysia</td><td>2020</td><td>Sexual disoder</td><td>354</td></tr><tr><td>malaysia</td><td>2016</td><td>Molest</td><td>1488</td></tr><tr><td>malaysia</td><td>2018</td><td>Domestic violence</td><td>3947</td></tr><tr><td>malaysia</td><td>2019</td><td>Distribute/ display pornographic material</td><td>50</td></tr><tr><td>malaysia</td><td>2021</td><td>Molest</td><td>860</td></tr><tr><td>malaysia</td><td>2017</td><td>Rape</td><td>1582</td></tr><tr><td>malaysia</td><td>2020</td><td>Unnatural</td><td>150</td></tr><tr><td>malaysia</td><td>2016</td><td>Incest</td><td>253</td></tr><tr><td>malaysia</td><td>2019</td><td>Sexual disoder</td><td>287</td></tr><tr><td>malaysia</td><td>2021</td><td>Incest</td><td>245</td></tr><tr><td>malaysia</td><td>2017</td><td>Domestic violence</td><td>4026</td></tr><tr><td>malaysia</td><td>2018</td><td>Distribute/ display pornographic material</td><td>33</td></tr><tr><td>malaysia</td><td>2020</td><td>Molest</td><td>821</td></tr><tr><td>malaysia</td><td>2016</td><td>Rape</td><td>1698</td></tr><tr><td>malaysia</td><td>2019</td><td>Unnatural</td><td>206</td></tr><tr><td>malaysia</td><td>2017</td><td>any</td><td>7624</td></tr><tr><td>malaysia</td><td>2021</td><td>any</td><td>8252</td></tr><tr><td>malaysia</td><td>2020</td><td>any</td><td>6624</td></tr><tr><td>malaysia</td><td>2019</td><td>any</td><td>7522</td></tr><tr><td>malaysia</td><td>2016</td><td>any</td><td>8159</td></tr><tr><td>malaysia</td><td>2018</td><td>any</td><td>6857</td></tr></tbody></table></div>"
      ]
     },
     "metadata": {
      "application/vnd.databricks.v1+output": {
       "addedWidgets": {},
       "aggData": [],
       "aggError": "",
       "aggOverflow": false,
       "aggSchema": [],
       "aggSeriesLimitReached": false,
       "aggType": "",
       "arguments": {},
       "columnCustomDisplayInfos": {},
       "data": [
        [
         "malaysia",
         2021,
         "Rape",
         1360
        ],
        [
         "malaysia",
         2018,
         "Sexual disoder",
         253
        ],
        [
         "malaysia",
         2020,
         "Incest",
         259
        ],
        [
         "malaysia",
         2016,
         "Domestic violence",
         4285
        ],
        [
         "malaysia",
         2017,
         "Distribute/ display pornographic material",
         35
        ],
        [
         "malaysia",
         2019,
         "Molest",
         1064
        ],
        [
         "malaysia",
         2021,
         "Domestic violence",
         5131
        ],
        [
         "malaysia",
         2018,
         "Unnatural",
         159
        ],
        [
         "malaysia",
         2020,
         "Rape",
         1378
        ],
        [
         "malaysia",
         2017,
         "Sexual disoder",
         226
        ],
        [
         "malaysia",
         2019,
         "Incest",
         300
        ],
        [
         "malaysia",
         2016,
         "Distribute/ display pornographic material",
         14
        ],
        [
         "malaysia",
         2018,
         "Molest",
         872
        ],
        [
         "malaysia",
         2020,
         "Domestic violence",
         3616
        ],
        [
         "malaysia",
         2021,
         "Distribute/ display pornographic material",
         53
        ],
        [
         "malaysia",
         2017,
         "Unnatural",
         203
        ],
        [
         "malaysia",
         2019,
         "Rape",
         1453
        ],
        [
         "malaysia",
         2016,
         "Sexual disoder",
         253
        ],
        [
         "malaysia",
         2018,
         "Incest",
         266
        ],
        [
         "malaysia",
         2021,
         "Sexual disoder",
         446
        ],
        [
         "malaysia",
         2017,
         "Molest",
         1256
        ],
        [
         "malaysia",
         2019,
         "Domestic violence",
         4162
        ],
        [
         "malaysia",
         2020,
         "Distribute/ display pornographic material",
         46
        ],
        [
         "malaysia",
         2016,
         "Unnatural",
         168
        ],
        [
         "malaysia",
         2018,
         "Rape",
         1327
        ],
        [
         "malaysia",
         2021,
         "Unnatural",
         157
        ],
        [
         "malaysia",
         2017,
         "Incest",
         296
        ],
        [
         "malaysia",
         2020,
         "Sexual disoder",
         354
        ],
        [
         "malaysia",
         2016,
         "Molest",
         1488
        ],
        [
         "malaysia",
         2018,
         "Domestic violence",
         3947
        ],
        [
         "malaysia",
         2019,
         "Distribute/ display pornographic material",
         50
        ],
        [
         "malaysia",
         2021,
         "Molest",
         860
        ],
        [
         "malaysia",
         2017,
         "Rape",
         1582
        ],
        [
         "malaysia",
         2020,
         "Unnatural",
         150
        ],
        [
         "malaysia",
         2016,
         "Incest",
         253
        ],
        [
         "malaysia",
         2019,
         "Sexual disoder",
         287
        ],
        [
         "malaysia",
         2021,
         "Incest",
         245
        ],
        [
         "malaysia",
         2017,
         "Domestic violence",
         4026
        ],
        [
         "malaysia",
         2018,
         "Distribute/ display pornographic material",
         33
        ],
        [
         "malaysia",
         2020,
         "Molest",
         821
        ],
        [
         "malaysia",
         2016,
         "Rape",
         1698
        ],
        [
         "malaysia",
         2019,
         "Unnatural",
         206
        ],
        [
         "malaysia",
         2017,
         "any",
         7624
        ],
        [
         "malaysia",
         2021,
         "any",
         8252
        ],
        [
         "malaysia",
         2020,
         "any",
         6624
        ],
        [
         "malaysia",
         2019,
         "any",
         7522
        ],
        [
         "malaysia",
         2016,
         "any",
         8159
        ],
        [
         "malaysia",
         2018,
         "any",
         6857
        ]
       ],
       "datasetInfos": [],
       "dbfsResultPath": null,
       "isJsonSchema": true,
       "metadata": {},
       "overflow": false,
       "plotOptions": {
        "customPlotOptions": {},
        "displayType": "table",
        "pivotAggregation": null,
        "pivotColumns": null,
        "xColumns": null,
        "yColumns": null
       },
       "removedWidgets": [],
       "schema": [
        {
         "metadata": "{}",
         "name": "country",
         "type": "\"string\""
        },
        {
         "metadata": "{}",
         "name": "year",
         "type": "\"long\""
        },
        {
         "metadata": "{}",
         "name": "type_of_violence",
         "type": "\"string\""
        },
        {
         "metadata": "{}",
         "name": "total_cases",
         "type": "\"long\""
        }
       ],
       "type": "table"
      }
     },
     "output_type": "display_data"
    }
   ],
   "source": [
    "malaysa_df_any = malaysia_df_filtered.groupBy('year', 'country').agg(\n",
    "    F.sum('total_cases').alias('total_cases')\n",
    ").withColumn(\n",
    "    'type_of_violence', F.lit('any')\n",
    ").select(\n",
    "    F.col('country'),\n",
    "    F.col('year'),\n",
    "    F.col('type_of_violence'),\n",
    "    F.col('total_cases')\n",
    ")\n",
    "malaysia_df_any_violence = malaysia_df_filtered.union(malaysa_df_any)\n",
    "malaysia_df_any_violence.limit(20).display()"
   ]
  },
  {
   "cell_type": "markdown",
   "metadata": {
    "application/vnd.databricks.v1+cell": {
     "cellMetadata": {
      "byteLimit": 2048000,
      "rowLimit": 10000
     },
     "inputWidgets": {},
     "nuid": "ca4eeb94-be8a-458d-a02e-1f7ce05b825e",
     "showTitle": false,
     "tableResultSettingsMap": {},
     "title": ""
    }
   },
   "source": [
    "now we need to delete the '_' character form the year"
   ]
  }
 ],
 "metadata": {
  "application/vnd.databricks.v1+notebook": {
   "computePreferences": null,
   "dashboards": [],
   "environmentMetadata": {
    "base_environment": "",
    "environment_version": "1"
   },
   "language": "python",
   "notebookMetadata": {
    "pythonIndentUnit": 4
   },
   "notebookName": "silver_violence_malaysia",
   "widgets": {}
  },
  "language_info": {
   "name": "python"
  }
 },
 "nbformat": 4,
 "nbformat_minor": 0
}
